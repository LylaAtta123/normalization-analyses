{
 "cells": [
  {
   "cell_type": "markdown",
   "id": "de759a8b",
   "metadata": {},
   "source": [
    "## SETUP"
   ]
  },
  {
   "cell_type": "code",
   "execution_count": 1,
   "id": "675ad514",
   "metadata": {},
   "outputs": [],
   "source": [
    "## docker: docker_slim\n",
    "source('./../../../../my_utils/funcs_R/my_rutils.R')\n",
    "source(\"./../../helper_funs.r\")\n",
    "suppressMessages(suppressWarnings(library(DESeq2)))\n",
    "suppressMessages(suppressWarnings(library(edgeR)))\n",
    "suppressMessages(suppressWarnings(library(sctransform)))\n",
    "suppressMessages(suppressWarnings(library(RColorBrewer)))\n",
    "suppressMessages(suppressWarnings(library(gplots)))\n",
    "suppressMessages(suppressWarnings(library(beeswarm)))\n",
    "suppressMessages(suppressWarnings(library(ggplot2)))\n",
    "\n",
    "save.dir <- './figs/figs_feb_27_fpfn/'\n",
    "\n",
    "# font size for figures\n",
    "fs <-  4 \n",
    "fs.small <- 3"
   ]
  },
  {
   "cell_type": "markdown",
   "id": "6fb10114",
   "metadata": {},
   "source": [
    "## GET DATA"
   ]
  },
  {
   "cell_type": "code",
   "execution_count": 2,
   "id": "7e0eea0a",
   "metadata": {},
   "outputs": [
    {
     "name": "stderr",
     "output_type": "stream",
     "text": [
      "Warning message in asMethod(object):\n",
      "“sparse->dense coercion: allocating vector of size 2.5 GiB”\n"
     ]
    },
    {
     "data": {
      "text/html": [
       "93654"
      ],
      "text/latex": [
       "93654"
      ],
      "text/markdown": [
       "93654"
      ],
      "text/plain": [
       "[1] 93654"
      ]
     },
     "metadata": {},
     "output_type": "display_data"
    },
    {
     "data": {
      "text/html": [
       "<style>\n",
       ".list-inline {list-style: none; margin:0; padding: 0}\n",
       ".list-inline>li {display: inline-block}\n",
       ".list-inline>li:not(:last-child)::after {content: \"\\00b7\"; padding: 0 .5ex}\n",
       "</style>\n",
       "<ol class=list-inline><li>1000</li><li>93654</li></ol>\n"
      ],
      "text/latex": [
       "\\begin{enumerate*}\n",
       "\\item 1000\n",
       "\\item 93654\n",
       "\\end{enumerate*}\n"
      ],
      "text/markdown": [
       "1. 1000\n",
       "2. 93654\n",
       "\n",
       "\n"
      ],
      "text/plain": [
       "[1]  1000 93654"
      ]
     },
     "metadata": {},
     "output_type": "display_data"
    }
   ],
   "source": [
    "data.dir <- './../../../data/CosMx_liver/'\n",
    "counts.fname <- paste0(data.dir, 'cosmx_liver_counts_normal_coarse_regions.RDS')\n",
    "meta.fname <- paste0(data.dir,'cosmx_liver_meta_normal_coarse_regions.RDS')\n",
    "\n",
    "counts <- as.matrix(readRDS(counts.fname))\n",
    "meta <- readRDS(meta.fname)\n",
    "pos <- meta[,c('x_slide_mm','y_slide_mm')]\n",
    "region <- meta[,'region']\n",
    "names(region) <- rownames(meta)\n",
    "\n",
    "## remove cells in Zone 2 region\n",
    "cells <- rownames(meta[meta$region != 'Zone 2',])\n",
    "length(cells)\n",
    "# cells <- rownames(meta)\n",
    "\n",
    "counts <- counts[,cells]\n",
    "meta <- meta[cells,]\n",
    "pos <- pos[cells,]\n",
    "region <- region[cells]\n",
    "\n",
    "dim(counts)"
   ]
  },
  {
   "cell_type": "code",
   "execution_count": 3,
   "id": "b31984e3",
   "metadata": {},
   "outputs": [],
   "source": [
    "# ## downsample for testing -- comment out later \n",
    "# set.seed(0)\n",
    "# cells <- sample(rownames(counts), 10000)\n",
    "\n",
    "# counts <- counts[cells,]"
   ]
  },
  {
   "cell_type": "code",
   "execution_count": 4,
   "id": "24c93f87",
   "metadata": {},
   "outputs": [
    {
     "data": {
      "text/plain": [
       "region\n",
       "Zone 1 Zone 3 \n",
       " 40067  53587 "
      ]
     },
     "metadata": {},
     "output_type": "display_data"
    },
    {
     "data": {
      "text/plain": [
       "col.region\n",
       "#00FFFF #FF0000 \n",
       "  53587   40067 "
      ]
     },
     "metadata": {},
     "output_type": "display_data"
    }
   ],
   "source": [
    "## coloring all regions \n",
    "col.region <- fac2col(region)\n",
    "names(col.region) <- names(region)\n",
    "table(region)\n",
    "table(col.region)\n",
    "leg.col.region.og <- unique(col.region)\n",
    "names(leg.col.region.og) <- unique(meta$region)\n"
   ]
  },
  {
   "cell_type": "code",
   "execution_count": 5,
   "id": "8888b694",
   "metadata": {},
   "outputs": [
    {
     "data": {
      "text/plain": [
       "\n",
       "Zone 1 Zone 3 \n",
       " 40067  53587 "
      ]
     },
     "metadata": {},
     "output_type": "display_data"
    },
    {
     "data": {
      "text/plain": [
       "col.region\n",
       "#00FFFF #FF0000 \n",
       "  53587   40067 "
      ]
     },
     "metadata": {},
     "output_type": "display_data"
    },
    {
     "data": {
      "text/html": [
       "<style>\n",
       ".dl-inline {width: auto; margin:0; padding: 0}\n",
       ".dl-inline>dt, .dl-inline>dd {float: none; width: auto; display: inline-block}\n",
       ".dl-inline>dt::after {content: \":\\0020\"; padding-right: .5ex}\n",
       ".dl-inline>dt:not(:first-of-type) {padding-left: .5ex}\n",
       "</style><dl class=dl-inline><dt>Zone 3</dt><dd>'#00FFFF'</dd><dt>Zone 1</dt><dd>'#FF0000'</dd></dl>\n"
      ],
      "text/latex": [
       "\\begin{description*}\n",
       "\\item[Zone 3] '\\#00FFFF'\n",
       "\\item[Zone 1] '\\#FF0000'\n",
       "\\end{description*}\n"
      ],
      "text/markdown": [
       "Zone 3\n",
       ":   '#00FFFF'Zone 1\n",
       ":   '#FF0000'\n",
       "\n"
      ],
      "text/plain": [
       "   Zone 3    Zone 1 \n",
       "\"#00FFFF\" \"#FF0000\" "
      ]
     },
     "metadata": {},
     "output_type": "display_data"
    }
   ],
   "source": [
    "## make legend \n",
    "#all regions colored\n",
    "leg.col.region <- unique(col.region)\n",
    "names(leg.col.region) <- unique(region)\n",
    "table(meta$region)\n",
    "table(col.region)\n",
    "leg.col.region"
   ]
  },
  {
   "cell_type": "code",
   "execution_count": 6,
   "id": "65465283",
   "metadata": {},
   "outputs": [
    {
     "data": {
      "image/png": "[encoded data removed]",
      "text/plain": [
       "plot without title"
      ]
     },
     "metadata": {
      "image/png": {
       "height": 360,
       "width": 1080
      }
     },
     "output_type": "display_data"
    }
   ],
   "source": [
    "options(repr.plot.width=18, repr.plot.height=6)\n",
    "par(mfrow = c(1,3))\n",
    "plot(pos, pch = 16, cex = 0.5)\n",
    "plot(pos, pch = 16, cex = 0.5, col = col.region)\n",
    "plot(c(0,0))\n",
    "legend(x = 1, y = 1, legend = names(leg.col.region), col = leg.col.region, \n",
    "       pch=16, cex = 2, ncol=1, pt.cex = 5)"
   ]
  },
  {
   "cell_type": "code",
   "execution_count": 7,
   "id": "dbffb2d2",
   "metadata": {},
   "outputs": [],
   "source": [
    "### get SVG data \n",
    "full.svgs <- readRDS('./results_nnSVG/cosmx_full_svgs.rds')\n",
    "skewed.svgs <- readRDS('./results_nnSVG/coxmx_skewed_svgs.rds')"
   ]
  },
  {
   "cell_type": "markdown",
   "id": "110a513f",
   "metadata": {},
   "source": [
    "## NORMALIZE FULL DATA"
   ]
  },
  {
   "cell_type": "code",
   "execution_count": 8,
   "id": "d9a39fa3",
   "metadata": {},
   "outputs": [
    {
     "name": "stdout",
     "output_type": "stream",
     "text": [
      "  |======================================================================| 100%\n",
      "  |======================================================================| 100%\n"
     ]
    }
   ],
   "source": [
    "## sctranform normalization \n",
    "suppressMessages(norm.sct.obj <- sctransform::vst(counts, n_genes = NULL)) #genes as rows, cells as cols \n",
    "norm.sct <- norm.sct.obj$y\n",
    "## set negative counts in norm.sct to 0 \n",
    "norm.sct[norm.sct<0] <- 0"
   ]
  },
  {
   "cell_type": "markdown",
   "id": "d493f395",
   "metadata": {},
   "source": [
    "### scaling factors"
   ]
  },
  {
   "cell_type": "code",
   "execution_count": 9,
   "id": "c7c22902",
   "metadata": {},
   "outputs": [],
   "source": [
    "sf.libsize <- colSums(counts) / median(colSums(counts), na.rm = T)\n",
    "sf.DESeq <- DESeq2::estimateSizeFactorsForMatrix(as.matrix(counts), type = 'poscounts')\n",
    "sf.TMMwsp <- edgeR::calcNormFactors(counts, method = 'TMMwsp')  ## multiplied not divided\n",
    "sf.area <- meta[colnames(counts), 'Area'] / median(meta[colnames(counts), 'Area'], na.rm = T)\n",
    "names(sf.area) <- colnames(counts)"
   ]
  },
  {
   "cell_type": "code",
   "execution_count": 10,
   "id": "93e83079",
   "metadata": {},
   "outputs": [
    {
     "data": {
      "image/png": "[encoded data removed]",
      "text/plain": [
       "Plot with title “cell area”"
      ]
     },
     "metadata": {
      "image/png": {
       "height": 240,
       "width": 780
      }
     },
     "output_type": "display_data"
    },
    {
     "data": {
      "image/png": "[encoded data removed]",
      "text/plain": [
       "plot without title"
      ]
     },
     "metadata": {
      "image/png": {
       "height": 240,
       "width": 780
      }
     },
     "output_type": "display_data"
    },
    {
     "data": {
      "image/png": "[encoded data removed]",
      "text/plain": [
       "plot without title"
      ]
     },
     "metadata": {
      "image/png": {
       "height": 240,
       "width": 780
      }
     },
     "output_type": "display_data"
    }
   ],
   "source": [
    "options(repr.plot.width=13, repr.plot.height=4)\n",
    "\n",
    "par(mfrow = c(1,4))\n",
    "hist(sf.libsize, main = 'Library Size')\n",
    "hist(sf.DESeq, main = 'Scaling factor - DESeq')\n",
    "hist(1/sf.TMMwsp, main = '1/Scaling factor - TMMwsp')\n",
    "hist(sf.area, main = 'cell area')\n",
    "\n",
    "par(mfrow = c(1,3))\n",
    "s <- 1\n",
    "plot(sf.libsize, sf.DESeq, pch = 16, cex = s, col = scales::alpha(col.region[names(sf.libsize)], 0.5), \n",
    "     xlab = 'library size', ylab = 'scaling factor - DESeq')\n",
    "plot(sf.libsize, 1/sf.TMMwsp, pch = 16, cex = s, col = scales::alpha(col.region[names(sf.libsize)], 0.5), \n",
    "     xlab = 'library size', ylab = '1/scaling factor - TMMwsp')\n",
    "plot(sf.DESeq, 1/sf.TMMwsp, pch = 16, cex = s, col = scales::alpha(col.region[names(sf.libsize)], 0.5), \n",
    "     xlab = 'scaling factor - DESeq', ylab = '1/scaling factor - TMMwsp')\n",
    "\n",
    "plot(sf.area, sf.libsize, pch = 16, cex = s, col = scales::alpha(col.region[names(sf.libsize)], 0.5), \n",
    "     xlab = 'cell area', ylab = 'library size')\n",
    "plot(sf.area, sf.DESeq, pch = 16, cex = s, col = scales::alpha(col.region[names(sf.libsize)], 0.5), \n",
    "     xlab = 'cell volareaume', ylab = 'scaling factor - DESeq')\n",
    "plot(sf.area, 1/sf.TMMwsp, pch = 16, cex = s, col = scales::alpha(col.region[names(sf.libsize)], 0.5), \n",
    "     xlab = 'cell area', ylab = '1/scaling factor - TMMwsp')"
   ]
  },
  {
   "cell_type": "markdown",
   "id": "69cac2a2",
   "metadata": {},
   "source": [
    "scaling factors are fairly correlated (except for TMM) - still some region specific effects. \n",
    "                                       \n",
    "look to see if there are region specific (and in turn cell type specific) library size effects "
   ]
  },
  {
   "cell_type": "code",
   "execution_count": 11,
   "id": "d7657155",
   "metadata": {
    "scrolled": true
   },
   "outputs": [
    {
     "data": {
      "image/png": "[encoded data removed]",
      "text/plain": [
       "Plot with title “Zone 1”"
      ]
     },
     "metadata": {
      "image/png": {
       "height": 240,
       "width": 1080
      }
     },
     "output_type": "display_data"
    }
   ],
   "source": [
    "options(repr.plot.width=18, repr.plot.height=4)\n",
    "\n",
    "par(mfrow = c(1,4))\n",
    "\n",
    "regions.unq <- unique(meta$region)\n",
    "for (r in regions.unq){\n",
    "    curr.r.cells <- rownames(meta[meta$region == r ,])\n",
    "    hist(colSums(counts[,curr.r.cells]), breaks = 50, main = r)\n",
    "}\n"
   ]
  },
  {
   "cell_type": "markdown",
   "id": "8c6071cb",
   "metadata": {},
   "source": [
    "eh not a huge difference"
   ]
  },
  {
   "cell_type": "markdown",
   "id": "169f7ec9",
   "metadata": {},
   "source": [
    "### normalization"
   ]
  },
  {
   "cell_type": "code",
   "execution_count": 12,
   "id": "6bcba0a2",
   "metadata": {},
   "outputs": [],
   "source": [
    "norm.none <- counts\n",
    "norm.deseq <- t(t(counts)/sf.DESeq)\n",
    "norm.tmm <- t(t(counts)*sf.TMMwsp)\n",
    "norm.libsize <- t(t(counts)/sf.libsize)\n",
    "norm.area <- t(t(counts)/sf.area)\n",
    "all.norms <- list(nonorm = norm.none,\n",
    "                 libsize = norm.libsize,\n",
    "                 deseq = norm.deseq,\n",
    "                 tmm = norm.tmm,\n",
    "                 area = norm.area,\n",
    "                 sct = norm.sct)\n"
   ]
  },
  {
   "cell_type": "code",
   "execution_count": 13,
   "id": "2d2a6fd4",
   "metadata": {},
   "outputs": [
    {
     "data": {
      "text/html": [
       "<style>\n",
       ".list-inline {list-style: none; margin:0; padding: 0}\n",
       ".list-inline>li {display: inline-block}\n",
       ".list-inline>li:not(:last-child)::after {content: \"\\00b7\"; padding: 0 .5ex}\n",
       "</style>\n",
       "<ol class=list-inline><li>'nonorm'</li><li>'libsize'</li><li>'deseq'</li><li>'tmm'</li><li>'area'</li><li>'sct'</li></ol>\n"
      ],
      "text/latex": [
       "\\begin{enumerate*}\n",
       "\\item 'nonorm'\n",
       "\\item 'libsize'\n",
       "\\item 'deseq'\n",
       "\\item 'tmm'\n",
       "\\item 'area'\n",
       "\\item 'sct'\n",
       "\\end{enumerate*}\n"
      ],
      "text/markdown": [
       "1. 'nonorm'\n",
       "2. 'libsize'\n",
       "3. 'deseq'\n",
       "4. 'tmm'\n",
       "5. 'area'\n",
       "6. 'sct'\n",
       "\n",
       "\n"
      ],
      "text/plain": [
       "[1] \"nonorm\"  \"libsize\" \"deseq\"   \"tmm\"     \"area\"    \"sct\"    "
      ]
     },
     "metadata": {},
     "output_type": "display_data"
    }
   ],
   "source": [
    "norms <- names(all.norms)\n",
    "norms"
   ]
  },
  {
   "cell_type": "markdown",
   "id": "04cdecdd",
   "metadata": {},
   "source": [
    "## DE FULL DATA"
   ]
  },
  {
   "cell_type": "code",
   "execution_count": 14,
   "id": "6bf1c09e",
   "metadata": {},
   "outputs": [
    {
     "data": {
      "text/plain": [
       "cluster\n",
       "Zone 1 Zone 3 \n",
       " 40067  53587 "
      ]
     },
     "metadata": {},
     "output_type": "display_data"
    }
   ],
   "source": [
    "cluster <- region\n",
    "table(cluster)"
   ]
  },
  {
   "cell_type": "code",
   "execution_count": 15,
   "id": "888d9913",
   "metadata": {},
   "outputs": [],
   "source": [
    "## get log fold changes and z-scores \n",
    "lfcs.all <- lapply(all.norms, function(counts.norm) {\n",
    "    curr.cluster <- cluster[colnames(counts.norm)]\n",
    "    names(curr.cluster) <- colnames(counts.norm)\n",
    "    curr.lfcs <- find.log.fold.change(counts.norm, curr.cluster, log2)\n",
    "    \n",
    "    curr.lfcs\n",
    "})\n",
    "\n",
    "\n",
    "\n",
    "p.vals.all <- lapply(all.norms, function(counts.norm) {\n",
    "    curr.cluster <- cluster[colnames(counts.norm)]\n",
    "    names(curr.cluster) <- colnames(counts.norm)\n",
    "    curr.pvals <- find.cluster.de.genes(counts.norm, cell.com = curr.cluster, test.alt = 'greater')\n",
    "    curr.pvals\n",
    "})"
   ]
  },
  {
   "cell_type": "code",
   "execution_count": 16,
   "id": "eac82022",
   "metadata": {},
   "outputs": [],
   "source": [
    "## pick DE genes based on pval threshold \n",
    "p.vals.all.adj <- lapply(p.vals.all, function(curr.pvals) {\n",
    "    curr.pvals.adj <- matrix(p.adjust(curr.pvals, method = 'BH'), \n",
    "                             nrow = nrow (curr.pvals), ncol = ncol(curr.pvals))\n",
    "    colnames(curr.pvals.adj) <- colnames(curr.pvals)\n",
    "    rownames(curr.pvals.adj) <- rownames(curr.pvals)\n",
    "    curr.pvals.adj\n",
    "})\n",
    "\n",
    "\n",
    "p.thresh <- 0.05\n",
    "lfc.thresh <- 0.25\n",
    "de.genes <- lapply(norms, function(curr.norm) {\n",
    "    curr.pvals <- p.vals.all.adj[[curr.norm]]\n",
    "    curr.lfcs <- lfcs.all[[curr.norm]]\n",
    "    \n",
    "    curr.groups <- colnames(curr.pvals)\n",
    "    \n",
    "    curr.de.genes <- lapply(curr.groups, function(curr.group) {\n",
    "        curr.group.pvals <- curr.pvals[,curr.group]\n",
    "        curr.group.lfcs <- curr.lfcs[names(curr.group.pvals),curr.group]\n",
    "        curr.group.de.genes <- names(curr.group.pvals)[curr.group.pvals<p.thresh & abs(curr.group.lfcs)>lfc.thresh]\n",
    "        curr.group.de.genes.stats <- cbind(curr.group.pvals[curr.group.de.genes], curr.group.lfcs[curr.group.de.genes])\n",
    "        colnames(curr.group.de.genes.stats) <- c('p.adj','logFC')\n",
    "        curr.group.de.genes.stats\n",
    "    })\n",
    "    names(curr.de.genes) <- curr.groups\n",
    "    curr.de.genes\n",
    "})\n",
    "names(de.genes) <- norms"
   ]
  },
  {
   "cell_type": "code",
   "execution_count": 17,
   "id": "3bb2b377",
   "metadata": {},
   "outputs": [
    {
     "data": {
      "text/html": [
       "<style>\n",
       ".list-inline {list-style: none; margin:0; padding: 0}\n",
       ".list-inline>li {display: inline-block}\n",
       ".list-inline>li:not(:last-child)::after {content: \"\\00b7\"; padding: 0 .5ex}\n",
       "</style>\n",
       "<ol class=list-inline><li>'Zone 3'</li><li>'Zone 1'</li></ol>\n"
      ],
      "text/latex": [
       "\\begin{enumerate*}\n",
       "\\item 'Zone 3'\n",
       "\\item 'Zone 1'\n",
       "\\end{enumerate*}\n"
      ],
      "text/markdown": [
       "1. 'Zone 3'\n",
       "2. 'Zone 1'\n",
       "\n",
       "\n"
      ],
      "text/plain": [
       "[1] \"Zone 3\" \"Zone 1\""
      ]
     },
     "metadata": {},
     "output_type": "display_data"
    }
   ],
   "source": [
    "regions.unq"
   ]
  },
  {
   "cell_type": "code",
   "execution_count": 18,
   "id": "17e01ebb",
   "metadata": {},
   "outputs": [
    {
     "data": {
      "image/png": "[encoded data removed]",
      "text/plain": [
       "plot without title"
      ]
     },
     "metadata": {
      "image/png": {
       "height": 180,
       "width": 540
      }
     },
     "output_type": "display_data"
    }
   ],
   "source": [
    "options(repr.plot.width=9, repr.plot.height=3)\n",
    "par(mfrow = c(1,3))\n",
    "plot(lfcs.all$sct[,'Zone 1'], -1*log10(p.vals.all.adj$sct[,'Zone 1']), \n",
    "     pch = 16, cex = 0.7, xlab = 'lfc', ylab = '-log10(p)')\n",
    "\n",
    "foo <- rownames(de.genes$nonorm$`Zone 1`)\n",
    "plot(lfcs.all$nonorm[foo,'Zone 1'], -1*log10(p.vals.all.adj$nonorm[foo,'Zone 1']), \n",
    "     pch = 16, cex = 0.7, xlab = 'lfc', ylab = '-log10(p)')\n",
    "\n",
    "plot(de.genes$nonorm$`Zone 1`[,'logFC'],-1*log10(de.genes$nonorm$`Zone 1`[,'p.adj']), \n",
    "     pch = 16, cex = 0.7, xlab = 'lfc', ylab = '-log10(p)')\n",
    "\n"
   ]
  },
  {
   "cell_type": "code",
   "execution_count": 19,
   "id": "6856123e",
   "metadata": {},
   "outputs": [
    {
     "data": {
      "text/html": [
       "12"
      ],
      "text/latex": [
       "12"
      ],
      "text/markdown": [
       "12"
      ],
      "text/plain": [
       "[1] 12"
      ]
     },
     "metadata": {},
     "output_type": "display_data"
    },
    {
     "data": {
      "image/png": "[encoded data removed]",
      "text/plain": [
       "plot without title"
      ]
     },
     "metadata": {
      "image/png": {
       "height": 300,
       "width": 720
      }
     },
     "output_type": "display_data"
    }
   ],
   "source": [
    "## n DE genes for each cell type per normalization methods\n",
    "options(repr.plot.width=12, repr.plot.height=5)\n",
    "\n",
    "n.DEs <- sapply(de.genes, function(x) {\n",
    "    n.de <- sapply(x, nrow)\n",
    "    n.de\n",
    "})\n",
    "\n",
    "length(n.DEs)\n",
    "# n.DEs\n",
    "par(mfrow = c(1,2))\n",
    "boxplot(n.DEs)"
   ]
  },
  {
   "cell_type": "markdown",
   "id": "a6efa178",
   "metadata": {},
   "source": [
    "## GENE SUBSETS"
   ]
  },
  {
   "cell_type": "code",
   "execution_count": 20,
   "id": "e5841a20",
   "metadata": {},
   "outputs": [],
   "source": [
    "regions <- regions.unq ## making compatible with og merfish code \n",
    "genes <- rownames(counts)"
   ]
  },
  {
   "cell_type": "code",
   "execution_count": 21,
   "id": "416c99f7",
   "metadata": {
    "scrolled": true
   },
   "outputs": [
    {
     "name": "stdout",
     "output_type": "stream",
     "text": [
      "[1] 673\n",
      "[1] 242\n"
     ]
    },
    {
     "data": {
      "text/html": [
       "<style>\n",
       ".dl-inline {width: auto; margin:0; padding: 0}\n",
       ".dl-inline>dt, .dl-inline>dd {float: none; width: auto; display: inline-block}\n",
       ".dl-inline>dt::after {content: \":\\0020\"; padding-right: .5ex}\n",
       ".dl-inline>dt:not(:first-of-type) {padding-left: .5ex}\n",
       "</style><dl class=dl-inline><dt>Zone 3</dt><dd>673</dd><dt>Zone 1</dt><dd>242</dd></dl>\n"
      ],
      "text/latex": [
       "\\begin{description*}\n",
       "\\item[Zone 3] 673\n",
       "\\item[Zone 1] 242\n",
       "\\end{description*}\n"
      ],
      "text/markdown": [
       "Zone 3\n",
       ":   673Zone 1\n",
       ":   242\n",
       "\n"
      ],
      "text/plain": [
       "Zone 3 Zone 1 \n",
       "   673    242 "
      ]
     },
     "metadata": {},
     "output_type": "display_data"
    }
   ],
   "source": [
    "genesets <- lapply(regions, function(r) {\n",
    "    Reduce(union, lapply(de.genes, function(curr.norm) {\n",
    "        rownames(curr.norm[[r]][order(curr.norm[[r]][,'p.adj']),])\n",
    "    }))\n",
    "    \n",
    "})\n",
    "names(genesets) <- regions\n",
    "\n",
    "sapply(genesets, function(x) {print(length(x))})\n",
    "\n",
    "\n",
    "set.seed(0)\n",
    "n <- 200 ## size of skewed gene panel\n",
    "genesets <- lapply(genesets, function(x) sample(x,n))\n",
    "             \n",
    "geneset.x <- sample(genes, n)   \n",
    "genesets[['random']] <- geneset.x\n",
    "                   \n",
    "# for (i in seq(5)){\n",
    "#     for (j in seq(5)){\n",
    "#         print(paste(names(genesets)[i], names(genesets)[j]))\n",
    "#         print(length(intersect(genesets[[i]], genesets[[j]])))\n",
    "#     }\n",
    "# }\n",
    "      "
   ]
  },
  {
   "cell_type": "markdown",
   "id": "9b365053",
   "metadata": {},
   "source": [
    "### heatmap"
   ]
  },
  {
   "cell_type": "code",
   "execution_count": 22,
   "id": "66b5fd77",
   "metadata": {},
   "outputs": [],
   "source": [
    "dir.create(paste0(save.dir,'heatmaps'))"
   ]
  },
  {
   "cell_type": "code",
   "execution_count": 23,
   "id": "2ebfbb70",
   "metadata": {},
   "outputs": [
    {
     "data": {
      "text/html": [
       "0"
      ],
      "text/latex": [
       "0"
      ],
      "text/markdown": [
       "0"
      ],
      "text/plain": [
       "[1] 0"
      ]
     },
     "metadata": {},
     "output_type": "display_data"
    },
    {
     "data": {
      "text/html": [
       "400"
      ],
      "text/latex": [
       "400"
      ],
      "text/markdown": [
       "400"
      ],
      "text/plain": [
       "[1] 400"
      ]
     },
     "metadata": {},
     "output_type": "display_data"
    },
    {
     "data": {
      "text/html": [
       "400"
      ],
      "text/latex": [
       "400"
      ],
      "text/markdown": [
       "400"
      ],
      "text/plain": [
       "[1] 400"
      ]
     },
     "metadata": {},
     "output_type": "display_data"
    },
    {
     "data": {
      "text/html": [
       "1000"
      ],
      "text/latex": [
       "1000"
      ],
      "text/markdown": [
       "1000"
      ],
      "text/plain": [
       "[1] 1000"
      ]
     },
     "metadata": {},
     "output_type": "display_data"
    }
   ],
   "source": [
    "# get skewed geneset genes (minus random geneset)\n",
    "hm.genes <- unlist(genesets[1:2])\n",
    "\n",
    "# find which genes are duplicated \n",
    "hm.genes.dups <- unique(hm.genes[duplicated(hm.genes)])\n",
    "length(hm.genes.dups)\n",
    "\n",
    "# remove duplicated genes (all instances)\n",
    "hm.genes <- hm.genes[! hm.genes %in% hm.genes.dups]\n",
    "length(hm.genes)\n",
    "\n",
    "# add one instance of duplicate genes back lol - but now they're at the front\n",
    "hm.genes <- c(hm.genes.dups, hm.genes)\n",
    "length(hm.genes)\n",
    "\n",
    "# add non DE genes to the front \n",
    "hm.genes.nongs <- rownames(counts)[! rownames(counts) %in% hm.genes]\n",
    "hm.genes <- c(hm.genes, hm.genes.nongs)\n",
    "length(hm.genes)\n",
    "\n",
    "### order should be: [non DE genes][DE genes for more than one region][specific DE genes]\n",
    "htmp.col <- rev(colorRampPalette(brewer.pal(11, \"RdBu\"))(100))"
   ]
  },
  {
   "cell_type": "code",
   "execution_count": 24,
   "id": "900bb2ca",
   "metadata": {},
   "outputs": [
    {
     "name": "stdout",
     "output_type": "stream",
     "text": [
      "[1] \"Zone 3\"\n",
      "[1] 53587\n",
      "[1] \"Zone 1\"\n",
      "[1] 40067\n"
     ]
    }
   ],
   "source": [
    "# average within tissue region\n",
    "hoo.gexp <- matrix(0, ncol = length(names(genesets))-1, nrow = nrow(counts))\n",
    "colnames(hoo.gexp) <- names(genesets)[1:2]\n",
    "rownames(hoo.gexp) <- rownames(counts)\n",
    "\n",
    "for (gs in colnames(hoo.gexp)){\n",
    "    print(gs)\n",
    "    curr.cells <- rownames(meta[meta$region == gs ,])\n",
    "    print(length(curr.cells))\n",
    "    curr.gs.avg.gexp <- rowMeans(counts[,curr.cells])\n",
    "    hoo.gexp[,gs] <- curr.gs.avg.gexp\n",
    "}"
   ]
  },
  {
   "cell_type": "code",
   "execution_count": 25,
   "id": "bd55c05d",
   "metadata": {},
   "outputs": [
    {
     "data": {
      "text/html": [
       "<style>\n",
       ".dl-inline {width: auto; margin:0; padding: 0}\n",
       ".dl-inline>dt, .dl-inline>dd {float: none; width: auto; display: inline-block}\n",
       ".dl-inline>dt::after {content: \":\\0020\"; padding-right: .5ex}\n",
       ".dl-inline>dt:not(:first-of-type) {padding-left: .5ex}\n",
       "</style><dl class=dl-inline><dt>Zone 3</dt><dd>'Zone 3'</dd><dt>Zone 1</dt><dd>'Zone 1'</dd></dl>\n"
      ],
      "text/latex": [
       "\\begin{description*}\n",
       "\\item[Zone 3] 'Zone 3'\n",
       "\\item[Zone 1] 'Zone 1'\n",
       "\\end{description*}\n"
      ],
      "text/markdown": [
       "Zone 3\n",
       ":   'Zone 3'Zone 1\n",
       ":   'Zone 1'\n",
       "\n"
      ],
      "text/plain": [
       "  Zone 3   Zone 1 \n",
       "\"Zone 3\" \"Zone 1\" "
      ]
     },
     "metadata": {},
     "output_type": "display_data"
    }
   ],
   "source": [
    "gs.names <- c('Zone 3', 'Zone 1', NA)\n",
    "names(gs.names) <- names(genesets)\n",
    "gs.order <- c(1,2)\n",
    "gs.names[gs.order]"
   ]
  },
  {
   "cell_type": "code",
   "execution_count": 26,
   "id": "3c29e39e",
   "metadata": {},
   "outputs": [
    {
     "data": {
      "image/png": "[encoded data removed]",
      "text/plain": [
       "Plot with title “Histogram of hoo.gexp”"
      ]
     },
     "metadata": {
      "image/png": {
       "height": 300,
       "width": 720
      }
     },
     "output_type": "display_data"
    },
    {
     "data": {
      "image/png": "[encoded data removed]",
      "text/plain": [
       "Plot with title “Histogram of hoo.gexp”"
      ]
     },
     "metadata": {
      "image/png": {
       "height": 300,
       "width": 720
      }
     },
     "output_type": "display_data"
    }
   ],
   "source": [
    "hist(hoo.gexp, breaks = 100)\n",
    "hoo.gexp[hoo.gexp>0.2] <- 0.2\n",
    "hist(hoo.gexp, breaks = 100)"
   ]
  },
  {
   "cell_type": "code",
   "execution_count": 27,
   "id": "113cd868",
   "metadata": {},
   "outputs": [
    {
     "data": {
      "text/html": [
       "<strong>png:</strong> 2"
      ],
      "text/latex": [
       "\\textbf{png:} 2"
      ],
      "text/markdown": [
       "**png:** 2"
      ],
      "text/plain": [
       "png \n",
       "  2 "
      ]
     },
     "metadata": {},
     "output_type": "display_data"
    }
   ],
   "source": [
    "## mean exp full panel heatmap\n",
    "options(repr.plot.width=7, repr.plot.height=5)\n",
    "pdf(paste0(save.dir,'heatmaps/heatmap_full.pdf'), width = 7, height = 5)\n",
    "heatmap(hoo.gexp[hm.genes,gs.order], scale = 'none', col = htmp.col, \n",
    "        Colv = NA, #Rowv = NA, \n",
    "        ColSideColors = leg.col.region.og[colnames(hoo.gexp[,gs.order])],\n",
    "       labRow = FALSE, labCol = FALSE,\n",
    "        margins = c(3.8,2.1)\n",
    "       )\n",
    "title(ylab=paste('Genes\\nFull gene panel'), line=0.5, cex.lab=1)\n",
    "title(xlab=paste('Cells'), line=4, cex.lab=1)\n",
    "dev.off()"
   ]
  },
  {
   "cell_type": "code",
   "execution_count": 28,
   "id": "197afa39",
   "metadata": {},
   "outputs": [
    {
     "name": "stderr",
     "output_type": "stream",
     "text": [
      "Warning message in gplots::heatmap.2(hoo.gexp[hm.genes, gs.order], scale = \"none\", :\n",
      "“Discrepancy: Rowv is FALSE, while dendrogram is `both'. Omitting row dendogram.”\n",
      "Warning message in gplots::heatmap.2(hoo.gexp[hm.genes, gs.order], scale = \"none\", :\n",
      "“Discrepancy: Colv is FALSE, while dendrogram is `column'. Omitting column dendogram.”\n"
     ]
    },
    {
     "data": {
      "text/html": [
       "<strong>png:</strong> 2"
      ],
      "text/latex": [
       "\\textbf{png:} 2"
      ],
      "text/markdown": [
       "**png:** 2"
      ],
      "text/plain": [
       "png \n",
       "  2 "
      ]
     },
     "metadata": {},
     "output_type": "display_data"
    }
   ],
   "source": [
    "options(repr.plot.width=7, repr.plot.height=5)\n",
    "pdf(paste0(save.dir,'heatmaps/heatmap_full_colorbar_div.pdf'), width = 7, height = 5)\n",
    "gplots::heatmap.2(hoo.gexp[hm.genes,gs.order], scale = 'none', col = htmp.col, \n",
    "        Colv = NA, Rowv = NA, \n",
    "        ColSideColors = leg.col.region.og[colnames(hoo.gexp[,gs.order])],\n",
    "       labRow = FALSE, labCol = FALSE,\n",
    "        margins = c(3.8,2.1),\n",
    "          trace = 'none',\n",
    "          keysize = 5, density.info = 'none',\n",
    "          key.title = NA, key.xlab = 'Gene Z-score'\n",
    "          \n",
    "       )\n",
    "title(ylab=paste('Genes\\nFull gene panel'), line=0.5, cex.lab=1)\n",
    "title(xlab=paste('Cells'), line=4, cex.lab=1)\n",
    "dev.off()"
   ]
  },
  {
   "cell_type": "code",
   "execution_count": 29,
   "id": "ae007718",
   "metadata": {},
   "outputs": [],
   "source": [
    "## mean exp skewed gene panel heat map\n",
    "s <- 'row'\n",
    "\n",
    "for (gs in names(genesets)){\n",
    "    foo.genes <- genesets[[gs]]\n",
    "    hm.genes.gs <- hm.genes[hm.genes %in% foo.genes]\n",
    "    \n",
    "    pdf(paste0(save.dir,'heatmaps/heatmap_',gs,'.pdf'), width = 7, height = 5)\n",
    "    par(mfrow = c(1,1), mar = c(5.1, 4.1, 4.1, 2.1))\n",
    "\n",
    "    heatmap(hoo.gexp[hm.genes.gs,gs.order], scale = 'none', col = htmp.col, \n",
    "            Colv = NA, #Rowv = NA, \n",
    "            ColSideColors = leg.col.region.og[colnames(hoo.gexp[,gs.order])],\n",
    "           labRow = FALSE, labCol = FALSE,\n",
    "#               trace = 'none',\n",
    "            margins = c(3.8,2.1)\n",
    "           )\n",
    "    if (gs == 'random'){\n",
    "        title(ylab=paste('Genes\\nNon-skewed gene panel'), line=0.5, cex.lab=2)\n",
    "    } else {\n",
    "        title(ylab=paste0('Genes\\n', gs.names[gs], '-skewed gene panel'), line=0.5, cex.lab=2)\n",
    "    }\n",
    "    title(xlab=paste('Cells'), line=4, cex.lab=2)\n",
    "    dev.off()\n",
    "}\n"
   ]
  },
  {
   "cell_type": "markdown",
   "id": "3ccabae2",
   "metadata": {},
   "source": [
    "## COUNT SUBSETS"
   ]
  },
  {
   "cell_type": "code",
   "execution_count": 30,
   "id": "8bcfe9a2",
   "metadata": {},
   "outputs": [
    {
     "data": {
      "text/html": [
       "<style>\n",
       ".list-inline {list-style: none; margin:0; padding: 0}\n",
       ".list-inline>li {display: inline-block}\n",
       ".list-inline>li:not(:last-child)::after {content: \"\\00b7\"; padding: 0 .5ex}\n",
       "</style>\n",
       "<ol class=list-inline><li>'Zone 3'</li><li>'Zone 1'</li><li>'random'</li></ol>\n"
      ],
      "text/latex": [
       "\\begin{enumerate*}\n",
       "\\item 'Zone 3'\n",
       "\\item 'Zone 1'\n",
       "\\item 'random'\n",
       "\\end{enumerate*}\n"
      ],
      "text/markdown": [
       "1. 'Zone 3'\n",
       "2. 'Zone 1'\n",
       "3. 'random'\n",
       "\n",
       "\n"
      ],
      "text/plain": [
       "[1] \"Zone 3\" \"Zone 1\" \"random\""
      ]
     },
     "metadata": {},
     "output_type": "display_data"
    },
    {
     "data": {
      "text/html": [
       "<table class=\"dataframe\">\n",
       "<caption>A matrix: 2 × 3 of type int</caption>\n",
       "<thead>\n",
       "\t<tr><th scope=col>Zone 3</th><th scope=col>Zone 1</th><th scope=col>random</th></tr>\n",
       "</thead>\n",
       "<tbody>\n",
       "\t<tr><td>  200</td><td>  200</td><td>  200</td></tr>\n",
       "\t<tr><td>93503</td><td>93595</td><td>93637</td></tr>\n",
       "</tbody>\n",
       "</table>\n"
      ],
      "text/latex": [
       "A matrix: 2 × 3 of type int\n",
       "\\begin{tabular}{lll}\n",
       " Zone 3 & Zone 1 & random\\\\\n",
       "\\hline\n",
       "\t   200 &   200 &   200\\\\\n",
       "\t 93503 & 93595 & 93637\\\\\n",
       "\\end{tabular}\n"
      ],
      "text/markdown": [
       "\n",
       "A matrix: 2 × 3 of type int\n",
       "\n",
       "| Zone 3 | Zone 1 | random |\n",
       "|---|---|---|\n",
       "|   200 |   200 |   200 |\n",
       "| 93503 | 93595 | 93637 |\n",
       "\n"
      ],
      "text/plain": [
       "     Zone 3 Zone 1 random\n",
       "[1,]   200    200    200 \n",
       "[2,] 93503  93595  93637 "
      ]
     },
     "metadata": {},
     "output_type": "display_data"
    }
   ],
   "source": [
    "counts.subsets <- lapply(genesets, function(gs) {\n",
    "    curr.subset.counts <- counts[gs,]\n",
    "    curr.empty.cells <- colSums(curr.subset.counts)==0\n",
    "    curr.subset.counts <- curr.subset.counts[,!curr.empty.cells]\n",
    "    curr.subset.counts\n",
    "})\n",
    "names(counts.subsets)\n",
    "sapply(counts.subsets, dim)"
   ]
  },
  {
   "cell_type": "code",
   "execution_count": 31,
   "id": "237edda9",
   "metadata": {
    "scrolled": true
   },
   "outputs": [
    {
     "data": {
      "image/png": "[encoded data removed]",
      "text/plain": [
       "Plot with title “random skewed subset”"
      ]
     },
     "metadata": {
      "image/png": {
       "height": 240,
       "width": 900
      }
     },
     "output_type": "display_data"
    }
   ],
   "source": [
    "options(repr.plot.width=15, repr.plot.height=4)\n",
    "par(mfcol = c(1,5))\n",
    "hist(log10(colSums(counts)+1), breaks = 50, main = 'full geneset')\n",
    "\n",
    "for (g in names(counts.subsets)){\n",
    "    x <- counts.subsets[[g]]\n",
    "    \n",
    "    hist(log10(colSums(x)+1), breaks = 50, \n",
    "         main = paste(g, 'skewed subset'), xlab = 'log10(library size)')\n",
    "    \n",
    "}"
   ]
  },
  {
   "cell_type": "markdown",
   "id": "02e18916",
   "metadata": {},
   "source": [
    "### scaling factors skewed genesets"
   ]
  },
  {
   "cell_type": "code",
   "execution_count": 32,
   "id": "6a06231c",
   "metadata": {},
   "outputs": [],
   "source": [
    "skewed.sfs <- lapply(counts.subsets, function(x) {\n",
    "    curr.libsize <- colSums(x) / median(colSums(x), na.rm = T)\n",
    "    curr.sf.DESeq <- DESeq2::estimateSizeFactorsForMatrix(as.matrix(x), type = 'poscounts')\n",
    "    curr.sf.TMMwsp <- edgeR::calcNormFactors(x, method = 'TMMwsp')  ## multiplied not divided\n",
    "    curr.sf.volume <- meta[colnames(x), 'Area'] / median(meta[colnames(x), 'Area'], na.rm = T)\n",
    "    names(curr.sf.volume) <- colnames(x)\n",
    "    \n",
    "    list(libsize = curr.libsize,\n",
    "        deseq = curr.sf.DESeq,\n",
    "        tmm = curr.sf.TMMwsp,\n",
    "        area = curr.sf.volume)\n",
    "})"
   ]
  },
  {
   "cell_type": "code",
   "execution_count": 33,
   "id": "3a0f44a7",
   "metadata": {},
   "outputs": [],
   "source": [
    "sf.all <- list(libsize = sf.libsize,\n",
    "               deseq = sf.DESeq,\n",
    "               tmm = sf.TMMwsp,\n",
    "               area = sf.area)"
   ]
  },
  {
   "cell_type": "markdown",
   "id": "9f696467",
   "metadata": {},
   "source": [
    "## COMPARE SCALING FACTORS: SKEWED vs OG"
   ]
  },
  {
   "cell_type": "code",
   "execution_count": 34,
   "id": "c96ec9c8",
   "metadata": {},
   "outputs": [],
   "source": [
    "dir.create(paste0(save.dir,'scaling_factor_comparison'))"
   ]
  },
  {
   "cell_type": "code",
   "execution_count": 35,
   "id": "56cd898d",
   "metadata": {},
   "outputs": [],
   "source": [
    "options(repr.plot.width=20, repr.plot.height=8)\n",
    "set.seed(0)\n",
    "\n",
    "norms.to.include <- c('libsize', 'deseq', 'tmm', 'area')\n",
    "norms.names <- c('Library Size', 'DESeq2', 'TMM', 'Cell Area')\n",
    "names(norms.names) <- norms.to.include\n",
    "\n",
    "for (g in names(genesets)){\n",
    "    pdf(paste0(save.dir,'scaling_factor_comparison/',g,'_skewed_vs_all_genes_grouped.pdf'), \n",
    "        width = 20, height = 5) #, antialias = 'none')\n",
    "    par(mfrow = c(1,4), mar = c(10.1, 10.1, 6.1, 2.1)) #mar = c(5.1, 4.1, 4.1, 2.1)\n",
    "    \n",
    "    curr.sfs.skewed <- skewed.sfs[[g]][norms.to.include]\n",
    "    curr.common.cells <- Reduce(intersect, lapply(curr.sfs.skewed, names))\n",
    "    \n",
    "    for (n in norms.to.include){\n",
    "        \n",
    "        curr.sf.skewed <- curr.sfs.skewed[[n]]\n",
    "        curr.sf.all <- sf.all[[n]]\n",
    "        \n",
    "        curr.x <- log10(curr.sf.all[curr.common.cells]+1)\n",
    "        curr.x.lim <- range(curr.x)\n",
    "        \n",
    "        curr.y <- log10(curr.sf.skewed[curr.common.cells]+1)\n",
    "        curr.y.lim <- range(curr.y)\n",
    "        \n",
    "        #change color to highlight roi for region skewed geneset\n",
    "        curr.cols <- col.region\n",
    "        curr.cols[region != g] <- 'grey'\n",
    "        \n",
    "        #use all colors for random geneset\n",
    "        if (g == 'random'){\n",
    "            curr.cols <- col.region\n",
    "        }\n",
    "        \n",
    "        \n",
    "        #reorder when all together\n",
    "        o <- sample(length(curr.x))\n",
    "        o <- sample(o)\n",
    "        \n",
    "        plot(curr.x[o], curr.y[o], #axes = FALSE,\n",
    "             pch = 16, cex = 1.5, ##point sizes\n",
    "             col = scales::alpha(curr.cols[curr.common.cells[o]], 0.25), ##point colors\n",
    "             cex.axis = fs, cex.main = fs, ##font sizes\n",
    "             xaxt=\"n\", yaxt=\"n\", bty = 'n', xaxs = 'i', yaxs = 'i', ##axis settings\n",
    "             xlim = curr.x.lim, ylim = curr.y.lim, xlab = '', ylab = '',  ##axis ranges and labels\n",
    "             main = paste(norms.names[n])) ##title \n",
    "        \n",
    "        ## axis labels\n",
    "        title(xlab=paste('Full gene panel'), line=8, cex.lab=4)\n",
    "        title(ylab=paste('Skewed gene panel'), line=5, cex.lab=4)       \n",
    "        \n",
    "        ## axis tick mark formats\n",
    "        axis(side = 1, at = curr.x.lim, line = 0, cex.axis = fs, lty = 1, labels = FALSE)\n",
    "        axis(side = 2, at = curr.y.lim, line = 0, cex.axis = fs, lty = 1, labels = FALSE)\n",
    "        axis(side = 1, line = 0, cex.axis = fs.small, lty = 1, labels = FALSE)\n",
    "        axis(side = 2, line = 0, cex.axis = fs.small, lty = 1, labels = FALSE)\n",
    "        axis(side = 1, line = 2.5, cex.axis = fs.small, lty = 0)\n",
    "        axis(side = 2, line = 0.5, cex.axis = fs.small, lty = 0)\n",
    "        abline(a=0,b=1,col='red')\n",
    "\n",
    "    }\n",
    "    dev.off()\n",
    "\n",
    "}\n"
   ]
  },
  {
   "cell_type": "markdown",
   "id": "7c58b702",
   "metadata": {},
   "source": [
    "### RMSE scaling factors"
   ]
  },
  {
   "cell_type": "code",
   "execution_count": 36,
   "id": "bf74b9f8",
   "metadata": {},
   "outputs": [],
   "source": [
    "rmse.sf <- lapply(names(skewed.sfs), function(reg) {\n",
    "    gs <- skewed.sfs[[reg]]\n",
    "    \n",
    "    curr.gs.rmse <- sapply(names(gs), function(n) {\n",
    "        curr.skewed.sf <- gs[[n]]\n",
    "        curr.full.sf <- sf.all[[n]]\n",
    "        \n",
    "        curr.cells <- intersect(names(curr.skewed.sf), names(curr.full.sf))\n",
    "        \n",
    "        curr.skewed.sf <- curr.skewed.sf[curr.cells]\n",
    "        curr.full.sf <- curr.full.sf[curr.cells]\n",
    "        \n",
    "        all <- rmse(curr.skewed.sf, curr.full.sf)\n",
    "        if (reg != 'random'){\n",
    "            curr.reg.cells <- intersect(names(curr.skewed.sf), names(cluster[cluster==reg]))\n",
    "            curr.reg <- rmse(curr.skewed.sf[curr.reg.cells], curr.full.sf[curr.reg.cells])\n",
    "            \n",
    "            curr.other.regs <- names(skewed.sfs)[names(skewed.sfs) != reg]\n",
    "            \n",
    "            curr.other.cells <- intersect(names(curr.skewed.sf), names(cluster[cluster %in% curr.other.regs]))\n",
    "            curr.other <- rmse(curr.skewed.sf[curr.other.cells], curr.full.sf[curr.other.cells])   \n",
    "        } else {\n",
    "            curr.reg = NA\n",
    "            curr.other = NA\n",
    "        }\n",
    "        \n",
    "        list(all = all,\n",
    "            reg = curr.reg,\n",
    "            other = curr.other)        \n",
    "        \n",
    "    })\n",
    "    names(curr.gs.rmse) <- names(gs)\n",
    "    curr.gs.rmse\n",
    "})\n",
    "\n",
    "names(rmse.sf) <- names(skewed.sfs)\n",
    "\n",
    "rmse.sfs.all <- (sapply(rmse.sf, function(gs) {\n",
    "    unlist(gs['all',])\n",
    "}))\n",
    "\n",
    "rmse.sfs.reg <- (sapply(rmse.sf, function(gs) {\n",
    "    unlist(gs['reg',])\n",
    "}))\n",
    "\n",
    "rmse.sfs.other <- (sapply(rmse.sf, function(gs) {\n",
    "    unlist(gs['other',])\n",
    "}))"
   ]
  },
  {
   "cell_type": "code",
   "execution_count": 37,
   "id": "208feea2",
   "metadata": {},
   "outputs": [
    {
     "data": {
      "text/html": [
       "<table class=\"dataframe\">\n",
       "<caption>A matrix: 4 × 3 of type dbl</caption>\n",
       "<thead>\n",
       "\t<tr><th></th><th scope=col>Zone 3</th><th scope=col>Zone 1</th><th scope=col>random</th></tr>\n",
       "</thead>\n",
       "<tbody>\n",
       "\t<tr><th scope=row>libsize</th><td>0.399363396</td><td>1.1450983349</td><td>0.4355202078</td></tr>\n",
       "\t<tr><th scope=row>deseq</th><td>0.110594239</td><td>0.1393461290</td><td>0.1188056023</td></tr>\n",
       "\t<tr><th scope=row>tmm</th><td>7.713731876</td><td>4.3367889727</td><td>5.2619180265</td></tr>\n",
       "\t<tr><th scope=row>area</th><td>0.001729221</td><td>0.0007413424</td><td>0.0003707028</td></tr>\n",
       "</tbody>\n",
       "</table>\n"
      ],
      "text/latex": [
       "A matrix: 4 × 3 of type dbl\n",
       "\\begin{tabular}{r|lll}\n",
       "  & Zone 3 & Zone 1 & random\\\\\n",
       "\\hline\n",
       "\tlibsize & 0.399363396 & 1.1450983349 & 0.4355202078\\\\\n",
       "\tdeseq & 0.110594239 & 0.1393461290 & 0.1188056023\\\\\n",
       "\ttmm & 7.713731876 & 4.3367889727 & 5.2619180265\\\\\n",
       "\tarea & 0.001729221 & 0.0007413424 & 0.0003707028\\\\\n",
       "\\end{tabular}\n"
      ],
      "text/markdown": [
       "\n",
       "A matrix: 4 × 3 of type dbl\n",
       "\n",
       "| <!--/--> | Zone 3 | Zone 1 | random |\n",
       "|---|---|---|---|\n",
       "| libsize | 0.399363396 | 1.1450983349 | 0.4355202078 |\n",
       "| deseq | 0.110594239 | 0.1393461290 | 0.1188056023 |\n",
       "| tmm | 7.713731876 | 4.3367889727 | 5.2619180265 |\n",
       "| area | 0.001729221 | 0.0007413424 | 0.0003707028 |\n",
       "\n"
      ],
      "text/plain": [
       "        Zone 3      Zone 1       random      \n",
       "libsize 0.399363396 1.1450983349 0.4355202078\n",
       "deseq   0.110594239 0.1393461290 0.1188056023\n",
       "tmm     7.713731876 4.3367889727 5.2619180265\n",
       "area    0.001729221 0.0007413424 0.0003707028"
      ]
     },
     "metadata": {},
     "output_type": "display_data"
    }
   ],
   "source": [
    "rmse.sfs.all"
   ]
  },
  {
   "cell_type": "code",
   "execution_count": 38,
   "id": "e40a6f06",
   "metadata": {},
   "outputs": [],
   "source": [
    "dir.create(paste0(save.dir,'sf_rmse'))"
   ]
  },
  {
   "cell_type": "code",
   "execution_count": 39,
   "id": "b88aa822",
   "metadata": {},
   "outputs": [
    {
     "data": {
      "text/html": [
       "<style>\n",
       ".dl-inline {width: auto; margin:0; padding: 0}\n",
       ".dl-inline>dt, .dl-inline>dd {float: none; width: auto; display: inline-block}\n",
       ".dl-inline>dt::after {content: \":\\0020\"; padding-right: .5ex}\n",
       ".dl-inline>dt:not(:first-of-type) {padding-left: .5ex}\n",
       "</style><dl class=dl-inline><dt>Zone 3</dt><dd>'#00FFFF'</dd><dt>Zone 1</dt><dd>'#FF0000'</dd></dl>\n"
      ],
      "text/latex": [
       "\\begin{description*}\n",
       "\\item[Zone 3] '\\#00FFFF'\n",
       "\\item[Zone 1] '\\#FF0000'\n",
       "\\end{description*}\n"
      ],
      "text/markdown": [
       "Zone 3\n",
       ":   '#00FFFF'Zone 1\n",
       ":   '#FF0000'\n",
       "\n"
      ],
      "text/plain": [
       "   Zone 3    Zone 1 \n",
       "\"#00FFFF\" \"#FF0000\" "
      ]
     },
     "metadata": {},
     "output_type": "display_data"
    }
   ],
   "source": [
    "leg.col.region"
   ]
  },
  {
   "cell_type": "code",
   "execution_count": 40,
   "id": "496557c8",
   "metadata": {},
   "outputs": [],
   "source": [
    "col.geneset <- leg.col.region\n",
    "names(col.geneset)[names(col.geneset)=='other'] <- 'random'\n",
    "col.geneset['random'] <- 'grey'\n",
    "geneset.names <- gs.names\n",
    "geneset.names['random'] <- 'Random'"
   ]
  },
  {
   "cell_type": "code",
   "execution_count": 41,
   "id": "1b0d2abb",
   "metadata": {},
   "outputs": [
    {
     "data": {
      "text/html": [
       "<style>\n",
       ".list-inline {list-style: none; margin:0; padding: 0}\n",
       ".list-inline>li {display: inline-block}\n",
       ".list-inline>li:not(:last-child)::after {content: \"\\00b7\"; padding: 0 .5ex}\n",
       "</style>\n",
       "<ol class=list-inline><li>'libsize'</li><li>'deseq'</li><li>'tmm'</li><li>'area'</li></ol>\n"
      ],
      "text/latex": [
       "\\begin{enumerate*}\n",
       "\\item 'libsize'\n",
       "\\item 'deseq'\n",
       "\\item 'tmm'\n",
       "\\item 'area'\n",
       "\\end{enumerate*}\n"
      ],
      "text/markdown": [
       "1. 'libsize'\n",
       "2. 'deseq'\n",
       "3. 'tmm'\n",
       "4. 'area'\n",
       "\n",
       "\n"
      ],
      "text/plain": [
       "[1] \"libsize\" \"deseq\"   \"tmm\"     \"area\"   "
      ]
     },
     "metadata": {},
     "output_type": "display_data"
    },
    {
     "data": {
      "text/html": [
       "<strong>png:</strong> 2"
      ],
      "text/latex": [
       "\\textbf{png:} 2"
      ],
      "text/markdown": [
       "**png:** 2"
      ],
      "text/plain": [
       "png \n",
       "  2 "
      ]
     },
     "metadata": {},
     "output_type": "display_data"
    },
    {
     "data": {
      "text/html": [
       "<strong>png:</strong> 2"
      ],
      "text/latex": [
       "\\textbf{png:} 2"
      ],
      "text/markdown": [
       "**png:** 2"
      ],
      "text/plain": [
       "png \n",
       "  2 "
      ]
     },
     "metadata": {},
     "output_type": "display_data"
    },
    {
     "data": {
      "text/html": [
       "<strong>png:</strong> 2"
      ],
      "text/latex": [
       "\\textbf{png:} 2"
      ],
      "text/markdown": [
       "**png:** 2"
      ],
      "text/plain": [
       "png \n",
       "  2 "
      ]
     },
     "metadata": {},
     "output_type": "display_data"
    }
   ],
   "source": [
    "options(repr.plot.width=6, repr.plot.height=7)\n",
    "pdf(paste0(save.dir, 'sf_rmse/scaling_factor_RMSE_all_genesets.pdf'),  \n",
    "    width = 7, height = 8)\n",
    "par(mfrow = c(1,1), mar = c(17.1, 10, 3.1, 2.1))\n",
    "## all \n",
    "norms.to.include\n",
    "xtcks <- c(0:length(norms.to.include)+1)\n",
    "\n",
    "x <- rep(seq(length(norms.to.include)), each = length(genesets)) # no sctransform sf or no norm sfs\n",
    "y <- as.vector(t(rmse.sfs.all))\n",
    "xl <- c(0,max(x)+1)\n",
    "yl <- c(0,max(y)+1)\n",
    "\n",
    "curr.col <- rep(col.geneset[colnames(rmse.sfs.all)], length(norms.to.include))\n",
    "curr.pch <- rep(c(15:17), length(norms.to.include))\n",
    "\n",
    "plot(x,y, pch = curr.pch, cex = 4, col = scales::alpha(curr.col, 0.7), xlim = xl, ylim = yl, \n",
    "     bg = scales::alpha(col.geneset['random'], 0.7),\n",
    "    xaxt = \"n\", yaxt = \"n\", frame.plot=FALSE, xaxs = 'i', yaxs = 'i',\n",
    "    ylab = '', xlab = '')\n",
    "axis(1, at = c(0,xtcks), cex.axis=2, labels = FALSE)\n",
    "axis(2, at = c(0,seq(ceiling(max(y)))), cex.axis=3, las = 2)\n",
    "text(x = xtcks[1:length(norms.to.include)]+0.15, y = min(yl)-1, \n",
    "     labels = norms.names, xpd = NA, srt = 45, cex = 2, pos = 2)\n",
    "title(xlab='Normalization', line=14, cex.lab=fs)\n",
    "title(ylab='RMSE', line=6, cex.lab=fs)\n",
    "dev.off()\n",
    "\n",
    "pdf(paste0(save.dir, 'geneset_legend.pdf'),  \n",
    "    width = 7, height = 8)\n",
    "plot(0,0, col = 'white')\n",
    "legend('topleft', legend = geneset.names, col = scales::alpha(col.geneset[names(geneset.names)],0.7), \n",
    "       pch = curr.pch, pt.bg = scales::alpha(col.geneset['random'], 0.7), cex = 2, pt.cex = 4, bty = 'n')\n",
    "dev.off()\n",
    "\n",
    "pdf(paste0(save.dir, 'sf_rmse/scaling_factor_RMSE_no_random.pdf'),  \n",
    "    width = 7, height = 8)\n",
    "par(mfrow = c(1,1), mar = c(17.1, 10, 3.1, 2.1))\n",
    "## all minus random \n",
    "x = rep(seq(length(norms)-2), each = length(genesets)-1) # no sctransform sf or no norm sfs\n",
    "y = as.vector(t(rmse.sfs.all[,1:2]))\n",
    "xl <- c(0,max(x)+1)\n",
    "yl <- c(0,max(y)+1)\n",
    "\n",
    "curr.col <- rep(col.geneset[colnames(rmse.sfs.all)[1:2]], length(norms.to.include)-1)\n",
    "curr.pch <- rep(c(15:16), length(norms.to.include))\n",
    "\n",
    "plot(x,y, pch = curr.pch, cex = 4, col = scales::alpha(curr.col, 0.7), xlim = xl, ylim = yl,\n",
    "    xaxt = \"n\", yaxt = \"n\", frame.plot=FALSE, xaxs = 'i', yaxs = 'i',\n",
    "    ylab = '', xlab = '')\n",
    "axis(1, at = c(0,xtcks), cex.axis=2, labels = FALSE)\n",
    "axis(2, at = c(0,seq(ceiling(max(y)))), cex.axis=3, las = 2)\n",
    "text(x = xtcks[1:length(norms.to.include)]+0.15, y = min(yl)-1, \n",
    "     labels = norms.names, xpd = NA, srt = 45, cex = 2, pos = 2)\n",
    "title(xlab='Normalization', line=14, cex.lab=fs)\n",
    "title(ylab='RMSE', line=6, cex.lab=fs)\n",
    "dev.off()"
   ]
  },
  {
   "cell_type": "markdown",
   "id": "73e8d1ad",
   "metadata": {},
   "source": [
    "## NORMALIZE SKEWED GENESETS"
   ]
  },
  {
   "cell_type": "code",
   "execution_count": 42,
   "id": "06c4c68d",
   "metadata": {},
   "outputs": [
    {
     "name": "stdout",
     "output_type": "stream",
     "text": [
      "[1] \"LEP\"   \"MYC\"   \"C1QB\"  \"ITGAM\" \"RAMP1\" \"PTGIS\"\n",
      "  |======================================================================| 100%\n",
      "  |======================================================================| 100%\n",
      "[1] \"COL5A2\"   \"C11orf96\" \"SOX4\"     \"CXCL12\"   \"RARG\"     \"MMP14\"   \n",
      "  |======================================================================| 100%\n",
      "  |======================================================================| 100%\n",
      "[1] \"CXCL9\"    \"RGS2\"     \"JAK2\"     \"PTPRC\"    \"MAP1LC3B\" \"BASP1\"   \n",
      "  |======================================================================| 100%\n",
      "  |======================================================================| 100%\n"
     ]
    }
   ],
   "source": [
    "skewed.norms <- lapply(names(counts.subsets), function(gs) {\n",
    "    curr.counts <- counts.subsets[[gs]]\n",
    "    print(head(rownames(curr.counts)))\n",
    "    curr.sfs <- skewed.sfs[[gs]]\n",
    "    \n",
    "    curr.norm.none <- curr.counts\n",
    "    curr.norm.libsize <- t(t(curr.counts)/curr.sfs[['libsize']]) \n",
    "    curr.norm.deseq <- t(t(curr.counts)/curr.sfs[['deseq']])\n",
    "    curr.norm.tmm <- t(t(curr.counts)*curr.sfs[['tmm']])\n",
    "    curr.norm.area <- t(t(curr.counts)/curr.sfs[['area']]) \n",
    "    \n",
    "    suppressMessages(curr.sct <- sctransform::vst(curr.counts, n_genes = NULL))\n",
    "    curr.norm.sct <- curr.sct$y\n",
    "    curr.norm.sct[curr.norm.sct<0] <- 0\n",
    "    \n",
    "    curr.norms <- list(nonorm = curr.norm.none,\n",
    "                       libsize = curr.norm.libsize,\n",
    "                       deseq = curr.norm.deseq,\n",
    "                       tmm = curr.norm.tmm,\n",
    "                       area = curr.norm.area,\n",
    "                       sct = curr.norm.sct)\n",
    "    \n",
    "    curr.norms\n",
    "})\n",
    "names(skewed.norms) <- names(counts.subsets)\n"
   ]
  },
  {
   "cell_type": "markdown",
   "id": "b9e8f4ce",
   "metadata": {},
   "source": [
    "## COUNT CORRELATIONS"
   ]
  },
  {
   "cell_type": "code",
   "execution_count": 43,
   "id": "f25a7ab1",
   "metadata": {},
   "outputs": [],
   "source": [
    "gene.count.corrs <- lapply(names(genesets), function(gs) {\n",
    "    curr.geneset.corrs <- sapply(norms, function(n) {\n",
    "        curr.skewed.norm <- skewed.norms[[gs]][[n]]\n",
    "        curr.all.norm <- all.norms[[n]]\n",
    "        \n",
    "        curr.cells <- intersect(colnames(curr.skewed.norm), colnames(curr.all.norm))\n",
    "        curr.genes <- intersect(rownames(curr.skewed.norm), rownames(curr.all.norm))\n",
    "        \n",
    "        curr.skewed.norm <- curr.skewed.norm[curr.genes, curr.cells]\n",
    "        curr.all.norm <- curr.all.norm[curr.genes, curr.cells]\n",
    "        \n",
    "        curr.corrs <- sapply(curr.genes, function(g) {\n",
    "            cor(curr.skewed.norm[g,], curr.all.norm[g,], method = 'pearson')\n",
    "        })\n",
    "    })\n",
    "#     names(curr.geneset.corrs) <- norms\n",
    "    curr.geneset.corrs\n",
    "})\n",
    "names(gene.count.corrs) <- names(genesets)\n",
    "\n"
   ]
  },
  {
   "cell_type": "code",
   "execution_count": 44,
   "id": "5e10b389",
   "metadata": {},
   "outputs": [],
   "source": [
    "options(repr.plot.width=18, repr.plot.height=5)\n",
    "\n",
    "norms.to.include <- c('libsize', 'sct', 'deseq', 'tmm', 'area', 'nonorm')\n",
    "norms.names <- c('Library Size', 'scTransform', 'DESeq2', 'TMM', 'Cell Area', 'No Normalization')\n",
    "names(norms.names) <- norms.to.include\n",
    "xtcks <- c(0:length(norms.to.include)+1)\n",
    "\n",
    "yl <- c(min(sapply(gene.count.corrs, function(x) {min(x, na.rm = T)})), 1)\n",
    "ylr <- c(0.5, 1) #c(min(gene.count.corrs[['random']]), 1)\n",
    "# yl <- c(0,1)\n",
    "\n",
    "for (gs in names(genesets)){\n",
    "    pdf(paste0(save.dir, 'single_cell_single_gene_count_correlation_',gs,'.pdf'),  \n",
    "        width = 10, height = 12)\n",
    "#     par(mfrow = c(1,1), mar = c(20.1, 9, 3.1, 2.1)) #not ventricles\n",
    "    par(mfrow = c(1,1), mar = c(17.1, 10, 3.1, 2.1))\n",
    "    \n",
    "    curr.corrs <- gene.count.corrs[[gs]]\n",
    "    \n",
    "    boxplot(curr.corrs[,norms.to.include], ylim = yl, #ylim = ylr, #ylim = yl,\n",
    "            cex.lab = fs.small, cex.axis = fs.small, cex.main = fs, xaxs = 'i', yaxs = 'i',\n",
    "            xaxt = \"n\", yaxt = \"n\", frame.plot=FALSE,\n",
    "            ylab = '',# xlab = 'Normalization',\n",
    "#             main = paste('Normalized gene count correlation:\\n',gs, 'skewed vs full geneset')\n",
    "           )\n",
    "    axis(1, at = c(0,xtcks), cex.axis=2, labels = FALSE) #x axis ticks\n",
    "    text(x = xtcks[1:length(norms.to.include)]+0.15, y = min(yl)-0.02, labels = norms.names, xpd = NA, srt = 45, cex = 2, pos = 2) ##ventricles/random\n",
    "#     text(x = c(1:5)+0.15, y = 0.47, labels = norms.names, xpd = NA, srt = 45, cex = 3, pos = 2) ##ventricles\n",
    "#     text(x = c(1:5)+0.15, y = 0, labels = norms.names, xpd = NA, srt = 45, cex = 3, pos = 2) #not ventricles\n",
    "#     axis(2, at = c(0.4,0.6,0.8,1), cex.axis=2, las = 2) ##ventricles/random\n",
    "    axis(2, at = c(0,0.2,0.4,0.6,0.8,1), cex.axis=3, las = 2)\n",
    "#     title(xlab='Normalization', line=19, cex.lab=fs) #not ventricles\n",
    "    title(xlab='Normalization', line=14, cex.lab=fs)\n",
    "#     title(ylab='Pearson Correlation', line=5, cex.lab=fs) #not ventricles\n",
    "    title(ylab='Pearson Correlation', line=6, cex.lab=fs)\n",
    "#     title(ylab=paste('Skewed gene panel\\n log_10(scaling factor)'), line=4, cex.lab=3)\n",
    "    \n",
    "    dev.off()\n",
    "}\n",
    "\n",
    "\n"
   ]
  },
  {
   "cell_type": "markdown",
   "id": "70067168",
   "metadata": {},
   "source": [
    "## DE GENES SKEWED GENESETS"
   ]
  },
  {
   "cell_type": "code",
   "execution_count": 45,
   "id": "7a10d1db",
   "metadata": {},
   "outputs": [],
   "source": [
    "skewed.lfcs <- lapply(skewed.norms, function(curr.skewed.norms) {\n",
    "    \n",
    "    curr.skewed.lfcs <- lapply(curr.skewed.norms, function(curr.counts.norm) {\n",
    "        curr.clusters <- cluster[colnames(curr.counts.norm)]\n",
    "        names(curr.clusters) <- colnames(curr.counts.norm)\n",
    "        curr.lfcs <- find.log.fold.change(curr.counts.norm, curr.clusters, log2)\n",
    "        \n",
    "        curr.lfcs\n",
    "    })\n",
    "    \n",
    "    curr.skewed.lfcs\n",
    "    \n",
    "})\n",
    "\n",
    "skewed.pvals <- lapply(skewed.norms, function(curr.skewed.norms) {\n",
    "    \n",
    "    curr.skewed.pvals <- lapply(curr.skewed.norms, function(curr.counts.norm) {\n",
    "        curr.clusters <- cluster[colnames(curr.counts.norm)]\n",
    "        names(curr.clusters) <- colnames(curr.counts.norm)\n",
    "        curr.pvals <- find.cluster.de.genes(curr.counts.norm, cell.com = curr.clusters, test.alt = 'greater')\n",
    "        \n",
    "        curr.pvals\n",
    "    })\n",
    "    \n",
    "    curr.skewed.pvals\n",
    "    \n",
    "})\n",
    "\n",
    "skewed.pvals.adj <- lapply(skewed.pvals, function(curr.geneset.pvals) {\n",
    "    \n",
    "    curr.geneset.pvals.adj <- lapply(curr.geneset.pvals, function(curr.pvals) {\n",
    "        curr.pvals.adj <- matrix(p.adjust(curr.pvals, method = 'BH'), \n",
    "                                 nrow = nrow (curr.pvals), ncol = ncol(curr.pvals))\n",
    "        colnames(curr.pvals.adj) <- colnames(curr.pvals)\n",
    "        rownames(curr.pvals.adj) <- rownames(curr.pvals)\n",
    "        \n",
    "        curr.pvals.adj\n",
    "    })\n",
    "    \n",
    "    \n",
    "    \n",
    "})\n"
   ]
  },
  {
   "cell_type": "code",
   "execution_count": 46,
   "id": "f9efcae6",
   "metadata": {},
   "outputs": [
    {
     "data": {
      "image/png": "[encoded data removed]",
      "text/plain": [
       "plot without title"
      ]
     },
     "metadata": {
      "image/png": {
       "height": 180,
       "width": 540
      }
     },
     "output_type": "display_data"
    }
   ],
   "source": [
    "options(repr.plot.width=9, repr.plot.height=3)\n",
    "par(mfrow = c(1,3))\n",
    "plot(skewed.lfcs$`Zone 1`$nonorm[,'Zone 1'],\n",
    "    -1*log10(skewed.pvals.adj$`Zone 1`$nonorm[,'Zone 1']),\n",
    "    pch = 16)\n",
    "plot(skewed.lfcs$`Zone 3`$deseq[,'Zone 1'],\n",
    "    -1*log10(skewed.pvals.adj$`Zone 3`$deseq[,'Zone 1']),\n",
    "    pch = 16)\n",
    "plot(skewed.lfcs$random$sct[,'Zone 1'],\n",
    "    -1*log10(skewed.pvals.adj$random$sct[,'Zone 1']),\n",
    "    pch = 16)"
   ]
  },
  {
   "cell_type": "markdown",
   "id": "0f5df3a6",
   "metadata": {},
   "source": [
    "## quantify skew using shannon entropy "
   ]
  },
  {
   "cell_type": "markdown",
   "id": "3a49c356",
   "metadata": {},
   "source": [
    "### full gene panel"
   ]
  },
  {
   "cell_type": "code",
   "execution_count": 47,
   "id": "e17154eb",
   "metadata": {},
   "outputs": [
    {
     "data": {
      "text/html": [
       "0.693147180559945"
      ],
      "text/latex": [
       "0.693147180559945"
      ],
      "text/markdown": [
       "0.693147180559945"
      ],
      "text/plain": [
       "[1] 0.6931472"
      ]
     },
     "metadata": {},
     "output_type": "display_data"
    },
    {
     "data": {
      "text/html": [
       "1"
      ],
      "text/latex": [
       "1"
      ],
      "text/markdown": [
       "1"
      ],
      "text/plain": [
       "[1] 1"
      ]
     },
     "metadata": {},
     "output_type": "display_data"
    },
    {
     "data": {
      "text/html": [
       "0.00306305710709215"
      ],
      "text/latex": [
       "0.00306305710709215"
      ],
      "text/markdown": [
       "0.00306305710709215"
      ],
      "text/plain": [
       "[1] 0.003063057"
      ]
     },
     "metadata": {},
     "output_type": "display_data"
    },
    {
     "data": {
      "text/html": [
       "<style>\n",
       ".dl-inline {width: auto; margin:0; padding: 0}\n",
       ".dl-inline>dt, .dl-inline>dd {float: none; width: auto; display: inline-block}\n",
       ".dl-inline>dt::after {content: \":\\0020\"; padding-right: .5ex}\n",
       ".dl-inline>dt:not(:first-of-type) {padding-left: .5ex}\n",
       "</style><dl class=dl-inline><dt>Zone 3</dt><dd>0.378</dd><dt>Zone 1</dt><dd>0.175</dd></dl>\n"
      ],
      "text/latex": [
       "\\begin{description*}\n",
       "\\item[Zone 3] 0.378\n",
       "\\item[Zone 1] 0.175\n",
       "\\end{description*}\n"
      ],
      "text/markdown": [
       "Zone 3\n",
       ":   0.378Zone 1\n",
       ":   0.175\n",
       "\n"
      ],
      "text/plain": [
       "Zone 3 Zone 1 \n",
       " 0.378  0.175 "
      ]
     },
     "metadata": {},
     "output_type": "display_data"
    },
    {
     "data": {
      "text/html": [
       "0.672761117896303"
      ],
      "text/latex": [
       "0.672761117896303"
      ],
      "text/markdown": [
       "0.672761117896303"
      ],
      "text/plain": [
       "[1] 0.6727611"
      ]
     },
     "metadata": {},
     "output_type": "display_data"
    }
   ],
   "source": [
    "## max evenness\n",
    "props <- rep(0.5,2)\n",
    "-1*sum(props*log(props))\n",
    "\n",
    "## max skew\n",
    "props <- c(0.9997,0.0001,0.0001,0.0001)\n",
    "sum(props)\n",
    "-1*sum(props*log(props))\n",
    "\n",
    "## og gene panel - use non normalized counts for now\n",
    "props <- n.DEs[,'nonorm']/nrow(all.norms$nonorm)\n",
    "props\n",
    "full.div <- -1*sum(props*log(props))\n",
    "full.div"
   ]
  },
  {
   "cell_type": "markdown",
   "id": "8018b7f6",
   "metadata": {},
   "source": [
    "### skewed gene panels"
   ]
  },
  {
   "cell_type": "code",
   "execution_count": 48,
   "id": "5b5cf6ab",
   "metadata": {},
   "outputs": [],
   "source": [
    "## de genes for skewed genesets \n",
    "p.thresh <- 0.05\n",
    "lfc.thresh <- 0.25\n",
    "\n",
    "skewed.de.genes <- lapply(names(genesets), function(gs) {\n",
    "    curr.gs.de.genes <- lapply(norms, function(curr.norm) {\n",
    "        curr.pvals <- skewed.pvals[[gs]][[curr.norm]]\n",
    "        curr.lfcs <- skewed.lfcs[[gs]][[curr.norm]]\n",
    "        \n",
    "        curr.groups <- colnames(curr.pvals)\n",
    "        \n",
    "        curr.de.genes <- lapply(curr.groups, function(curr.group) {\n",
    "            curr.group.pvals <- curr.pvals[,curr.group]\n",
    "            curr.group.lfcs <- curr.lfcs[names(curr.group.pvals),curr.group]\n",
    "            \n",
    "            curr.group.de.genes <- names(curr.group.pvals)[curr.group.pvals<p.thresh & abs(curr.group.lfcs)>lfc.thresh]\n",
    "            curr.group.de.genes.stats <- cbind(curr.group.pvals[curr.group.de.genes],\n",
    "                                               curr.group.lfcs[curr.group.de.genes])\n",
    "            colnames(curr.group.de.genes.stats) <- c('p.adj','logFC')\n",
    "            curr.group.de.genes.stats\n",
    "            \n",
    "        })\n",
    "        names(curr.de.genes) <- curr.groups\n",
    "        curr.de.genes\n",
    "    })\n",
    "    names(curr.gs.de.genes) <- norms\n",
    "    curr.gs.de.genes\n",
    "})\n",
    "names(skewed.de.genes) <- names(genesets)"
   ]
  },
  {
   "cell_type": "code",
   "execution_count": 49,
   "id": "4e309882",
   "metadata": {},
   "outputs": [],
   "source": [
    "## number of de genes\n",
    "skewed.n.DEs <- lapply(skewed.de.genes, function(curr.de.genes) {\n",
    "    curr.n.DEs <- sapply(curr.de.genes, function(x) {\n",
    "        sapply(x, nrow)\n",
    "    })\n",
    "    curr.n.DEs\n",
    "})\n"
   ]
  },
  {
   "cell_type": "code",
   "execution_count": 50,
   "id": "b35e36eb",
   "metadata": {},
   "outputs": [
    {
     "data": {
      "text/html": [
       "<style>\n",
       ".list-inline {list-style: none; margin:0; padding: 0}\n",
       ".list-inline>li {display: inline-block}\n",
       ".list-inline>li:not(:last-child)::after {content: \"\\00b7\"; padding: 0 .5ex}\n",
       "</style>\n",
       "<ol class=list-inline><li>'Zone 3'</li><li>'Zone 1'</li><li>'random'</li></ol>\n"
      ],
      "text/latex": [
       "\\begin{enumerate*}\n",
       "\\item 'Zone 3'\n",
       "\\item 'Zone 1'\n",
       "\\item 'random'\n",
       "\\end{enumerate*}\n"
      ],
      "text/markdown": [
       "1. 'Zone 3'\n",
       "2. 'Zone 1'\n",
       "3. 'random'\n",
       "\n",
       "\n"
      ],
      "text/plain": [
       "[1] \"Zone 3\" \"Zone 1\" \"random\""
      ]
     },
     "metadata": {},
     "output_type": "display_data"
    }
   ],
   "source": [
    "names(skewed.n.DEs)"
   ]
  },
  {
   "cell_type": "code",
   "execution_count": 51,
   "id": "7806fdd5",
   "metadata": {},
   "outputs": [
    {
     "data": {
      "text/html": [
       "200"
      ],
      "text/latex": [
       "200"
      ],
      "text/markdown": [
       "200"
      ],
      "text/plain": [
       "[1] 200"
      ]
     },
     "metadata": {},
     "output_type": "display_data"
    }
   ],
   "source": [
    "n.genes <- length(genesets[[1]])\n",
    "n.genes\n",
    "skewed.props <- lapply(skewed.n.DEs, function(x) {\n",
    "    x[,'nonorm']/n.genes\n",
    "})\n",
    "skewed.div <- sapply(skewed.props, function(x) {\n",
    "    -1*sum(x[x>0]*log(x[x>0]))\n",
    "})"
   ]
  },
  {
   "cell_type": "code",
   "execution_count": 52,
   "id": "4ac9d56a",
   "metadata": {
    "scrolled": true
   },
   "outputs": [
    {
     "data": {
      "text/html": [
       "<dl>\n",
       "\t<dt>$`Zone 3`</dt>\n",
       "\t\t<dd><style>\n",
       ".dl-inline {width: auto; margin:0; padding: 0}\n",
       ".dl-inline>dt, .dl-inline>dd {float: none; width: auto; display: inline-block}\n",
       ".dl-inline>dt::after {content: \":\\0020\"; padding-right: .5ex}\n",
       ".dl-inline>dt:not(:first-of-type) {padding-left: .5ex}\n",
       "</style><dl class=dl-inline><dt>Zone 3</dt><dd>0.545</dd><dt>Zone 1</dt><dd>0</dd></dl>\n",
       "</dd>\n",
       "\t<dt>$`Zone 1`</dt>\n",
       "\t\t<dd><style>\n",
       ".dl-inline {width: auto; margin:0; padding: 0}\n",
       ".dl-inline>dt, .dl-inline>dd {float: none; width: auto; display: inline-block}\n",
       ".dl-inline>dt::after {content: \":\\0020\"; padding-right: .5ex}\n",
       ".dl-inline>dt:not(:first-of-type) {padding-left: .5ex}\n",
       "</style><dl class=dl-inline><dt>Zone 3</dt><dd>0.005</dd><dt>Zone 1</dt><dd>0.74</dd></dl>\n",
       "</dd>\n",
       "\t<dt>$random</dt>\n",
       "\t\t<dd><style>\n",
       ".dl-inline {width: auto; margin:0; padding: 0}\n",
       ".dl-inline>dt, .dl-inline>dd {float: none; width: auto; display: inline-block}\n",
       ".dl-inline>dt::after {content: \":\\0020\"; padding-right: .5ex}\n",
       ".dl-inline>dt:not(:first-of-type) {padding-left: .5ex}\n",
       "</style><dl class=dl-inline><dt>Zone 3</dt><dd>0.42</dd><dt>Zone 1</dt><dd>0.17</dd></dl>\n",
       "</dd>\n",
       "</dl>\n"
      ],
      "text/latex": [
       "\\begin{description}\n",
       "\\item[\\$`Zone 3`] \\begin{description*}\n",
       "\\item[Zone 3] 0.545\n",
       "\\item[Zone 1] 0\n",
       "\\end{description*}\n",
       "\n",
       "\\item[\\$`Zone 1`] \\begin{description*}\n",
       "\\item[Zone 3] 0.005\n",
       "\\item[Zone 1] 0.74\n",
       "\\end{description*}\n",
       "\n",
       "\\item[\\$random] \\begin{description*}\n",
       "\\item[Zone 3] 0.42\n",
       "\\item[Zone 1] 0.17\n",
       "\\end{description*}\n",
       "\n",
       "\\end{description}\n"
      ],
      "text/markdown": [
       "$`Zone 3`\n",
       ":   Zone 3\n",
       ":   0.545Zone 1\n",
       ":   0\n",
       "\n",
       "\n",
       "$`Zone 1`\n",
       ":   Zone 3\n",
       ":   0.005Zone 1\n",
       ":   0.74\n",
       "\n",
       "\n",
       "$random\n",
       ":   Zone 3\n",
       ":   0.42Zone 1\n",
       ":   0.17\n",
       "\n",
       "\n",
       "\n",
       "\n"
      ],
      "text/plain": [
       "$`Zone 3`\n",
       "Zone 3 Zone 1 \n",
       " 0.545  0.000 \n",
       "\n",
       "$`Zone 1`\n",
       "Zone 3 Zone 1 \n",
       " 0.005  0.740 \n",
       "\n",
       "$random\n",
       "Zone 3 Zone 1 \n",
       "  0.42   0.17 \n"
      ]
     },
     "metadata": {},
     "output_type": "display_data"
    },
    {
     "data": {
      "text/html": [
       "<style>\n",
       ".dl-inline {width: auto; margin:0; padding: 0}\n",
       ".dl-inline>dt, .dl-inline>dd {float: none; width: auto; display: inline-block}\n",
       ".dl-inline>dt::after {content: \":\\0020\"; padding-right: .5ex}\n",
       ".dl-inline>dt:not(:first-of-type) {padding-left: .5ex}\n",
       "</style><dl class=dl-inline><dt>Zone 3</dt><dd>0.330798368953797</dd><dt>Zone 1</dt><dd>0.249309355492842</dd><dt>random</dt><dd>0.665582901564402</dd></dl>\n"
      ],
      "text/latex": [
       "\\begin{description*}\n",
       "\\item[Zone 3] 0.330798368953797\n",
       "\\item[Zone 1] 0.249309355492842\n",
       "\\item[random] 0.665582901564402\n",
       "\\end{description*}\n"
      ],
      "text/markdown": [
       "Zone 3\n",
       ":   0.330798368953797Zone 1\n",
       ":   0.249309355492842random\n",
       ":   0.665582901564402\n",
       "\n"
      ],
      "text/plain": [
       "   Zone 3    Zone 1    random \n",
       "0.3307984 0.2493094 0.6655829 "
      ]
     },
     "metadata": {},
     "output_type": "display_data"
    }
   ],
   "source": [
    "skewed.props\n",
    "skewed.div\n"
   ]
  },
  {
   "cell_type": "code",
   "execution_count": 53,
   "id": "7cf009b1",
   "metadata": {},
   "outputs": [],
   "source": [
    "dir.create(paste0(save.dir,'panel_div'))"
   ]
  },
  {
   "cell_type": "code",
   "execution_count": 54,
   "id": "0c8115c5",
   "metadata": {},
   "outputs": [
    {
     "data": {
      "text/html": [
       "<strong>png:</strong> 2"
      ],
      "text/latex": [
       "\\textbf{png:} 2"
      ],
      "text/markdown": [
       "**png:** 2"
      ],
      "text/plain": [
       "png \n",
       "  2 "
      ]
     },
     "metadata": {},
     "output_type": "display_data"
    }
   ],
   "source": [
    "panel.div <- c(skewed.div, full.div)\n",
    "names(panel.div) <- c(names(skewed.div), 'full')\n",
    "panel.div.names <- c(gs.names[1:(length(gs.names)-1)], 'Random', 'Original')\n",
    "options(repr.plot.width=6, repr.plot.height=7)\n",
    "pdf(paste0(save.dir, 'panel_div/panel_diversity_all_genesets.pdf'),  \n",
    "    width = 8, height = 9)\n",
    "par(mfrow = c(1,1), mar = c(17.1, 10, 3.1, 2.1))\n",
    "xtcks <- c(0:length(panel.div)+1)\n",
    "x <- seq(length(panel.div))\n",
    "y <- panel.div\n",
    "xl <- c(0,max(x)+1)\n",
    "yl <- c(0,max(y))\n",
    "sp <- c(1.5, rep(1,length(panel.div)-1))\n",
    "\n",
    "barplot(y, xlim = xl, ylim = yl, width = 0.5, space = sp,\n",
    "    xaxt = \"n\", yaxt = \"n\", xaxs = 'i', yaxs = 'i',\n",
    "    ylab = '', xlab = '')\n",
    "axis(1, at = c(0,xtcks), cex.axis=2, labels = FALSE)\n",
    "axis(2, at = seq(from = 0, to = ceiling(max(y)), by = 0.25), cex.axis=3, las = 2)\n",
    "text(x = xtcks[1:length(panel.div.names)]+0.15, y = min(yl)-0.15, \n",
    "     labels = panel.div.names, xpd = NA, srt = 45, cex = 2, pos = 2)\n",
    "title(xlab='Gene panel', line=14, cex.lab=fs)\n",
    "title(ylab='Gene panel diversity', line=6, cex.lab=fs)\n",
    "dev.off()"
   ]
  },
  {
   "cell_type": "markdown",
   "id": "74795494",
   "metadata": {},
   "source": [
    "## COMPARE P VALUES: SKEWED vs OG"
   ]
  },
  {
   "cell_type": "code",
   "execution_count": 55,
   "id": "aa25a6e3",
   "metadata": {},
   "outputs": [],
   "source": [
    "dir.create(paste0(save.dir,'pval_comparison'))"
   ]
  },
  {
   "cell_type": "code",
   "execution_count": 56,
   "id": "503d7e28",
   "metadata": {},
   "outputs": [],
   "source": [
    "options(repr.plot.width=20, repr.plot.height=8)\n",
    "\n",
    "norms.to.include <- c('libsize', 'sct', 'deseq', 'tmm', 'area', 'nonorm')\n",
    "norms.names <- c('Library Size', 'scTransform', 'DESeq2', 'TMM', 'Cell Area', 'No Normalization')\n",
    "names(norms.names) <- norms.to.include\n",
    "\n",
    "for (gs in names(genesets)){\n",
    "    pdf(paste0(save.dir, 'pval_comparison/', gs, '_skewed_vs_all_genes_log.pdf'),  \n",
    "        width = 30, height = 5)\n",
    "    par(mfrow = c(1,6), mar = c(10.1, 10.1, 6.1, 2.1))\n",
    "    \n",
    "    curr.x.lim <- range(-1*log10(unlist(p.vals.all.adj)), finite = TRUE)\n",
    "    curr.y.lim <- range(-1*log10(unlist(skewed.pvals.adj[[gs]])), finite = TRUE)    \n",
    "\n",
    "    \n",
    "    for (n in norms.to.include){\n",
    "#         print(gs)\n",
    "#         print(n)\n",
    "        curr.skewed.pvalsAdj <- -1*log10(skewed.pvals.adj[[gs]][[n]])\n",
    "#         curr.skewed.pvalsAdj <- (skewed.pvals.adj[[gs]][[n]])\n",
    "        \n",
    "        curr.geneset <- rownames(curr.skewed.pvalsAdj)\n",
    "        \n",
    "        curr.og.pvalsAdj <- -1*log10(p.vals.all.adj[[n]][curr.geneset,])\n",
    "#         curr.og.pvalsAdj <- (p.vals.all.adj[[n]][curr.geneset,])\n",
    "        \n",
    "        #change color to highlight roi for region skewed geneset\n",
    "        curr.cols <- colnames(curr.skewed.pvalsAdj)\n",
    "        curr.cols <- leg.col.region[curr.cols]\n",
    "        curr.cols[names(curr.cols) != gs] <- 'grey'\n",
    "#         print(curr.cols)\n",
    "        \n",
    "        #use all colors for random geneset\n",
    "        if (gs == 'random'){\n",
    "            curr.cols <- colnames(curr.skewed.pvalsAdj)\n",
    "            curr.cols <- leg.col.region[curr.cols]\n",
    "            \n",
    "        }\n",
    "        \n",
    "        curr.cols <- unlist(lapply(curr.cols, function(x) {rep(x, nrow(curr.skewed.pvalsAdj))}))\n",
    "        \n",
    "        plot(as.vector(curr.og.pvalsAdj), as.vector(curr.skewed.pvalsAdj), \n",
    "             pch = 16, cex = 1.5, col = scales::alpha(curr.cols, 0.75),\n",
    "             xlim = curr.x.lim, ylim = curr.y.lim,\n",
    "             cex.lab = fs.small, cex.axis = fs.small, cex.main = fs, xaxt=\"n\", yaxt=\"n\",\n",
    "             xlab = '', ylab = '', bty = 'n', xaxs = 'i', yaxs = 'i',\n",
    "#              xlab = paste('Full gene panel\\n -log_10(p-value)'), \n",
    "#              ylab = paste('Skewed gene panel\\n -log_10(p-value)'), \n",
    "             main = paste(norms.names[n]))\n",
    "#         abline(a=0,b=1,col=scales::alpha('grey', 0.5))\n",
    "        title(xlab=expression(paste('Full gene panel')), line=8, cex.lab=fs)\n",
    "        title(ylab=paste('Skewed gene panel'), line=5, cex.lab=fs)\n",
    "        axis(side = 1, at = curr.x.lim, line = 0, cex.axis = fs, lty = 1, labels = FALSE)\n",
    "        axis(side = 2, at = curr.y.lim, line = 0, cex.axis = fs, lty = 1, labels = FALSE)        \n",
    "        axis(side = 1, line = 0, cex.axis = fs.small, lty = 1, labels = FALSE)\n",
    "        axis(side = 2, line = 0, cex.axis = fs.small, lty = 1, labels = FALSE)\n",
    "        axis(side = 1, line = 2.5, cex.axis = fs.small, lty = 0)\n",
    "        axis(side = 2, line = 0.5, cex.axis = fs.small, lty = 0)\n",
    "#         abline(v=0.05, h=0.05,col='grey')\n",
    "        abline(a=0,b=1,col='red')\n",
    "        \n",
    "        ##highlight examples with ventricle skewed geneset on libsize plot\n",
    "#         if (gs=='ventricles'){\n",
    "#             eg.points.x <- sapply(seq_along(test.genes), function(i) {\n",
    "#                 curr.og.pvalsAdj[test.genes[i], test.regions[i]]})\n",
    "#             eg.points.y <- sapply(seq_along(test.genes), function(i) {\n",
    "#                 curr.skewed.pvalsAdj[test.genes[i], test.regions[i]]})\n",
    "\n",
    "#             test.labels <- sapply(seq_along(test.genes), function(i){\n",
    "#                 paste(test.genes[i], test.regions[i])\n",
    "#             })            \n",
    "            \n",
    "#             points(eg.points.x, eg.points.y, \n",
    "#                   pch = 16, cex = 3, col = 'black')\n",
    "# #             text(eg.points.x+65, eg.points.y+10, labels = test.labels, cex = fs)\n",
    "#         }\n",
    "        \n",
    "        \n",
    "    }\n",
    "    dev.off()\n",
    "    \n",
    "    pdf(paste0(save.dir, 'pval_comparison/', gs, '_skewed_vs_all_genes.pdf'),  \n",
    "        width = 30, height = 5)\n",
    "    par(mfrow = c(1,6), mar = c(10.1, 10.1, 6.1, 2.1))\n",
    "    \n",
    "\n",
    "    \n",
    "    for (n in norms.to.include){\n",
    "#         print(gs)\n",
    "#         print(n)\n",
    "#         curr.skewed.pvalsAdj <- -1*log10(skewed.pvals.adj[[gs]][[n]])\n",
    "        curr.skewed.pvalsAdj <- (skewed.pvals.adj[[gs]][[n]])\n",
    "        \n",
    "        curr.geneset <- rownames(curr.skewed.pvalsAdj)\n",
    "        \n",
    "#         curr.og.pvalsAdj <- -1*log10(p.vals.all.adj[[n]][curr.geneset,])\n",
    "        curr.og.pvalsAdj <- (p.vals.all.adj[[n]][curr.geneset,])\n",
    "        \n",
    "        #change color to highlight roi for region skewed geneset\n",
    "        curr.cols <- colnames(curr.skewed.pvalsAdj)\n",
    "        curr.cols <- leg.col.region[curr.cols]\n",
    "        curr.cols[names(curr.cols) != gs] <- 'grey'\n",
    "#         print(curr.cols)\n",
    "        \n",
    "        #use all colors for random geneset\n",
    "        if (gs == 'random'){\n",
    "            curr.cols <- colnames(curr.skewed.pvalsAdj)\n",
    "            curr.cols <- leg.col.region[curr.cols]\n",
    "            \n",
    "        }\n",
    "        \n",
    "        curr.cols <- unlist(lapply(curr.cols, function(x) {rep(x, nrow(curr.skewed.pvalsAdj))}))\n",
    "        \n",
    "        plot(as.vector(curr.og.pvalsAdj), as.vector(curr.skewed.pvalsAdj), \n",
    "             pch = 16, cex = 1.5, col = scales::alpha(curr.cols, 0.75),\n",
    "             cex.lab = fs.small, cex.axis = fs.small, cex.main = fs, xaxt=\"n\", yaxt=\"n\",\n",
    "             xlab = '', ylab = '', bty = 'n', xaxs = 'i', yaxs = 'i',\n",
    "#              xlab = paste('Full gene panel\\n -log_10(p-value)'), \n",
    "#              ylab = paste('Skewed gene panel\\n -log_10(p-value)'), \n",
    "             main = paste(norms.names[n]))\n",
    "#         abline(a=0,b=1,col=scales::alpha('grey', 0.5))\n",
    "        title(xlab=paste('Full gene panel\\n p-value'), line=8, cex.lab=fs)\n",
    "        title(ylab=paste('Skewed gene panel\\n p-value'), line=5, cex.lab=fs)\n",
    "        axis(side = 1, line = 0, cex.axis = fs.small, lty = 1, labels = FALSE)\n",
    "        axis(side = 2, line = 0, cex.axis = fs.small, lty = 1, labels = FALSE)\n",
    "        axis(side = 1, line = 2.5, cex.axis = fs.small, lty = 0)\n",
    "        axis(side = 2, line = 0.5, cex.axis = fs.small, lty = 0)\n",
    "        abline(v=0.05, h=0.05,col='grey')\n",
    "        abline(a=0,b=1,col='red')\n",
    "        \n",
    "        ##highlight examples with ventricle skewed geneset on libsize plot\n",
    "#         if (gs == 'ventricles'){\n",
    "#             eg.points.x <- sapply(seq_along(test.genes), function(i) {\n",
    "#                 curr.og.pvalsAdj[test.genes[i], test.regions[i]]})\n",
    "#             eg.points.y <- sapply(seq_along(test.genes), function(i) {\n",
    "#                 curr.skewed.pvalsAdj[test.genes[i], test.regions[i]]})\n",
    "            \n",
    "#             test.labels <- sapply(seq_along(test.genes), function(i){\n",
    "#                 paste(test.genes[i], test.regions[i])\n",
    "#             })\n",
    "            \n",
    "            \n",
    "            \n",
    "#             points(eg.points.x, eg.points.y, \n",
    "#                   pch = 16, cex = 3, col = 'black')\n",
    "# #             text(eg.points.x+0.25, eg.points.y+0.075, labels = test.labels, cex = fs)\n",
    "#         }\n",
    "        \n",
    "        \n",
    "    }\n",
    "        \n",
    "    \n",
    "    dev.off()\n",
    "}\n",
    "\n"
   ]
  },
  {
   "cell_type": "markdown",
   "id": "a1aa495d",
   "metadata": {},
   "source": [
    "### RMSE pvals"
   ]
  },
  {
   "cell_type": "code",
   "execution_count": 57,
   "id": "5a814e2e",
   "metadata": {},
   "outputs": [],
   "source": [
    "# rmse.pvals <- lapply(names(skewed.pvals.adj), function(reg) {\n",
    "#     gs <- skewed.pvals.adj[[reg]]\n",
    "    \n",
    "#     curr.gs.rmse <- sapply(names(gs), function(n) {\n",
    "#         curr.skewed.pvals <- gs[[n]]\n",
    "#         curr.full.pvals <- p.vals.all.adj[[n]]\n",
    "        \n",
    "#         curr.genes <- intersect(rownames(curr.skewed.pvals), rownames(curr.full.pvals))\n",
    "        \n",
    "#         curr.skewed.pvals <- curr.skewed.pvals[curr.genes,]\n",
    "#         curr.full.pvals <- curr.full.pvals[curr.genes,]\n",
    "        \n",
    "#         all <- rmse(as.vector(curr.skewed.pvals), as.vector(curr.full.pvals))\n",
    "#         if (reg != 'random'){\n",
    "#             curr.reg <- rmse(as.vector(curr.skewed.pvals[,reg]), as.vector(curr.full.pvals[,reg]))\n",
    "#             curr.other.regs <- colnames(curr.skewed.pvals) != reg\n",
    "#             curr.other <- rmse(as.vector(curr.skewed.pvals[,curr.other.regs]), as.vector(curr.full.pvals[,curr.other.regs]))   \n",
    "#         } else {\n",
    "#             curr.reg = NA\n",
    "#             curr.other = NA\n",
    "#         }\n",
    "        \n",
    "#         list(all = all,\n",
    "#             reg = curr.reg,\n",
    "#             other = curr.other)\n",
    "        \n",
    "#     })\n",
    "#     names(curr.gs.rmse) <- names(gs)\n",
    "#     curr.gs.rmse\n",
    "    \n",
    "# })\n",
    "# names(rmse.pvals) <- names(skewed.pvals.adj)\n",
    "\n",
    "# rmse.pvals.all <- as.data.frame(sapply(rmse.pvals, function(gs) {\n",
    "#     unlist(gs['all',])\n",
    "# }))\n",
    "\n",
    "# rmse.pvals.reg <- as.data.frame(sapply(rmse.pvals, function(gs) {\n",
    "#     unlist(gs['reg',])\n",
    "# }))\n",
    "\n",
    "# rmse.pvals.other <- as.data.frame(sapply(rmse.pvals, function(gs) {\n",
    "#     unlist(gs['other',])\n",
    "# }))"
   ]
  },
  {
   "cell_type": "code",
   "execution_count": 58,
   "id": "699b8192",
   "metadata": {},
   "outputs": [],
   "source": [
    "# col.norms <- RColorBrewer::brewer.pal(length(norms), name = 'Set2')\n",
    "# names(col.norms) <- norms\n",
    "# col.gs <- RColorBrewer::brewer.pal(length(names(genesets)), name = 'Dark2')\n",
    "# names(col.gs) <- names(genesets)"
   ]
  },
  {
   "cell_type": "code",
   "execution_count": 60,
   "id": "bb0d9ca9",
   "metadata": {},
   "outputs": [],
   "source": [
    "# options(repr.plot.width=15, repr.plot.height=10)\n",
    "# # pdf(paste0(save.dir, 'rmse/','pvals.pdf'),  \n",
    "# #         width = 10, height = 12)\n",
    "# par(mfrow = c(3,2))\n",
    "# boxplot(rmse.pvals.all, main = 'all pval rmse')\n",
    "# points(rep(seq(length(names(genesets))),length(norms)), unlist(as.vector(t(rmse.pvals.all))), \n",
    "#        pch = 16, cex = 2, col = rep(col.norms, each = length(genesets)))\n",
    "# legend(0.5,0.3,legend = names(col.norms), col = col.norms, pch = 16, ncol = 2, bty = 'n')\n",
    "\n",
    "# boxplot(t(rmse.pvals.all))\n",
    "# points(rep(seq(norms), each = length(genesets)), unlist(as.vector(t(rmse.pvals.all))), \n",
    "#        pch = 16, cex = 2, col = rep(col.gs, length(norms)))\n",
    "# legend(0.5,0.3,legend = names(col.gs), col = col.gs, pch = 16, cex = 1, ncol = 1, bty = 'n')\n",
    "\n",
    "\n",
    "# boxplot(rmse.pvals.reg, main = 'pval rmse for skewed region')\n",
    "# points(rep(seq(length(names(genesets))),length(norms)), unlist(as.vector(t(rmse.pvals.reg))), \n",
    "#        pch = 16, cex = 2, col = rep(col.norms, each = 3))\n",
    "# legend(0.5,0.3,legend = names(col.norms), col = col.norms, pch = 16, ncol = 2, bty = 'n')\n",
    "\n",
    "# boxplot(t(rmse.pvals.reg))\n",
    "# points(rep(seq(norms), each = length(genesets)), unlist(as.vector(t(rmse.pvals.reg))), \n",
    "#        pch = 16, cex = 2, col = rep(col.gs, length(norms)))\n",
    "# legend(0.5,0.3,legend = names(col.gs), col = col.gs, pch = 16, cex = 1, ncol = 1, bty = 'n')\n",
    "\n",
    "\n",
    "# boxplot(rmse.pvals.other, main = 'pval rmse for other regions')\n",
    "# points(rep(seq(length(names(genesets))),length(norms)), unlist(as.vector(t(rmse.pvals.other))), \n",
    "#        pch = 16, cex = 2, col = rep(col.norms, each = 3))\n",
    "# legend(0.5,0.3,legend = names(col.norms), col = col.norms, pch = 16, ncol = 2, bty = 'n')\n",
    "\n",
    "# boxplot(t(rmse.pvals.other))\n",
    "# points(rep(seq(norms), each = length(genesets)), unlist(as.vector(t(rmse.pvals.other))), \n",
    "#        pch = 16, cex = 2, col = rep(col.gs, length(norms)))\n",
    "# legend(0.5,0.3,legend = names(col.gs), col = col.gs, pch = 16, cex = 1, ncol = 1, bty = 'n')\n",
    "\n",
    "# # dev.off()"
   ]
  },
  {
   "cell_type": "markdown",
   "id": "fb26da14",
   "metadata": {},
   "source": [
    "## PVAL FP FN"
   ]
  },
  {
   "cell_type": "code",
   "execution_count": 61,
   "id": "d3077569",
   "metadata": {},
   "outputs": [],
   "source": [
    "dir.create(paste0(save.dir,'pval_FPFN'))"
   ]
  },
  {
   "cell_type": "code",
   "execution_count": 62,
   "id": "4b3b7ff5",
   "metadata": {},
   "outputs": [],
   "source": [
    "fpfn.pvals <- lapply(names(skewed.pvals.adj), function(reg) {\n",
    "    gs <- skewed.pvals.adj[[reg]]\n",
    "    \n",
    "    curr.gs.fpfn <- lapply(names(gs), function(n) {\n",
    "        curr.skewed.pvals <- gs[[n]]\n",
    "        curr.full.pvals <- p.vals.all.adj[[n]]\n",
    "        \n",
    "        curr.genes <- intersect(rownames(curr.skewed.pvals), rownames(curr.full.pvals))\n",
    "        \n",
    "        curr.skewed.pvals <- curr.skewed.pvals[curr.genes,]\n",
    "        curr.full.pvals <- curr.full.pvals[curr.genes,]\n",
    "        \n",
    "        get.pval.fp.fn(curr.skewed.pvals, curr.full.pvals, 0.05)\n",
    "        \n",
    "    })\n",
    "    \n",
    "    names(curr.gs.fpfn) <- names(gs)\n",
    "    curr.gs.fpfn\n",
    "})\n",
    "names(fpfn.pvals) <- names(skewed.pvals.adj)\n",
    "\n",
    "fpfn.rate.pvals.all <- lapply(names(fpfn.pvals), function(reg) {\n",
    "    gs <- fpfn.pvals[[reg]]\n",
    "    \n",
    "    curr.gs.fpfn.rates <- sapply(gs, function(n) {\n",
    "        curr.fp <- n[['false.positive']]\n",
    "        curr.tn <- n[['true.negative']]\n",
    "#         curr.fp.rate <- sum(curr.fp)/length(curr.fp)\n",
    "        curr.fp.rate <- sum(curr.fp)/(sum(curr.fp)+sum(curr.tn))\n",
    "        \n",
    "        curr.fn <- n[['false.negative']]\n",
    "        curr.tp <- n[['true.positive']]\n",
    "#         curr.fn.rate <- sum(curr.fn)/length(curr.fn)\n",
    "        curr.fn.rate <- sum(curr.fn)/(sum(curr.fn)+sum(curr.tp))\n",
    "        \n",
    "        list(fp = curr.fp.rate, fn = curr.fn.rate)\n",
    "    })\n",
    "    \n",
    "    curr.gs.fpfn.rates\n",
    "})\n",
    "names(fpfn.rate.pvals.all) <- names(fpfn.pvals)\n",
    "\n",
    "fpfn.rate.pvals.reg.other <- lapply(names(fpfn.pvals), function(reg) {\n",
    "    gs <- fpfn.pvals[[reg]]\n",
    "    \n",
    "    curr.gs.fpfn.rates <- sapply(gs, function(n) {\n",
    "        \n",
    "        if (reg != 'random'){\n",
    "            curr.reg.fp <- n[['false.positive']][,reg]\n",
    "            curr.reg.fp.rate <- sum(curr.reg.fp)/length(curr.reg.fp)\n",
    "            \n",
    "            curr.reg.fn <- n[['false.negative']][,reg]\n",
    "            curr.reg.fn.rate <- sum(curr.reg.fn)/length(curr.reg.fn)\n",
    "            \n",
    "            curr.other.regs <- colnames(n[['false.positive']]) != reg\n",
    "            \n",
    "            curr.other.fp <- n[['false.positive']][,curr.other.regs]\n",
    "            curr.other.fp.rate <- sum(curr.other.fp)/length(curr.other.fp)\n",
    "            \n",
    "            curr.other.fn <- n[['false.negative']][,curr.other.regs]\n",
    "            curr.other.fn.rate <- sum(curr.other.fn)/length(curr.other.fn)\n",
    "            \n",
    "        } else {\n",
    "            curr.reg.fp.rate <- NA\n",
    "            curr.reg.fn.rate <- NA\n",
    "            curr.other.fp.rate <- NA\n",
    "            curr.other.fn.rate <- NA            \n",
    "        }\n",
    "        \n",
    "        list(fp.reg = curr.reg.fp.rate, fn.reg = curr.reg.fn.rate,\n",
    "            fp.other = curr.other.fp.rate, fn.other = curr.other.fn.rate)\n",
    "        \n",
    "    })\n",
    "    \n",
    "    curr.gs.fpfn.rates\n",
    "    \n",
    "})\n",
    "names(fpfn.rate.pvals.reg.other) <- names(fpfn.pvals)\n",
    "\n",
    "fp.pvals.all <- as.data.frame(sapply(fpfn.rate.pvals.all, function(x) {\n",
    "    unlist(x['fp',])\n",
    "}))\n",
    "fn.pvals.all <- as.data.frame(sapply(fpfn.rate.pvals.all, function(x) {\n",
    "    unlist(x['fn',])\n",
    "}))\n",
    "\n",
    "fp.pvals.reg <- as.data.frame(sapply(fpfn.rate.pvals.reg.other, function(x) {\n",
    "    unlist(x['fp.reg',])\n",
    "}))\n",
    "fn.pvals.reg <- as.data.frame(sapply(fpfn.rate.pvals.reg.other, function(x) {\n",
    "    unlist(x['fn.reg',])\n",
    "}))\n",
    "\n",
    "fp.pvals.other <- as.data.frame(sapply(fpfn.rate.pvals.reg.other, function(x) {\n",
    "    unlist(x['fp.other',])\n",
    "}))\n",
    "fn.pvals.other <- as.data.frame(sapply(fpfn.rate.pvals.reg.other, function(x) {\n",
    "    unlist(x['fn.other',])\n",
    "}))\n"
   ]
  },
  {
   "cell_type": "code",
   "execution_count": 63,
   "id": "5c1a7f02",
   "metadata": {},
   "outputs": [
    {
     "data": {
      "text/html": [
       "<table class=\"dataframe\">\n",
       "<caption>A data.frame: 6 × 3</caption>\n",
       "<thead>\n",
       "\t<tr><th></th><th scope=col>Zone 3</th><th scope=col>Zone 1</th><th scope=col>random</th></tr>\n",
       "\t<tr><th></th><th scope=col>&lt;dbl&gt;</th><th scope=col>&lt;dbl&gt;</th><th scope=col>&lt;dbl&gt;</th></tr>\n",
       "</thead>\n",
       "<tbody>\n",
       "\t<tr><th scope=row>nonorm</th><td>0.000</td><td>0.00000000</td><td>0.00000000</td></tr>\n",
       "\t<tr><th scope=row>libsize</th><td>0.040</td><td>0.16842105</td><td>0.02747253</td></tr>\n",
       "\t<tr><th scope=row>deseq</th><td>0.000</td><td>0.07567568</td><td>0.00000000</td></tr>\n",
       "\t<tr><th scope=row>tmm</th><td>0.005</td><td>0.14893617</td><td>0.01666667</td></tr>\n",
       "\t<tr><th scope=row>area</th><td>0.000</td><td>0.00000000</td><td>0.00000000</td></tr>\n",
       "\t<tr><th scope=row>sct</th><td>0.045</td><td>0.17801047</td><td>0.02747253</td></tr>\n",
       "</tbody>\n",
       "</table>\n"
      ],
      "text/latex": [
       "A data.frame: 6 × 3\n",
       "\\begin{tabular}{r|lll}\n",
       "  & Zone 3 & Zone 1 & random\\\\\n",
       "  & <dbl> & <dbl> & <dbl>\\\\\n",
       "\\hline\n",
       "\tnonorm & 0.000 & 0.00000000 & 0.00000000\\\\\n",
       "\tlibsize & 0.040 & 0.16842105 & 0.02747253\\\\\n",
       "\tdeseq & 0.000 & 0.07567568 & 0.00000000\\\\\n",
       "\ttmm & 0.005 & 0.14893617 & 0.01666667\\\\\n",
       "\tarea & 0.000 & 0.00000000 & 0.00000000\\\\\n",
       "\tsct & 0.045 & 0.17801047 & 0.02747253\\\\\n",
       "\\end{tabular}\n"
      ],
      "text/markdown": [
       "\n",
       "A data.frame: 6 × 3\n",
       "\n",
       "| <!--/--> | Zone 3 &lt;dbl&gt; | Zone 1 &lt;dbl&gt; | random &lt;dbl&gt; |\n",
       "|---|---|---|---|\n",
       "| nonorm | 0.000 | 0.00000000 | 0.00000000 |\n",
       "| libsize | 0.040 | 0.16842105 | 0.02747253 |\n",
       "| deseq | 0.000 | 0.07567568 | 0.00000000 |\n",
       "| tmm | 0.005 | 0.14893617 | 0.01666667 |\n",
       "| area | 0.000 | 0.00000000 | 0.00000000 |\n",
       "| sct | 0.045 | 0.17801047 | 0.02747253 |\n",
       "\n"
      ],
      "text/plain": [
       "        Zone 3 Zone 1     random    \n",
       "nonorm  0.000  0.00000000 0.00000000\n",
       "libsize 0.040  0.16842105 0.02747253\n",
       "deseq   0.000  0.07567568 0.00000000\n",
       "tmm     0.005  0.14893617 0.01666667\n",
       "area    0.000  0.00000000 0.00000000\n",
       "sct     0.045  0.17801047 0.02747253"
      ]
     },
     "metadata": {},
     "output_type": "display_data"
    },
    {
     "data": {
      "text/html": [
       "0.178010471204188"
      ],
      "text/latex": [
       "0.178010471204188"
      ],
      "text/markdown": [
       "0.178010471204188"
      ],
      "text/plain": [
       "[1] 0.1780105"
      ]
     },
     "metadata": {},
     "output_type": "display_data"
    }
   ],
   "source": [
    "fn.pvals.all\n",
    "max(fn.pvals.all)"
   ]
  },
  {
   "cell_type": "code",
   "execution_count": 66,
   "id": "575c299e",
   "metadata": {},
   "outputs": [
    {
     "data": {
      "text/html": [
       "<strong>png:</strong> 2"
      ],
      "text/latex": [
       "\\textbf{png:} 2"
      ],
      "text/markdown": [
       "**png:** 2"
      ],
      "text/plain": [
       "png \n",
       "  2 "
      ]
     },
     "metadata": {},
     "output_type": "display_data"
    },
    {
     "data": {
      "text/html": [
       "<strong>png:</strong> 2"
      ],
      "text/latex": [
       "\\textbf{png:} 2"
      ],
      "text/markdown": [
       "**png:** 2"
      ],
      "text/plain": [
       "png \n",
       "  2 "
      ]
     },
     "metadata": {},
     "output_type": "display_data"
    }
   ],
   "source": [
    "options(repr.plot.width=6, repr.plot.height=7)\n",
    "pdf(paste0(save.dir, 'pval_FPFN/pval_false_negative_rates_all_genesets.pdf'),  \n",
    "    width = 7, height = 8)\n",
    "par(mfrow = c(1,1), mar = c(17.1, 10, 3.1, 2.1))\n",
    "\n",
    "xtcks <- c(0:length(norms.to.include)+1)\n",
    "\n",
    "x <- rep(seq(length(norms.to.include)), each = length(genesets)) # no sctransform sf or no norm sfs\n",
    "y <- as.vector(t(fn.pvals.all[norms.to.include,]))\n",
    "xl <- c(0,max(x)+1)\n",
    "yl <- c(0,0.2)\n",
    "yt <- seq(from = 0, to = 0.2, by = 0.04)\n",
    "\n",
    "curr.col <- rep(col.geneset[colnames(fn.pvals.all)], length(norms.to.include))\n",
    "curr.pch <- rep(c(15:17), length(norms.to.include))\n",
    "\n",
    "plot(x,y, pch = curr.pch, cex = 4, col = scales::alpha(curr.col, 0.7), xlim = xl, ylim = yl, \n",
    "     bg = scales::alpha(col.geneset['random'], 0.7),\n",
    "    xaxt = \"n\", yaxt = \"n\", frame.plot=FALSE, xaxs = 'i', yaxs = 'i',\n",
    "    ylab = '', xlab = '')\n",
    "axis(1, at = c(0,xtcks), cex.axis=2, labels = FALSE)\n",
    "axis(2, at = yt, cex.axis=3, las = 2)\n",
    "text(x = xtcks[1:length(norms.to.include)]+0.15, y = min(yl)-0.005, \n",
    "     labels = norms.names, xpd = NA, srt = 45, cex = 2, pos = 2)\n",
    "title(xlab='Normalization', line=14, cex.lab=fs)\n",
    "title(ylab='False negative rate', line=6, cex.lab=fs)\n",
    "dev.off()\n",
    "\n",
    "pdf(paste0(save.dir, 'pval_FPFN/pval_false_negative_rates_no_random.pdf'),  \n",
    "    width = 7, height = 8)\n",
    "par(mfrow = c(1,1), mar = c(17.1, 10, 3.1, 2.1))\n",
    "\n",
    "gs.to.include <- names(genesets)[1:(length(genesets)-1)]\n",
    "\n",
    "x = rep(seq(length(norms)), each = length(genesets)-1) # no sctransform sf or no norm sfs\n",
    "y = as.vector(t(fn.pvals.all[norms.to.include,1:2]))\n",
    "xl <- c(0,max(x)+1)\n",
    "# yl <- c(0,0.1)\n",
    "# yt <- seq(from = 0, to = 0.1, by = 0.02)\n",
    "\n",
    "curr.col <- rep(col.geneset[gs.to.include], length(norms.to.include)-1)\n",
    "curr.pch <- rep(c(15:16), length(norms.to.include))\n",
    "\n",
    "plot(x,y, pch = curr.pch, cex = 4, col = scales::alpha(curr.col, 0.7), xlim = xl, ylim = yl,\n",
    "    xaxt = \"n\", yaxt = \"n\", frame.plot=FALSE, xaxs = 'i', yaxs = 'i',\n",
    "    ylab = '', xlab = '')\n",
    "axis(1, at = c(0,xtcks), cex.axis=2, labels = FALSE)\n",
    "axis(2, at = yt, cex.axis=3, las = 2)\n",
    "text(x = xtcks[1:length(norms.to.include)]+0.15, y = min(yl)-0.005, \n",
    "     labels = norms.names, xpd = NA, srt = 45, cex = 2, pos = 2)\n",
    "title(xlab='Normalization', line=14, cex.lab=fs)\n",
    "title(ylab='False negative rate', line=6, cex.lab=fs)\n",
    "dev.off()"
   ]
  },
  {
   "cell_type": "code",
   "execution_count": 67,
   "id": "1a41aec7",
   "metadata": {},
   "outputs": [
    {
     "data": {
      "text/html": [
       "<table class=\"dataframe\">\n",
       "<caption>A data.frame: 6 × 3</caption>\n",
       "<thead>\n",
       "\t<tr><th></th><th scope=col>Zone 3</th><th scope=col>Zone 1</th><th scope=col>random</th></tr>\n",
       "\t<tr><th></th><th scope=col>&lt;dbl&gt;</th><th scope=col>&lt;dbl&gt;</th><th scope=col>&lt;dbl&gt;</th></tr>\n",
       "</thead>\n",
       "<tbody>\n",
       "\t<tr><th scope=row>nonorm</th><td>0.000000000</td><td>0.000000000</td><td>0.00000000</td></tr>\n",
       "\t<tr><th scope=row>libsize</th><td>0.000000000</td><td>0.042857143</td><td>0.01834862</td></tr>\n",
       "\t<tr><th scope=row>deseq</th><td>0.000000000</td><td>0.009302326</td><td>0.00000000</td></tr>\n",
       "\t<tr><th scope=row>tmm</th><td>0.000000000</td><td>0.037735849</td><td>0.02727273</td></tr>\n",
       "\t<tr><th scope=row>area</th><td>0.004784689</td><td>0.000000000</td><td>0.00000000</td></tr>\n",
       "\t<tr><th scope=row>sct</th><td>0.015000000</td><td>0.062200957</td><td>0.01834862</td></tr>\n",
       "</tbody>\n",
       "</table>\n"
      ],
      "text/latex": [
       "A data.frame: 6 × 3\n",
       "\\begin{tabular}{r|lll}\n",
       "  & Zone 3 & Zone 1 & random\\\\\n",
       "  & <dbl> & <dbl> & <dbl>\\\\\n",
       "\\hline\n",
       "\tnonorm & 0.000000000 & 0.000000000 & 0.00000000\\\\\n",
       "\tlibsize & 0.000000000 & 0.042857143 & 0.01834862\\\\\n",
       "\tdeseq & 0.000000000 & 0.009302326 & 0.00000000\\\\\n",
       "\ttmm & 0.000000000 & 0.037735849 & 0.02727273\\\\\n",
       "\tarea & 0.004784689 & 0.000000000 & 0.00000000\\\\\n",
       "\tsct & 0.015000000 & 0.062200957 & 0.01834862\\\\\n",
       "\\end{tabular}\n"
      ],
      "text/markdown": [
       "\n",
       "A data.frame: 6 × 3\n",
       "\n",
       "| <!--/--> | Zone 3 &lt;dbl&gt; | Zone 1 &lt;dbl&gt; | random &lt;dbl&gt; |\n",
       "|---|---|---|---|\n",
       "| nonorm | 0.000000000 | 0.000000000 | 0.00000000 |\n",
       "| libsize | 0.000000000 | 0.042857143 | 0.01834862 |\n",
       "| deseq | 0.000000000 | 0.009302326 | 0.00000000 |\n",
       "| tmm | 0.000000000 | 0.037735849 | 0.02727273 |\n",
       "| area | 0.004784689 | 0.000000000 | 0.00000000 |\n",
       "| sct | 0.015000000 | 0.062200957 | 0.01834862 |\n",
       "\n"
      ],
      "text/plain": [
       "        Zone 3      Zone 1      random    \n",
       "nonorm  0.000000000 0.000000000 0.00000000\n",
       "libsize 0.000000000 0.042857143 0.01834862\n",
       "deseq   0.000000000 0.009302326 0.00000000\n",
       "tmm     0.000000000 0.037735849 0.02727273\n",
       "area    0.004784689 0.000000000 0.00000000\n",
       "sct     0.015000000 0.062200957 0.01834862"
      ]
     },
     "metadata": {},
     "output_type": "display_data"
    },
    {
     "data": {
      "text/html": [
       "0.062200956937799"
      ],
      "text/latex": [
       "0.062200956937799"
      ],
      "text/markdown": [
       "0.062200956937799"
      ],
      "text/plain": [
       "[1] 0.06220096"
      ]
     },
     "metadata": {},
     "output_type": "display_data"
    }
   ],
   "source": [
    "fp.pvals.all\n",
    "max(fp.pvals.all)"
   ]
  },
  {
   "cell_type": "code",
   "execution_count": 68,
   "id": "1677cf14",
   "metadata": {
    "scrolled": true
   },
   "outputs": [
    {
     "data": {
      "text/html": [
       "<strong>png:</strong> 2"
      ],
      "text/latex": [
       "\\textbf{png:} 2"
      ],
      "text/markdown": [
       "**png:** 2"
      ],
      "text/plain": [
       "png \n",
       "  2 "
      ]
     },
     "metadata": {},
     "output_type": "display_data"
    },
    {
     "data": {
      "text/html": [
       "<strong>png:</strong> 2"
      ],
      "text/latex": [
       "\\textbf{png:} 2"
      ],
      "text/markdown": [
       "**png:** 2"
      ],
      "text/plain": [
       "png \n",
       "  2 "
      ]
     },
     "metadata": {},
     "output_type": "display_data"
    }
   ],
   "source": [
    "options(repr.plot.width=6, repr.plot.height=7)\n",
    "norms.to.include <- c('libsize', 'sct', 'deseq', 'tmm', 'area', 'nonorm')\n",
    "norms.names <- c('Library Size', 'scTransform', 'DESeq2', 'TMM', 'Cell Area', 'No Normalization')\n",
    "names(norms.names) <- norms.to.include\n",
    "\n",
    "pdf(paste0(save.dir, 'pval_FPFN/pval_false_positive_rates_all_genesets.pdf'),  \n",
    "    width = 7, height = 8)\n",
    "par(mfrow = c(1,1), mar = c(17.1, 10, 3.1, 2.1))\n",
    "\n",
    "xtcks <- c(0:length(norms.to.include)+1)\n",
    "\n",
    "x <- rep(seq(length(norms.to.include)), each = length(genesets)) # no sctransform sf or no norm sfs\n",
    "y <- as.vector(t(fp.pvals.all[norms.to.include,]))\n",
    "xl <- c(0,max(x)+1)\n",
    "yl <- c(0,0.08)\n",
    "yt <- seq(from = 0, to = 0.08, by = 0.01)\n",
    "\n",
    "curr.col <- rep(col.geneset[colnames(fp.pvals.all)], length(norms.to.include))\n",
    "curr.pch <- rep(c(15:17), length(norms.to.include))\n",
    "\n",
    "plot(x,y, pch = curr.pch, cex = 4, col = scales::alpha(curr.col, 0.7), xlim = xl, ylim = yl, \n",
    "     bg = scales::alpha(col.geneset['random'], 0.7),\n",
    "    xaxt = \"n\", yaxt = \"n\", frame.plot=FALSE, xaxs = 'i', yaxs = 'i',\n",
    "    ylab = '', xlab = '')\n",
    "axis(1, at = c(0,xtcks), cex.axis=2, labels = FALSE)\n",
    "axis(2, at = yt, cex.axis=3, las = 2)\n",
    "text(x = xtcks[1:length(norms.to.include)]+0.15, y = min(yl)-0.005, \n",
    "     labels = norms.names, xpd = NA, srt = 45, cex = 2, pos = 2)\n",
    "title(xlab='Normalization', line=14, cex.lab=fs)\n",
    "title(ylab='False positive rate', line=6, cex.lab=fs)\n",
    "dev.off()\n",
    "\n",
    "pdf(paste0(save.dir, 'pval_FPFN/pval_false_positive_rates_no_random.pdf'),  \n",
    "    width = 7, height = 8)\n",
    "par(mfrow = c(1,1), mar = c(17.1, 10, 3.1, 2.1))\n",
    "\n",
    "x = rep(seq(length(norms)), each = length(genesets)-1) # no sctransform sf or no norm sfs\n",
    "y = as.vector(t(fp.pvals.all[norms.to.include,1:2]))\n",
    "xl <- c(0,max(x)+1)\n",
    "# yl <- c(0,0.04)\n",
    "# yt <- seq(from = 0, to = 0.04, by = 0.01)\n",
    "\n",
    "curr.col <- rep(col.geneset[colnames(fp.pvals.all)[1:2]], length(norms.to.include)-1)\n",
    "curr.pch <- rep(c(15:16), length(norms.to.include))\n",
    "\n",
    "plot(x,y, pch = curr.pch, cex = 4, col = scales::alpha(curr.col, 0.7), xlim = xl, ylim = yl,\n",
    "    xaxt = \"n\", yaxt = \"n\", frame.plot=FALSE, xaxs = 'i', yaxs = 'i',\n",
    "    ylab = '', xlab = '')\n",
    "axis(1, at = c(0,xtcks), cex.axis=2, labels = FALSE)\n",
    "axis(2, at = yt, cex.axis=3, las = 2)\n",
    "text(x = xtcks[1:length(norms.to.include)]+0.15, y = min(yl)-0.005, \n",
    "     labels = norms.names, xpd = NA, srt = 45, cex = 2, pos = 2)\n",
    "title(xlab='Normalization', line=14, cex.lab=fs)\n",
    "title(ylab='False positive rate', line=6, cex.lab=fs)\n",
    "dev.off()"
   ]
  },
  {
   "cell_type": "code",
   "execution_count": null,
   "id": "b99c6a94",
   "metadata": {},
   "outputs": [],
   "source": [
    "# options(repr.plot.width=15, repr.plot.height=10)\n",
    "# pdf(paste0(save.dir, 'FP_FN/','pval_false_positive_rates.pdf'),  \n",
    "#         width = 10, height = 12)\n",
    "# par(mfrow = c(3,2))\n",
    "# boxplot(fp.pvals.all, main = 'all pval false positives')\n",
    "# boxplot(t(fp.pvals.all))\n",
    "# boxplot(fp.pvals.reg, main = 'pval false positives for skewed region')\n",
    "# boxplot(t(fp.pvals.reg))\n",
    "# boxplot(fp.pvals.other, main = 'pval false positives for other regions')\n",
    "# boxplot(t(fp.pvals.other))\n",
    "# dev.off()"
   ]
  },
  {
   "cell_type": "code",
   "execution_count": null,
   "id": "106d14e5",
   "metadata": {},
   "outputs": [],
   "source": [
    "# options(repr.plot.width=15, repr.plot.height=10)\n",
    "# pdf(paste0(save.dir, 'FP_FN/','pval_false_negative_rates.pdf'),  \n",
    "#         width = 10, height = 12)\n",
    "# par(mfrow = c(3,2))\n",
    "# boxplot(fn.pvals.all, main = 'all pval false negatives')\n",
    "# boxplot(t(fn.pvals.all))\n",
    "# boxplot(fn.pvals.reg, main = 'pval false negatives for skewed region')\n",
    "# boxplot(t(fn.pvals.reg))\n",
    "# boxplot(fn.pvals.other, main = 'pval false negatives for other regions')\n",
    "# boxplot(t(fn.pvals.other))\n",
    "# dev.off()"
   ]
  },
  {
   "cell_type": "markdown",
   "id": "c12c4960",
   "metadata": {},
   "source": [
    "## COMPARE LOG FCS: SKEWED vs OG"
   ]
  },
  {
   "cell_type": "code",
   "execution_count": 69,
   "id": "fef4c033",
   "metadata": {},
   "outputs": [],
   "source": [
    "dir.create(paste0(save.dir,'logFC_comparison'))"
   ]
  },
  {
   "cell_type": "code",
   "execution_count": 70,
   "id": "aa4df1ce",
   "metadata": {},
   "outputs": [],
   "source": [
    "options(repr.plot.width=15, repr.plot.height=18)\n",
    "set.seed(0)\n",
    "   \n",
    "\n",
    "for (gs in names(genesets)){\n",
    "    pdf(paste0(save.dir, 'logFC_comparison/', gs, '_skewed_vs_all_genes.pdf'),  \n",
    "        width = 30, height = 5)\n",
    "    par(mfrow = c(1,6), mar = c(10.1, 10.1, 6.1, 2.1))\n",
    "\n",
    "    \n",
    "    for (n in norms.to.include){\n",
    "        curr.skewed.lfcs <- skewed.lfcs[[gs]][[n]]\n",
    "        curr.geneset <- rownames(curr.skewed.lfcs)\n",
    "        curr.og.lfcs <- lfcs.all[[n]][curr.geneset,]\n",
    "        \n",
    "        ##reorder for overplotting \n",
    "        o <- sample(length(as.vector(curr.og.lfcs)))\n",
    "        \n",
    "        #change color to highlight roi for region skewed geneset\n",
    "        curr.cols <- colnames(curr.skewed.lfcs)\n",
    "        curr.cols <- leg.col.region[curr.cols]\n",
    "        curr.cols[names(curr.cols) != gs] <- 'grey'\n",
    "#         print(curr.cols)\n",
    "        \n",
    "        #use all colors for random geneset\n",
    "        if (gs == 'random'){\n",
    "            curr.cols <- colnames(curr.skewed.lfcs)\n",
    "            curr.cols <- leg.col.region[curr.cols]\n",
    "            \n",
    "        }\n",
    "        \n",
    "        \n",
    "        curr.cols <- unlist(lapply(curr.cols, function(x) {rep(x, nrow(curr.skewed.lfcs))}))\n",
    "        \n",
    "        curr.x.lim <- range(curr.og.lfcs, na.rm = T)\n",
    "        curr.y.lim <- range(curr.skewed.lfcs, na.rm = T)\n",
    "        \n",
    "        \n",
    "        plot(curr.og.lfcs[o], curr.skewed.lfcs[o], \n",
    "             pch = 16, cex = 1.5, col = scales::alpha(curr.cols[o], 0.5),\n",
    "             cex.lab = 3, cex.axis = 3, cex.main = 3, xaxt=\"n\", yaxt=\"n\",\n",
    "             xlab = '', ylab = '', bty = 'n', xaxs = 'i', yaxs = 'i',\n",
    "#              xlab = paste(n, 'log10(FC) - all genes'), \n",
    "#              ylab = paste(n, 'log10(FC) - skewed genes'), \n",
    "             main = paste(norms.names[n]))        \n",
    "        \n",
    "        ## region highlight colors\n",
    "#         plot(as.vector(curr.og.lfcs), as.vector(curr.skewed.lfcs), \n",
    "#              pch = 16, cex = 1.5, col = scales::alpha(curr.cols, 0.75),\n",
    "#              cex.lab = fs.small, cex.axis = fs.small, cex.main = fs, xaxt=\"n\", yaxt=\"n\",\n",
    "#              xlab = '', ylab = '', bty = 'n', xaxs = 'i', yaxs = 'i',\n",
    "# #              xlab = paste(n, 'log10(FC) - all genes'), \n",
    "# #              ylab = paste(n, 'log10(FC) - skewed genes'), \n",
    "#              main = paste(norms.names[n]))\n",
    "        abline(a=0,b=1,col=scales::alpha('grey', 0.5))\n",
    "        abline(v=0, col=scales::alpha('red', 0.5))\n",
    "        abline(h=0, col=scales::alpha('red', 0.5))\n",
    "        title(xlab=paste('Full gene panel'), line=8, cex.lab=fs)\n",
    "        title(ylab=paste('Skewed gene panel'), line=5, cex.lab=fs)\n",
    "        axis(side = 1, at = curr.x.lim, line = 0, cex.axis = fs, lty = 1, labels = FALSE)\n",
    "        axis(side = 2, at = curr.y.lim, line = 0, cex.axis = fs, lty = 1, labels = FALSE)\n",
    "        axis(side = 1, line = 0, cex.axis = fs.small, lty = 1, labels = FALSE)\n",
    "        axis(side = 2, line = 0, cex.axis = fs.small, lty = 1, labels = FALSE)\n",
    "        axis(side = 1, line = 2.5, cex.axis = fs.small, lty = 0)\n",
    "        axis(side = 2, line = 0.5, cex.axis = fs.small, lty = 0)\n",
    "        abline(a=0,b=1,col='red')\n",
    "        abline(v=0, col='black')\n",
    "        abline(h=0, col='black')\n",
    "        abline(v=c(-0.25,0.25), col=scales::alpha('grey',0.5))\n",
    "        abline(h=c(-0.25,0.25), col=scales::alpha('grey',0.5))\n",
    "        \n",
    "#         ##highlight examples with ventricle skewed geneset on libsize plot\n",
    "#         if (gs=='ventricles'){\n",
    "#             eg.points.x <- sapply(seq_along(test.genes), function(i) {\n",
    "#                 curr.og.lfcs[test.genes[i], test.regions[i]]})\n",
    "#             eg.points.y <- sapply(seq_along(test.genes), function(i) {\n",
    "#                 curr.skewed.lfcs[test.genes[i], test.regions[i]]})\n",
    "            \n",
    "#             points(eg.points.x, eg.points.y, \n",
    "#                   pch = 16, cex = 3, col = 'black')\n",
    "#             if (n=='deseq'){\n",
    "#                 eg.points.y[1] <- -1*eg.points.y[1]-1\n",
    "#             }\n",
    "# #             text(eg.points.x+1.5, eg.points.y+0.5, labels = test.labels, cex = 3)\n",
    "#         }\n",
    "\n",
    "        \n",
    "    }\n",
    "    dev.off()\n",
    "    \n",
    "}\n",
    "\n"
   ]
  },
  {
   "cell_type": "code",
   "execution_count": null,
   "id": "ef109722",
   "metadata": {},
   "outputs": [],
   "source": []
  },
  {
   "cell_type": "code",
   "execution_count": null,
   "id": "8d07fde3",
   "metadata": {},
   "outputs": [],
   "source": [
    "# cosmx.norm.data <- list(all.norms = all.norms,\n",
    "#                           skewed.norms = skewed.norms,\n",
    "#                           meta = meta[colnames(all.norms$nonorm),])"
   ]
  },
  {
   "cell_type": "code",
   "execution_count": null,
   "id": "5875e66e",
   "metadata": {},
   "outputs": [],
   "source": [
    "# saveRDS(object = cosmx.norm.data, file = 'cosmx_norm_data.rds')"
   ]
  },
  {
   "cell_type": "markdown",
   "id": "6908ddae",
   "metadata": {},
   "source": [
    "### RMSE logFCs"
   ]
  },
  {
   "cell_type": "code",
   "execution_count": null,
   "id": "23654a14",
   "metadata": {},
   "outputs": [],
   "source": [
    "# rmse.lfcs <- lapply(names(skewed.lfcs), function(reg) {\n",
    "#     print(reg)\n",
    "#     gs <- skewed.lfcs[[reg]]\n",
    "    \n",
    "#     curr.gs.rmse <- sapply(names(gs), function(n) {\n",
    "#         curr.skewed.lfcs <- gs[[n]]\n",
    "#         curr.full.lfcs <- lfcs.all[[n]]\n",
    "        \n",
    "#         curr.genes <- intersect(rownames(curr.skewed.lfcs), rownames(curr.full.lfcs))\n",
    "        \n",
    "#         curr.skewed.lfcs <- curr.skewed.lfcs[curr.genes,]\n",
    "#         curr.full.lfcs <- curr.full.lfcs[curr.genes,]\n",
    "        \n",
    "#         all <- rmse(as.vector(curr.skewed.lfcs), as.vector(curr.full.lfcs))\n",
    "#         if (reg != 'random'){\n",
    "#             curr.reg <- rmse(as.vector(curr.skewed.lfcs[,reg]), as.vector(curr.full.lfcs[,reg]))\n",
    "#             curr.other.regs <- colnames(curr.skewed.lfcs) != reg\n",
    "#             curr.other <- rmse(as.vector(curr.skewed.lfcs[,curr.other.regs]), as.vector(curr.full.lfcs[,curr.other.regs]))   \n",
    "#         } else {\n",
    "#             curr.reg = NA\n",
    "#             curr.other = NA\n",
    "#         }\n",
    "        \n",
    "#         list(all = all,\n",
    "#             reg = curr.reg,\n",
    "#             other = curr.other)        \n",
    "        \n",
    "        \n",
    "#     })\n",
    "#     names(curr.gs.rmse) <- names(gs)\n",
    "#     curr.gs.rmse\n",
    "    \n",
    "# })\n",
    "# names(rmse.lfcs) <- names(skewed.lfcs)\n",
    "\n",
    "# rmse.lfcs.all <- as.data.frame(sapply(rmse.lfcs, function(gs) {\n",
    "#     unlist(gs['all',])\n",
    "# }))\n",
    "\n",
    "# rmse.lfcs.reg <- as.data.frame(sapply(rmse.lfcs, function(gs) {\n",
    "#     unlist(gs['reg',])\n",
    "# }))\n",
    "\n",
    "# rmse.lfcs.other <- as.data.frame(sapply(rmse.lfcs, function(gs) {\n",
    "#     unlist(gs['other',])\n",
    "# }))                    \n",
    "                    \n",
    "                    "
   ]
  },
  {
   "cell_type": "code",
   "execution_count": null,
   "id": "34d5bc30",
   "metadata": {},
   "outputs": [],
   "source": [
    "# options(repr.plot.width=15, repr.plot.height=10)\n",
    "# pdf(paste0(save.dir, 'rmse/','logFCs.pdf'),  \n",
    "#         width = 10, height = 12)\n",
    "# par(mfrow = c(3,2))\n",
    "# boxplot(rmse.lfcs.all, main = 'all lfc rmse')\n",
    "# boxplot(t(rmse.lfcs.all))\n",
    "# boxplot(rmse.lfcs.reg, main = 'lfc rmse for skewed region')\n",
    "# boxplot(t(rmse.lfcs.reg))\n",
    "# boxplot(rmse.lfcs.other, main = 'lfc rmse for other regions')\n",
    "# boxplot(t(rmse.lfcs.other))\n",
    "# dev.off()"
   ]
  },
  {
   "cell_type": "markdown",
   "id": "9f74b2bf",
   "metadata": {},
   "source": [
    "## LFC Switch Rates"
   ]
  },
  {
   "cell_type": "code",
   "execution_count": 71,
   "id": "9ff56b67",
   "metadata": {},
   "outputs": [],
   "source": [
    "dir.create(paste0(save.dir,'lfc_switch_rates/'))"
   ]
  },
  {
   "cell_type": "code",
   "execution_count": 72,
   "id": "6638f17b",
   "metadata": {},
   "outputs": [],
   "source": [
    "fpfn.lfcs <- lapply(names(skewed.lfcs), function(reg) {\n",
    "    gs <- skewed.lfcs[[reg]]\n",
    "    \n",
    "    curr.gs.fpfn <- lapply(names(gs), function(n) {\n",
    "        curr.skewed.lfcs <- gs[[n]]\n",
    "        curr.full.lfcs <- lfcs.all[[n]]\n",
    "        \n",
    "        curr.genes <- intersect(rownames(curr.skewed.lfcs), rownames(curr.full.lfcs))\n",
    "        \n",
    "        curr.skewed.lfcs <- curr.skewed.lfcs[curr.genes,]\n",
    "        curr.full.lfcs <- curr.full.lfcs[curr.genes,]\n",
    "        \n",
    "        all.fpnfn <- get.lfcs.fp.fn(curr.skewed.lfcs, curr.full.lfcs)\n",
    "        \n",
    "    })\n",
    "    \n",
    "    names(curr.gs.fpfn) <- names(gs)\n",
    "    curr.gs.fpfn\n",
    "    \n",
    "})\n",
    "names(fpfn.lfcs) <- names(skewed.lfcs)\n",
    "\n",
    "fpfn.rate.lfcs.all <- lapply(names(fpfn.lfcs), function(reg) {\n",
    "    gs <- fpfn.lfcs[[reg]]\n",
    "    \n",
    "    curr.gs.fpfn.rates <- sapply(gs, function(n) {\n",
    "        curr.fp <- n[['false.positive']]\n",
    "        curr.tn <- n[['true.negative']]\n",
    "#         curr.fp.rate <- sum(curr.fp)/(length(curr.fp))\n",
    "        curr.fp.rate <- sum(curr.fp)/(sum(curr.fp)+sum(curr.tn))\n",
    "        \n",
    "        curr.fn <- n[['false.negative']]\n",
    "        curr.tp <- n[['true.positive']]\n",
    "#         curr.fn.rate <- sum(curr.fn)/(length(curr.fn))\n",
    "        curr.fn.rate <- sum(curr.fn)/(sum(curr.fn)+sum(curr.tp))\n",
    "        \n",
    "        list(fp = curr.fp.rate, fn = curr.fn.rate)\n",
    "        \n",
    "    })\n",
    "    \n",
    "    curr.gs.fpfn.rates\n",
    "})\n",
    "names(fpfn.rate.lfcs.all) <- names(fpfn.lfcs)\n",
    "\n",
    "fpfn.rate.lfcs.reg.other <- lapply(names(fpfn.lfcs), function(reg) {\n",
    "    gs <- fpfn.lfcs[[reg]]\n",
    "    \n",
    "    curr.gs.fpfn.rates <- sapply(gs, function(n) {\n",
    "        \n",
    "        if (reg != 'random'){\n",
    "            curr.reg.fp <- n[['false.positive']][,reg]\n",
    "            curr.reg.fp.rate <- sum(curr.reg.fp)/length(curr.reg.fp)\n",
    "            \n",
    "            curr.reg.fn <- n[['false.negative']][,reg]\n",
    "            curr.reg.fn.rate <- sum(curr.reg.fn)/length(curr.reg.fn)   \n",
    "            \n",
    "            curr.other.regs <- colnames(n[['false.positive']]) != reg\n",
    "            \n",
    "            curr.other.fp <- n[['false.positive']][,curr.other.regs]\n",
    "            curr.other.fp.rate <- sum(curr.other.fp)/length(curr.other.fp)\n",
    "            \n",
    "            curr.other.fn <- n[['false.negative']][,curr.other.regs]\n",
    "            curr.other.fn.rate <- sum(curr.other.fn)/length(curr.other.fn) \n",
    "            \n",
    "        } else {\n",
    "            curr.reg.fp.rate <- NA\n",
    "            curr.reg.fn.rate <- NA\n",
    "            curr.other.fp.rate <- NA\n",
    "            curr.other.fn.rate <- NA\n",
    "        }\n",
    "        \n",
    "        list(fp.reg = curr.reg.fp.rate, fn.reg = curr.reg.fn.rate,\n",
    "            fp.other = curr.other.fp.rate, fn.other = curr.other.fn.rate)\n",
    "        \n",
    "    })\n",
    "    \n",
    "    curr.gs.fpfn.rates\n",
    "})\n",
    "names(fpfn.rate.lfcs.reg.other) <- names(fpfn.lfcs)\n",
    "\n",
    "fp.lfcs.all <- as.data.frame(sapply(fpfn.rate.lfcs.all, function(x) {\n",
    "    unlist(x['fp',])\n",
    "}))\n",
    "fn.lfcs.all <- as.data.frame(sapply(fpfn.rate.lfcs.all, function(x) {\n",
    "    unlist(x['fn',])\n",
    "}))\n",
    "\n",
    "fp.lfcs.reg <- as.data.frame(sapply(fpfn.rate.lfcs.reg.other, function(x) {\n",
    "    unlist(x['fp.reg',])\n",
    "}))\n",
    "fn.lfcs.reg <- as.data.frame(sapply(fpfn.rate.lfcs.reg.other, function(x) {\n",
    "    unlist(x['fn.reg',])\n",
    "}))\n",
    "\n",
    "fp.lfcs.other <- as.data.frame(sapply(fpfn.rate.lfcs.reg.other, function(x) {\n",
    "    unlist(x['fp.other',])\n",
    "}))\n",
    "fn.lfcs.other <- as.data.frame(sapply(fpfn.rate.lfcs.reg.other, function(x) {\n",
    "    unlist(x['fn.other',])\n",
    "}))"
   ]
  },
  {
   "cell_type": "code",
   "execution_count": 73,
   "id": "091627c6",
   "metadata": {},
   "outputs": [
    {
     "data": {
      "text/html": [
       "<table class=\"dataframe\">\n",
       "<caption>A data.frame: 6 × 3</caption>\n",
       "<thead>\n",
       "\t<tr><th></th><th scope=col>Zone 3</th><th scope=col>Zone 1</th><th scope=col>random</th></tr>\n",
       "\t<tr><th></th><th scope=col>&lt;dbl&gt;</th><th scope=col>&lt;dbl&gt;</th><th scope=col>&lt;dbl&gt;</th></tr>\n",
       "</thead>\n",
       "<tbody>\n",
       "\t<tr><th scope=row>nonorm</th><td>0.000</td><td>0.005</td><td>0.000</td></tr>\n",
       "\t<tr><th scope=row>libsize</th><td>0.145</td><td>0.630</td><td>0.220</td></tr>\n",
       "\t<tr><th scope=row>deseq</th><td>0.000</td><td>0.010</td><td>0.005</td></tr>\n",
       "\t<tr><th scope=row>tmm</th><td>0.130</td><td>0.505</td><td>0.265</td></tr>\n",
       "\t<tr><th scope=row>area</th><td>0.005</td><td>0.000</td><td>0.000</td></tr>\n",
       "\t<tr><th scope=row>sct</th><td>0.205</td><td>0.390</td><td>0.080</td></tr>\n",
       "</tbody>\n",
       "</table>\n"
      ],
      "text/latex": [
       "A data.frame: 6 × 3\n",
       "\\begin{tabular}{r|lll}\n",
       "  & Zone 3 & Zone 1 & random\\\\\n",
       "  & <dbl> & <dbl> & <dbl>\\\\\n",
       "\\hline\n",
       "\tnonorm & 0.000 & 0.005 & 0.000\\\\\n",
       "\tlibsize & 0.145 & 0.630 & 0.220\\\\\n",
       "\tdeseq & 0.000 & 0.010 & 0.005\\\\\n",
       "\ttmm & 0.130 & 0.505 & 0.265\\\\\n",
       "\tarea & 0.005 & 0.000 & 0.000\\\\\n",
       "\tsct & 0.205 & 0.390 & 0.080\\\\\n",
       "\\end{tabular}\n"
      ],
      "text/markdown": [
       "\n",
       "A data.frame: 6 × 3\n",
       "\n",
       "| <!--/--> | Zone 3 &lt;dbl&gt; | Zone 1 &lt;dbl&gt; | random &lt;dbl&gt; |\n",
       "|---|---|---|---|\n",
       "| nonorm | 0.000 | 0.005 | 0.000 |\n",
       "| libsize | 0.145 | 0.630 | 0.220 |\n",
       "| deseq | 0.000 | 0.010 | 0.005 |\n",
       "| tmm | 0.130 | 0.505 | 0.265 |\n",
       "| area | 0.005 | 0.000 | 0.000 |\n",
       "| sct | 0.205 | 0.390 | 0.080 |\n",
       "\n"
      ],
      "text/plain": [
       "        Zone 3 Zone 1 random\n",
       "nonorm  0.000  0.005  0.000 \n",
       "libsize 0.145  0.630  0.220 \n",
       "deseq   0.000  0.010  0.005 \n",
       "tmm     0.130  0.505  0.265 \n",
       "area    0.005  0.000  0.000 \n",
       "sct     0.205  0.390  0.080 "
      ]
     },
     "metadata": {},
     "output_type": "display_data"
    },
    {
     "data": {
      "text/html": [
       "0.63"
      ],
      "text/latex": [
       "0.63"
      ],
      "text/markdown": [
       "0.63"
      ],
      "text/plain": [
       "[1] 0.63"
      ]
     },
     "metadata": {},
     "output_type": "display_data"
    }
   ],
   "source": [
    "fn.lfcs.all\n",
    "max(fn.lfcs.all)"
   ]
  },
  {
   "cell_type": "code",
   "execution_count": 75,
   "id": "23cf60b8",
   "metadata": {},
   "outputs": [
    {
     "data": {
      "text/html": [
       "<strong>png:</strong> 2"
      ],
      "text/latex": [
       "\\textbf{png:} 2"
      ],
      "text/markdown": [
       "**png:** 2"
      ],
      "text/plain": [
       "png \n",
       "  2 "
      ]
     },
     "metadata": {},
     "output_type": "display_data"
    },
    {
     "data": {
      "text/html": [
       "<strong>png:</strong> 2"
      ],
      "text/latex": [
       "\\textbf{png:} 2"
      ],
      "text/markdown": [
       "**png:** 2"
      ],
      "text/plain": [
       "png \n",
       "  2 "
      ]
     },
     "metadata": {},
     "output_type": "display_data"
    }
   ],
   "source": [
    "options(repr.plot.width=6, repr.plot.height=7)\n",
    "pdf(paste0(save.dir, 'lfc_switch_rates/lfc_switched_negative_rates_all_genesets.pdf'),  \n",
    "    width = 7, height = 8)\n",
    "par(mfrow = c(1,1), mar = c(17.1, 10, 3.1, 2.1))\n",
    "\n",
    "xtcks <- c(0:length(norms.to.include)+1)\n",
    "\n",
    "x <- rep(seq(length(norms.to.include)), each = length(genesets)) # no sctransform sf or no norm sfs\n",
    "y <- as.vector(t(fn.lfcs.all[norms.to.include,]))\n",
    "xl <- c(0,max(x)+1)\n",
    "yl <- c(0,0.7)\n",
    "yt <- seq(from = 0, to = 0.7, by = 0.1)\n",
    "\n",
    "curr.col <- rep(col.geneset[colnames(fn.lfcs.all)], length(norms.to.include))\n",
    "curr.pch <- rep(c(15:17), length(norms.to.include))\n",
    "\n",
    "plot(x,y, pch = curr.pch, cex = 4, col = scales::alpha(curr.col, 0.7), xlim = xl, ylim = yl, \n",
    "     bg = scales::alpha(col.geneset['random'], 0.7),\n",
    "    xaxt = \"n\", yaxt = \"n\", frame.plot=FALSE, xaxs = 'i', yaxs = 'i',\n",
    "    ylab = '', xlab = '')\n",
    "axis(1, at = c(0,xtcks), cex.axis=2, labels = FALSE)\n",
    "axis(2, at = yt, cex.axis=3, las = 2)\n",
    "text(x = xtcks[1:length(norms.to.include)]+0.15, y = min(yl)-0.02, \n",
    "     labels = norms.names, xpd = NA, srt = 45, cex = 2, pos = 2)\n",
    "title(xlab='Normalization', line=14, cex.lab=fs)\n",
    "title(ylab='Swtiched negative rate', line=6, cex.lab=fs)\n",
    "dev.off()\n",
    "\n",
    "pdf(paste0(save.dir, 'lfc_switch_rates/lfc_switched_negative_rates_no_random.pdf'),  \n",
    "    width = 7, height = 8)\n",
    "par(mfrow = c(1,1), mar = c(17.1, 10, 3.1, 2.1))\n",
    "\n",
    "x = rep(seq(length(norms)), each = length(genesets)-1) # no sctransform sf or no norm sfs\n",
    "y = as.vector(t(fn.lfcs.all[norms.to.include,1:2]))\n",
    "xl <- c(0,max(x)+1)\n",
    "# yl <- c(0,0.36)\n",
    "# yt <- seq(from = 0, to = 0.36, by = 0.04)\n",
    "\n",
    "curr.col <- rep(col.geneset[colnames(fn.lfcs.all)[1:2]], length(norms.to.include)-1)\n",
    "curr.pch <- rep(c(15:16), length(norms.to.include))\n",
    "\n",
    "plot(x,y, pch = curr.pch, cex = 4, col = scales::alpha(curr.col, 0.7), xlim = xl, ylim = yl,\n",
    "    xaxt = \"n\", yaxt = \"n\", frame.plot=FALSE, xaxs = 'i', yaxs = 'i',\n",
    "    ylab = '', xlab = '')\n",
    "axis(1, at = c(0,xtcks), cex.axis=2, labels = FALSE)\n",
    "axis(2, at = yt, cex.axis=3, las = 2)\n",
    "text(x = xtcks[1:length(norms.to.include)]+0.15, y = min(yl)-0.02, \n",
    "     labels = norms.names, xpd = NA, srt = 45, cex = 2, pos = 2)\n",
    "title(xlab='Normalization', line=14, cex.lab=fs)\n",
    "title(ylab='Switched negative rate', line=6, cex.lab=fs)\n",
    "dev.off()"
   ]
  },
  {
   "cell_type": "code",
   "execution_count": 76,
   "id": "1d23c819",
   "metadata": {},
   "outputs": [
    {
     "data": {
      "text/html": [
       "<table class=\"dataframe\">\n",
       "<caption>A data.frame: 6 × 3</caption>\n",
       "<thead>\n",
       "\t<tr><th></th><th scope=col>Zone 3</th><th scope=col>Zone 1</th><th scope=col>random</th></tr>\n",
       "\t<tr><th></th><th scope=col>&lt;dbl&gt;</th><th scope=col>&lt;dbl&gt;</th><th scope=col>&lt;dbl&gt;</th></tr>\n",
       "</thead>\n",
       "<tbody>\n",
       "\t<tr><th scope=row>nonorm</th><td>0.000</td><td>0.005</td><td>0.000</td></tr>\n",
       "\t<tr><th scope=row>libsize</th><td>0.145</td><td>0.630</td><td>0.220</td></tr>\n",
       "\t<tr><th scope=row>deseq</th><td>0.000</td><td>0.010</td><td>0.005</td></tr>\n",
       "\t<tr><th scope=row>tmm</th><td>0.130</td><td>0.505</td><td>0.265</td></tr>\n",
       "\t<tr><th scope=row>area</th><td>0.005</td><td>0.000</td><td>0.000</td></tr>\n",
       "\t<tr><th scope=row>sct</th><td>0.205</td><td>0.390</td><td>0.080</td></tr>\n",
       "</tbody>\n",
       "</table>\n"
      ],
      "text/latex": [
       "A data.frame: 6 × 3\n",
       "\\begin{tabular}{r|lll}\n",
       "  & Zone 3 & Zone 1 & random\\\\\n",
       "  & <dbl> & <dbl> & <dbl>\\\\\n",
       "\\hline\n",
       "\tnonorm & 0.000 & 0.005 & 0.000\\\\\n",
       "\tlibsize & 0.145 & 0.630 & 0.220\\\\\n",
       "\tdeseq & 0.000 & 0.010 & 0.005\\\\\n",
       "\ttmm & 0.130 & 0.505 & 0.265\\\\\n",
       "\tarea & 0.005 & 0.000 & 0.000\\\\\n",
       "\tsct & 0.205 & 0.390 & 0.080\\\\\n",
       "\\end{tabular}\n"
      ],
      "text/markdown": [
       "\n",
       "A data.frame: 6 × 3\n",
       "\n",
       "| <!--/--> | Zone 3 &lt;dbl&gt; | Zone 1 &lt;dbl&gt; | random &lt;dbl&gt; |\n",
       "|---|---|---|---|\n",
       "| nonorm | 0.000 | 0.005 | 0.000 |\n",
       "| libsize | 0.145 | 0.630 | 0.220 |\n",
       "| deseq | 0.000 | 0.010 | 0.005 |\n",
       "| tmm | 0.130 | 0.505 | 0.265 |\n",
       "| area | 0.005 | 0.000 | 0.000 |\n",
       "| sct | 0.205 | 0.390 | 0.080 |\n",
       "\n"
      ],
      "text/plain": [
       "        Zone 3 Zone 1 random\n",
       "nonorm  0.000  0.005  0.000 \n",
       "libsize 0.145  0.630  0.220 \n",
       "deseq   0.000  0.010  0.005 \n",
       "tmm     0.130  0.505  0.265 \n",
       "area    0.005  0.000  0.000 \n",
       "sct     0.205  0.390  0.080 "
      ]
     },
     "metadata": {},
     "output_type": "display_data"
    },
    {
     "data": {
      "text/html": [
       "0.63"
      ],
      "text/latex": [
       "0.63"
      ],
      "text/markdown": [
       "0.63"
      ],
      "text/plain": [
       "[1] 0.63"
      ]
     },
     "metadata": {},
     "output_type": "display_data"
    }
   ],
   "source": [
    "fp.lfcs.all\n",
    "max(fp.lfcs.all)"
   ]
  },
  {
   "cell_type": "code",
   "execution_count": 78,
   "id": "471dc48c",
   "metadata": {
    "scrolled": true
   },
   "outputs": [
    {
     "data": {
      "text/html": [
       "<strong>png:</strong> 2"
      ],
      "text/latex": [
       "\\textbf{png:} 2"
      ],
      "text/markdown": [
       "**png:** 2"
      ],
      "text/plain": [
       "png \n",
       "  2 "
      ]
     },
     "metadata": {},
     "output_type": "display_data"
    },
    {
     "data": {
      "text/html": [
       "<strong>png:</strong> 2"
      ],
      "text/latex": [
       "\\textbf{png:} 2"
      ],
      "text/markdown": [
       "**png:** 2"
      ],
      "text/plain": [
       "png \n",
       "  2 "
      ]
     },
     "metadata": {},
     "output_type": "display_data"
    }
   ],
   "source": [
    "options(repr.plot.width=6, repr.plot.height=7)\n",
    "pdf(paste0(save.dir, 'lfc_switch_rates/lfc_switched_positive_rates_all_genesets.pdf'),  \n",
    "    width = 7, height = 8)\n",
    "par(mfrow = c(1,1), mar = c(17.1, 10, 3.1, 2.1))\n",
    "\n",
    "xtcks <- c(0:length(norms.to.include)+1)\n",
    "\n",
    "x <- rep(seq(length(norms.to.include)), each = length(genesets)) # no sctransform sf or no norm sfs\n",
    "y <- as.vector(t(fp.lfcs.all[norms.to.include,]))\n",
    "xl <- c(0,max(x)+1)\n",
    "yl <- c(0,0.7)\n",
    "yt <- seq(from = 0, to = 0.7, by = 0.1)\n",
    "\n",
    "curr.col <- rep(col.geneset[colnames(fp.lfcs.all)], length(norms.to.include))\n",
    "curr.pch <- rep(c(15:17), length(norms.to.include))\n",
    "\n",
    "plot(x,y, pch = curr.pch, cex = 4, col = scales::alpha(curr.col, 0.7), xlim = xl, ylim = yl, \n",
    "     bg = scales::alpha(col.geneset['random'], 0.7),\n",
    "    xaxt = \"n\", yaxt = \"n\", frame.plot=FALSE, xaxs = 'i', yaxs = 'i',\n",
    "    ylab = '', xlab = '')\n",
    "axis(1, at = c(0,xtcks), cex.axis=2, labels = FALSE)\n",
    "axis(2, at = yt, cex.axis=3, las = 2)\n",
    "text(x = xtcks[1:length(norms.to.include)]+0.15, y = min(yl)-0.02, \n",
    "     labels = norms.names, xpd = NA, srt = 45, cex = 2, pos = 2)\n",
    "title(xlab='Normalization', line=14, cex.lab=fs)\n",
    "title(ylab='Switched positive rate', line=6, cex.lab=fs)\n",
    "dev.off()\n",
    "\n",
    "pdf(paste0(save.dir, 'lfc_switch_rates/lfc_switched_postive_rates_no_random.pdf'),  \n",
    "    width = 7, height = 8)\n",
    "par(mfrow = c(1,1), mar = c(17.1, 10, 3.1, 2.1))\n",
    "\n",
    "x = rep(seq(length(norms)), each = length(genesets)-1) # no sctransform sf or no norm sfs\n",
    "y = as.vector(t(fp.lfcs.all[norms.to.include,1:2]))\n",
    "xl <- c(0,max(x)+1)\n",
    "# yl <- c(0,0.36)\n",
    "# yt <- seq(from = 0, to = 0.36, by = 0.04)\n",
    "\n",
    "curr.col <- rep(col.geneset[colnames(fp.lfcs.all)[1:2]], length(norms.to.include)-1)\n",
    "curr.pch <- rep(c(15:16), length(norms.to.include))\n",
    "\n",
    "plot(x,y, pch = curr.pch, cex = 4, col = scales::alpha(curr.col, 0.7), xlim = xl, ylim = yl,\n",
    "    xaxt = \"n\", yaxt = \"n\", frame.plot=FALSE, xaxs = 'i', yaxs = 'i',\n",
    "    ylab = '', xlab = '')\n",
    "axis(1, at = c(0,xtcks), cex.axis=2, labels = FALSE)\n",
    "axis(2, at = yt, cex.axis=3, las = 2)\n",
    "text(x = xtcks[1:length(norms.to.include)]+0.15, y = min(yl)-0.02, \n",
    "     labels = norms.names, xpd = NA, srt = 45, cex = 2, pos = 2)\n",
    "title(xlab='Normalization', line=14, cex.lab=fs)\n",
    "title(ylab='Switched positive rate', line=6, cex.lab=fs)\n",
    "dev.off()"
   ]
  },
  {
   "cell_type": "code",
   "execution_count": 79,
   "id": "89c78ae4",
   "metadata": {},
   "outputs": [],
   "source": [
    "cosmx.errs <- list(pval.fps = fp.pvals.all,\n",
    "             pval.fns = fn.pvals.all,\n",
    "             lfcs.fps = fp.lfcs.all,\n",
    "             lfcs.fns = fn.lfcs.all)"
   ]
  },
  {
   "cell_type": "code",
   "execution_count": 80,
   "id": "7e786747",
   "metadata": {},
   "outputs": [],
   "source": [
    "saveRDS(cosmx.errs, file = 'cosmx_errs_updated.RDS')"
   ]
  },
  {
   "cell_type": "markdown",
   "id": "28c457c5",
   "metadata": {},
   "source": [
    "## SPATIALLY VARIABLE GENES"
   ]
  },
  {
   "cell_type": "code",
   "execution_count": 81,
   "id": "14634cd1",
   "metadata": {},
   "outputs": [],
   "source": [
    "dir.create(paste0(save.dir,'svg_pval_comparison'))"
   ]
  },
  {
   "cell_type": "code",
   "execution_count": 82,
   "id": "ba0c7008",
   "metadata": {},
   "outputs": [],
   "source": [
    "full.all.pvals <- sapply(full.svgs, function(i) {i[,'padj']})"
   ]
  },
  {
   "cell_type": "code",
   "execution_count": 83,
   "id": "d838df34",
   "metadata": {},
   "outputs": [],
   "source": [
    "options(repr.plot.width=20, repr.plot.height=8)\n",
    "\n",
    "norms.to.include <- c('libsize', 'sct', 'deseq', 'tmm', 'area', 'nonorm')\n",
    "norms.names <- c('Library Size', 'scTransform', 'DESeq2', 'TMM', 'Cell Area', 'No Normalization')\n",
    "names(norms.names) <- norms.to.include\n",
    "\n",
    "for (gs in names(genesets)){\n",
    "    pdf(paste0(save.dir, 'svg_pval_comparison/', gs, '_skewed_vs_all_genes_log.pdf'),  \n",
    "        width = 30, height = 5)\n",
    "    par(mfrow = c(1,6), mar = c(10.1, 10.1, 6.1, 2.1))\n",
    "    \n",
    "    curr.x.lim <- range(-1*log10(full.all.pvals), finite = TRUE)\n",
    "    curr.skewed.all.pvals <- sapply(skewed.svgs[[gs]], function(i) {i[,'padj']})\n",
    "    curr.y.lim <- range(-1*log10(curr.skewed.all.pvals), finite = TRUE)    \n",
    "\n",
    "    \n",
    "    for (n in norms.to.include){\n",
    "        curr.skewed.pvalsAdj <- -1*log10(skewed.svgs[[gs]][[n]][,'padj'])\n",
    "        curr.geneset <- names(curr.skewed.pvalsAdj)\n",
    "        curr.og.pvalsAdj <- -1*log10(full.svgs[[n]][curr.geneset,'padj'])\n",
    "        \n",
    "        \n",
    "        plot(curr.og.pvalsAdj, curr.skewed.pvalsAdj, \n",
    "             pch = 16, cex = 1.5, col = 'black',\n",
    "             xlim = curr.x.lim, ylim = curr.y.lim,\n",
    "             cex.lab = fs.small, cex.axis = fs.small, cex.main = fs, xaxt=\"n\", yaxt=\"n\",\n",
    "             xlab = '', ylab = '', bty = 'n', xaxs = 'i', yaxs = 'i',\n",
    "             main = paste(norms.names[n]))\n",
    "        title(xlab=expression(paste('Full gene panel')), line=8, cex.lab=fs)\n",
    "        title(ylab=paste('Skewed gene panel'), line=5, cex.lab=fs)\n",
    "        axis(side = 1, at = curr.x.lim, line = 0, cex.axis = fs, lty = 1, labels = FALSE)\n",
    "        axis(side = 2, at = curr.y.lim, line = 0, cex.axis = fs, lty = 1, labels = FALSE)        \n",
    "        axis(side = 1, line = 0, cex.axis = fs.small, lty = 1, labels = FALSE)\n",
    "        axis(side = 2, line = 0, cex.axis = fs.small, lty = 1, labels = FALSE)\n",
    "        axis(side = 1, line = 2.5, cex.axis = fs.small, lty = 0)\n",
    "        axis(side = 2, line = 0.5, cex.axis = fs.small, lty = 0)\n",
    "#         abline(v=0.05, h=0.05,col='grey')\n",
    "        abline(a=0,b=1,col='red')\n",
    "        \n",
    "        ##highlight examples with ventricle skewed geneset on libsize plot\n",
    "#         if (gs=='ventricles'){\n",
    "#             eg.points.x <- sapply(seq_along(test.genes), function(i) {\n",
    "#                 curr.og.pvalsAdj[test.genes[i], test.regions[i]]})\n",
    "#             eg.points.y <- sapply(seq_along(test.genes), function(i) {\n",
    "#                 curr.skewed.pvalsAdj[test.genes[i], test.regions[i]]})\n",
    "\n",
    "#             test.labels <- sapply(seq_along(test.genes), function(i){\n",
    "#                 paste(test.genes[i], test.regions[i])\n",
    "#             })            \n",
    "            \n",
    "#             points(eg.points.x, eg.points.y, \n",
    "#                   pch = 16, cex = 3, col = 'black')\n",
    "# #             text(eg.points.x+65, eg.points.y+10, labels = test.labels, cex = fs)\n",
    "#         }\n",
    "        \n",
    "        \n",
    "    }\n",
    "    dev.off()\n",
    "    \n",
    "    pdf(paste0(save.dir, 'svg_pval_comparison/', gs, '_skewed_vs_all_genes.pdf'),  \n",
    "        width = 30, height = 5)\n",
    "    par(mfrow = c(1,6), mar = c(10.1, 10.1, 6.1, 2.1))\n",
    "    \n",
    "\n",
    "    \n",
    "    for (n in norms.to.include){\n",
    "        curr.skewed.pvalsAdj <- skewed.svgs[[gs]][[n]][,'padj']\n",
    "        curr.geneset <- names(curr.skewed.pvalsAdj)\n",
    "        curr.og.pvalsAdj <- full.svgs[[n]][curr.geneset,'padj']\n",
    "\n",
    "\n",
    "        plot(curr.og.pvalsAdj, curr.skewed.pvalsAdj, \n",
    "             pch = 16, cex = 1.5, col = 'black',\n",
    "             cex.lab = fs.small, cex.axis = fs.small, cex.main = fs, xaxt=\"n\", yaxt=\"n\",\n",
    "             xlab = '', ylab = '', bty = 'n', xaxs = 'i', yaxs = 'i',\n",
    "             main = paste(norms.names[n]))\n",
    "        title(xlab=paste('Full gene panel\\n p-value'), line=8, cex.lab=fs)\n",
    "        title(ylab=paste('Skewed gene panel\\n p-value'), line=5, cex.lab=fs)\n",
    "        axis(side = 1, line = 0, cex.axis = fs.small, lty = 1, labels = FALSE)\n",
    "        axis(side = 2, line = 0, cex.axis = fs.small, lty = 1, labels = FALSE)\n",
    "        axis(side = 1, line = 2.5, cex.axis = fs.small, lty = 0)\n",
    "        axis(side = 2, line = 0.5, cex.axis = fs.small, lty = 0)\n",
    "        abline(v=0.05, h=0.05,col='grey')\n",
    "        abline(a=0,b=1,col='red')\n",
    "        \n",
    "        ##highlight examples with ventricle skewed geneset on libsize plot\n",
    "#         if (gs == 'ventricles'){\n",
    "#             eg.points.x <- sapply(seq_along(test.genes), function(i) {\n",
    "#                 curr.og.pvalsAdj[test.genes[i], test.regions[i]]})\n",
    "#             eg.points.y <- sapply(seq_along(test.genes), function(i) {\n",
    "#                 curr.skewed.pvalsAdj[test.genes[i], test.regions[i]]})\n",
    "            \n",
    "#             test.labels <- sapply(seq_along(test.genes), function(i){\n",
    "#                 paste(test.genes[i], test.regions[i])\n",
    "#             })\n",
    "            \n",
    "            \n",
    "            \n",
    "#             points(eg.points.x, eg.points.y, \n",
    "#                   pch = 16, cex = 3, col = 'black')\n",
    "# #             text(eg.points.x+0.25, eg.points.y+0.075, labels = test.labels, cex = fs)\n",
    "#         }\n",
    "        \n",
    "        \n",
    "    }\n",
    "        \n",
    "    \n",
    "    dev.off()\n",
    "}\n",
    "\n"
   ]
  },
  {
   "cell_type": "markdown",
   "id": "93e0de1b",
   "metadata": {},
   "source": [
    "### SVG FALSE POSITIVES AND NEGATIVES"
   ]
  },
  {
   "cell_type": "code",
   "execution_count": null,
   "id": "e2dcc2a3",
   "metadata": {},
   "outputs": [],
   "source": [
    "dir.create(paste0(save.dir,'svg_FPFN'))"
   ]
  },
  {
   "cell_type": "code",
   "execution_count": 84,
   "id": "2dfd3f51",
   "metadata": {},
   "outputs": [],
   "source": [
    "fpfn.svgs <- lapply(names(skewed.svgs), function(reg) {\n",
    "    gs <- skewed.svgs[[reg]]\n",
    "    \n",
    "    curr.gs.fpfn <- lapply(names(gs), function(n) {\n",
    "        curr.skewed.pvals <- gs[[n]][,'padj']\n",
    "#         print(head(curr.skewed.pvals))\n",
    "        curr.full.pvals <- full.svgs[[n]][,'padj']\n",
    "        \n",
    "        curr.genes <- intersect(names(curr.skewed.pvals), names(curr.full.pvals))\n",
    "        \n",
    "        curr.skewed.pvals <- curr.skewed.pvals[curr.genes]\n",
    "        curr.full.pvals <- curr.full.pvals[curr.genes]\n",
    "        \n",
    "        get.pval.fp.fn(curr.skewed.pvals, curr.full.pvals, 0.05)\n",
    "        \n",
    "    })\n",
    "    \n",
    "    names(curr.gs.fpfn) <- names(gs)\n",
    "    curr.gs.fpfn\n",
    "})\n",
    "names(fpfn.svgs) <- names(skewed.svgs)\n",
    "\n",
    "fpfn.rate.svgs.all <- lapply(names(fpfn.svgs), function(reg) {\n",
    "    gs <- fpfn.svgs[[reg]]\n",
    "    \n",
    "    curr.gs.fpfn.rates <- sapply(gs, function(n) {\n",
    "        curr.fp <- n[['false.positive']]\n",
    "        curr.tn <- n[['true.negative']]\n",
    "#         curr.fp.rate <- sum(curr.fp)/length(curr.fp)\n",
    "        curr.fp.rate <- sum(curr.fp)/(sum(curr.fp)+sum(curr.tn))\n",
    "        \n",
    "        curr.fn <- n[['false.negative']]\n",
    "        curr.tp <- n[['true.positive']]\n",
    "#         curr.fn.rate <- sum(curr.fn)/length(curr.fn)\n",
    "        curr.fn.rate <- sum(curr.fn)/(sum(curr.fn)+sum(curr.tp))\n",
    "        \n",
    "        list(fp = curr.fp.rate, fn = curr.fn.rate)\n",
    "    })\n",
    "    \n",
    "    curr.gs.fpfn.rates\n",
    "})\n",
    "names(fpfn.rate.svgs.all) <- names(fpfn.svgs)\n",
    "\n",
    "fp.svgs.all <- as.data.frame(sapply(fpfn.rate.svgs.all, function(x) {\n",
    "    unlist(x['fp',])\n",
    "}))\n",
    "fn.svgs.all <- as.data.frame(sapply(fpfn.rate.svgs.all, function(x) {\n",
    "    unlist(x['fn',])\n",
    "}))\n",
    "\n"
   ]
  },
  {
   "cell_type": "markdown",
   "id": "7582b1ab",
   "metadata": {},
   "source": [
    "### normalized expression of false positive and negative svgs"
   ]
  },
  {
   "cell_type": "code",
   "execution_count": 79,
   "id": "cbc574b2",
   "metadata": {},
   "outputs": [
    {
     "data": {
      "text/html": [
       "<style>\n",
       ".dl-inline {width: auto; margin:0; padding: 0}\n",
       ".dl-inline>dt, .dl-inline>dd {float: none; width: auto; display: inline-block}\n",
       ".dl-inline>dt::after {content: \":\\0020\"; padding-right: .5ex}\n",
       ".dl-inline>dt:not(:first-of-type) {padding-left: .5ex}\n",
       "</style><dl class=dl-inline><dt>Zone 3</dt><dd>'Zone 3'</dd><dt>Zone 1</dt><dd>'Zone 1'</dd></dl>\n"
      ],
      "text/latex": [
       "\\begin{description*}\n",
       "\\item[Zone 3] 'Zone 3'\n",
       "\\item[Zone 1] 'Zone 1'\n",
       "\\end{description*}\n"
      ],
      "text/markdown": [
       "Zone 3\n",
       ":   'Zone 3'Zone 1\n",
       ":   'Zone 1'\n",
       "\n"
      ],
      "text/plain": [
       "  Zone 3   Zone 1 \n",
       "\"Zone 3\" \"Zone 1\" "
      ]
     },
     "metadata": {},
     "output_type": "display_data"
    }
   ],
   "source": [
    "regions <- unique(regions)\n",
    "regions.names <- regions\n",
    "names(regions.names) <- regions\n",
    "regions.names"
   ]
  },
  {
   "cell_type": "markdown",
   "id": "45cafc71",
   "metadata": {},
   "source": [
    "#### Zone 1 gene panel"
   ]
  },
  {
   "cell_type": "code",
   "execution_count": 80,
   "id": "50b2c7f3",
   "metadata": {},
   "outputs": [],
   "source": [
    "options(repr.plot.width=14, repr.plot.height=7)\n",
    "par(mfrow = c(1,2))\n",
    "curr.norm <- 'libsize'\n",
    "curr.gs <- 'Zone 1'\n",
    "\n",
    "foop <- fpfn.svgs[[curr.gs]][[curr.norm]][['false.positive']]\n",
    "foon <- fpfn.svgs[[curr.gs]][[curr.norm]][['false.negative']]\n",
    "\n",
    "fps <- names(which(foop))\n",
    "fns <- names(which(foon))"
   ]
  },
  {
   "cell_type": "code",
   "execution_count": 81,
   "id": "ed535130",
   "metadata": {},
   "outputs": [
    {
     "data": {
      "text/html": [
       "'IL1RAP'"
      ],
      "text/latex": [
       "'IL1RAP'"
      ],
      "text/markdown": [
       "'IL1RAP'"
      ],
      "text/plain": [
       "[1] \"IL1RAP\""
      ]
     },
     "metadata": {},
     "output_type": "display_data"
    },
    {
     "data": {
      "text/html": [
       "<style>\n",
       ".list-inline {list-style: none; margin:0; padding: 0}\n",
       ".list-inline>li {display: inline-block}\n",
       ".list-inline>li:not(:last-child)::after {content: \"\\00b7\"; padding: 0 .5ex}\n",
       "</style>\n",
       "<ol class=list-inline><li>'COL5A2'</li><li>'RARG'</li><li>'MMP14'</li><li>'ESAM'</li><li>'MZB1'</li><li>'RGCC'</li><li>'DLL1'</li><li>'FOXF1'</li><li>'VEGFC'</li><li>'STMN1'</li><li>'EMP3'</li><li>'TNXB'</li><li>'PTGS2'</li><li>'CDH19'</li><li>'NTRK2'</li><li>'SNAI2'</li><li>'COL12A1'</li><li>'LGALS3'</li><li>'IRF4'</li><li>'EPHA3'</li><li>'VCAM1'</li><li>'TACSTD2'</li><li>'NPR3'</li><li>'MXRA8'</li><li>'DDR2'</li><li>'EPHA2'</li><li>'JCHAIN'</li><li>'CX3CL1'</li><li>'TGFB3'</li><li>'CCR10'</li><li>'COL14A1'</li><li>'RARA'</li><li>'ITGAV'</li><li>'MRC2'</li><li>'DLL4'</li><li>'LEFTY1'</li><li>'NDUFA4L2'</li><li>'PDGFD'</li><li>'MAML2'</li><li>'MAPK13'</li><li>'COL4A5'</li><li>'EPCAM'</li><li>'IL34'</li><li>'DUSP5'</li></ol>\n"
      ],
      "text/latex": [
       "\\begin{enumerate*}\n",
       "\\item 'COL5A2'\n",
       "\\item 'RARG'\n",
       "\\item 'MMP14'\n",
       "\\item 'ESAM'\n",
       "\\item 'MZB1'\n",
       "\\item 'RGCC'\n",
       "\\item 'DLL1'\n",
       "\\item 'FOXF1'\n",
       "\\item 'VEGFC'\n",
       "\\item 'STMN1'\n",
       "\\item 'EMP3'\n",
       "\\item 'TNXB'\n",
       "\\item 'PTGS2'\n",
       "\\item 'CDH19'\n",
       "\\item 'NTRK2'\n",
       "\\item 'SNAI2'\n",
       "\\item 'COL12A1'\n",
       "\\item 'LGALS3'\n",
       "\\item 'IRF4'\n",
       "\\item 'EPHA3'\n",
       "\\item 'VCAM1'\n",
       "\\item 'TACSTD2'\n",
       "\\item 'NPR3'\n",
       "\\item 'MXRA8'\n",
       "\\item 'DDR2'\n",
       "\\item 'EPHA2'\n",
       "\\item 'JCHAIN'\n",
       "\\item 'CX3CL1'\n",
       "\\item 'TGFB3'\n",
       "\\item 'CCR10'\n",
       "\\item 'COL14A1'\n",
       "\\item 'RARA'\n",
       "\\item 'ITGAV'\n",
       "\\item 'MRC2'\n",
       "\\item 'DLL4'\n",
       "\\item 'LEFTY1'\n",
       "\\item 'NDUFA4L2'\n",
       "\\item 'PDGFD'\n",
       "\\item 'MAML2'\n",
       "\\item 'MAPK13'\n",
       "\\item 'COL4A5'\n",
       "\\item 'EPCAM'\n",
       "\\item 'IL34'\n",
       "\\item 'DUSP5'\n",
       "\\end{enumerate*}\n"
      ],
      "text/markdown": [
       "1. 'COL5A2'\n",
       "2. 'RARG'\n",
       "3. 'MMP14'\n",
       "4. 'ESAM'\n",
       "5. 'MZB1'\n",
       "6. 'RGCC'\n",
       "7. 'DLL1'\n",
       "8. 'FOXF1'\n",
       "9. 'VEGFC'\n",
       "10. 'STMN1'\n",
       "11. 'EMP3'\n",
       "12. 'TNXB'\n",
       "13. 'PTGS2'\n",
       "14. 'CDH19'\n",
       "15. 'NTRK2'\n",
       "16. 'SNAI2'\n",
       "17. 'COL12A1'\n",
       "18. 'LGALS3'\n",
       "19. 'IRF4'\n",
       "20. 'EPHA3'\n",
       "21. 'VCAM1'\n",
       "22. 'TACSTD2'\n",
       "23. 'NPR3'\n",
       "24. 'MXRA8'\n",
       "25. 'DDR2'\n",
       "26. 'EPHA2'\n",
       "27. 'JCHAIN'\n",
       "28. 'CX3CL1'\n",
       "29. 'TGFB3'\n",
       "30. 'CCR10'\n",
       "31. 'COL14A1'\n",
       "32. 'RARA'\n",
       "33. 'ITGAV'\n",
       "34. 'MRC2'\n",
       "35. 'DLL4'\n",
       "36. 'LEFTY1'\n",
       "37. 'NDUFA4L2'\n",
       "38. 'PDGFD'\n",
       "39. 'MAML2'\n",
       "40. 'MAPK13'\n",
       "41. 'COL4A5'\n",
       "42. 'EPCAM'\n",
       "43. 'IL34'\n",
       "44. 'DUSP5'\n",
       "\n",
       "\n"
      ],
      "text/plain": [
       " [1] \"COL5A2\"   \"RARG\"     \"MMP14\"    \"ESAM\"     \"MZB1\"     \"RGCC\"    \n",
       " [7] \"DLL1\"     \"FOXF1\"    \"VEGFC\"    \"STMN1\"    \"EMP3\"     \"TNXB\"    \n",
       "[13] \"PTGS2\"    \"CDH19\"    \"NTRK2\"    \"SNAI2\"    \"COL12A1\"  \"LGALS3\"  \n",
       "[19] \"IRF4\"     \"EPHA3\"    \"VCAM1\"    \"TACSTD2\"  \"NPR3\"     \"MXRA8\"   \n",
       "[25] \"DDR2\"     \"EPHA2\"    \"JCHAIN\"   \"CX3CL1\"   \"TGFB3\"    \"CCR10\"   \n",
       "[31] \"COL14A1\"  \"RARA\"     \"ITGAV\"    \"MRC2\"     \"DLL4\"     \"LEFTY1\"  \n",
       "[37] \"NDUFA4L2\" \"PDGFD\"    \"MAML2\"    \"MAPK13\"   \"COL4A5\"   \"EPCAM\"   \n",
       "[43] \"IL34\"     \"DUSP5\"   "
      ]
     },
     "metadata": {},
     "output_type": "display_data"
    }
   ],
   "source": [
    "fps\n",
    "fns"
   ]
  },
  {
   "cell_type": "code",
   "execution_count": null,
   "id": "8cdbb1fa",
   "metadata": {},
   "outputs": [],
   "source": [
    "##specific examples - false positive\n",
    "options(repr.plot.width=15, repr.plot.height=5)\n",
    "pdf(paste0(save.dir, '/svg_FPFN/svg_falsePositive_exampleGenes_Zone1.pdf'),  width = 15, height = 10)\n",
    "\n",
    "par(mfrow = c(1,2))\n",
    "gs <- 'Zone 1'\n",
    "n <- 'libsize'\n",
    "fs <- 4\n",
    "\n",
    "lfc.fp.egs.genes <- fps\n",
    "lfc.fp.egs.regions <- rep('Zone 1', length(lfc.fp.egs.genes))\n",
    "\n",
    "# lfc.fp.egs.genes <- c('Lgr4')\n",
    "# lfc.fp.egs.regions <- c('habenula')\n",
    "\n",
    "for (i in seq_along(lfc.fp.egs.genes)){\n",
    "    \n",
    "    curr.gene <- lfc.fp.egs.genes[i]\n",
    "    curr.region <- lfc.fp.egs.regions[i]\n",
    "    \n",
    "    curr.counts.skewed <- skewed.norms[[gs]][[n]][curr.gene,]\n",
    "    curr.counts.all <- all.norms[[n]][curr.gene,]\n",
    "    \n",
    "    curr.cells <- intersect(names(curr.counts.skewed), names(curr.counts.all))\n",
    "    curr.counts.skewed <- curr.counts.skewed[curr.cells]\n",
    "    curr.counts.all <- curr.counts.all[curr.cells]\n",
    "    \n",
    "    curr.region.cells <- curr.cells[curr.cells %in% names(cluster)[cluster==curr.region]]\n",
    "    curr.other.cells <- curr.cells[curr.cells %in% names(cluster)[cluster!=curr.region]]\n",
    "    \n",
    "    curr.counts.skewed.region <- log10(curr.counts.skewed[curr.region.cells]+1)\n",
    "    curr.counts.skewed.other <- log10(curr.counts.skewed[curr.other.cells]+1)\n",
    "    \n",
    "    curr.counts.all.region <- log10(curr.counts.all[curr.region.cells]+1)\n",
    "    curr.counts.all.other <- log10(curr.counts.all[curr.other.cells]+1)\n",
    "    \n",
    "    length(curr.counts.skewed.region) <- length(curr.counts.skewed.other) <- length(curr.counts.all.region) <- length(curr.counts.all.other) <- max(length(curr.region.cells),length(curr.other.cells))\n",
    "    \n",
    "    curr.skewed <- cbind(curr.counts.skewed.region, curr.counts.skewed.other)\n",
    "    colnames(curr.skewed) <- paste0(curr.gene, c('_region', '_other'))\n",
    "    \n",
    "    curr.all <- cbind(curr.counts.all.region, curr.counts.all.other)\n",
    "    colnames(curr.all) <- paste0(curr.gene, c('_region', '_other'))\n",
    "    \n",
    "    #normalize by max to plot on the same scale\n",
    "    curr.skewed <- curr.skewed/max(curr.skewed, na.rm = TRUE)\n",
    "    curr.all <- curr.all/max(curr.all, na.rm = TRUE)\n",
    "    \n",
    "#     boxplot(curr.skewed, main = paste(curr.gene, curr.region, 'skewed'))\n",
    "#     boxplot(curr.all, main = paste(curr.gene, curr.region, 'all'))\n",
    "    \n",
    "    ## all in the same plot \n",
    "#     curr.combined <- cbind(curr.counts.skewed.region, curr.counts.skewed.other, \n",
    "#                            curr.counts.all.region, curr.counts.all.other)\n",
    "    curr.combined <- cbind(curr.skewed, curr.all)\n",
    "    colnames(curr.combined) <- c(paste0('skewed_',curr.region), paste0('skewed_other'),\n",
    "                                paste0('all_',curr.region), paste0('all_other'))\n",
    "#     boxplot(curr.combined, main = paste(curr.gene, curr.region, nrow(curr.combined)))\n",
    "    \n",
    "    curr.combined <- reshape2::melt(curr.combined)\n",
    "    curr.combined <- curr.combined[ ((!is.na(curr.combined$value))),]# & curr.combined$value > 0)), ]\n",
    "    \n",
    "    par(mfrow = c(1,2), mar = c(10.1, 10.1, 6.1, 2.1))\n",
    "#     curr.combined.sub <- curr.combined[curr.combined$Var2 %in% c(paste0('skewed_',curr.region), 'skewed_other'),]\n",
    "    curr.combined.sub <- curr.skewed\n",
    "    colnames(curr.combined.sub) <- c(paste0('skewed_',curr.region), paste0('skewed_other'))\n",
    "    curr.combined.sub <- reshape2::melt(curr.combined.sub)\n",
    "    curr.combined.sub <- curr.combined.sub[ ((!is.na(curr.combined.sub$value))),]\n",
    "    \n",
    "    beeswarm(curr.combined.sub$value ~ curr.combined.sub$Var2, \n",
    "             ylim = c(0,1),\n",
    "             bty = 'n', xaxs = 'i', yaxs = 'i',\n",
    "             pch = 16, cex = 1, col = scales::alpha('black',0.5), \n",
    "             xlab = '', ylab = '', xaxt = \"n\", yaxt = 'n',\n",
    "#              xlab = 'Anatomical Region', ylab = 'Normalized Cell Counts',\n",
    "             method = 'compactswarm', corral = 'random', priority = 'density', \n",
    "             main = paste('Skewed',curr.gene), cex.main = fs)\n",
    "    title(xlab='Anatomical Region', line=8, cex.lab=fs)\n",
    "    title(ylab='Normalized Cell Counts', line=6, cex.lab=fs)\n",
    "    axis(1, at=0:3, labels=NA)\n",
    "#     text(x=c(1:2)+0.15, y=-0.1, labels=c(regions.names[curr.region], 'Other'), \n",
    "#          xpd = NA, srt = 4, cex = 3, pos = 2)\n",
    "    text(x=c(1:2), y=-0.1, labels=c(regions.names[curr.region], 'Other'), \n",
    "         xpd = NA, srt = 0, cex = 3) #, pos = 2)\n",
    "    axis(2, at=c(0,0.2,0.4,0.6,0.8,1), las = 2, cex.axis = 3)\n",
    "#     axis(1, at=1:2, labels=c(regions.names[curr.region], 'Other'), cex.axis = 3) #, regions.names[curr.region], 'Other'))\n",
    "    \n",
    "#     curr.combined.sub <- curr.combined[curr.combined$Var2 %in% c(paste0('all_',curr.region), 'all_other'),]\n",
    "    curr.combined.sub <- curr.all\n",
    "    colnames(curr.combined.sub) <- c(paste0('all_',curr.region), paste0('all_other'))\n",
    "    curr.combined.sub <- reshape2::melt(curr.combined.sub)\n",
    "    curr.combined.sub <- curr.combined.sub[ ((!is.na(curr.combined.sub$value))),]    \n",
    "    \n",
    "    beeswarm(curr.combined.sub$value ~ curr.combined.sub$Var2, \n",
    "             ylim = c(0,1),\n",
    "             bty = 'n', xaxs = 'i', yaxs = 'i',\n",
    "             pch = 16, cex = 1, col = scales::alpha('black',0.5), \n",
    "             xlab = '', ylab = '', xaxt = \"n\", yaxt=\"n\",\n",
    "#              xlab = 'Anatomical Region', ylab = 'Normalized Cell Counts',\n",
    "             method = 'compactswarm', corral = 'random', priority = 'density', \n",
    "             main = paste('Full gene panel'), cex.main = fs)\n",
    "    title(xlab='Anatomical Region', line=8, cex.lab=fs)\n",
    "    title(ylab='Normalized Cell Counts', line=5, cex.lab=fs)\n",
    "    axis(1, at=0:3, labels=NA)\n",
    "#     text(x=c(1:2)+0.15, y=-0.1, labels=c(regions.names[curr.region], 'Other'),\n",
    "#          xpd = NA, srt = 0, cex = 3, pos = 2)\n",
    "    text(x=c(1:2), y=-0.1, labels=c(regions.names[curr.region], 'Other'), \n",
    "         xpd = NA, srt = 0, cex = 3) #, pos = 2)\n",
    "    axis(2, at=c(0,0.2,0.4,0.6,0.8,1), las = 2, cex.axis = 3)\n",
    "#     axis(1, at=1:2, labels=c(regions.names[curr.region], 'Other'), cex.axis = 3)#, regions.names[curr.region], 'Other'))    \n",
    "}\n",
    "\n",
    "dev.off()\n"
   ]
  },
  {
   "cell_type": "code",
   "execution_count": 82,
   "id": "cbbc23c2",
   "metadata": {},
   "outputs": [
    {
     "data": {
      "text/html": [
       "<style>\n",
       ".list-inline {list-style: none; margin:0; padding: 0}\n",
       ".list-inline>li {display: inline-block}\n",
       ".list-inline>li:not(:last-child)::after {content: \"\\00b7\"; padding: 0 .5ex}\n",
       "</style>\n",
       "<ol class=list-inline><li>'COL5A2'</li><li>'RARG'</li><li>'MMP14'</li><li>'ESAM'</li><li>'MZB1'</li><li>'RGCC'</li><li>'DLL1'</li><li>'FOXF1'</li><li>'VEGFC'</li><li>'STMN1'</li><li>'EMP3'</li><li>'TNXB'</li><li>'PTGS2'</li><li>'CDH19'</li><li>'NTRK2'</li><li>'SNAI2'</li><li>'COL12A1'</li><li>'LGALS3'</li><li>'IRF4'</li><li>'EPHA3'</li><li>'VCAM1'</li><li>'TACSTD2'</li><li>'NPR3'</li><li>'MXRA8'</li><li>'DDR2'</li><li>'EPHA2'</li><li>'JCHAIN'</li><li>'CX3CL1'</li><li>'TGFB3'</li><li>'CCR10'</li><li>'COL14A1'</li><li>'RARA'</li><li>'ITGAV'</li><li>'MRC2'</li><li>'DLL4'</li><li>'LEFTY1'</li><li>'NDUFA4L2'</li><li>'PDGFD'</li><li>'MAML2'</li><li>'MAPK13'</li><li>'COL4A5'</li><li>'EPCAM'</li><li>'IL34'</li><li>'DUSP5'</li></ol>\n"
      ],
      "text/latex": [
       "\\begin{enumerate*}\n",
       "\\item 'COL5A2'\n",
       "\\item 'RARG'\n",
       "\\item 'MMP14'\n",
       "\\item 'ESAM'\n",
       "\\item 'MZB1'\n",
       "\\item 'RGCC'\n",
       "\\item 'DLL1'\n",
       "\\item 'FOXF1'\n",
       "\\item 'VEGFC'\n",
       "\\item 'STMN1'\n",
       "\\item 'EMP3'\n",
       "\\item 'TNXB'\n",
       "\\item 'PTGS2'\n",
       "\\item 'CDH19'\n",
       "\\item 'NTRK2'\n",
       "\\item 'SNAI2'\n",
       "\\item 'COL12A1'\n",
       "\\item 'LGALS3'\n",
       "\\item 'IRF4'\n",
       "\\item 'EPHA3'\n",
       "\\item 'VCAM1'\n",
       "\\item 'TACSTD2'\n",
       "\\item 'NPR3'\n",
       "\\item 'MXRA8'\n",
       "\\item 'DDR2'\n",
       "\\item 'EPHA2'\n",
       "\\item 'JCHAIN'\n",
       "\\item 'CX3CL1'\n",
       "\\item 'TGFB3'\n",
       "\\item 'CCR10'\n",
       "\\item 'COL14A1'\n",
       "\\item 'RARA'\n",
       "\\item 'ITGAV'\n",
       "\\item 'MRC2'\n",
       "\\item 'DLL4'\n",
       "\\item 'LEFTY1'\n",
       "\\item 'NDUFA4L2'\n",
       "\\item 'PDGFD'\n",
       "\\item 'MAML2'\n",
       "\\item 'MAPK13'\n",
       "\\item 'COL4A5'\n",
       "\\item 'EPCAM'\n",
       "\\item 'IL34'\n",
       "\\item 'DUSP5'\n",
       "\\end{enumerate*}\n"
      ],
      "text/markdown": [
       "1. 'COL5A2'\n",
       "2. 'RARG'\n",
       "3. 'MMP14'\n",
       "4. 'ESAM'\n",
       "5. 'MZB1'\n",
       "6. 'RGCC'\n",
       "7. 'DLL1'\n",
       "8. 'FOXF1'\n",
       "9. 'VEGFC'\n",
       "10. 'STMN1'\n",
       "11. 'EMP3'\n",
       "12. 'TNXB'\n",
       "13. 'PTGS2'\n",
       "14. 'CDH19'\n",
       "15. 'NTRK2'\n",
       "16. 'SNAI2'\n",
       "17. 'COL12A1'\n",
       "18. 'LGALS3'\n",
       "19. 'IRF4'\n",
       "20. 'EPHA3'\n",
       "21. 'VCAM1'\n",
       "22. 'TACSTD2'\n",
       "23. 'NPR3'\n",
       "24. 'MXRA8'\n",
       "25. 'DDR2'\n",
       "26. 'EPHA2'\n",
       "27. 'JCHAIN'\n",
       "28. 'CX3CL1'\n",
       "29. 'TGFB3'\n",
       "30. 'CCR10'\n",
       "31. 'COL14A1'\n",
       "32. 'RARA'\n",
       "33. 'ITGAV'\n",
       "34. 'MRC2'\n",
       "35. 'DLL4'\n",
       "36. 'LEFTY1'\n",
       "37. 'NDUFA4L2'\n",
       "38. 'PDGFD'\n",
       "39. 'MAML2'\n",
       "40. 'MAPK13'\n",
       "41. 'COL4A5'\n",
       "42. 'EPCAM'\n",
       "43. 'IL34'\n",
       "44. 'DUSP5'\n",
       "\n",
       "\n"
      ],
      "text/plain": [
       " [1] \"COL5A2\"   \"RARG\"     \"MMP14\"    \"ESAM\"     \"MZB1\"     \"RGCC\"    \n",
       " [7] \"DLL1\"     \"FOXF1\"    \"VEGFC\"    \"STMN1\"    \"EMP3\"     \"TNXB\"    \n",
       "[13] \"PTGS2\"    \"CDH19\"    \"NTRK2\"    \"SNAI2\"    \"COL12A1\"  \"LGALS3\"  \n",
       "[19] \"IRF4\"     \"EPHA3\"    \"VCAM1\"    \"TACSTD2\"  \"NPR3\"     \"MXRA8\"   \n",
       "[25] \"DDR2\"     \"EPHA2\"    \"JCHAIN\"   \"CX3CL1\"   \"TGFB3\"    \"CCR10\"   \n",
       "[31] \"COL14A1\"  \"RARA\"     \"ITGAV\"    \"MRC2\"     \"DLL4\"     \"LEFTY1\"  \n",
       "[37] \"NDUFA4L2\" \"PDGFD\"    \"MAML2\"    \"MAPK13\"   \"COL4A5\"   \"EPCAM\"   \n",
       "[43] \"IL34\"     \"DUSP5\"   "
      ]
     },
     "metadata": {},
     "output_type": "display_data"
    },
    {
     "data": {
      "text/html": [
       "44"
      ],
      "text/latex": [
       "44"
      ],
      "text/markdown": [
       "44"
      ],
      "text/plain": [
       "[1] 44"
      ]
     },
     "metadata": {},
     "output_type": "display_data"
    }
   ],
   "source": [
    "fns\n",
    "length(fns)"
   ]
  },
  {
   "cell_type": "code",
   "execution_count": null,
   "id": "601cf877",
   "metadata": {},
   "outputs": [],
   "source": [
    "##specific examples - false positive\n",
    "options(repr.plot.width=15, repr.plot.height=5)\n",
    "# png(paste0(save.dir, 'logFC_falsePositive_exampleGenes.png'),  width = 1150, height = 550)\n",
    "pdf(paste0(save.dir, '/svg_FPFN/svg_falseNegative_exampleGenes_Zone1.pdf'),  width = 15, height = 10)\n",
    "\n",
    "par(mfrow = c(1,2))\n",
    "gs <- 'Zone 1'\n",
    "n <- 'libsize'\n",
    "fs <- 4\n",
    "\n",
    "lfc.fp.egs.genes <- fns\n",
    "lfc.fp.egs.regions <- rep('Zone 1', length(lfc.fp.egs.genes))\n",
    "\n",
    "# lfc.fp.egs.genes <- c('Lgr4')\n",
    "# lfc.fp.egs.regions <- c('habenula')\n",
    "\n",
    "for (i in seq_along(lfc.fp.egs.genes)){\n",
    "    \n",
    "    curr.gene <- lfc.fp.egs.genes[i]\n",
    "    curr.region <- lfc.fp.egs.regions[i]\n",
    "    \n",
    "    curr.counts.skewed <- skewed.norms[[gs]][[n]][curr.gene,]\n",
    "    curr.counts.all <- all.norms[[n]][curr.gene,]\n",
    "    \n",
    "    curr.cells <- intersect(names(curr.counts.skewed), names(curr.counts.all))\n",
    "    curr.counts.skewed <- curr.counts.skewed[curr.cells]\n",
    "    curr.counts.all <- curr.counts.all[curr.cells]\n",
    "    \n",
    "    curr.region.cells <- curr.cells[curr.cells %in% names(cluster)[cluster==curr.region]]\n",
    "    curr.other.cells <- curr.cells[curr.cells %in% names(cluster)[cluster!=curr.region]]\n",
    "    \n",
    "    curr.counts.skewed.region <- log10(curr.counts.skewed[curr.region.cells]+1)\n",
    "    curr.counts.skewed.other <- log10(curr.counts.skewed[curr.other.cells]+1)\n",
    "    \n",
    "    curr.counts.all.region <- log10(curr.counts.all[curr.region.cells]+1)\n",
    "    curr.counts.all.other <- log10(curr.counts.all[curr.other.cells]+1)\n",
    "    \n",
    "    length(curr.counts.skewed.region) <- length(curr.counts.skewed.other) <- length(curr.counts.all.region) <- length(curr.counts.all.other) <- max(length(curr.region.cells),length(curr.other.cells))\n",
    "    \n",
    "    curr.skewed <- cbind(curr.counts.skewed.region, curr.counts.skewed.other)\n",
    "    colnames(curr.skewed) <- paste0(curr.gene, c('_region', '_other'))\n",
    "    \n",
    "    curr.all <- cbind(curr.counts.all.region, curr.counts.all.other)\n",
    "    colnames(curr.all) <- paste0(curr.gene, c('_region', '_other'))\n",
    "    \n",
    "    #normalize by max to plot on the same scale\n",
    "    curr.skewed <- curr.skewed/max(curr.skewed, na.rm = TRUE)\n",
    "    curr.all <- curr.all/max(curr.all, na.rm = TRUE)\n",
    "    \n",
    "#     boxplot(curr.skewed, main = paste(curr.gene, curr.region, 'skewed'))\n",
    "#     boxplot(curr.all, main = paste(curr.gene, curr.region, 'all'))\n",
    "    \n",
    "    ## all in the same plot \n",
    "#     curr.combined <- cbind(curr.counts.skewed.region, curr.counts.skewed.other, \n",
    "#                            curr.counts.all.region, curr.counts.all.other)\n",
    "    curr.combined <- cbind(curr.skewed, curr.all)\n",
    "    colnames(curr.combined) <- c(paste0('skewed_',curr.region), paste0('skewed_other'),\n",
    "                                paste0('all_',curr.region), paste0('all_other'))\n",
    "#     boxplot(curr.combined, main = paste(curr.gene, curr.region, nrow(curr.combined)))\n",
    "    \n",
    "    curr.combined <- reshape2::melt(curr.combined)\n",
    "    curr.combined <- curr.combined[ ((!is.na(curr.combined$value))),]# & curr.combined$value > 0)), ]\n",
    "    \n",
    "    par(mfrow = c(1,2), mar = c(10.1, 10.1, 6.1, 2.1))\n",
    "#     curr.combined.sub <- curr.combined[curr.combined$Var2 %in% c(paste0('skewed_',curr.region), 'skewed_other'),]\n",
    "    curr.combined.sub <- curr.skewed\n",
    "    colnames(curr.combined.sub) <- c(paste0('skewed_',curr.region), paste0('skewed_other'))\n",
    "    curr.combined.sub <- reshape2::melt(curr.combined.sub)\n",
    "    curr.combined.sub <- curr.combined.sub[ ((!is.na(curr.combined.sub$value))),]\n",
    "    \n",
    "    beeswarm(curr.combined.sub$value ~ curr.combined.sub$Var2, \n",
    "             ylim = c(0,1),\n",
    "             bty = 'n', xaxs = 'i', yaxs = 'i',\n",
    "             pch = 16, cex = 1, col = scales::alpha('black',0.5), \n",
    "             xlab = '', ylab = '', xaxt = \"n\", yaxt = 'n',\n",
    "#              xlab = 'Anatomical Region', ylab = 'Normalized Cell Counts',\n",
    "             method = 'compactswarm', corral = 'random', priority = 'density', \n",
    "             main = paste('Skewed',curr.gene), cex.main = fs)\n",
    "    title(xlab='Anatomical Region', line=8, cex.lab=fs)\n",
    "    title(ylab='Normalized Cell Counts', line=6, cex.lab=fs)\n",
    "    axis(1, at=0:3, labels=NA)\n",
    "#     text(x=c(1:2)+0.15, y=-0.1, labels=c(regions.names[curr.region], 'Other'), \n",
    "#          xpd = NA, srt = 4, cex = 3, pos = 2)\n",
    "    text(x=c(1:2), y=-0.1, labels=c(regions.names[curr.region], 'Other'), \n",
    "         xpd = NA, srt = 0, cex = 3) #, pos = 2)\n",
    "    axis(2, at=c(0,0.2,0.4,0.6,0.8,1), las = 2, cex.axis = 3)\n",
    "#     axis(1, at=1:2, labels=c(regions.names[curr.region], 'Other'), cex.axis = 3) #, regions.names[curr.region], 'Other'))\n",
    "    \n",
    "#     curr.combined.sub <- curr.combined[curr.combined$Var2 %in% c(paste0('all_',curr.region), 'all_other'),]\n",
    "    curr.combined.sub <- curr.all\n",
    "    colnames(curr.combined.sub) <- c(paste0('all_',curr.region), paste0('all_other'))\n",
    "    curr.combined.sub <- reshape2::melt(curr.combined.sub)\n",
    "    curr.combined.sub <- curr.combined.sub[ ((!is.na(curr.combined.sub$value))),]    \n",
    "    \n",
    "    beeswarm(curr.combined.sub$value ~ curr.combined.sub$Var2, \n",
    "             ylim = c(0,1),\n",
    "             bty = 'n', xaxs = 'i', yaxs = 'i',\n",
    "             pch = 16, cex = 1, col = scales::alpha('black',0.5), \n",
    "             xlab = '', ylab = '', xaxt = \"n\", yaxt=\"n\",\n",
    "#              xlab = 'Anatomical Region', ylab = 'Normalized Cell Counts',\n",
    "             method = 'compactswarm', corral = 'random', priority = 'density', \n",
    "             main = paste('Full gene panel'), cex.main = fs)\n",
    "    title(xlab='Anatomical Region', line=8, cex.lab=fs)\n",
    "    title(ylab='Normalized Cell Counts', line=5, cex.lab=fs)\n",
    "    axis(1, at=0:3, labels=NA)\n",
    "#     text(x=c(1:2)+0.15, y=-0.1, labels=c(regions.names[curr.region], 'Other'),\n",
    "#          xpd = NA, srt = 0, cex = 3, pos = 2)\n",
    "    text(x=c(1:2), y=-0.1, labels=c(regions.names[curr.region], 'Other'), \n",
    "         xpd = NA, srt = 0, cex = 3) #, pos = 2)\n",
    "    axis(2, at=c(0,0.2,0.4,0.6,0.8,1), las = 2, cex.axis = 3)\n",
    "#     axis(1, at=1:2, labels=c(regions.names[curr.region], 'Other'), cex.axis = 3)#, regions.names[curr.region], 'Other'))    \n",
    "}\n",
    "\n",
    "dev.off()\n"
   ]
  },
  {
   "cell_type": "markdown",
   "id": "89352857",
   "metadata": {},
   "source": [
    "#### plot gene expression on tissue"
   ]
  },
  {
   "cell_type": "code",
   "execution_count": 87,
   "id": "249327ae",
   "metadata": {},
   "outputs": [],
   "source": [
    "dir.create(paste0(save.dir,'svg_FPFN/'))"
   ]
  },
  {
   "cell_type": "code",
   "execution_count": 86,
   "id": "ae547811",
   "metadata": {},
   "outputs": [],
   "source": [
    "dir.create(paste0(save.dir,'svg_FPFN/tissue_exp/'))"
   ]
  },
  {
   "cell_type": "code",
   "execution_count": 88,
   "id": "f7125a22",
   "metadata": {},
   "outputs": [],
   "source": [
    "## use rasterized data\n",
    "cosmx.rast <- readRDS('cosmx_norm_rast.rds')\n",
    "full.rast <- cosmx.rast$all.norms.rast\n",
    "skewed.rast <- cosmx.rast$skewed.norms.rast\n",
    "pos.rast <- cosmx.rast$all.pos"
   ]
  },
  {
   "cell_type": "code",
   "execution_count": null,
   "id": "8352cdfa",
   "metadata": {},
   "outputs": [],
   "source": [
    "fns"
   ]
  },
  {
   "cell_type": "code",
   "execution_count": 107,
   "id": "5560f397",
   "metadata": {
    "scrolled": false
   },
   "outputs": [
    {
     "name": "stderr",
     "output_type": "stream",
     "text": [
      "Saving 6.67 x 6.67 in image\n",
      "\n",
      "Saving 6.67 x 6.67 in image\n",
      "\n"
     ]
    }
   ],
   "source": [
    "options(repr.plot.width=16, repr.plot.height=10)\n",
    "par(mfcol = c(1,2))\n",
    "curr.norm <- 'libsize'\n",
    "curr.gs <- 'Zone 1'\n",
    "curr.gexp.norm.skewed <- skewed.rast[[curr.gs]][[curr.norm]]\n",
    "curr.cells <- colnames(curr.gexp.norm.skewed)\n",
    "curr.gexp.norm.full <- full.rast[[curr.norm]][,curr.cells]\n",
    "curr.pos <- pos.rast[curr.cells,]\n",
    "\n",
    "curr.genes <- c('TNXB','EPHA3','MXRA8','COL14A1','MRC2','NDUFA4L2') #fns\n",
    "xl <- range(pos[,1]) #c(4500,6000)\n",
    "yl <- range(pos[,2]) #c(5000,7000)\n",
    "\n",
    "col.p <- 'viridis'\n",
    "qn <- 0.98 #quantile for winsorizing\n",
    "\n",
    "for (curr.g in curr.genes[1]){\n",
    "#     hist(curr.gexp.norm.skewed[curr.g,])\n",
    "#     hist(curr.gexp.norm.full[curr.g,])\n",
    "    \n",
    "    curr.skewed <- log10(curr.gexp.norm.skewed[curr.g,]+1)\n",
    "    curr.full <- log10(curr.gexp.norm.full[curr.g,]+1)\n",
    "    curr.skewed[curr.skewed>quantile(curr.skewed, qn)] <- quantile(curr.skewed, qn)\n",
    "    curr.full[curr.full>quantile(curr.full, qn)] <- quantile(curr.full, qn)\n",
    "\n",
    "    df.curr.skewed <- as.data.frame(cbind(curr.pos, fill = curr.skewed))\n",
    "    df.curr.full <- as.data.frame(cbind(curr.pos, fill = curr.full))\n",
    "    \n",
    "    plt1 <- ggplot2::ggplot(df.curr.skewed, ggplot2::aes(x = x, y = y, fill = fill)) +\n",
    "    coord_fixed() +\n",
    "#     ggtitle(curr.g) + \n",
    "    scale_fill_gradient(low = '#F2F2F2', high = '#00046E', na.value = \"grey50\") +\n",
    "#     scale_fill_viridis_c(name = expression(log[10](Pdgfra + 1)), option = col.p, direction = 1) +\n",
    "    geom_tile(width = 0.05, height = 0.05) + \n",
    "#     geom_rect(aes(xmin = xl[1], xmax = xl[2], ymin = yl[1], ymax = yl[2]), colour=\"red\", fill=NA) + \n",
    "#     labs(fill = paste0(expression(log[10]), '(', curr.g, '+ 1)')) +\n",
    "    theme_classic() +\n",
    "    theme(panel.grid = element_blank(), #panel.background = element_rect(fill = \"black\"),\n",
    "          line = element_blank(), axis.title = element_blank(), \n",
    "          axis.text = element_blank(), axis.ticks = element_blank(),\n",
    "          legend.position = \"bottom\",\n",
    "         legend.title.align = 0.5)\n",
    "    ggsave(paste0(save.dir, '/svg_FPFN/tissue_exp/svg_falseNegative_exampleGenes_tissue_skewed_Zone1_',curr.g,'_grey.pdf'), plt1, bg='transparent')\n",
    "#     print(plt1)\n",
    "    \n",
    "    plt1 <- ggplot2::ggplot(df.curr.skewed, ggplot2::aes(x = x, y = y, fill = fill)) +\n",
    "    xlim(xl) +\n",
    "    ylim(yl) +\n",
    "    coord_fixed() +\n",
    "    scale_fill_viridis_c(name = expression(log[10](Pdgfra + 1)), option = col.p, direction = 1) +\n",
    "    geom_tile(width = 0.05, height = 0.05) + \n",
    "#     labs(fill = paste0(expression(log[10]), '(', curr.g, '+ 1)')) +\n",
    "    theme_classic() +\n",
    "    theme(panel.grid = element_blank(), panel.background = element_rect(fill = \"black\"),\n",
    "          line = element_blank(), axis.title = element_blank(), \n",
    "          axis.text = element_blank(), axis.ticks = element_blank(),\n",
    "          legend.position = \"bottom\",\n",
    "         legend.title.align = 0.5)\n",
    "#     ggsave(paste0(save.dir, '/svg_FPFN/svg_falseNegative_exampleGenes_tissue_skewed_zoom.pdf'), plt1, bg='transparent')\n",
    "    \n",
    "    plt2 <- ggplot2::ggplot(df.curr.full, ggplot2::aes(x = x, y = y, fill = fill)) +\n",
    "    coord_fixed() +\n",
    "    scale_fill_gradient(low = '#F2F2F2', high = '#00046E', na.value = \"grey50\") +\n",
    "#     scale_fill_viridis_c(name = expression(log[10](Pdgfra + 1)), option = col.p, direction = 1) +\n",
    "    geom_tile(width = 0.05, height = 0.05) + \n",
    "#     geom_rect(aes(xmin = xl[1], xmax = xl[2], ymin = yl[1], ymax = yl[2]), colour=\"red\", fill=NA) + \n",
    "#     labs(fill = paste0(expression(log[10]), '(', curr.g, '+ 1)')) +\n",
    "    theme_classic() +\n",
    "    theme(panel.grid = element_blank(), #panel.background = element_rect(fill = \"black\"),\n",
    "          line = element_blank(), axis.title = element_blank(), \n",
    "          axis.text = element_blank(), axis.ticks = element_blank(),\n",
    "          legend.position = \"bottom\",\n",
    "         legend.title.align = 0.5)\n",
    "    ggsave(paste0(save.dir, '/svg_FPFN/tissue_exp/svg_falseNegative_exampleGenes_tissue_full_Zone1_',curr.g,'_grey.pdf'), plt2, bg='transparent')\n",
    "#     print(plt2)\n",
    "    \n",
    "    plt2 <- ggplot2::ggplot(df.curr.full, ggplot2::aes(x = x, y = y, fill = fill)) +\n",
    "    xlim(xl) +\n",
    "    ylim(yl) +\n",
    "    coord_fixed() +\n",
    "    scale_fill_viridis_c(name = expression(log[10](Pdgfra + 1)), option = col.p, direction = 1) +\n",
    "    geom_tile(width = 0.05, height = 0.05) + \n",
    "#     labs(fill = paste0(expression(log[10]), '(', curr.g, '+ 1)')) +\n",
    "    theme_classic() +\n",
    "    theme(panel.grid = element_blank(), panel.background = element_rect(fill = \"black\"),\n",
    "          line = element_blank(), axis.title = element_blank(), \n",
    "          axis.text = element_blank(), axis.ticks = element_blank(),\n",
    "          legend.position = \"bottom\",\n",
    "         legend.title.align = 0.5)\n",
    "#     ggsave(paste0(save.dir, '/svg_FPFN/svg_falseNegative_exampleGenes_tissue_full_zoom.pdf'), plt2, bg='transparent')\n",
    "    \n",
    "}\n",
    "\n",
    "# plt1\n",
    "# plt2\n",
    "# ggsave('myplot.png', p, bg='transparent')\n",
    "# paste0(save.dir, '/svg_FPFN/svg_falseNegative_exampleGenes_2.pdf')"
   ]
  },
  {
   "cell_type": "markdown",
   "id": "8ca259e2",
   "metadata": {},
   "source": [
    "#### Zone 3 gene panel"
   ]
  },
  {
   "cell_type": "code",
   "execution_count": null,
   "id": "a404f323",
   "metadata": {},
   "outputs": [],
   "source": [
    "options(repr.plot.width=14, repr.plot.height=7)\n",
    "par(mfrow = c(1,2))\n",
    "curr.norm <- 'libsize'\n",
    "curr.gs <- 'Zone 3'\n",
    "\n",
    "foop <- fpfn.svgs[[curr.gs]][[curr.norm]][['false.positive']]\n",
    "foon <- fpfn.svgs[[curr.gs]][[curr.norm]][['false.negative']]\n",
    "\n",
    "fps <- names(which(foop))\n",
    "fns <- names(which(foon))\n",
    "\n",
    "fps\n",
    "fns"
   ]
  },
  {
   "cell_type": "code",
   "execution_count": null,
   "id": "2b1f4351",
   "metadata": {},
   "outputs": [],
   "source": [
    "##specific examples - false positive\n",
    "options(repr.plot.width=15, repr.plot.height=5)\n",
    "# png(paste0(save.dir, 'logFC_falsePositive_exampleGenes.png'),  width = 1150, height = 550)\n",
    "pdf(paste0(save.dir, '/svg_FPFN/svg_falsePositive_exampleGenes_Zone3.pdf'),  width = 15, height = 10)\n",
    "\n",
    "par(mfrow = c(1,2))\n",
    "gs <- 'Zone 3'\n",
    "n <- 'libsize'\n",
    "fs <- 4\n",
    "\n",
    "lfc.fp.egs.genes <- fps\n",
    "lfc.fp.egs.regions <- rep(gs, length(lfc.fp.egs.genes))\n",
    "\n",
    "# lfc.fp.egs.genes <- c('Lgr4')\n",
    "# lfc.fp.egs.regions <- c('habenula')\n",
    "\n",
    "for (i in seq_along(lfc.fp.egs.genes)){\n",
    "    \n",
    "    curr.gene <- lfc.fp.egs.genes[i]\n",
    "    curr.region <- lfc.fp.egs.regions[i]\n",
    "    \n",
    "    curr.counts.skewed <- skewed.norms[[gs]][[n]][curr.gene,]\n",
    "    curr.counts.all <- all.norms[[n]][curr.gene,]\n",
    "    \n",
    "    curr.cells <- intersect(names(curr.counts.skewed), names(curr.counts.all))\n",
    "    curr.counts.skewed <- curr.counts.skewed[curr.cells]\n",
    "    curr.counts.all <- curr.counts.all[curr.cells]\n",
    "    \n",
    "    curr.region.cells <- curr.cells[curr.cells %in% names(cluster)[cluster==curr.region]]\n",
    "    curr.other.cells <- curr.cells[curr.cells %in% names(cluster)[cluster!=curr.region]]\n",
    "    \n",
    "    curr.counts.skewed.region <- log10(curr.counts.skewed[curr.region.cells]+1)\n",
    "    curr.counts.skewed.other <- log10(curr.counts.skewed[curr.other.cells]+1)\n",
    "    \n",
    "    curr.counts.all.region <- log10(curr.counts.all[curr.region.cells]+1)\n",
    "    curr.counts.all.other <- log10(curr.counts.all[curr.other.cells]+1)\n",
    "    \n",
    "    length(curr.counts.skewed.region) <- length(curr.counts.skewed.other) <- length(curr.counts.all.region) <- length(curr.counts.all.other) <- max(length(curr.region.cells),length(curr.other.cells))\n",
    "    \n",
    "    curr.skewed <- cbind(curr.counts.skewed.region, curr.counts.skewed.other)\n",
    "    colnames(curr.skewed) <- paste0(curr.gene, c('_region', '_other'))\n",
    "    \n",
    "    curr.all <- cbind(curr.counts.all.region, curr.counts.all.other)\n",
    "    colnames(curr.all) <- paste0(curr.gene, c('_region', '_other'))\n",
    "    \n",
    "    #normalize by max to plot on the same scale\n",
    "    curr.skewed <- curr.skewed/max(curr.skewed, na.rm = TRUE)\n",
    "    curr.all <- curr.all/max(curr.all, na.rm = TRUE)\n",
    "    \n",
    "#     boxplot(curr.skewed, main = paste(curr.gene, curr.region, 'skewed'))\n",
    "#     boxplot(curr.all, main = paste(curr.gene, curr.region, 'all'))\n",
    "    \n",
    "    ## all in the same plot \n",
    "#     curr.combined <- cbind(curr.counts.skewed.region, curr.counts.skewed.other, \n",
    "#                            curr.counts.all.region, curr.counts.all.other)\n",
    "    curr.combined <- cbind(curr.skewed, curr.all)\n",
    "    colnames(curr.combined) <- c(paste0('skewed_',curr.region), paste0('skewed_other'),\n",
    "                                paste0('all_',curr.region), paste0('all_other'))\n",
    "#     boxplot(curr.combined, main = paste(curr.gene, curr.region, nrow(curr.combined)))\n",
    "    \n",
    "    curr.combined <- reshape2::melt(curr.combined)\n",
    "    curr.combined <- curr.combined[ ((!is.na(curr.combined$value))),]# & curr.combined$value > 0)), ]\n",
    "    \n",
    "    par(mfrow = c(1,2), mar = c(10.1, 10.1, 6.1, 2.1))\n",
    "#     curr.combined.sub <- curr.combined[curr.combined$Var2 %in% c(paste0('skewed_',curr.region), 'skewed_other'),]\n",
    "    curr.combined.sub <- curr.skewed\n",
    "    colnames(curr.combined.sub) <- c(paste0('skewed_',curr.region), paste0('skewed_other'))\n",
    "    curr.combined.sub <- reshape2::melt(curr.combined.sub)\n",
    "    curr.combined.sub <- curr.combined.sub[ ((!is.na(curr.combined.sub$value))),]\n",
    "    \n",
    "    beeswarm(curr.combined.sub$value ~ curr.combined.sub$Var2, \n",
    "             ylim = c(0,1),\n",
    "             bty = 'n', xaxs = 'i', yaxs = 'i',\n",
    "             pch = 16, cex = 1, col = scales::alpha('black',0.5), \n",
    "             xlab = '', ylab = '', xaxt = \"n\", yaxt = 'n',\n",
    "#              xlab = 'Anatomical Region', ylab = 'Normalized Cell Counts',\n",
    "             method = 'compactswarm', corral = 'random', priority = 'density', \n",
    "             main = paste('Skewed',curr.gene), cex.main = fs)\n",
    "    title(xlab='Anatomical Region', line=8, cex.lab=fs)\n",
    "    title(ylab='Normalized Cell Counts', line=6, cex.lab=fs)\n",
    "    axis(1, at=0:3, labels=NA)\n",
    "#     text(x=c(1:2)+0.15, y=-0.1, labels=c(regions.names[curr.region], 'Other'), \n",
    "#          xpd = NA, srt = 4, cex = 3, pos = 2)\n",
    "    text(x=c(1:2), y=-0.1, labels=c(regions.names[curr.region], 'Other'), \n",
    "         xpd = NA, srt = 0, cex = 3) #, pos = 2)\n",
    "    axis(2, at=c(0,0.2,0.4,0.6,0.8,1), las = 2, cex.axis = 3)\n",
    "#     axis(1, at=1:2, labels=c(regions.names[curr.region], 'Other'), cex.axis = 3) #, regions.names[curr.region], 'Other'))\n",
    "    \n",
    "#     curr.combined.sub <- curr.combined[curr.combined$Var2 %in% c(paste0('all_',curr.region), 'all_other'),]\n",
    "    curr.combined.sub <- curr.all\n",
    "    colnames(curr.combined.sub) <- c(paste0('all_',curr.region), paste0('all_other'))\n",
    "    curr.combined.sub <- reshape2::melt(curr.combined.sub)\n",
    "    curr.combined.sub <- curr.combined.sub[ ((!is.na(curr.combined.sub$value))),]    \n",
    "    \n",
    "    beeswarm(curr.combined.sub$value ~ curr.combined.sub$Var2, \n",
    "             ylim = c(0,1),\n",
    "             bty = 'n', xaxs = 'i', yaxs = 'i',\n",
    "             pch = 16, cex = 1, col = scales::alpha('black',0.5), \n",
    "             xlab = '', ylab = '', xaxt = \"n\", yaxt=\"n\",\n",
    "#              xlab = 'Anatomical Region', ylab = 'Normalized Cell Counts',\n",
    "             method = 'compactswarm', corral = 'random', priority = 'density', \n",
    "             main = paste('Full gene panel'), cex.main = fs)\n",
    "    title(xlab='Anatomical Region', line=8, cex.lab=fs)\n",
    "    title(ylab='Normalized Cell Counts', line=5, cex.lab=fs)\n",
    "    axis(1, at=0:3, labels=NA)\n",
    "#     text(x=c(1:2)+0.15, y=-0.1, labels=c(regions.names[curr.region], 'Other'),\n",
    "#          xpd = NA, srt = 0, cex = 3, pos = 2)\n",
    "    text(x=c(1:2), y=-0.1, labels=c(regions.names[curr.region], 'Other'), \n",
    "         xpd = NA, srt = 0, cex = 3) #, pos = 2)\n",
    "    axis(2, at=c(0,0.2,0.4,0.6,0.8,1), las = 2, cex.axis = 3)\n",
    "#     axis(1, at=1:2, labels=c(regions.names[curr.region], 'Other'), cex.axis = 3)#, regions.names[curr.region], 'Other'))    \n",
    "}\n",
    "\n",
    "dev.off()\n"
   ]
  },
  {
   "cell_type": "markdown",
   "id": "7b3758b9",
   "metadata": {},
   "source": [
    "#### plot gene expression on tissue"
   ]
  },
  {
   "cell_type": "code",
   "execution_count": null,
   "id": "9321d9d6",
   "metadata": {},
   "outputs": [],
   "source": [
    "options(repr.plot.width=16, repr.plot.height=10)\n",
    "par(mfcol = c(1,2))\n",
    "curr.norm <- 'libsize'\n",
    "curr.gs <- 'Zone 3'\n",
    "curr.gexp.norm.skewed <- skewed.rast[[curr.gs]][[curr.norm]]\n",
    "curr.cells <- colnames(curr.gexp.norm.skewed)\n",
    "curr.gexp.norm.full <- full.rast[[curr.norm]][,curr.cells]\n",
    "curr.pos <- pos.rast[curr.cells,]\n",
    "\n",
    "curr.genes <- fps #c('TNXB','EPHA3','MXRA8','COL14A1','MRC2','NDUFA4L2') #fns\n",
    "xl <- range(pos[,1]) #c(4500,6000)\n",
    "yl <- range(pos[,2]) #c(5000,7000)\n",
    "\n",
    "col.p <- 'A'\n",
    "qn <- 0.95 #quantile for winsorizing\n",
    "\n",
    "for (curr.g in curr.genes){\n",
    "#     hist(curr.gexp.norm.skewed[curr.g,])\n",
    "#     hist(curr.gexp.norm.full[curr.g,])\n",
    "    \n",
    "    curr.skewed <- log10(curr.gexp.norm.skewed[curr.g,]+1)\n",
    "    curr.full <- log10(curr.gexp.norm.full[curr.g,]+1)\n",
    "    curr.skewed[curr.skewed>quantile(curr.skewed, qn)] <- quantile(curr.skewed, qn)\n",
    "    curr.full[curr.full>quantile(curr.full, qn)] <- quantile(curr.full, qn)\n",
    "\n",
    "    df.curr.skewed <- as.data.frame(cbind(curr.pos, fill = curr.skewed))\n",
    "    df.curr.full <- as.data.frame(cbind(curr.pos, fill = curr.full))\n",
    "    \n",
    "    plt1 <- ggplot2::ggplot(df.curr.skewed, ggplot2::aes(x = x, y = y, fill = fill)) +\n",
    "    coord_fixed() +\n",
    "    ggtitle(curr.g) + \n",
    "    scale_fill_viridis_c(name = expression(log[10](Pdgfra + 1)), option = col.p, direction = 1) +\n",
    "    geom_tile(width = 0.05, height = 0.05) + \n",
    "#     geom_rect(aes(xmin = xl[1], xmax = xl[2], ymin = yl[1], ymax = yl[2]), colour=\"red\", fill=NA) + \n",
    "#     labs(fill = paste0(expression(log[10]), '(', curr.g, '+ 1)')) +\n",
    "    theme_classic() +\n",
    "    theme(panel.grid = element_blank(), panel.background = element_rect(fill = \"black\"),\n",
    "          line = element_blank(), axis.title = element_blank(), \n",
    "          axis.text = element_blank(), axis.ticks = element_blank(),\n",
    "          legend.position = \"bottom\",\n",
    "         legend.title.align = 0.5)\n",
    "#     ggsave(paste0(save.dir, '/svg_FPFN/tissue_exp/svg_falsePositive_exampleGenes_tissue_skewed_Zone3_',curr.g,'.pdf'), plt1, bg='transparent')\n",
    "    print(plt1)\n",
    "    \n",
    "    plt1 <- ggplot2::ggplot(df.curr.skewed, ggplot2::aes(x = x, y = y, fill = fill)) +\n",
    "    xlim(xl) +\n",
    "    ylim(yl) +\n",
    "    coord_fixed() +\n",
    "    scale_fill_viridis_c(name = expression(log[10](Pdgfra + 1)), option = col.p, direction = 1) +\n",
    "    geom_tile(width = 0.05, height = 0.05) + \n",
    "#     labs(fill = paste0(expression(log[10]), '(', curr.g, '+ 1)')) +\n",
    "    theme_classic() +\n",
    "    theme(panel.grid = element_blank(), panel.background = element_rect(fill = \"black\"),\n",
    "          line = element_blank(), axis.title = element_blank(), \n",
    "          axis.text = element_blank(), axis.ticks = element_blank(),\n",
    "          legend.position = \"bottom\",\n",
    "         legend.title.align = 0.5)\n",
    "#     ggsave(paste0(save.dir, '/svg_FPFN/tissue_exp/svg_falseNegative_exampleGenes_tissue_skewed_zoom.pdf'), plt1, bg='transparent')\n",
    "    \n",
    "    plt2 <- ggplot2::ggplot(df.curr.full, ggplot2::aes(x = x, y = y, fill = fill)) +\n",
    "    coord_fixed() +\n",
    "    scale_fill_viridis_c(name = expression(log[10](Pdgfra + 1)), option = col.p, direction = 1) +\n",
    "    geom_tile(width = 0.05, height = 0.05) + \n",
    "#     geom_rect(aes(xmin = xl[1], xmax = xl[2], ymin = yl[1], ymax = yl[2]), colour=\"red\", fill=NA) + \n",
    "#     labs(fill = paste0(expression(log[10]), '(', curr.g, '+ 1)')) +\n",
    "    theme_classic() +\n",
    "    theme(panel.grid = element_blank(), panel.background = element_rect(fill = \"black\"),\n",
    "          line = element_blank(), axis.title = element_blank(), \n",
    "          axis.text = element_blank(), axis.ticks = element_blank(),\n",
    "          legend.position = \"bottom\",\n",
    "         legend.title.align = 0.5)\n",
    "#     ggsave(paste0(save.dir, '/svg_FPFN/tissue_exp/svg_falsePositive_exampleGenes_tissue_skewed_Zone3_',curr.g,'.pdf'), plt2, bg='transparent')\n",
    "    print(plt2)\n",
    "    \n",
    "    plt2 <- ggplot2::ggplot(df.curr.full, ggplot2::aes(x = x, y = y, fill = fill)) +\n",
    "    xlim(xl) +\n",
    "    ylim(yl) +\n",
    "    coord_fixed() +\n",
    "    scale_fill_viridis_c(name = expression(log[10](Pdgfra + 1)), option = col.p, direction = 1) +\n",
    "    geom_tile(width = 0.05, height = 0.05) + \n",
    "#     labs(fill = paste0(expression(log[10]), '(', curr.g, '+ 1)')) +\n",
    "    theme_classic() +\n",
    "    theme(panel.grid = element_blank(), panel.background = element_rect(fill = \"black\"),\n",
    "          line = element_blank(), axis.title = element_blank(), \n",
    "          axis.text = element_blank(), axis.ticks = element_blank(),\n",
    "          legend.position = \"bottom\",\n",
    "         legend.title.align = 0.5)\n",
    "#     ggsave(paste0(save.dir, '/svg_FPFN/tissue_exp/svg_falseNegative_exampleGenes_tissue_full_zoom.pdf'), plt2, bg='transparent')\n",
    "    \n",
    "}\n",
    "\n",
    "# plt1\n",
    "# plt2\n",
    "# ggsave('myplot.png', p, bg='transparent')\n",
    "# paste0(save.dir, '/svg_FPFN/svg_falseNegative_exampleGenes_2.pdf')"
   ]
  },
  {
   "cell_type": "markdown",
   "id": "64e85c61",
   "metadata": {},
   "source": [
    "#### plot gene expression on tissue"
   ]
  },
  {
   "cell_type": "code",
   "execution_count": null,
   "id": "bba27799",
   "metadata": {},
   "outputs": [],
   "source": [
    "fns"
   ]
  },
  {
   "cell_type": "code",
   "execution_count": null,
   "id": "89ac3612",
   "metadata": {},
   "outputs": [],
   "source": [
    "options(repr.plot.width=16, repr.plot.height=10)\n",
    "par(mfcol = c(1,2))\n",
    "curr.norm <- 'libsize'\n",
    "curr.gs <- 'Zone 3'\n",
    "curr.gexp.norm.skewed <- skewed.rast[[curr.gs]][[curr.norm]]\n",
    "curr.cells <- colnames(curr.gexp.norm.skewed)\n",
    "curr.gexp.norm.full <- full.rast[[curr.norm]][,curr.cells]\n",
    "curr.pos <- pos.rast[curr.cells,]\n",
    "\n",
    "curr.genes <- fns #c('TNXB','EPHA3','MXRA8','COL14A1','MRC2','NDUFA4L2') #fns\n",
    "xl <- range(pos[,1]) #c(4500,6000)\n",
    "yl <- range(pos[,2]) #c(5000,7000)\n",
    "\n",
    "col.p <- 'viridis'\n",
    "qn <- 0.98 #quantile for winsorizing\n",
    "\n",
    "for (curr.g in curr.genes){\n",
    "#     hist(curr.gexp.norm.skewed[curr.g,])\n",
    "#     hist(curr.gexp.norm.full[curr.g,])\n",
    "    \n",
    "    curr.skewed <- log10(curr.gexp.norm.skewed[curr.g,]+1)\n",
    "    curr.full <- log10(curr.gexp.norm.full[curr.g,]+1)\n",
    "    curr.skewed[curr.skewed>quantile(curr.skewed, qn)] <- quantile(curr.skewed, qn)\n",
    "    curr.full[curr.full>quantile(curr.full, qn)] <- quantile(curr.full, qn)\n",
    "\n",
    "    df.curr.skewed <- as.data.frame(cbind(curr.pos, fill = curr.skewed))\n",
    "    df.curr.full <- as.data.frame(cbind(curr.pos, fill = curr.full))\n",
    "    \n",
    "    plt1 <- ggplot2::ggplot(df.curr.skewed, ggplot2::aes(x = x, y = y, fill = fill)) +\n",
    "    coord_fixed() +\n",
    "    ggtitle(curr.g) + \n",
    "    scale_fill_viridis_c(name = expression(log[10](Pdgfra + 1)), option = col.p, direction = 1) +\n",
    "    geom_tile(width = 0.05, height = 0.05) + \n",
    "#     geom_rect(aes(xmin = xl[1], xmax = xl[2], ymin = yl[1], ymax = yl[2]), colour=\"red\", fill=NA) + \n",
    "#     labs(fill = paste0(expression(log[10]), '(', curr.g, '+ 1)')) +\n",
    "    theme_classic() +\n",
    "    theme(panel.grid = element_blank(), panel.background = element_rect(fill = \"black\"),\n",
    "          line = element_blank(), axis.title = element_blank(), \n",
    "          axis.text = element_blank(), axis.ticks = element_blank(),\n",
    "          legend.position = \"bottom\",\n",
    "         legend.title.align = 0.5)\n",
    "#     ggsave(paste0(save.dir, '/svg_FPFN/svg_falseNegative_exampleGenes_tissue_skewed_Zone3_',curr.g,'.pdf'), plt1, bg='transparent')\n",
    "    print(plt1)\n",
    "    \n",
    "    plt1 <- ggplot2::ggplot(df.curr.skewed, ggplot2::aes(x = x, y = y, fill = fill)) +\n",
    "    xlim(xl) +\n",
    "    ylim(yl) +\n",
    "    coord_fixed() +\n",
    "    scale_fill_viridis_c(name = expression(log[10](Pdgfra + 1)), option = col.p, direction = 1) +\n",
    "    geom_tile(width = 0.05, height = 0.05) + \n",
    "#     labs(fill = paste0(expression(log[10]), '(', curr.g, '+ 1)')) +\n",
    "    theme_classic() +\n",
    "    theme(panel.grid = element_blank(), panel.background = element_rect(fill = \"black\"),\n",
    "          line = element_blank(), axis.title = element_blank(), \n",
    "          axis.text = element_blank(), axis.ticks = element_blank(),\n",
    "          legend.position = \"bottom\",\n",
    "         legend.title.align = 0.5)\n",
    "#     ggsave(paste0(save.dir, '/svg_FPFN/svg_falseNegative_exampleGenes_tissue_skewed_zoom.pdf'), plt1, bg='transparent')\n",
    "    \n",
    "    plt2 <- ggplot2::ggplot(df.curr.full, ggplot2::aes(x = x, y = y, fill = fill)) +\n",
    "    coord_fixed() +\n",
    "    scale_fill_viridis_c(name = expression(log[10](Pdgfra + 1)), option = col.p, direction = 1) +\n",
    "    geom_tile(width = 0.05, height = 0.05) + \n",
    "#     geom_rect(aes(xmin = xl[1], xmax = xl[2], ymin = yl[1], ymax = yl[2]), colour=\"red\", fill=NA) + \n",
    "#     labs(fill = paste0(expression(log[10]), '(', curr.g, '+ 1)')) +\n",
    "    theme_classic() +\n",
    "    theme(panel.grid = element_blank(), panel.background = element_rect(fill = \"black\"),\n",
    "          line = element_blank(), axis.title = element_blank(), \n",
    "          axis.text = element_blank(), axis.ticks = element_blank(),\n",
    "          legend.position = \"bottom\",\n",
    "         legend.title.align = 0.5)\n",
    "#     ggsave(paste0(save.dir, '/svg_FPFN/svg_falseNegative_exampleGenes_tissue_skewed_Zone3_',curr.g,'.pdf'), plt2, bg='transparent')\n",
    "    print(plt2)\n",
    "    \n",
    "    plt2 <- ggplot2::ggplot(df.curr.full, ggplot2::aes(x = x, y = y, fill = fill)) +\n",
    "    xlim(xl) +\n",
    "    ylim(yl) +\n",
    "    coord_fixed() +\n",
    "    scale_fill_viridis_c(name = expression(log[10](Pdgfra + 1)), option = col.p, direction = 1) +\n",
    "    geom_tile(width = 0.05, height = 0.05) + \n",
    "#     labs(fill = paste0(expression(log[10]), '(', curr.g, '+ 1)')) +\n",
    "    theme_classic() +\n",
    "    theme(panel.grid = element_blank(), panel.background = element_rect(fill = \"black\"),\n",
    "          line = element_blank(), axis.title = element_blank(), \n",
    "          axis.text = element_blank(), axis.ticks = element_blank(),\n",
    "          legend.position = \"bottom\",\n",
    "         legend.title.align = 0.5)\n",
    "#     ggsave(paste0(save.dir, '/svg_FPFN/svg_falseNegative_exampleGenes_tissue_full_zoom.pdf'), plt2, bg='transparent')\n",
    "    \n",
    "}\n",
    "\n",
    "# plt1\n",
    "# plt2\n",
    "# ggsave('myplot.png', p, bg='transparent')\n",
    "# paste0(save.dir, '/svg_FPFN/svg_falseNegative_exampleGenes_2.pdf')"
   ]
  },
  {
   "cell_type": "code",
   "execution_count": null,
   "id": "0ced1839",
   "metadata": {},
   "outputs": [],
   "source": [
    "##specific examples - false positive\n",
    "options(repr.plot.width=15, repr.plot.height=5)\n",
    "# png(paste0(save.dir, 'logFC_falsePositive_exampleGenes.png'),  width = 1150, height = 550)\n",
    "pdf(paste0(save.dir, '/svg_FPFN/svg_falseNegative_exampleGenes_Zone3.pdf'),  width = 15, height = 10)\n",
    "\n",
    "par(mfrow = c(1,2))\n",
    "gs <- 'Zone 3'\n",
    "n <- 'libsize'\n",
    "fs <- 4\n",
    "\n",
    "lfc.fp.egs.genes <- fns\n",
    "lfc.fp.egs.regions <- rep(gs, length(lfc.fp.egs.genes))\n",
    "\n",
    "# lfc.fp.egs.genes <- c('Lgr4')\n",
    "# lfc.fp.egs.regions <- c('habenula')\n",
    "\n",
    "for (i in seq_along(lfc.fp.egs.genes)){\n",
    "    \n",
    "    curr.gene <- lfc.fp.egs.genes[i]\n",
    "    curr.region <- lfc.fp.egs.regions[i]\n",
    "    \n",
    "    curr.counts.skewed <- skewed.norms[[gs]][[n]][curr.gene,]\n",
    "    curr.counts.all <- all.norms[[n]][curr.gene,]\n",
    "    \n",
    "    curr.cells <- intersect(names(curr.counts.skewed), names(curr.counts.all))\n",
    "    curr.counts.skewed <- curr.counts.skewed[curr.cells]\n",
    "    curr.counts.all <- curr.counts.all[curr.cells]\n",
    "    \n",
    "    curr.region.cells <- curr.cells[curr.cells %in% names(cluster)[cluster==curr.region]]\n",
    "    curr.other.cells <- curr.cells[curr.cells %in% names(cluster)[cluster!=curr.region]]\n",
    "    \n",
    "    curr.counts.skewed.region <- log10(curr.counts.skewed[curr.region.cells]+1)\n",
    "    curr.counts.skewed.other <- log10(curr.counts.skewed[curr.other.cells]+1)\n",
    "    \n",
    "    curr.counts.all.region <- log10(curr.counts.all[curr.region.cells]+1)\n",
    "    curr.counts.all.other <- log10(curr.counts.all[curr.other.cells]+1)\n",
    "    \n",
    "    length(curr.counts.skewed.region) <- length(curr.counts.skewed.other) <- length(curr.counts.all.region) <- length(curr.counts.all.other) <- max(length(curr.region.cells),length(curr.other.cells))\n",
    "    \n",
    "    curr.skewed <- cbind(curr.counts.skewed.region, curr.counts.skewed.other)\n",
    "    colnames(curr.skewed) <- paste0(curr.gene, c('_region', '_other'))\n",
    "    \n",
    "    curr.all <- cbind(curr.counts.all.region, curr.counts.all.other)\n",
    "    colnames(curr.all) <- paste0(curr.gene, c('_region', '_other'))\n",
    "    \n",
    "    #normalize by max to plot on the same scale\n",
    "    curr.skewed <- curr.skewed/max(curr.skewed, na.rm = TRUE)\n",
    "    curr.all <- curr.all/max(curr.all, na.rm = TRUE)\n",
    "    \n",
    "#     boxplot(curr.skewed, main = paste(curr.gene, curr.region, 'skewed'))\n",
    "#     boxplot(curr.all, main = paste(curr.gene, curr.region, 'all'))\n",
    "    \n",
    "    ## all in the same plot \n",
    "#     curr.combined <- cbind(curr.counts.skewed.region, curr.counts.skewed.other, \n",
    "#                            curr.counts.all.region, curr.counts.all.other)\n",
    "    curr.combined <- cbind(curr.skewed, curr.all)\n",
    "    colnames(curr.combined) <- c(paste0('skewed_',curr.region), paste0('skewed_other'),\n",
    "                                paste0('all_',curr.region), paste0('all_other'))\n",
    "#     boxplot(curr.combined, main = paste(curr.gene, curr.region, nrow(curr.combined)))\n",
    "    \n",
    "    curr.combined <- reshape2::melt(curr.combined)\n",
    "    curr.combined <- curr.combined[ ((!is.na(curr.combined$value))),]# & curr.combined$value > 0)), ]\n",
    "    \n",
    "    par(mfrow = c(1,2), mar = c(10.1, 10.1, 6.1, 2.1))\n",
    "#     curr.combined.sub <- curr.combined[curr.combined$Var2 %in% c(paste0('skewed_',curr.region), 'skewed_other'),]\n",
    "    curr.combined.sub <- curr.skewed\n",
    "    colnames(curr.combined.sub) <- c(paste0('skewed_',curr.region), paste0('skewed_other'))\n",
    "    curr.combined.sub <- reshape2::melt(curr.combined.sub)\n",
    "    curr.combined.sub <- curr.combined.sub[ ((!is.na(curr.combined.sub$value))),]\n",
    "    \n",
    "    beeswarm(curr.combined.sub$value ~ curr.combined.sub$Var2, \n",
    "             ylim = c(0,1),\n",
    "             bty = 'n', xaxs = 'i', yaxs = 'i',\n",
    "             pch = 16, cex = 1, col = scales::alpha('black',0.5), \n",
    "             xlab = '', ylab = '', xaxt = \"n\", yaxt = 'n',\n",
    "#              xlab = 'Anatomical Region', ylab = 'Normalized Cell Counts',\n",
    "             method = 'compactswarm', corral = 'random', priority = 'density', \n",
    "             main = paste('Skewed',curr.gene), cex.main = fs)\n",
    "    title(xlab='Anatomical Region', line=8, cex.lab=fs)\n",
    "    title(ylab='Normalized Cell Counts', line=6, cex.lab=fs)\n",
    "    axis(1, at=0:3, labels=NA)\n",
    "#     text(x=c(1:2)+0.15, y=-0.1, labels=c(regions.names[curr.region], 'Other'), \n",
    "#          xpd = NA, srt = 4, cex = 3, pos = 2)\n",
    "    text(x=c(1:2), y=-0.1, labels=c(regions.names[curr.region], 'Other'), \n",
    "         xpd = NA, srt = 0, cex = 3) #, pos = 2)\n",
    "    axis(2, at=c(0,0.2,0.4,0.6,0.8,1), las = 2, cex.axis = 3)\n",
    "#     axis(1, at=1:2, labels=c(regions.names[curr.region], 'Other'), cex.axis = 3) #, regions.names[curr.region], 'Other'))\n",
    "    \n",
    "#     curr.combined.sub <- curr.combined[curr.combined$Var2 %in% c(paste0('all_',curr.region), 'all_other'),]\n",
    "    curr.combined.sub <- curr.all\n",
    "    colnames(curr.combined.sub) <- c(paste0('all_',curr.region), paste0('all_other'))\n",
    "    curr.combined.sub <- reshape2::melt(curr.combined.sub)\n",
    "    curr.combined.sub <- curr.combined.sub[ ((!is.na(curr.combined.sub$value))),]    \n",
    "    \n",
    "    beeswarm(curr.combined.sub$value ~ curr.combined.sub$Var2, \n",
    "             ylim = c(0,1),\n",
    "             bty = 'n', xaxs = 'i', yaxs = 'i',\n",
    "             pch = 16, cex = 1, col = scales::alpha('black',0.5), \n",
    "             xlab = '', ylab = '', xaxt = \"n\", yaxt=\"n\",\n",
    "#              xlab = 'Anatomical Region', ylab = 'Normalized Cell Counts',\n",
    "             method = 'compactswarm', corral = 'random', priority = 'density', \n",
    "             main = paste('Full gene panel'), cex.main = fs)\n",
    "    title(xlab='Anatomical Region', line=8, cex.lab=fs)\n",
    "    title(ylab='Normalized Cell Counts', line=5, cex.lab=fs)\n",
    "    axis(1, at=0:3, labels=NA)\n",
    "#     text(x=c(1:2)+0.15, y=-0.1, labels=c(regions.names[curr.region], 'Other'),\n",
    "#          xpd = NA, srt = 0, cex = 3, pos = 2)\n",
    "    text(x=c(1:2), y=-0.1, labels=c(regions.names[curr.region], 'Other'), \n",
    "         xpd = NA, srt = 0, cex = 3) #, pos = 2)\n",
    "    axis(2, at=c(0,0.2,0.4,0.6,0.8,1), las = 2, cex.axis = 3)\n",
    "#     axis(1, at=1:2, labels=c(regions.names[curr.region], 'Other'), cex.axis = 3)#, regions.names[curr.region], 'Other'))    \n",
    "}\n",
    "\n",
    "dev.off()\n"
   ]
  },
  {
   "cell_type": "markdown",
   "id": "78aac4ed",
   "metadata": {},
   "source": [
    "### SVG FP FN RATES"
   ]
  },
  {
   "cell_type": "code",
   "execution_count": 88,
   "id": "841cd975",
   "metadata": {},
   "outputs": [
    {
     "name": "stderr",
     "output_type": "stream",
     "text": [
      "Warning message in dir.create(paste0(save.dir, \"svg_FPFN/\")):\n",
      "“'./figs/figs_feb_27_fpfn/svg_FPFN' already exists”\n"
     ]
    }
   ],
   "source": [
    "dir.create(paste0(save.dir,'svg_FPFN/'))"
   ]
  },
  {
   "cell_type": "code",
   "execution_count": 85,
   "id": "6ebcac01",
   "metadata": {},
   "outputs": [
    {
     "data": {
      "text/html": [
       "<table class=\"dataframe\">\n",
       "<caption>A data.frame: 6 × 3</caption>\n",
       "<thead>\n",
       "\t<tr><th></th><th scope=col>Zone 3</th><th scope=col>Zone 1</th><th scope=col>random</th></tr>\n",
       "\t<tr><th></th><th scope=col>&lt;dbl&gt;</th><th scope=col>&lt;dbl&gt;</th><th scope=col>&lt;dbl&gt;</th></tr>\n",
       "</thead>\n",
       "<tbody>\n",
       "\t<tr><th scope=row>nonorm</th><td>0.04848485</td><td>0.02051282</td><td>0.006024096</td></tr>\n",
       "\t<tr><th scope=row>libsize</th><td>0.09937888</td><td>0.22335025</td><td>0.017241379</td></tr>\n",
       "\t<tr><th scope=row>deseq</th><td>0.02515723</td><td>0.03108808</td><td>0.017964072</td></tr>\n",
       "\t<tr><th scope=row>tmm</th><td>0.30769231</td><td>0.23834197</td><td>0.028409091</td></tr>\n",
       "\t<tr><th scope=row>area</th><td>0.01923077</td><td>0.00000000</td><td>0.028735632</td></tr>\n",
       "\t<tr><th scope=row>sct</th><td>0.10778443</td><td>0.11616162</td><td>0.028571429</td></tr>\n",
       "</tbody>\n",
       "</table>\n"
      ],
      "text/latex": [
       "A data.frame: 6 × 3\n",
       "\\begin{tabular}{r|lll}\n",
       "  & Zone 3 & Zone 1 & random\\\\\n",
       "  & <dbl> & <dbl> & <dbl>\\\\\n",
       "\\hline\n",
       "\tnonorm & 0.04848485 & 0.02051282 & 0.006024096\\\\\n",
       "\tlibsize & 0.09937888 & 0.22335025 & 0.017241379\\\\\n",
       "\tdeseq & 0.02515723 & 0.03108808 & 0.017964072\\\\\n",
       "\ttmm & 0.30769231 & 0.23834197 & 0.028409091\\\\\n",
       "\tarea & 0.01923077 & 0.00000000 & 0.028735632\\\\\n",
       "\tsct & 0.10778443 & 0.11616162 & 0.028571429\\\\\n",
       "\\end{tabular}\n"
      ],
      "text/markdown": [
       "\n",
       "A data.frame: 6 × 3\n",
       "\n",
       "| <!--/--> | Zone 3 &lt;dbl&gt; | Zone 1 &lt;dbl&gt; | random &lt;dbl&gt; |\n",
       "|---|---|---|---|\n",
       "| nonorm | 0.04848485 | 0.02051282 | 0.006024096 |\n",
       "| libsize | 0.09937888 | 0.22335025 | 0.017241379 |\n",
       "| deseq | 0.02515723 | 0.03108808 | 0.017964072 |\n",
       "| tmm | 0.30769231 | 0.23834197 | 0.028409091 |\n",
       "| area | 0.01923077 | 0.00000000 | 0.028735632 |\n",
       "| sct | 0.10778443 | 0.11616162 | 0.028571429 |\n",
       "\n"
      ],
      "text/plain": [
       "        Zone 3     Zone 1     random     \n",
       "nonorm  0.04848485 0.02051282 0.006024096\n",
       "libsize 0.09937888 0.22335025 0.017241379\n",
       "deseq   0.02515723 0.03108808 0.017964072\n",
       "tmm     0.30769231 0.23834197 0.028409091\n",
       "area    0.01923077 0.00000000 0.028735632\n",
       "sct     0.10778443 0.11616162 0.028571429"
      ]
     },
     "metadata": {},
     "output_type": "display_data"
    },
    {
     "data": {
      "text/html": [
       "0.307692307692308"
      ],
      "text/latex": [
       "0.307692307692308"
      ],
      "text/markdown": [
       "0.307692307692308"
      ],
      "text/plain": [
       "[1] 0.3076923"
      ]
     },
     "metadata": {},
     "output_type": "display_data"
    }
   ],
   "source": [
    "fn.svgs.all\n",
    "max(fn.svgs.all)"
   ]
  },
  {
   "cell_type": "code",
   "execution_count": 89,
   "id": "3ceb9813",
   "metadata": {},
   "outputs": [
    {
     "data": {
      "text/html": [
       "<strong>png:</strong> 2"
      ],
      "text/latex": [
       "\\textbf{png:} 2"
      ],
      "text/markdown": [
       "**png:** 2"
      ],
      "text/plain": [
       "png \n",
       "  2 "
      ]
     },
     "metadata": {},
     "output_type": "display_data"
    },
    {
     "data": {
      "text/html": [
       "<strong>png:</strong> 2"
      ],
      "text/latex": [
       "\\textbf{png:} 2"
      ],
      "text/markdown": [
       "**png:** 2"
      ],
      "text/plain": [
       "png \n",
       "  2 "
      ]
     },
     "metadata": {},
     "output_type": "display_data"
    }
   ],
   "source": [
    "options(repr.plot.width=6, repr.plot.height=7)\n",
    "pdf(paste0(save.dir, 'svg_FPFN/svg_false_negative_rates_all_genesets.pdf'),  \n",
    "    width = 7, height = 8)\n",
    "par(mfrow = c(1,1), mar = c(17.1, 10, 3.1, 2.1))\n",
    "\n",
    "xtcks <- c(0:length(norms.to.include)+1)\n",
    "\n",
    "x <- rep(seq(length(norms.to.include)), each = length(genesets)) # no sctransform sf or no norm sfs\n",
    "y <- as.vector(t(fn.svgs.all[norms.to.include,]))\n",
    "xl <- c(0,max(x)+1)\n",
    "yl <- c(0,0.32)\n",
    "yt <- seq(from = 0, to = 0.32, by = 0.04)\n",
    "\n",
    "curr.col <- rep(col.geneset[colnames(fn.svgs.all)], length(norms.to.include))\n",
    "curr.pch <- rep(c(15:17), length(norms.to.include))\n",
    "\n",
    "plot(x,y, pch = curr.pch, cex = 4, col = scales::alpha(curr.col, 0.7), xlim = xl, ylim = yl, \n",
    "     bg = scales::alpha(col.geneset['random'], 0.7),\n",
    "    xaxt = \"n\", yaxt = \"n\", frame.plot=FALSE, xaxs = 'i', yaxs = 'i',\n",
    "    ylab = '', xlab = '')\n",
    "axis(1, at = c(0,xtcks), cex.axis=2, labels = FALSE)\n",
    "axis(2, at = yt, cex.axis=3, las = 2)\n",
    "text(x = xtcks[1:length(norms.to.include)]+0.15, y = min(yl)-0.005, \n",
    "     labels = norms.names, xpd = NA, srt = 45, cex = 2, pos = 2)\n",
    "title(xlab='Normalization', line=14, cex.lab=fs)\n",
    "title(ylab='False negative rate', line=6, cex.lab=fs)\n",
    "dev.off()\n",
    "\n",
    "pdf(paste0(save.dir, 'svg_FPFN/svg_false_negative_rates_no_random.pdf'),  \n",
    "    width = 7, height = 8)\n",
    "par(mfrow = c(1,1), mar = c(17.1, 10, 3.1, 2.1))\n",
    "\n",
    "gs.to.include <- names(genesets)[1:(length(genesets)-1)]\n",
    "\n",
    "x = rep(seq(length(norms)), each = length(genesets)-1) # no sctransform sf or no norm sfs\n",
    "y = as.vector(t(fn.svgs.all[norms.to.include,1:2]))\n",
    "xl <- c(0,max(x)+1)\n",
    "# yl <- c(0,0.28)\n",
    "# yt <- seq(from = 0, to = 0.28, by = 0.04)\n",
    "\n",
    "curr.col <- rep(col.geneset[gs.to.include], length(norms.to.include)-1)\n",
    "curr.pch <- rep(c(15:16), length(norms.to.include))\n",
    "\n",
    "plot(x,y, pch = curr.pch, cex = 4, col = scales::alpha(curr.col, 0.7), xlim = xl, ylim = yl,\n",
    "    xaxt = \"n\", yaxt = \"n\", frame.plot=FALSE, xaxs = 'i', yaxs = 'i',\n",
    "    ylab = '', xlab = '')\n",
    "axis(1, at = c(0,xtcks), cex.axis=2, labels = FALSE)\n",
    "axis(2, at = yt, cex.axis=3, las = 2)\n",
    "text(x = xtcks[1:length(norms.to.include)]+0.15, y = min(yl)-0.005, \n",
    "     labels = norms.names, xpd = NA, srt = 45, cex = 2, pos = 2)\n",
    "title(xlab='Normalization', line=14, cex.lab=fs)\n",
    "title(ylab='False negative rate', line=6, cex.lab=fs)\n",
    "dev.off()"
   ]
  },
  {
   "cell_type": "code",
   "execution_count": 91,
   "id": "e9c829d1",
   "metadata": {},
   "outputs": [
    {
     "data": {
      "text/html": [
       "<style>\n",
       ".list-inline {list-style: none; margin:0; padding: 0}\n",
       ".list-inline>li {display: inline-block}\n",
       ".list-inline>li:not(:last-child)::after {content: \"\\00b7\"; padding: 0 .5ex}\n",
       "</style>\n",
       "<ol class=list-inline><li>0.223350253807107</li><li>0.116161616161616</li><li>0.0310880829015544</li><li>0.238341968911917</li><li>0</li><li>0.0205128205128205</li></ol>\n"
      ],
      "text/latex": [
       "\\begin{enumerate*}\n",
       "\\item 0.223350253807107\n",
       "\\item 0.116161616161616\n",
       "\\item 0.0310880829015544\n",
       "\\item 0.238341968911917\n",
       "\\item 0\n",
       "\\item 0.0205128205128205\n",
       "\\end{enumerate*}\n"
      ],
      "text/markdown": [
       "1. 0.223350253807107\n",
       "2. 0.116161616161616\n",
       "3. 0.0310880829015544\n",
       "4. 0.238341968911917\n",
       "5. 0\n",
       "6. 0.0205128205128205\n",
       "\n",
       "\n"
      ],
      "text/plain": [
       "[1] 0.22335025 0.11616162 0.03108808 0.23834197 0.00000000 0.02051282"
      ]
     },
     "metadata": {},
     "output_type": "display_data"
    },
    {
     "data": {
      "text/html": [
       "0.238341968911917"
      ],
      "text/latex": [
       "0.238341968911917"
      ],
      "text/markdown": [
       "0.238341968911917"
      ],
      "text/plain": [
       "[1] 0.238342"
      ]
     },
     "metadata": {},
     "output_type": "display_data"
    }
   ],
   "source": [
    "fn.svgs.all[norms.to.include,'Zone 1']\n",
    "max(fn.svgs.all[norms.to.include,'Zone 1'])"
   ]
  },
  {
   "cell_type": "code",
   "execution_count": 92,
   "id": "a74858a2",
   "metadata": {},
   "outputs": [
    {
     "data": {
      "text/html": [
       "<style>\n",
       ".list-inline {list-style: none; margin:0; padding: 0}\n",
       ".list-inline>li {display: inline-block}\n",
       ".list-inline>li:not(:last-child)::after {content: \"\\00b7\"; padding: 0 .5ex}\n",
       "</style>\n",
       "<ol class=list-inline><li>'libsize'</li><li>'sct'</li><li>'deseq'</li><li>'tmm'</li><li>'area'</li><li>'nonorm'</li></ol>\n"
      ],
      "text/latex": [
       "\\begin{enumerate*}\n",
       "\\item 'libsize'\n",
       "\\item 'sct'\n",
       "\\item 'deseq'\n",
       "\\item 'tmm'\n",
       "\\item 'area'\n",
       "\\item 'nonorm'\n",
       "\\end{enumerate*}\n"
      ],
      "text/markdown": [
       "1. 'libsize'\n",
       "2. 'sct'\n",
       "3. 'deseq'\n",
       "4. 'tmm'\n",
       "5. 'area'\n",
       "6. 'nonorm'\n",
       "\n",
       "\n"
      ],
      "text/plain": [
       "[1] \"libsize\" \"sct\"     \"deseq\"   \"tmm\"     \"area\"    \"nonorm\" "
      ]
     },
     "metadata": {},
     "output_type": "display_data"
    },
    {
     "data": {
      "text/html": [
       "<strong>png:</strong> 2"
      ],
      "text/latex": [
       "\\textbf{png:} 2"
      ],
      "text/markdown": [
       "**png:** 2"
      ],
      "text/plain": [
       "png \n",
       "  2 "
      ]
     },
     "metadata": {},
     "output_type": "display_data"
    }
   ],
   "source": [
    "## zone 1 false positive rates \n",
    "options(repr.plot.width=6, repr.plot.height=7)\n",
    "pdf(paste0(save.dir, 'svg_FPFN/svg_false_negative_rates_zone1.pdf'),  \n",
    "    width = 7, height = 9)\n",
    "par(mfrow = c(1,1), mar = c(17.1, 10, 3.1, 2.1))\n",
    "## all \n",
    "norms.to.include\n",
    "xtcks <- c(0:length(norms.to.include))\n",
    "\n",
    "x <- seq(length(norms.to.include)+1)\n",
    "y <- fn.svgs.all[norms.to.include,'Zone 1']\n",
    "xl <- c(0,max(x)+1)\n",
    "yl <- c(0, 0.24) \n",
    "\n",
    "barplot(y, xlim = xl, ylim = yl, width = 0.5, space = c(1.5,1,1,1,1,1),\n",
    "    xaxt = \"n\", yaxt = \"n\", xaxs = 'i', yaxs = 'i',\n",
    "    ylab = '', xlab = '')\n",
    "axis(1, at = c(0,xtcks), cex.axis=2, labels = FALSE)\n",
    "axis(2, at = seq(from = 0, to = 0.24, by = 0.04), cex.axis=3, las = 2)\n",
    "text(x = xtcks[1:length(norms.to.include)]+1.3, y = min(yl)-0.003, \n",
    "     labels = norms.names, xpd = NA, srt = 45, cex = 2, pos = 2)\n",
    "title(xlab='Normalization', line=14, cex.lab=fs)\n",
    "title(ylab='False negative rate', line=6, cex.lab=fs)\n",
    "dev.off()"
   ]
  },
  {
   "cell_type": "code",
   "execution_count": null,
   "id": "850edbe2",
   "metadata": {},
   "outputs": [],
   "source": [
    "options(repr.plot.width=6, repr.plot.height=7)\n",
    "pdf(paste0(save.dir, 'svg_FPFN/svg_false_positive_rates_all_genesets.pdf'),  \n",
    "    width = 7, height = 8)\n",
    "par(mfrow = c(1,1), mar = c(17.1, 10, 3.1, 2.1))\n",
    "\n",
    "xtcks <- c(0:length(norms.to.include)+1)\n",
    "\n",
    "x <- rep(seq(length(norms.to.include)), each = length(genesets)) # no sctransform sf or no norm sfs\n",
    "y <- as.vector(t(fp.svgs.all[norms.to.include,]))\n",
    "xl <- c(0,max(x)+1)\n",
    "yl <- c(0,0.08)\n",
    "yt <- seq(from = 0, to = 0.08, by = 0.02)\n",
    "\n",
    "curr.col <- rep(col.geneset[colnames(fp.svgs.all)], length(norms.to.include))\n",
    "curr.pch <- rep(c(15:17), length(norms.to.include))\n",
    "\n",
    "plot(x,y, pch = curr.pch, cex = 4, col = scales::alpha(curr.col, 0.7), xlim = xl, ylim = yl, \n",
    "     bg = scales::alpha(col.geneset['random'], 0.7),\n",
    "    xaxt = \"n\", yaxt = \"n\", frame.plot=FALSE, xaxs = 'i', yaxs = 'i',\n",
    "    ylab = '', xlab = '')\n",
    "axis(1, at = c(0,xtcks), cex.axis=2, labels = FALSE)\n",
    "axis(2, at = yt, cex.axis=3, las = 2)\n",
    "text(x = xtcks[1:length(norms.to.include)]+0.15, y = min(yl)-0.005, \n",
    "     labels = norms.names, xpd = NA, srt = 45, cex = 2, pos = 2)\n",
    "title(xlab='Normalization', line=14, cex.lab=fs)\n",
    "title(ylab='False positive rate', line=6, cex.lab=fs)\n",
    "dev.off()\n",
    "\n",
    "pdf(paste0(save.dir, 'svg_FPFN/svg_false_positive_rates_no_random.pdf'),  \n",
    "    width = 7, height = 8)\n",
    "par(mfrow = c(1,1), mar = c(17.1, 10, 3.1, 2.1))\n",
    "\n",
    "x = rep(seq(length(norms)), each = length(genesets)-1) # no sctransform sf or no norm sfs\n",
    "y = as.vector(t(fp.svgs.all[norms.to.include,1:2]))\n",
    "xl <- c(0,max(x)+1)\n",
    "yl <- c(0,0.08)\n",
    "yt <- seq(from = 0, to = 0.08, by = 0.02)\n",
    "\n",
    "curr.col <- rep(col.geneset[colnames(fp.svgs.all)[1:2]], length(norms.to.include)-1)\n",
    "curr.pch <- rep(c(15:16), length(norms.to.include))\n",
    "\n",
    "plot(x,y, pch = curr.pch, cex = 4, col = scales::alpha(curr.col, 0.7), xlim = xl, ylim = yl,\n",
    "    xaxt = \"n\", yaxt = \"n\", frame.plot=FALSE, xaxs = 'i', yaxs = 'i',\n",
    "    ylab = '', xlab = '')\n",
    "axis(1, at = c(0,xtcks), cex.axis=2, labels = FALSE)\n",
    "axis(2, at = yt, cex.axis=3, las = 2)\n",
    "text(x = xtcks[1:length(norms.to.include)]+0.15, y = min(yl)-0.005, \n",
    "     labels = norms.names, xpd = NA, srt = 45, cex = 2, pos = 2)\n",
    "title(xlab='Normalization', line=14, cex.lab=fs)\n",
    "title(ylab='False positive rate', line=6, cex.lab=fs)\n",
    "dev.off()"
   ]
  },
  {
   "cell_type": "code",
   "execution_count": null,
   "id": "0c961a74",
   "metadata": {},
   "outputs": [],
   "source": [
    "# errs.svgs <- array(c(as.matrix(fp.svgs.all), as.matrix(fn.svgs.all)), \n",
    "#                    c(length(norms),length(genesets),2))\n",
    "# errs.svgs <- apply(errs.svgs, c(1,2), mean)\n",
    "# colnames(errs.svgs) <- colnames(fp.svgs.all)\n",
    "# rownames(errs.svgs) <- rownames(fp.svgs.all)"
   ]
  },
  {
   "cell_type": "code",
   "execution_count": null,
   "id": "d4f59bc3",
   "metadata": {},
   "outputs": [],
   "source": [
    "# options(repr.plot.width=14, repr.plot.height=5)\n",
    "# # pdf(paste0(save.dir, 'svg_FPFN/','pval_error_rates.pdf'),  \n",
    "# #         width = 10, height = 6)\n",
    "# par(mfrow = c(1,2))\n",
    "# foo <- c('libsize','deseq','tmm','sct')\n",
    "# boxplot(errs.svgs[foo,], main = 'significant svgs overall error rate')\n",
    "# boxplot(t(errs.svgs))\n",
    "# boxplot(fp.svgs.all[foo,], main = 'significant svgs false positive rate')\n",
    "# boxplot(t(fp.svgs.all))\n",
    "# boxplot(fn.svgs.all[foo,], main = 'significant svgs false negative rate')\n",
    "# boxplot(t(fn.svgs.all))\n",
    "# # dev.off()"
   ]
  },
  {
   "cell_type": "code",
   "execution_count": null,
   "id": "402754b3",
   "metadata": {},
   "outputs": [],
   "source": [
    "# options(repr.plot.width=15, repr.plot.height=5)\n",
    "# pdf(paste0(save.dir, 'svg_FPFN/','pval_error_rates.pdf'),  \n",
    "#         width = 15, height = 6)\n",
    "# par(mfrow = c(1,3))\n",
    "\n",
    "# ylim <- range(rbind(errs.svgs, fp.svgs.all, fn.svgs.all))\n",
    "# norms.to.include <- c('libsize','deseq','tmm','sct')\n",
    "\n",
    "# plot(rep(seq(length(genesets)), each = length(norms.to.include)), unlist(errs.svgs[norms.to.include,]),\n",
    "#      ylim = ylim,\n",
    "#      xlab = 'Gene Panel', ylab = 'Error rate', main = 'SVG p-value error rate',\n",
    "#     pch = 16, cex = 2, col = rep(col.norms[norms.to.include], length(norms.to.include)))\n",
    "\n",
    "# plot(rep(seq(length(genesets)), each = length(norms.to.include)), unlist(fp.svgs.all[norms.to.include,]), \n",
    "#      ylim = ylim,\n",
    "#      xlab = 'Gene Panel', ylab = 'Error rate', main = 'SVG p-value false positive rate',\n",
    "#     pch = 16, cex = 2, col = rep(col.norms[norms.to.include], length(norms.to.include)))\n",
    "# legend(x=1, y=0.26,, legend = norms.names[names(col.norms)], col = col.norms, pch = 16, cex = 1.5, bty = 'n')\n",
    "\n",
    "# plot(rep(seq(length(genesets)), each = length(norms.to.include)), unlist(fn.svgs.all[norms.to.include,]), \n",
    "#      ylim = ylim,\n",
    "#      xlab = 'Gene Panel', ylab = 'Error rate', main = 'SVG p-value false negative rate',\n",
    "#     pch = 16, cex = 2, col = rep(col.norms[norms.to.include], length(norms.to.include)))\n",
    "\n",
    "# dev.off()"
   ]
  },
  {
   "cell_type": "markdown",
   "id": "36d07a80",
   "metadata": {},
   "source": [
    "### COMPARE SVG EFFECT SIZE"
   ]
  },
  {
   "cell_type": "code",
   "execution_count": null,
   "id": "15b195dd",
   "metadata": {},
   "outputs": [],
   "source": [
    "dir.create(paste0(save.dir,'svg_propsv_comparison'))"
   ]
  },
  {
   "cell_type": "code",
   "execution_count": null,
   "id": "a793b382",
   "metadata": {},
   "outputs": [],
   "source": [
    "options(repr.plot.width=20, repr.plot.height=8)\n",
    "\n",
    "norms.to.include <- c('libsize', 'sct', 'deseq', 'tmm', 'area', 'nonorm')\n",
    "norms.names <- c('Library Size', 'scTransform', 'DESeq2', 'TMM', 'Cell Area', 'No Normalization')\n",
    "names(norms.names) <- norms.to.include\n",
    "\n",
    "for (gs in names(genesets)){\n",
    "    pdf(paste0(save.dir, 'svg_propsv_comparison/', gs, '_skewed_vs_all_genes_log.pdf'),  \n",
    "        width = 30, height = 5)\n",
    "    par(mfrow = c(1,6), mar = c(10.1, 10.1, 6.1, 2.1))\n",
    "    \n",
    "    curr.x.lim <- c(0,1)\n",
    "    curr.y.lim <- c(0,1) \n",
    "\n",
    "    \n",
    "    for (n in norms.to.include){\n",
    "        curr.skewed.prop <- skewed.svgs[[gs]][[n]][,'prop_sv']\n",
    "        curr.geneset <- names(curr.skewed.prop)\n",
    "        curr.og.prop <- full.svgs[[n]][curr.geneset,'prop_sv']\n",
    "        \n",
    "        \n",
    "        plot(curr.og.prop, curr.skewed.prop, \n",
    "             pch = 16, cex = 1.5, col = 'dark grey',\n",
    "             xlim = curr.x.lim, ylim = curr.y.lim,\n",
    "             cex.lab = fs.small, cex.axis = fs.small, cex.main = fs, xaxt=\"n\", yaxt=\"n\",\n",
    "             xlab = '', ylab = '', bty = 'n', xaxs = 'i', yaxs = 'i',\n",
    "             main = paste(norms.names[n]))\n",
    "        title(xlab=expression(paste('Full gene panel')), line=8, cex.lab=fs)\n",
    "        title(ylab=paste('Skewed gene panel'), line=5, cex.lab=fs)\n",
    "        axis(side = 1, at = curr.x.lim, line = 0, cex.axis = fs, lty = 1, labels = FALSE)\n",
    "        axis(side = 2, at = curr.y.lim, line = 0, cex.axis = fs, lty = 1, labels = FALSE)        \n",
    "        axis(side = 1, line = 0, cex.axis = fs.small, lty = 1, labels = FALSE)\n",
    "        axis(side = 2, line = 0, cex.axis = fs.small, lty = 1, labels = FALSE)\n",
    "        axis(side = 1, line = 2.5, cex.axis = fs.small, lty = 0)\n",
    "        axis(side = 2, line = 0.5, cex.axis = fs.small, lty = 0)\n",
    "#         abline(v=0.05, h=0.05,col='grey')\n",
    "        abline(a=0,b=1,col='red')\n",
    "        \n",
    "        ##highlight examples with ventricle skewed geneset on libsize plot\n",
    "#         if (gs=='ventricles'){\n",
    "#             eg.points.x <- sapply(seq_along(test.genes), function(i) {\n",
    "#                 curr.og.pvalsAdj[test.genes[i], test.regions[i]]})\n",
    "#             eg.points.y <- sapply(seq_along(test.genes), function(i) {\n",
    "#                 curr.skewed.pvalsAdj[test.genes[i], test.regions[i]]})\n",
    "\n",
    "#             test.labels <- sapply(seq_along(test.genes), function(i){\n",
    "#                 paste(test.genes[i], test.regions[i])\n",
    "#             })            \n",
    "            \n",
    "#             points(eg.points.x, eg.points.y, \n",
    "#                   pch = 16, cex = 3, col = 'black')\n",
    "# #             text(eg.points.x+65, eg.points.y+10, labels = test.labels, cex = fs)\n",
    "#         }\n",
    "        \n",
    "        \n",
    "    }\n",
    "    dev.off()\n",
    "    \n",
    "}\n",
    "\n"
   ]
  }
 ],
 "metadata": {
  "kernelspec": {
   "display_name": "R",
   "language": "R",
   "name": "ir"
  },
  "language_info": {
   "codemirror_mode": "r",
   "file_extension": ".r",
   "mimetype": "text/x-r-source",
   "name": "R",
   "pygments_lexer": "r",
   "version": "4.2.0"
  }
 },
 "nbformat": 4,
 "nbformat_minor": 5
}
