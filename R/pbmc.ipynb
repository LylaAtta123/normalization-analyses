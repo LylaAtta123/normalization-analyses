{
 "cells": [
  {
   "cell_type": "markdown",
   "id": "f850e503",
   "metadata": {},
   "source": [
    "## SETUP"
   ]
  },
  {
   "cell_type": "code",
   "execution_count": 2,
   "id": "713a4f53",
   "metadata": {},
   "outputs": [],
   "source": [
    "## docker: docker_slim\n",
    "source('./../../../../my_utils/funcs_R/my_rutils.R')\n",
    "source(\"./../../helper_funs.r\")\n",
    "suppressMessages(suppressWarnings(library(DESeq2)))\n",
    "suppressMessages(suppressWarnings(library(edgeR)))\n",
    "suppressMessages(suppressWarnings(library(sctransform)))\n",
    "suppressMessages(suppressWarnings(library(RColorBrewer)))\n",
    "suppressMessages(suppressWarnings(library(gplots)))\n",
    "suppressMessages(suppressWarnings(library(veloviz)))\n",
    "\n",
    "save.dir <- save.dir <- './figs/figs_feb_26_2/'\n",
    "\n",
    "fs <- 4\n",
    "fs.small <- 3"
   ]
  },
  {
   "cell_type": "markdown",
   "id": "f813364e",
   "metadata": {},
   "source": [
    "## GET DATA"
   ]
  },
  {
   "cell_type": "code",
   "execution_count": 3,
   "id": "2489a96d",
   "metadata": {},
   "outputs": [
    {
     "data": {
      "text/plain": [
       "celltype\n",
       "   bcells monocytes        nk    tcells \n",
       "      330       129       769       912 "
      ]
     },
     "metadata": {},
     "output_type": "display_data"
    }
   ],
   "source": [
    "data.dir <- './../../../data/pbmc/'\n",
    "load(paste0(data.dir,'referenceAnnot.rda'))\n",
    "load(paste0(data.dir,'referenceCounts.rda'))\n",
    "\n",
    "counts <- referenceCounts\n",
    "celltype <- referenceAnnot\n",
    "\n",
    "rm(referenceAnnot, referenceCounts)\n",
    "\n",
    "## combine tcells subtypes\n",
    "t.cell.subtypes <- c('cytotoxict', 'memoryt', 'naivecytotoxic', 'naivet', 'regulatoryt', 'thelper')\n",
    "celltype[celltype %in% t.cell.subtypes] <- 'tcells'\n",
    "table(celltype)"
   ]
  },
  {
   "cell_type": "code",
   "execution_count": 4,
   "id": "aa413849",
   "metadata": {},
   "outputs": [
    {
     "data": {
      "text/plain": [
       "celltype\n",
       "   bcells monocytes        nk    tcells \n",
       "      330       129       769       912 "
      ]
     },
     "metadata": {},
     "output_type": "display_data"
    },
    {
     "data": {
      "text/plain": [
       "col.celltype\n",
       "   #00FFFF    #8000FF    #FF0000 dark green \n",
       "       769        912        330        129 "
      ]
     },
     "metadata": {},
     "output_type": "display_data"
    }
   ],
   "source": [
    "## coloring all regions \n",
    "col.celltype <- fac2col(celltype)\n",
    "names(col.celltype) <- names(celltype)\n",
    "\n",
    "## change monocyte color to dark green\n",
    "col.celltype[celltype=='monocytes'] <- 'dark green'\n",
    "\n",
    "table(celltype)\n",
    "table(col.celltype)\n",
    "leg.col.celltype.og <- unique(col.celltype)\n",
    "names(leg.col.celltype.og) <- unique(celltype)"
   ]
  },
  {
   "cell_type": "code",
   "execution_count": 5,
   "id": "b9206c8c",
   "metadata": {},
   "outputs": [
    {
     "data": {
      "text/plain": [
       "celltype\n",
       "   bcells monocytes        nk    tcells \n",
       "      330       129       769       912 "
      ]
     },
     "metadata": {},
     "output_type": "display_data"
    },
    {
     "data": {
      "text/plain": [
       "col.celltype\n",
       "   #00FFFF    #8000FF    #FF0000 dark green \n",
       "       769        912        330        129 "
      ]
     },
     "metadata": {},
     "output_type": "display_data"
    },
    {
     "data": {
      "text/html": [
       "<style>\n",
       ".dl-inline {width: auto; margin:0; padding: 0}\n",
       ".dl-inline>dt, .dl-inline>dd {float: none; width: auto; display: inline-block}\n",
       ".dl-inline>dt::after {content: \":\\0020\"; padding-right: .5ex}\n",
       ".dl-inline>dt:not(:first-of-type) {padding-left: .5ex}\n",
       "</style><dl class=dl-inline><dt>bcells</dt><dd>'#FF0000'</dd><dt>tcells</dt><dd>'#8000FF'</dd><dt>monocytes</dt><dd>'dark green'</dd><dt>nk</dt><dd>'#00FFFF'</dd></dl>\n"
      ],
      "text/latex": [
       "\\begin{description*}\n",
       "\\item[bcells] '\\#FF0000'\n",
       "\\item[tcells] '\\#8000FF'\n",
       "\\item[monocytes] 'dark green'\n",
       "\\item[nk] '\\#00FFFF'\n",
       "\\end{description*}\n"
      ],
      "text/markdown": [
       "bcells\n",
       ":   '#FF0000'tcells\n",
       ":   '#8000FF'monocytes\n",
       ":   'dark green'nk\n",
       ":   '#00FFFF'\n",
       "\n"
      ],
      "text/plain": [
       "      bcells       tcells    monocytes           nk \n",
       "   \"#FF0000\"    \"#8000FF\" \"dark green\"    \"#00FFFF\" "
      ]
     },
     "metadata": {},
     "output_type": "display_data"
    }
   ],
   "source": [
    "## make legend \n",
    "#all regions colored\n",
    "leg.col.celltype <- unique(col.celltype)\n",
    "names(leg.col.celltype) <- unique(celltype)\n",
    "table(celltype)\n",
    "table(col.celltype)\n",
    "leg.col.celltype"
   ]
  },
  {
   "cell_type": "markdown",
   "id": "ace074c2",
   "metadata": {},
   "source": [
    "## STANDARD ANALYSIS"
   ]
  },
  {
   "cell_type": "code",
   "execution_count": 6,
   "id": "d9c3c4a6",
   "metadata": {},
   "outputs": [
    {
     "name": "stderr",
     "output_type": "stream",
     "text": [
      "Converting to sparse matrix ...\n",
      "\n",
      "Normalizing matrix with 2140 cells and 8863 genes\n",
      "\n",
      "Limiting to top 2000 highly expressed genes...\n",
      "\n",
      "Centering...\n",
      "\n",
      "Using unit variance...\n",
      "\n"
     ]
    }
   ],
   "source": [
    "set.seed(0)\n",
    "cpm <- veloviz::normalizeDepth(counts)\n",
    "lognorm <- log10(cpm + 1)\n",
    "pca <- veloviz::reduceDimensions(lognorm, center = TRUE, scale = TRUE)\n",
    "umap <- uwot::umap(pca, n_neighbors = 100, min_dist = 1)"
   ]
  },
  {
   "cell_type": "code",
   "execution_count": 7,
   "id": "467a49c2",
   "metadata": {},
   "outputs": [
    {
     "data": {
      "image/png": "[encoded data removed]",
      "text/plain": [
       "plot without title"
      ]
     },
     "metadata": {
      "image/png": {
       "height": 300,
       "width": 780
      }
     },
     "output_type": "display_data"
    }
   ],
   "source": [
    "options(repr.plot.width=13, repr.plot.height=5)\n",
    "par(mfrow = c(1,3))\n",
    "plot(pca[,1:2], pch = 16, cex = 0.7, col = col.celltype)\n",
    "plot(pca[,3:4], pch = 16, cex = 0.7, col = col.celltype)\n",
    "plot(umap, pch = 16, cex = 0.7, col = col.celltype)\n",
    "legend(x=0, y=8, legend = names(leg.col.celltype), pch = 16, cex = 1.7, col = leg.col.celltype)"
   ]
  },
  {
   "cell_type": "markdown",
   "id": "60d46d49",
   "metadata": {},
   "source": [
    "## NORMALIZE FULL DATA"
   ]
  },
  {
   "cell_type": "code",
   "execution_count": 8,
   "id": "b73c1584",
   "metadata": {},
   "outputs": [
    {
     "data": {
      "text/html": [
       "<style>\n",
       ".list-inline {list-style: none; margin:0; padding: 0}\n",
       ".list-inline>li {display: inline-block}\n",
       ".list-inline>li:not(:last-child)::after {content: \"\\00b7\"; padding: 0 .5ex}\n",
       "</style>\n",
       "<ol class=list-inline><li>8863</li><li>2140</li></ol>\n"
      ],
      "text/latex": [
       "\\begin{enumerate*}\n",
       "\\item 8863\n",
       "\\item 2140\n",
       "\\end{enumerate*}\n"
      ],
      "text/markdown": [
       "1. 8863\n",
       "2. 2140\n",
       "\n",
       "\n"
      ],
      "text/plain": [
       "[1] 8863 2140"
      ]
     },
     "metadata": {},
     "output_type": "display_data"
    }
   ],
   "source": [
    "dim(counts) #genes as rows, cells as cols "
   ]
  },
  {
   "cell_type": "markdown",
   "id": "42d851f3",
   "metadata": {},
   "source": [
    "### scTransform"
   ]
  },
  {
   "cell_type": "code",
   "execution_count": 9,
   "id": "b0069dda",
   "metadata": {},
   "outputs": [
    {
     "name": "stdout",
     "output_type": "stream",
     "text": [
      "  |======================================================================| 100%\n",
      "  |======================================================================| 100%\n"
     ]
    }
   ],
   "source": [
    "## sctranform normalization \n",
    "suppressMessages(norm.sct.obj <- sctransform::vst(counts, n_genes = NULL)) #genes as rows, cells as cols \n",
    "norm.sct <- norm.sct.obj$y\n",
    "## set negative counts in norm.sct to 0 \n",
    "norm.sct[norm.sct<0] <- 0"
   ]
  },
  {
   "cell_type": "code",
   "execution_count": 10,
   "id": "312eebdb",
   "metadata": {},
   "outputs": [
    {
     "data": {
      "text/html": [
       "<style>\n",
       ".list-inline {list-style: none; margin:0; padding: 0}\n",
       ".list-inline>li {display: inline-block}\n",
       ".list-inline>li:not(:last-child)::after {content: \"\\00b7\"; padding: 0 .5ex}\n",
       "</style>\n",
       "<ol class=list-inline><li>8861</li><li>2140</li></ol>\n"
      ],
      "text/latex": [
       "\\begin{enumerate*}\n",
       "\\item 8861\n",
       "\\item 2140\n",
       "\\end{enumerate*}\n"
      ],
      "text/markdown": [
       "1. 8861\n",
       "2. 2140\n",
       "\n",
       "\n"
      ],
      "text/plain": [
       "[1] 8861 2140"
      ]
     },
     "metadata": {},
     "output_type": "display_data"
    },
    {
     "data": {
      "text/html": [
       "<style>\n",
       ".list-inline {list-style: none; margin:0; padding: 0}\n",
       ".list-inline>li {display: inline-block}\n",
       ".list-inline>li:not(:last-child)::after {content: \"\\00b7\"; padding: 0 .5ex}\n",
       "</style>\n",
       "<ol class=list-inline><li>8863</li><li>2140</li></ol>\n"
      ],
      "text/latex": [
       "\\begin{enumerate*}\n",
       "\\item 8863\n",
       "\\item 2140\n",
       "\\end{enumerate*}\n"
      ],
      "text/markdown": [
       "1. 8863\n",
       "2. 2140\n",
       "\n",
       "\n"
      ],
      "text/plain": [
       "[1] 8863 2140"
      ]
     },
     "metadata": {},
     "output_type": "display_data"
    }
   ],
   "source": [
    "dim(norm.sct)\n",
    "dim(counts)\n",
    "\n",
    "## keep same genes as ones kept by sctransform\n",
    "genes <- rownames(norm.sct)\n",
    "counts <- counts[genes,]"
   ]
  },
  {
   "cell_type": "markdown",
   "id": "7caae68b",
   "metadata": {},
   "source": [
    "### scaling factors"
   ]
  },
  {
   "cell_type": "code",
   "execution_count": 11,
   "id": "7b9c84d9",
   "metadata": {},
   "outputs": [],
   "source": [
    "sf.libsize <- colSums(counts) / median(colSums(counts), na.rm = T)\n",
    "sf.DESeq <- DESeq2::estimateSizeFactorsForMatrix(as.matrix(counts), type = 'poscounts')\n",
    "sf.TMMwsp <- edgeR::calcNormFactors(counts, method = 'TMMwsp')  ## multiplied not divided"
   ]
  },
  {
   "cell_type": "code",
   "execution_count": 12,
   "id": "d8ad1473",
   "metadata": {},
   "outputs": [
    {
     "data": {
      "image/png": "[encoded data removed]",
      "text/plain": [
       "Plot with title “1/Scaling factor - TMMwsp”"
      ]
     },
     "metadata": {
      "image/png": {
       "height": 240,
       "width": 780
      }
     },
     "output_type": "display_data"
    },
    {
     "data": {
      "image/png": "[encoded data removed]",
      "text/plain": [
       "plot without title"
      ]
     },
     "metadata": {
      "image/png": {
       "height": 240,
       "width": 780
      }
     },
     "output_type": "display_data"
    }
   ],
   "source": [
    "options(repr.plot.width=13, repr.plot.height=4)\n",
    "par(mfrow = c(1,3))\n",
    "hist(sf.libsize, main = 'Library Size')\n",
    "hist(sf.DESeq, main = 'Scaling factor - DESeq')\n",
    "hist(1/sf.TMMwsp, main = '1/Scaling factor - TMMwsp')\n",
    "\n",
    "s <- 1\n",
    "\n",
    "set.seed(0)\n",
    "o <- sample(length(sf.libsize))\n",
    "\n",
    "plot(sf.libsize[o], sf.DESeq[o], pch = 16, cex = s, col = scales::alpha(col.celltype[names(sf.libsize)[o]], 0.5), \n",
    "     xlab = 'library size', ylab = 'scaling factor - DESeq')\n",
    "plot(sf.libsize[o], 1/sf.TMMwsp[o], pch = 16, cex = s, col = scales::alpha(col.celltype[names(sf.libsize)[o]], 0.5), \n",
    "     xlab = 'library size', ylab = '1/scaling factor - TMMwsp')\n",
    "plot(sf.DESeq[o], 1/sf.TMMwsp[o], pch = 16, cex = s, col = scales::alpha(col.celltype[names(sf.libsize)[o]], 0.5), \n",
    "     xlab = 'scaling factor - DESeq', ylab = '1/scaling factor - TMMwsp')"
   ]
  },
  {
   "cell_type": "code",
   "execution_count": 13,
   "id": "13536b49",
   "metadata": {},
   "outputs": [
    {
     "data": {
      "image/png": "[encoded data removed]",
      "text/plain": [
       "Plot with title “nk”"
      ]
     },
     "metadata": {
      "image/png": {
       "height": 240,
       "width": 1080
      }
     },
     "output_type": "display_data"
    }
   ],
   "source": [
    "options(repr.plot.width=18, repr.plot.height=4)\n",
    "\n",
    "par(mfrow = c(1,4))\n",
    "\n",
    "celltypes.unq <- unique(celltype)\n",
    "for (r in celltypes.unq){\n",
    "    curr.r.cells <- names(celltype[celltype == r])\n",
    "    hist(colSums(counts[,curr.r.cells]), breaks = 50, main = r)\n",
    "}\n"
   ]
  },
  {
   "cell_type": "markdown",
   "id": "9ec256c9",
   "metadata": {},
   "source": [
    "### normalization"
   ]
  },
  {
   "cell_type": "code",
   "execution_count": 14,
   "id": "9f9ce2ce",
   "metadata": {},
   "outputs": [],
   "source": [
    "norm.none <- counts\n",
    "norm.deseq <- t(t(counts)/sf.DESeq)\n",
    "norm.tmm <- t(t(counts)*sf.TMMwsp)\n",
    "norm.libsize <- t(t(counts)/sf.libsize)\n",
    "\n",
    "all.norms <- list(nonorm = norm.none,\n",
    "                 libsize = norm.libsize,\n",
    "                 deseq = norm.deseq,\n",
    "                 tmm = norm.tmm,\n",
    "                 sct = norm.sct)\n"
   ]
  },
  {
   "cell_type": "code",
   "execution_count": 15,
   "id": "f3cefdc8",
   "metadata": {},
   "outputs": [
    {
     "data": {
      "text/html": [
       "<style>\n",
       ".list-inline {list-style: none; margin:0; padding: 0}\n",
       ".list-inline>li {display: inline-block}\n",
       ".list-inline>li:not(:last-child)::after {content: \"\\00b7\"; padding: 0 .5ex}\n",
       "</style>\n",
       "<ol class=list-inline><li>'nonorm'</li><li>'libsize'</li><li>'deseq'</li><li>'tmm'</li><li>'sct'</li></ol>\n"
      ],
      "text/latex": [
       "\\begin{enumerate*}\n",
       "\\item 'nonorm'\n",
       "\\item 'libsize'\n",
       "\\item 'deseq'\n",
       "\\item 'tmm'\n",
       "\\item 'sct'\n",
       "\\end{enumerate*}\n"
      ],
      "text/markdown": [
       "1. 'nonorm'\n",
       "2. 'libsize'\n",
       "3. 'deseq'\n",
       "4. 'tmm'\n",
       "5. 'sct'\n",
       "\n",
       "\n"
      ],
      "text/plain": [
       "[1] \"nonorm\"  \"libsize\" \"deseq\"   \"tmm\"     \"sct\"    "
      ]
     },
     "metadata": {},
     "output_type": "display_data"
    }
   ],
   "source": [
    "norms <- names(all.norms)\n",
    "norms"
   ]
  },
  {
   "cell_type": "markdown",
   "id": "4d8d74b2",
   "metadata": {},
   "source": [
    "## DE FULL DATA"
   ]
  },
  {
   "cell_type": "code",
   "execution_count": 16,
   "id": "f936e178",
   "metadata": {},
   "outputs": [
    {
     "data": {
      "text/plain": [
       "cluster\n",
       "   bcells monocytes        nk    tcells \n",
       "      330       129       769       912 "
      ]
     },
     "metadata": {},
     "output_type": "display_data"
    }
   ],
   "source": [
    "cluster <- celltype\n",
    "table(cluster)"
   ]
  },
  {
   "cell_type": "code",
   "execution_count": 17,
   "id": "c516e177",
   "metadata": {},
   "outputs": [],
   "source": [
    "## get log fold changes and z-scores \n",
    "lfcs.all <- lapply(all.norms, function(counts.norm) {\n",
    "    curr.cluster <- cluster[colnames(counts.norm)]\n",
    "    names(curr.cluster) <- colnames(counts.norm)\n",
    "    curr.lfcs <- find.log.fold.change(counts.norm, curr.cluster, log2)\n",
    "    \n",
    "    curr.lfcs\n",
    "})\n",
    "\n",
    "p.vals.all <- lapply(all.norms, function(counts.norm) {\n",
    "    curr.cluster <- cluster[colnames(counts.norm)]\n",
    "    names(curr.cluster) <- colnames(counts.norm)\n",
    "    curr.pvals <- find.cluster.de.genes(counts.norm, cell.com = curr.cluster, test.alt = 'greater')\n",
    "    curr.pvals\n",
    "})\n",
    "\n",
    "stats.all <- lapply(all.norms, function(counts.norm) {\n",
    "    curr.cluster <- cluster[colnames(counts.norm)]\n",
    "    names(curr.cluster) <- colnames(counts.norm)\n",
    "    curr.stats <- find.cluster.test.stats(counts.norm, cell.com = curr.cluster, test.alt = 'greater')\n",
    "    curr.stats\n",
    "})"
   ]
  },
  {
   "cell_type": "code",
   "execution_count": 18,
   "id": "769b512f",
   "metadata": {},
   "outputs": [
    {
     "data": {
      "image/png": "[encoded data removed]",
      "text/plain": [
       "plot without title"
      ]
     },
     "metadata": {
      "image/png": {
       "height": 300,
       "width": 300
      }
     },
     "output_type": "display_data"
    }
   ],
   "source": [
    "# head(stats.all[[1]])\n",
    "# head(p.vals.all[[1]])\n",
    "options(repr.plot.width=5, repr.plot.height=5)\n",
    "plot(rank(p.vals.all[[1]][,1]), rank(stats.all[[1]][,1]), pch = '.')"
   ]
  },
  {
   "cell_type": "code",
   "execution_count": 19,
   "id": "2621dcad",
   "metadata": {},
   "outputs": [],
   "source": [
    "# ## adjust pval for multiple comparisons\n",
    "p.vals.all.adj <- lapply(p.vals.all, function(curr.pvals) {\n",
    "    curr.pvals.adj <- matrix(p.adjust(curr.pvals, method = 'BH'), \n",
    "                             nrow = nrow (curr.pvals), ncol = ncol(curr.pvals))\n",
    "    colnames(curr.pvals.adj) <- colnames(curr.pvals)\n",
    "    rownames(curr.pvals.adj) <- rownames(curr.pvals)\n",
    "    curr.pvals.adj\n",
    "})"
   ]
  },
  {
   "cell_type": "code",
   "execution_count": 20,
   "id": "4a4ea521",
   "metadata": {},
   "outputs": [],
   "source": [
    "## pick DE genes based on ordered test statistic\n",
    "de.genes <- lapply(norms, function(curr.norm) {\n",
    "    curr.stat <- stats.all[[curr.norm]]\n",
    "    curr.pvals <- p.vals.all.adj[[curr.norm]]\n",
    "    curr.lfcs <- lfcs.all[[curr.norm]]\n",
    "    \n",
    "    curr.groups <- colnames(curr.stat)\n",
    "    \n",
    "    curr.de.genes <- lapply(curr.groups, function(curr.group) {\n",
    "        curr.group.teststat <- curr.stat[,curr.group]\n",
    "        curr.group.pvals <- curr.pvals[names(curr.group.teststat),curr.group]\n",
    "        curr.group.lfcs <- curr.lfcs[names(curr.group.teststat),curr.group]\n",
    "        \n",
    "        curr.group.de.genes <- names(curr.group.teststat)[order(curr.group.teststat, decreasing = TRUE)]\n",
    "        \n",
    "        curr.group.de.genes.stats <- cbind(p.adj = curr.group.pvals[curr.group.de.genes], \n",
    "                                           logFC = curr.group.lfcs[curr.group.de.genes],\n",
    "                                            teststat = curr.group.teststat[curr.group.de.genes])\n",
    "        curr.group.de.genes.stats\n",
    "    })\n",
    "    names(curr.de.genes) <- curr.groups\n",
    "    curr.de.genes\n",
    "})\n",
    "names(de.genes) <- norms"
   ]
  },
  {
   "cell_type": "code",
   "execution_count": 21,
   "id": "efa798ee",
   "metadata": {},
   "outputs": [
    {
     "data": {
      "image/png": "[encoded data removed]",
      "text/plain": [
       "plot without title"
      ]
     },
     "metadata": {
      "image/png": {
       "height": 180,
       "width": 540
      }
     },
     "output_type": "display_data"
    }
   ],
   "source": [
    "options(repr.plot.width=9, repr.plot.height=3)\n",
    "par(mfrow = c(1,3))\n",
    "plot(lfcs.all$nonorm[,'monocytes'], -1*log10(p.vals.all.adj$nonorm[,'monocytes']), \n",
    "     pch = 16, cex = 0.7, xlab = 'lfc', ylab = '-log10(p)')\n",
    "\n",
    "foo <- rownames(de.genes$nonorm$bcells)\n",
    "plot(lfcs.all$nonorm[foo,'tcells'], -1*log10(p.vals.all.adj$nonorm[foo,'tcells']), \n",
    "     pch = 16, cex = 0.7, xlab = 'lfc', ylab = '-log10(p)')\n",
    "\n",
    "plot(de.genes$nonorm$tcells[,'logFC'],-1*log10(de.genes$nonorm$tcells[,'p.adj']), \n",
    "     pch = 16, cex = 0.7, xlab = 'lfc', ylab = '-log10(p)')\n",
    "\n"
   ]
  },
  {
   "cell_type": "code",
   "execution_count": 22,
   "id": "1be8ec21",
   "metadata": {},
   "outputs": [
    {
     "data": {
      "text/html": [
       "20"
      ],
      "text/latex": [
       "20"
      ],
      "text/markdown": [
       "20"
      ],
      "text/plain": [
       "[1] 20"
      ]
     },
     "metadata": {},
     "output_type": "display_data"
    },
    {
     "data": {
      "image/png": "[encoded data removed]",
      "text/plain": [
       "plot without title"
      ]
     },
     "metadata": {
      "image/png": {
       "height": 300,
       "width": 720
      }
     },
     "output_type": "display_data"
    }
   ],
   "source": [
    "## n DE genes for each cell type per normalization methods\n",
    "options(repr.plot.width=12, repr.plot.height=5)\n",
    "\n",
    "n.DEs <- sapply(de.genes, function(x) {\n",
    "    n.de <- sapply(x, nrow)\n",
    "    n.de\n",
    "})\n",
    "\n",
    "length(n.DEs)\n",
    "# n.DEs\n",
    "par(mfrow = c(1,2))\n",
    "boxplot(n.DEs)"
   ]
  },
  {
   "cell_type": "markdown",
   "id": "3300c56b",
   "metadata": {},
   "source": [
    "## GENE SUBSETS\n"
   ]
  },
  {
   "cell_type": "code",
   "execution_count": 23,
   "id": "f30f979d",
   "metadata": {},
   "outputs": [
    {
     "data": {
      "text/html": [
       "<style>\n",
       ".list-inline {list-style: none; margin:0; padding: 0}\n",
       ".list-inline>li {display: inline-block}\n",
       ".list-inline>li:not(:last-child)::after {content: \"\\00b7\"; padding: 0 .5ex}\n",
       "</style>\n",
       "<ol class=list-inline><li>'bcells'</li><li>'tcells'</li><li>'monocytes'</li><li>'nk'</li></ol>\n"
      ],
      "text/latex": [
       "\\begin{enumerate*}\n",
       "\\item 'bcells'\n",
       "\\item 'tcells'\n",
       "\\item 'monocytes'\n",
       "\\item 'nk'\n",
       "\\end{enumerate*}\n"
      ],
      "text/markdown": [
       "1. 'bcells'\n",
       "2. 'tcells'\n",
       "3. 'monocytes'\n",
       "4. 'nk'\n",
       "\n",
       "\n"
      ],
      "text/plain": [
       "[1] \"bcells\"    \"tcells\"    \"monocytes\" \"nk\"       "
      ]
     },
     "metadata": {},
     "output_type": "display_data"
    },
    {
     "data": {
      "text/html": [
       "8861"
      ],
      "text/latex": [
       "8861"
      ],
      "text/markdown": [
       "8861"
      ],
      "text/plain": [
       "[1] 8861"
      ]
     },
     "metadata": {},
     "output_type": "display_data"
    },
    {
     "data": {
      "text/html": [
       "<style>\n",
       ".list-inline {list-style: none; margin:0; padding: 0}\n",
       ".list-inline>li {display: inline-block}\n",
       ".list-inline>li:not(:last-child)::after {content: \"\\00b7\"; padding: 0 .5ex}\n",
       "</style>\n",
       "<ol class=list-inline><li>'LINC00115'</li><li>'NOC2L'</li><li>'ISG15'</li><li>'C1orf159'</li><li>'TNFRSF18'</li><li>'TNFRSF4'</li></ol>\n"
      ],
      "text/latex": [
       "\\begin{enumerate*}\n",
       "\\item 'LINC00115'\n",
       "\\item 'NOC2L'\n",
       "\\item 'ISG15'\n",
       "\\item 'C1orf159'\n",
       "\\item 'TNFRSF18'\n",
       "\\item 'TNFRSF4'\n",
       "\\end{enumerate*}\n"
      ],
      "text/markdown": [
       "1. 'LINC00115'\n",
       "2. 'NOC2L'\n",
       "3. 'ISG15'\n",
       "4. 'C1orf159'\n",
       "5. 'TNFRSF18'\n",
       "6. 'TNFRSF4'\n",
       "\n",
       "\n"
      ],
      "text/plain": [
       "[1] \"LINC00115\" \"NOC2L\"     \"ISG15\"     \"C1orf159\"  \"TNFRSF18\"  \"TNFRSF4\"  "
      ]
     },
     "metadata": {},
     "output_type": "display_data"
    }
   ],
   "source": [
    "regions <- unique(cluster)\n",
    "regions\n",
    "genes <- rownames(counts)\n",
    "length(genes)\n",
    "head(genes)"
   ]
  },
  {
   "cell_type": "code",
   "execution_count": 24,
   "id": "927908b5",
   "metadata": {},
   "outputs": [
    {
     "data": {
      "text/html": [
       "<style>\n",
       ".dl-inline {width: auto; margin:0; padding: 0}\n",
       ".dl-inline>dt, .dl-inline>dd {float: none; width: auto; display: inline-block}\n",
       ".dl-inline>dt::after {content: \":\\0020\"; padding-right: .5ex}\n",
       ".dl-inline>dt:not(:first-of-type) {padding-left: .5ex}\n",
       "</style><dl class=dl-inline><dt>bcells</dt><dd>8861</dd><dt>tcells</dt><dd>8861</dd><dt>monocytes</dt><dd>8861</dd><dt>nk</dt><dd>8861</dd></dl>\n"
      ],
      "text/latex": [
       "\\begin{description*}\n",
       "\\item[bcells] 8861\n",
       "\\item[tcells] 8861\n",
       "\\item[monocytes] 8861\n",
       "\\item[nk] 8861\n",
       "\\end{description*}\n"
      ],
      "text/markdown": [
       "bcells\n",
       ":   8861tcells\n",
       ":   8861monocytes\n",
       ":   8861nk\n",
       ":   8861\n",
       "\n"
      ],
      "text/plain": [
       "   bcells    tcells monocytes        nk \n",
       "     8861      8861      8861      8861 "
      ]
     },
     "metadata": {},
     "output_type": "display_data"
    }
   ],
   "source": [
    "## top N DE genes \n",
    "set.seed(0)\n",
    "genesets.all <- lapply(regions, function(r) {\n",
    "    \n",
    "    curr.r.de.genes <- lapply(de.genes, function(x) {data.frame(x[[r]], name = rownames(x[[r]]))} )\n",
    "    curr.r.de.genes <- Reduce(function(x,y) {merge(x,y, all=TRUE)}, curr.r.de.genes)\n",
    "    curr.r.de.genes <- curr.r.de.genes[order(curr.r.de.genes$p.adj),]\n",
    "    curr.r.de.genes <- curr.r.de.genes[!duplicated(curr.r.de.genes$name),]\n",
    "    \n",
    "    curr.r.de.genes$name\n",
    "    \n",
    "})\n",
    "names(genesets.all) <- regions\n",
    "\n",
    "sapply(genesets.all, length)\n",
    "\n",
    "geneset.sizes <- c(50, 100, 500, 1000, 5000, length(genes))\n",
    "\n",
    "\n",
    "genesets <- lapply(geneset.sizes, function(curr.gs.size) {\n",
    "    curr.genesets <- lapply(genesets.all, function(x) { x[1:curr.gs.size] })\n",
    "    curr.random <- sample(genes, curr.gs.size)\n",
    "    curr.genesets[['random']] <- curr.random\n",
    "    curr.genesets\n",
    "})\n",
    "names(genesets) <- geneset.sizes"
   ]
  },
  {
   "cell_type": "markdown",
   "id": "5f456bfc",
   "metadata": {},
   "source": [
    "## COUNT SUBSETS"
   ]
  },
  {
   "cell_type": "code",
   "execution_count": 25,
   "id": "11cbb2a7",
   "metadata": {},
   "outputs": [
    {
     "data": {
      "text/html": [
       "<table class=\"dataframe\">\n",
       "<caption>A matrix: 10 × 6 of type int</caption>\n",
       "<thead>\n",
       "\t<tr><th scope=col>50</th><th scope=col>100</th><th scope=col>500</th><th scope=col>1000</th><th scope=col>5000</th><th scope=col>8861</th></tr>\n",
       "</thead>\n",
       "<tbody>\n",
       "\t<tr><td>  50</td><td> 100</td><td> 500</td><td>1000</td><td>5000</td><td>8861</td></tr>\n",
       "\t<tr><td>2140</td><td>2140</td><td>2140</td><td>2140</td><td>2140</td><td>2140</td></tr>\n",
       "\t<tr><td>  50</td><td> 100</td><td> 500</td><td>1000</td><td>5000</td><td>8861</td></tr>\n",
       "\t<tr><td>2140</td><td>2140</td><td>2140</td><td>2140</td><td>2140</td><td>2140</td></tr>\n",
       "\t<tr><td>  50</td><td> 100</td><td> 500</td><td>1000</td><td>5000</td><td>8861</td></tr>\n",
       "\t<tr><td>1955</td><td>2140</td><td>2140</td><td>2140</td><td>2140</td><td>2140</td></tr>\n",
       "\t<tr><td>  50</td><td> 100</td><td> 500</td><td>1000</td><td>5000</td><td>8861</td></tr>\n",
       "\t<tr><td>2140</td><td>2140</td><td>2140</td><td>2140</td><td>2140</td><td>2140</td></tr>\n",
       "\t<tr><td>  50</td><td> 100</td><td> 500</td><td>1000</td><td>5000</td><td>8861</td></tr>\n",
       "\t<tr><td>2140</td><td>2140</td><td>2140</td><td>2140</td><td>2140</td><td>2140</td></tr>\n",
       "</tbody>\n",
       "</table>\n"
      ],
      "text/latex": [
       "A matrix: 10 × 6 of type int\n",
       "\\begin{tabular}{llllll}\n",
       " 50 & 100 & 500 & 1000 & 5000 & 8861\\\\\n",
       "\\hline\n",
       "\t   50 &  100 &  500 & 1000 & 5000 & 8861\\\\\n",
       "\t 2140 & 2140 & 2140 & 2140 & 2140 & 2140\\\\\n",
       "\t   50 &  100 &  500 & 1000 & 5000 & 8861\\\\\n",
       "\t 2140 & 2140 & 2140 & 2140 & 2140 & 2140\\\\\n",
       "\t   50 &  100 &  500 & 1000 & 5000 & 8861\\\\\n",
       "\t 1955 & 2140 & 2140 & 2140 & 2140 & 2140\\\\\n",
       "\t   50 &  100 &  500 & 1000 & 5000 & 8861\\\\\n",
       "\t 2140 & 2140 & 2140 & 2140 & 2140 & 2140\\\\\n",
       "\t   50 &  100 &  500 & 1000 & 5000 & 8861\\\\\n",
       "\t 2140 & 2140 & 2140 & 2140 & 2140 & 2140\\\\\n",
       "\\end{tabular}\n"
      ],
      "text/markdown": [
       "\n",
       "A matrix: 10 × 6 of type int\n",
       "\n",
       "| 50 | 100 | 500 | 1000 | 5000 | 8861 |\n",
       "|---|---|---|---|---|---|\n",
       "|   50 |  100 |  500 | 1000 | 5000 | 8861 |\n",
       "| 2140 | 2140 | 2140 | 2140 | 2140 | 2140 |\n",
       "|   50 |  100 |  500 | 1000 | 5000 | 8861 |\n",
       "| 2140 | 2140 | 2140 | 2140 | 2140 | 2140 |\n",
       "|   50 |  100 |  500 | 1000 | 5000 | 8861 |\n",
       "| 1955 | 2140 | 2140 | 2140 | 2140 | 2140 |\n",
       "|   50 |  100 |  500 | 1000 | 5000 | 8861 |\n",
       "| 2140 | 2140 | 2140 | 2140 | 2140 | 2140 |\n",
       "|   50 |  100 |  500 | 1000 | 5000 | 8861 |\n",
       "| 2140 | 2140 | 2140 | 2140 | 2140 | 2140 |\n",
       "\n"
      ],
      "text/plain": [
       "      50   100  500  1000 5000 8861\n",
       " [1,]   50  100  500 1000 5000 8861\n",
       " [2,] 2140 2140 2140 2140 2140 2140\n",
       " [3,]   50  100  500 1000 5000 8861\n",
       " [4,] 2140 2140 2140 2140 2140 2140\n",
       " [5,]   50  100  500 1000 5000 8861\n",
       " [6,] 1955 2140 2140 2140 2140 2140\n",
       " [7,]   50  100  500 1000 5000 8861\n",
       " [8,] 2140 2140 2140 2140 2140 2140\n",
       " [9,]   50  100  500 1000 5000 8861\n",
       "[10,] 2140 2140 2140 2140 2140 2140"
      ]
     },
     "metadata": {},
     "output_type": "display_data"
    }
   ],
   "source": [
    "counts.subsets <- lapply(genesets, function(curr.gs) {\n",
    "    curr.counts.subsets <- lapply(curr.gs, function(gs) {\n",
    "        curr.gs.counts <- counts[gs,]\n",
    "        curr.empty.cells <- colSums(curr.gs.counts)==0\n",
    "        curr.gs.counts <- curr.gs.counts[,!curr.empty.cells]\n",
    "        curr.gs.counts\n",
    "    })\n",
    "})\n",
    "names(counts.subsets) <- geneset.sizes\n",
    "sapply(counts.subsets, function(x) {sapply(x, dim)})"
   ]
  },
  {
   "cell_type": "code",
   "execution_count": 32,
   "id": "d0bc849e",
   "metadata": {},
   "outputs": [
    {
     "data": {
      "text/html": [
       "<style>\n",
       ".list-inline {list-style: none; margin:0; padding: 0}\n",
       ".list-inline>li {display: inline-block}\n",
       ".list-inline>li:not(:last-child)::after {content: \"\\00b7\"; padding: 0 .5ex}\n",
       "</style>\n",
       "<ol class=list-inline><li>50</li><li>2140</li></ol>\n"
      ],
      "text/latex": [
       "\\begin{enumerate*}\n",
       "\\item 50\n",
       "\\item 2140\n",
       "\\end{enumerate*}\n"
      ],
      "text/markdown": [
       "1. 50\n",
       "2. 2140\n",
       "\n",
       "\n"
      ],
      "text/plain": [
       "[1]   50 2140"
      ]
     },
     "metadata": {},
     "output_type": "display_data"
    }
   ],
   "source": [
    "dim(counts.subsets[[1]][[1]])"
   ]
  },
  {
   "cell_type": "code",
   "execution_count": 31,
   "id": "5771d248",
   "metadata": {},
   "outputs": [],
   "source": [
    "saveRDS(counts.subsets, file = 'scpbmc_sizeSim_countssubsets.RDS')"
   ]
  },
  {
   "cell_type": "markdown",
   "id": "1527c062",
   "metadata": {},
   "source": [
    "#### make folders"
   ]
  },
  {
   "cell_type": "code",
   "execution_count": 34,
   "id": "915b0dde",
   "metadata": {},
   "outputs": [
    {
     "data": {
      "text/html": [
       "'./figs/figs_feb_26_2/'"
      ],
      "text/latex": [
       "'./figs/figs\\_feb\\_26\\_2/'"
      ],
      "text/markdown": [
       "'./figs/figs_feb_26_2/'"
      ],
      "text/plain": [
       "[1] \"./figs/figs_feb_26_2/\""
      ]
     },
     "metadata": {},
     "output_type": "display_data"
    }
   ],
   "source": [
    "save.dir\n",
    "for (i in names(genesets[[1]])){\n",
    "    dir.create(paste0(save.dir,i))\n",
    "}"
   ]
  },
  {
   "cell_type": "code",
   "execution_count": 35,
   "id": "5e763d7c",
   "metadata": {},
   "outputs": [
    {
     "data": {
      "text/html": [
       "'./figs/figs_feb_26_2/'"
      ],
      "text/latex": [
       "'./figs/figs\\_feb\\_26\\_2/'"
      ],
      "text/markdown": [
       "'./figs/figs_feb_26_2/'"
      ],
      "text/plain": [
       "[1] \"./figs/figs_feb_26_2/\""
      ]
     },
     "metadata": {},
     "output_type": "display_data"
    }
   ],
   "source": [
    "save.dir\n",
    "for (i in names(genesets[[1]])){\n",
    "    dir.create(paste0(save.dir,i,'/heatmaps/'))\n",
    "}"
   ]
  },
  {
   "cell_type": "markdown",
   "id": "ff2b8135",
   "metadata": {},
   "source": [
    "### heatmap"
   ]
  },
  {
   "cell_type": "code",
   "execution_count": 36,
   "id": "9809582e",
   "metadata": {},
   "outputs": [
    {
     "data": {
      "text/html": [
       "<style>\n",
       ".dl-inline {width: auto; margin:0; padding: 0}\n",
       ".dl-inline>dt, .dl-inline>dd {float: none; width: auto; display: inline-block}\n",
       ".dl-inline>dt::after {content: \":\\0020\"; padding-right: .5ex}\n",
       ".dl-inline>dt:not(:first-of-type) {padding-left: .5ex}\n",
       "</style><dl class=dl-inline><dt>bcells</dt><dd>'B cells'</dd><dt>tcells</dt><dd>'T cells'</dd><dt>monocytes</dt><dd>'Monocytes'</dd><dt>nk</dt><dd>'NK cells'</dd></dl>\n"
      ],
      "text/latex": [
       "\\begin{description*}\n",
       "\\item[bcells] 'B cells'\n",
       "\\item[tcells] 'T cells'\n",
       "\\item[monocytes] 'Monocytes'\n",
       "\\item[nk] 'NK cells'\n",
       "\\end{description*}\n"
      ],
      "text/markdown": [
       "bcells\n",
       ":   'B cells'tcells\n",
       ":   'T cells'monocytes\n",
       ":   'Monocytes'nk\n",
       ":   'NK cells'\n",
       "\n"
      ],
      "text/plain": [
       "     bcells      tcells   monocytes          nk \n",
       "  \"B cells\"   \"T cells\" \"Monocytes\"  \"NK cells\" "
      ]
     },
     "metadata": {},
     "output_type": "display_data"
    }
   ],
   "source": [
    "gs.names <- c('B cells', 'T cells', 'Monocytes', 'NK cells', NA)\n",
    "names(gs.names) <- names(genesets[[1]])\n",
    "gs.order <- c(1,2,3,4)\n",
    "gs.names[gs.order]"
   ]
  },
  {
   "cell_type": "code",
   "execution_count": 33,
   "id": "ecb7b902",
   "metadata": {},
   "outputs": [],
   "source": [
    "for (curr.size in geneset.sizes){\n",
    "    curr.size.genesets <- genesets[[as.character(curr.size)]]\n",
    "    \n",
    "    # get skewed geneset genes (minus random geneset)\n",
    "    hm.genes <- unlist(curr.size.genesets[1:4])\n",
    "\n",
    "    # find which genes are duplicated \n",
    "    hm.genes.dups <- unique(hm.genes[duplicated(hm.genes)])\n",
    "    length(hm.genes.dups)\n",
    "\n",
    "    # remove duplicated genes (all instances)\n",
    "    hm.genes <- hm.genes[! hm.genes %in% hm.genes.dups]\n",
    "    length(hm.genes)\n",
    "\n",
    "    # add one instance of duplicate genes back lol - but now they're at the front\n",
    "    hm.genes <- c(hm.genes.dups, hm.genes)\n",
    "    length(hm.genes)\n",
    "\n",
    "    # add non DE genes to the front \n",
    "    hm.genes.nongs <- rownames(counts)[! rownames(counts) %in% hm.genes]\n",
    "    hm.genes <- c(hm.genes, hm.genes.nongs)\n",
    "    length(hm.genes)\n",
    "\n",
    "    ### order should be: [non DE genes][DE genes for more than one region][specific DE genes]\n",
    "    htmp.col <- rev(colorRampPalette(brewer.pal(11, \"RdBu\"))(100))\n",
    "    \n",
    "    # average within tissue region\n",
    "    gexp.reg.avg <- matrix(0, ncol = length(names(curr.size.genesets))-1, nrow = nrow(counts))\n",
    "    colnames(gexp.reg.avg) <- names(curr.size.genesets)[1:4]\n",
    "    rownames(gexp.reg.avg) <- rownames(counts)\n",
    "    \n",
    "    for (gs in colnames(gexp.reg.avg)){\n",
    "#         print(gs)\n",
    "        curr.cells <- names(cluster[cluster == gs])\n",
    "#         print(length(curr.cells))\n",
    "        curr.gs.avg.gexp <- rowMeans(counts[,curr.cells])\n",
    "        gexp.reg.avg[,gs] <- curr.gs.avg.gexp\n",
    "    }\n",
    "    \n",
    "    # mean exp skewed gene panel heat map\n",
    "    s <- 'row'\n",
    "\n",
    "    for (gs in names(curr.size.genesets)){\n",
    "        foo.genes <- curr.size.genesets[[gs]]\n",
    "        hm.genes.gs <- hm.genes[hm.genes %in% foo.genes]\n",
    "\n",
    "        pdf(paste0(save.dir, gs, '/heatmaps/heatmap_',curr.size,'.pdf'), width = 7, height = 5)\n",
    "        par(mfrow = c(1,1), mar = c(5.1, 4.1, 4.1, 2.1))\n",
    "\n",
    "        heatmap(gexp.reg.avg[hm.genes.gs,gs.order], scale = 'row', col = htmp.col, \n",
    "                Colv = NA, Rowv = NA, \n",
    "                ColSideColors = leg.col.celltype[colnames(gexp.reg.avg[,gs.order])],\n",
    "               labRow = FALSE, labCol = FALSE,\n",
    "    #               trace = 'none',\n",
    "                margins = c(3.8,2.1)\n",
    "               )\n",
    "        if (gs == 'random'){\n",
    "            title(ylab=paste('Genes\\nNon-skewed gene panel'), line=0.5, cex.lab=2)\n",
    "        } else {\n",
    "            title(ylab=paste0('Genes\\n', gs.names[gs], '-skewed gene panel'), line=0.5, cex.lab=2)\n",
    "        }\n",
    "        title(xlab=paste('Cells'), line=4, cex.lab=2)\n",
    "        dev.off()\n",
    "    }    \n",
    "}"
   ]
  },
  {
   "cell_type": "markdown",
   "id": "5759d6c4",
   "metadata": {},
   "source": [
    "### scaling factors skewed genesets"
   ]
  },
  {
   "cell_type": "code",
   "execution_count": 37,
   "id": "fb090908",
   "metadata": {},
   "outputs": [],
   "source": [
    "skewed.sfs <- lapply(counts.subsets, function(curr.size.counts) {\n",
    "    curr.size.sfs <- lapply(curr.size.counts, function(curr.gs.counts) {\n",
    "        curr.libsize <- colSums(curr.gs.counts)/ median(colSums(curr.gs.counts), na.rm = T)\n",
    "        curr.sf.DESeq <- DESeq2::estimateSizeFactorsForMatrix(as.matrix(curr.gs.counts), type = 'poscounts')\n",
    "        curr.sf.TMMwsp <- edgeR::calcNormFactors(curr.gs.counts, method = 'TMMwsp')  ## multiplied not divided\n",
    "        \n",
    "        list(libsize = curr.libsize,\n",
    "             deseq = curr.sf.DESeq,\n",
    "             tmm = curr.sf.TMMwsp)\n",
    "    })\n",
    "})"
   ]
  },
  {
   "cell_type": "code",
   "execution_count": 38,
   "id": "788db4ae",
   "metadata": {},
   "outputs": [
    {
     "data": {
      "text/html": [
       "<style>\n",
       ".list-inline {list-style: none; margin:0; padding: 0}\n",
       ".list-inline>li {display: inline-block}\n",
       ".list-inline>li:not(:last-child)::after {content: \"\\00b7\"; padding: 0 .5ex}\n",
       "</style>\n",
       "<ol class=list-inline><li>'50'</li><li>'100'</li><li>'500'</li><li>'1000'</li><li>'5000'</li><li>'8861'</li></ol>\n"
      ],
      "text/latex": [
       "\\begin{enumerate*}\n",
       "\\item '50'\n",
       "\\item '100'\n",
       "\\item '500'\n",
       "\\item '1000'\n",
       "\\item '5000'\n",
       "\\item '8861'\n",
       "\\end{enumerate*}\n"
      ],
      "text/markdown": [
       "1. '50'\n",
       "2. '100'\n",
       "3. '500'\n",
       "4. '1000'\n",
       "5. '5000'\n",
       "6. '8861'\n",
       "\n",
       "\n"
      ],
      "text/plain": [
       "[1] \"50\"   \"100\"  \"500\"  \"1000\" \"5000\" \"8861\""
      ]
     },
     "metadata": {},
     "output_type": "display_data"
    },
    {
     "data": {
      "text/html": [
       "<style>\n",
       ".list-inline {list-style: none; margin:0; padding: 0}\n",
       ".list-inline>li {display: inline-block}\n",
       ".list-inline>li:not(:last-child)::after {content: \"\\00b7\"; padding: 0 .5ex}\n",
       "</style>\n",
       "<ol class=list-inline><li>'bcells'</li><li>'tcells'</li><li>'monocytes'</li><li>'nk'</li><li>'random'</li></ol>\n"
      ],
      "text/latex": [
       "\\begin{enumerate*}\n",
       "\\item 'bcells'\n",
       "\\item 'tcells'\n",
       "\\item 'monocytes'\n",
       "\\item 'nk'\n",
       "\\item 'random'\n",
       "\\end{enumerate*}\n"
      ],
      "text/markdown": [
       "1. 'bcells'\n",
       "2. 'tcells'\n",
       "3. 'monocytes'\n",
       "4. 'nk'\n",
       "5. 'random'\n",
       "\n",
       "\n"
      ],
      "text/plain": [
       "[1] \"bcells\"    \"tcells\"    \"monocytes\" \"nk\"        \"random\"   "
      ]
     },
     "metadata": {},
     "output_type": "display_data"
    },
    {
     "data": {
      "text/html": [
       "<style>\n",
       ".list-inline {list-style: none; margin:0; padding: 0}\n",
       ".list-inline>li {display: inline-block}\n",
       ".list-inline>li:not(:last-child)::after {content: \"\\00b7\"; padding: 0 .5ex}\n",
       "</style>\n",
       "<ol class=list-inline><li>'libsize'</li><li>'deseq'</li><li>'tmm'</li></ol>\n"
      ],
      "text/latex": [
       "\\begin{enumerate*}\n",
       "\\item 'libsize'\n",
       "\\item 'deseq'\n",
       "\\item 'tmm'\n",
       "\\end{enumerate*}\n"
      ],
      "text/markdown": [
       "1. 'libsize'\n",
       "2. 'deseq'\n",
       "3. 'tmm'\n",
       "\n",
       "\n"
      ],
      "text/plain": [
       "[1] \"libsize\" \"deseq\"   \"tmm\"    "
      ]
     },
     "metadata": {},
     "output_type": "display_data"
    }
   ],
   "source": [
    "names(skewed.sfs)\n",
    "names(skewed.sfs[[1]])\n",
    "names(skewed.sfs[[1]][[1]])"
   ]
  },
  {
   "cell_type": "code",
   "execution_count": 39,
   "id": "7b185a3f",
   "metadata": {},
   "outputs": [],
   "source": [
    "sf.all <- list(libsize = sf.libsize,\n",
    "               deseq = sf.DESeq,\n",
    "               tmm = sf.TMMwsp)"
   ]
  },
  {
   "cell_type": "markdown",
   "id": "51b81bbb",
   "metadata": {},
   "source": [
    "## COMPARE SCALING FACTORS: SKEWED vs FULL"
   ]
  },
  {
   "cell_type": "code",
   "execution_count": 40,
   "id": "9010885d",
   "metadata": {},
   "outputs": [
    {
     "data": {
      "text/html": [
       "'./figs/figs_feb_26_2/'"
      ],
      "text/latex": [
       "'./figs/figs\\_feb\\_26\\_2/'"
      ],
      "text/markdown": [
       "'./figs/figs_feb_26_2/'"
      ],
      "text/plain": [
       "[1] \"./figs/figs_feb_26_2/\""
      ]
     },
     "metadata": {},
     "output_type": "display_data"
    }
   ],
   "source": [
    "save.dir\n",
    "for (i in names(genesets[[1]])){\n",
    "    dir.create(paste0(save.dir,i,'/scaling_factor_comparison/'))\n",
    "}"
   ]
  },
  {
   "cell_type": "code",
   "execution_count": 41,
   "id": "120ac9c4",
   "metadata": {},
   "outputs": [
    {
     "data": {
      "text/html": [
       "<style>\n",
       ".list-inline {list-style: none; margin:0; padding: 0}\n",
       ".list-inline>li {display: inline-block}\n",
       ".list-inline>li:not(:last-child)::after {content: \"\\00b7\"; padding: 0 .5ex}\n",
       "</style>\n",
       "<ol class=list-inline><li>'bcells'</li><li>'tcells'</li><li>'monocytes'</li><li>'nk'</li><li>'random'</li></ol>\n"
      ],
      "text/latex": [
       "\\begin{enumerate*}\n",
       "\\item 'bcells'\n",
       "\\item 'tcells'\n",
       "\\item 'monocytes'\n",
       "\\item 'nk'\n",
       "\\item 'random'\n",
       "\\end{enumerate*}\n"
      ],
      "text/markdown": [
       "1. 'bcells'\n",
       "2. 'tcells'\n",
       "3. 'monocytes'\n",
       "4. 'nk'\n",
       "5. 'random'\n",
       "\n",
       "\n"
      ],
      "text/plain": [
       "[1] \"bcells\"    \"tcells\"    \"monocytes\" \"nk\"        \"random\"   "
      ]
     },
     "metadata": {},
     "output_type": "display_data"
    }
   ],
   "source": [
    "names(genesets[[1]])"
   ]
  },
  {
   "cell_type": "code",
   "execution_count": 42,
   "id": "a4a3f2c6",
   "metadata": {},
   "outputs": [],
   "source": [
    "options(repr.plot.width=20, repr.plot.height=15)\n",
    "\n",
    "norms.to.include <- c('libsize')\n",
    "norms.to.include <- c('libsize', 'deseq', 'tmm')\n",
    "norms.names <- c('Library Size', 'DESeq2', 'TMM')\n",
    "names(norms.names) <- norms.to.include\n",
    "fs <- 4\n",
    "\n",
    "for (n in norms.to.include){\n",
    "    \n",
    "    for (g in names(genesets[[1]])){\n",
    "    #     png(paste0(save.dir,'/scaling_factor_comparison_', g,'_skewed_vs_all_genes_grouped.png'), width = 450, height = 2500)\n",
    "        pdf(paste0(save.dir,g,'/scaling_factor_comparison/',n,'.pdf'), \n",
    "            width = 6, height = 30)\n",
    "\n",
    "        par(mfrow = c(6,1), mar = c(10.1, 10.1, 6.1, 2.1)) #mar = c(5.1, 4.1, 4.1, 2.1)    \n",
    "        for (s in names(genesets)){  \n",
    "\n",
    "            curr.sfs.skewed <- skewed.sfs[[s]][[g]][norms.to.include]\n",
    "            curr.common.cells <- Reduce(intersect, lapply(curr.sfs.skewed, names))\n",
    "\n",
    "            curr.sf.skewed <- curr.sfs.skewed[[n]]\n",
    "            curr.sf.all <- sf.all[[n]]\n",
    "\n",
    "            curr.x <- log10(curr.sf.all[curr.common.cells]+1)\n",
    "            curr.x.lim <- range(curr.x, finite = TRUE)\n",
    "\n",
    "            curr.y <- log10(curr.sf.skewed[curr.common.cells]+1)\n",
    "            curr.y.lim <- range(curr.y, finite = TRUE)\n",
    "            \n",
    "            #change color to highlight roi for region skewed geneset\n",
    "            curr.cols <- col.celltype\n",
    "            curr.cols[celltype != g] <- 'grey'\n",
    "\n",
    "            #use all colors for random geneset\n",
    "            if (g == 'random'){\n",
    "                curr.cols <- col.celltype\n",
    "            }\n",
    "\n",
    "            #reorder when all together\n",
    "            o <- sample(length(curr.x))\n",
    "            o <- sample(o)            \n",
    "\n",
    "            plot(curr.x[o], curr.y[o],\n",
    "                 pch = 16, cex = 2, col = scales::alpha(curr.cols[curr.common.cells][o], 0.25), # ylim = c(0,3),\n",
    "                 cex.lab = fs, cex.axis = fs, cex.main = fs, xaxt=\"n\", yaxt=\"n\",\n",
    "                 bty = 'n', xaxs = 'i', yaxs = 'i',\n",
    "                 xlim = curr.x.lim, ylim = curr.y.lim, xlab = '', ylab = '',\n",
    "    #                  xlab = paste('Full gene panel\\n log_10(scaling factor)'), \n",
    "    #                  ylab = paste('Skewed gene panel\\n log_10(scaling factor)'), \n",
    "                 main = paste0(s, '-gene gene panel'))\n",
    "            title(xlab=paste('Full gene panel'), line=8, cex.lab=fs)\n",
    "            title(ylab=paste('Skewed gene panel'), line=5, cex.lab=fs)\n",
    "            axis(side = 1, at = curr.x.lim, line = 0, cex.axis = fs, lty = 1, labels = FALSE)\n",
    "            axis(side = 2, at = curr.y.lim, line = 0, cex.axis = fs, lty = 1, labels = FALSE)\n",
    "            axis(side = 1, line = 0, cex.axis = fs, lty = 1, labels = FALSE)\n",
    "            axis(side = 2, line = 0, cex.axis = fs, lty = 1, labels = FALSE)\n",
    "            axis(side = 1, line = 1.5, cex.axis = fs, lty = 0)\n",
    "            axis(side = 2, line = 0.5, cex.axis = fs, lty = 0)\n",
    "            abline(a=0,b=1,col='red')\n",
    "\n",
    "\n",
    "        }\n",
    "        dev.off()\n",
    "    }\n",
    "    \n",
    "    \n",
    "}\n",
    "\n"
   ]
  },
  {
   "cell_type": "markdown",
   "id": "20ecf823",
   "metadata": {},
   "source": [
    "## NORMALIZE SKEWED GENESETS"
   ]
  },
  {
   "cell_type": "code",
   "execution_count": 43,
   "id": "b2145b16",
   "metadata": {},
   "outputs": [
    {
     "name": "stdout",
     "output_type": "stream",
     "text": [
      "[1] \"bcells\"    \"tcells\"    \"monocytes\" \"nk\"        \"random\"   \n",
      "  |======================================================================| 100%\n",
      "  |======================================================================| 100%\n",
      "  |======================================================================| 100%\n",
      "  |======================================================================| 100%\n",
      "  |======================================================================| 100%\n",
      "  |======================================================================| 100%\n",
      "  |======================================================================| 100%\n",
      "  |======================================================================| 100%\n",
      "  |======================================================================| 100%\n",
      "  |======================================================================| 100%\n",
      "[1] \"bcells\"    \"tcells\"    \"monocytes\" \"nk\"        \"random\"   \n",
      "  |======================================================================| 100%\n",
      "  |======================================================================| 100%\n",
      "  |======================================================================| 100%\n",
      "  |======================================================================| 100%\n",
      "  |======================================================================| 100%\n",
      "  |======================================================================| 100%\n",
      "  |======================================================================| 100%\n",
      "  |======================================================================| 100%\n",
      "  |======================================================================| 100%\n",
      "  |======================================================================| 100%\n",
      "[1] \"bcells\"    \"tcells\"    \"monocytes\" \"nk\"        \"random\"   \n",
      "  |======================================================================| 100%\n",
      "  |======================================================================| 100%\n",
      "  |======================================================================| 100%\n",
      "  |======================================================================| 100%\n",
      "  |======================================================================| 100%\n",
      "  |======================================================================| 100%\n",
      "  |======================================================================| 100%\n",
      "  |======================================================================| 100%\n",
      "  |======================================================================| 100%\n",
      "  |======================================================================| 100%\n",
      "[1] \"bcells\"    \"tcells\"    \"monocytes\" \"nk\"        \"random\"   \n",
      "  |======================================================================| 100%\n",
      "  |======================================================================| 100%\n",
      "  |======================================================================| 100%\n",
      "  |======================================================================| 100%\n",
      "  |======================================================================| 100%\n",
      "  |======================================================================| 100%\n",
      "  |======================================================================| 100%\n",
      "  |======================================================================| 100%\n",
      "  |======================================================================| 100%\n",
      "  |======================================================================| 100%\n",
      "[1] \"bcells\"    \"tcells\"    \"monocytes\" \"nk\"        \"random\"   \n",
      "  |======================================================================| 100%\n",
      "  |======================================================================| 100%\n",
      "  |======================================================================| 100%\n",
      "  |======================================================================| 100%\n",
      "  |======================================================================| 100%\n",
      "  |======================================================================| 100%\n",
      "  |======================================================================| 100%\n",
      "  |======================================================================| 100%\n",
      "  |======================================================================| 100%\n",
      "  |======================================================================| 100%\n",
      "[1] \"bcells\"    \"tcells\"    \"monocytes\" \"nk\"        \"random\"   \n",
      "  |======================================================================| 100%\n",
      "  |======================================================================| 100%\n",
      "  |======================================================================| 100%\n",
      "  |======================================================================| 100%\n",
      "  |======================================================================| 100%\n",
      "  |======================================================================| 100%\n",
      "  |======================================================================| 100%\n",
      "  |======================================================================| 100%\n",
      "  |======================================================================| 100%\n",
      "  |======================================================================| 100%\n"
     ]
    }
   ],
   "source": [
    "skewed.norms <- lapply(names(counts.subsets), function(curr.size) {\n",
    "    curr.size.counts <- counts.subsets[[curr.size]]\n",
    "    print(names(curr.size.counts))\n",
    "    curr.size.skewed.norms <- lapply(names(curr.size.counts), function(curr.gs) {\n",
    "        curr.counts <- curr.size.counts[[curr.gs]]\n",
    "        curr.sfs <- skewed.sfs[[curr.size]][[curr.gs]]\n",
    "        \n",
    "        curr.norm.none <- curr.counts\n",
    "        curr.norm.libsize <- t(t(curr.counts)/curr.sfs[['libsize']]) #*median(A.sf.libsize, na.rm = T) #colSums(countsA)\n",
    "        curr.norm.deseq <- t(t(curr.counts)/curr.sfs[['deseq']])\n",
    "        curr.norm.tmm <- t(t(curr.counts)*curr.sfs[['tmm']])\n",
    "        \n",
    "        suppressMessages(curr.sct <- sctransform::vst(curr.counts, n_genes = NULL))\n",
    "        curr.norm.sct <- curr.sct$y\n",
    "        curr.norm.sct[curr.norm.sct<0] <- 0\n",
    "        \n",
    "        curr.norms <- list(nonorm = curr.norm.none,\n",
    "                           libsize = curr.norm.libsize,\n",
    "                           deseq = curr.norm.deseq,\n",
    "                           tmm = curr.norm.tmm,\n",
    "                           sct = curr.norm.sct)\n",
    "        curr.norms\n",
    "        \n",
    "    })\n",
    "    names(curr.size.skewed.norms) <- names(curr.size.counts)\n",
    "    curr.size.skewed.norms\n",
    "})\n",
    "names(skewed.norms) <- names(counts.subsets)"
   ]
  },
  {
   "cell_type": "markdown",
   "id": "cb50d7c5",
   "metadata": {},
   "source": [
    "## COUNT CORRELATIONS"
   ]
  },
  {
   "cell_type": "code",
   "execution_count": 41,
   "id": "50e606bd",
   "metadata": {},
   "outputs": [],
   "source": [
    "# gene.count.corrs <- lapply(skewed.norms, function(curr.size.skewed.norms) {\n",
    "#     curr.size.gene.corrs <- lapply(curr.size.skewed.norms, function(curr.gs.skewed.norms) {\n",
    "#         curr.gs.gene.corrs <- lapply(norms, function(n) {\n",
    "#             curr.skewed.norm.counts <- curr.gs.skewed.norms[[n]]\n",
    "#             curr.all.norm.counts <- all.norms[[n]]\n",
    "            \n",
    "#             curr.cells <- intersect(colnames(curr.skewed.norm.counts), colnames(curr.all.norm.counts))\n",
    "#             curr.genes <- intersect(rownames(curr.skewed.norm.counts), rownames(curr.all.norm.counts))\n",
    "            \n",
    "#             curr.skewed.norm.counts <- curr.skewed.norm.counts[curr.genes, curr.cells]\n",
    "#             curr.all.norm.counts <- curr.all.norm.counts[curr.genes, curr.cells]\n",
    "            \n",
    "#             curr.corrs <- sapply(curr.genes, function(g) {\n",
    "#                 cor(curr.skewed.norm.counts[g,], curr.all.norm.counts[g,], method = 'pearson')\n",
    "#             })\n",
    "#             curr.corrs\n",
    "#         })\n",
    "#         names(curr.gs.gene.corrs) <- norms\n",
    "#         as.data.frame(curr.gs.gene.corrs)\n",
    "#     })\n",
    "# })"
   ]
  },
  {
   "cell_type": "code",
   "execution_count": 42,
   "id": "186efd20",
   "metadata": {},
   "outputs": [],
   "source": [
    "# options(repr.plot.width=18, repr.plot.height=5)\n",
    "\n",
    "# norms.to.include <- c('libsize', 'sct', 'deseq', 'tmm', 'nonorm')\n",
    "# norms.names <- c('Library Size', 'scTransform', 'DESeq2', 'TMM', 'No Normalization')\n",
    "# names(norms.names) <- norms.to.include\n",
    "# xtcks <- c(0:length(norms.to.include)+1)\n",
    "\n",
    "# yl <- lapply(gene.count.corrs, function(x) {\n",
    "#     c(min(sapply(x, function(y) {\n",
    "#         min(y, na.rm = T)})), 1)\n",
    "# })\n",
    "# yl <- range(unlist(yl))\n",
    "# yl <- c(-0.4,1)\n",
    "\n",
    "# for (g in names(genesets[[1]])){\n",
    "#     pdf(paste0(save.dir,g, '/gene_count_correlation.pdf'), width = 6, height = 30)\n",
    "#     par(mfrow = c(6,1), mar = c(17.1, 10, 3.1, 2.1))\n",
    "#     for (gs in names(genesets)){\n",
    "#         curr.corrs <- gene.count.corrs[[gs]][[g]]\n",
    "# #         curr.yl <- yl[[gs]]\n",
    "#         curr.yl <- yl\n",
    "        \n",
    "#         if (gs != '8861'){\n",
    "#             boxplot(curr.corrs[,norms.to.include], ylim = curr.yl, #ylim = ylr, #ylim = yl,\n",
    "#                     cex.lab = fs.small, cex.axis = fs.small, cex.main = fs, xaxs = 'i', yaxs = 'i',\n",
    "#                     xaxt = \"n\", yaxt = \"n\", frame.plot=FALSE,\n",
    "#                     ylab = '')\n",
    "#             axis(1, at = c(0,xtcks), cex.axis=2, labels = FALSE) #x axis ticks\n",
    "#             axis(2, at = c(-0.4,-0.2,0,0.2,0.4,0.6,0.8,1), cex.axis=3, las = 2)\n",
    "#             title(ylab='Pearson Correlation', line=6, cex.lab=fs)            \n",
    "#         }\n",
    "\n",
    "\n",
    "        \n",
    "#         if (gs == '8861'){\n",
    "#             par(mar = c(17.1, 10, 3.1, 2.1))\n",
    "#             boxplot(curr.corrs[,norms.to.include], ylim = curr.yl, #ylim = ylr, #ylim = yl,\n",
    "#                     cex.lab = fs.small, cex.axis = fs.small, cex.main = fs, xaxs = 'i', yaxs = 'i',\n",
    "#                     xaxt = \"n\", yaxt = \"n\", frame.plot=FALSE,\n",
    "#                     ylab = '')\n",
    "#             axis(1, at = c(0,xtcks), cex.axis=2, labels = FALSE) #x axis ticks\n",
    "#             axis(2, at = c(-0.4,-0.2,0,0.2,0.4,0.6,0.8,1), cex.axis=3, las = 2)\n",
    "#             title(ylab='Pearson Correlation', line=6, cex.lab=fs)\n",
    "#             text(x = xtcks[1:length(norms.to.include)]+0.15, y = min(curr.yl)-0.02, labels = norms.names, xpd = NA, srt = 45, cex = 2, pos = 2) ##ventricles/random\n",
    "#             title(xlab='Normalization', line=14, cex.lab=fs)            \n",
    "#         }\n",
    "        \n",
    "#     }\n",
    "#     dev.off()\n",
    "\n",
    "# }\n",
    "\n",
    "\n"
   ]
  },
  {
   "cell_type": "markdown",
   "id": "44aa82a7",
   "metadata": {},
   "source": [
    "## DE GENES SKEWED GENESETS"
   ]
  },
  {
   "cell_type": "code",
   "execution_count": 44,
   "id": "223896e5",
   "metadata": {},
   "outputs": [],
   "source": [
    "skewed.lfcs <- lapply(skewed.norms, function(curr.size.skewed.norms) {\n",
    "    curr.size.lfcs <- lapply(curr.size.skewed.norms, function(curr.gs.norms) {\n",
    "        curr.gs.lfcs <- lapply(curr.gs.norms, function(curr.counts.norm) {\n",
    "            curr.clusters <- cluster[colnames(curr.counts.norm)]\n",
    "            names(curr.clusters) <- colnames(curr.counts.norm)\n",
    "            curr.lfcs <- find.log.fold.change(curr.counts.norm, curr.clusters, log2)\n",
    "\n",
    "            curr.lfcs                \n",
    "        })\n",
    "        \n",
    "        curr.gs.lfcs\n",
    "    })\n",
    "    curr.size.lfcs\n",
    "})\n",
    "\n",
    "skewed.pvals <- lapply(skewed.norms, function(curr.size.skewed.norms) {\n",
    "    curr.size.pvals <- lapply(curr.size.skewed.norms, function(curr.gs.norms) {\n",
    "        curr.gs.pvals <- lapply(curr.gs.norms, function(curr.counts.norm) {\n",
    "            curr.clusters <- cluster[colnames(curr.counts.norm)]\n",
    "            names(curr.clusters) <- colnames(curr.counts.norm)\n",
    "            curr.pvals <- find.cluster.de.genes(curr.counts.norm, cell.com = curr.clusters, test.alt = 'greater')\n",
    "\n",
    "            curr.pvals            \n",
    "        })\n",
    "        curr.gs.pvals\n",
    "        \n",
    "    })\n",
    "    curr.size.pvals\n",
    "})\n",
    "\n",
    "skewed.pvals.adj <- lapply(skewed.pvals, function(curr.size.pvals) {\n",
    "    curr.size.pvals.adj <- lapply(curr.size.pvals, function(curr.gs.pvals) {\n",
    "        curr.gs.pvals.adj <- lapply(curr.gs.pvals, function(curr.pvals) {\n",
    "            curr.pvals.adj <- matrix(p.adjust(curr.pvals, method = 'BH'), \n",
    "                                     nrow = nrow (curr.pvals), ncol = ncol(curr.pvals))\n",
    "            colnames(curr.pvals.adj) <- colnames(curr.pvals)\n",
    "            rownames(curr.pvals.adj) <- rownames(curr.pvals)\n",
    "\n",
    "            curr.pvals.adj            \n",
    "        })\n",
    "        curr.gs.pvals.adj\n",
    "        \n",
    "    })\n",
    "    curr.size.pvals.adj\n",
    "})"
   ]
  },
  {
   "cell_type": "markdown",
   "id": "aff52980",
   "metadata": {},
   "source": [
    "## GENE PANEL DIVERSITY"
   ]
  },
  {
   "cell_type": "code",
   "execution_count": 48,
   "id": "f8325606",
   "metadata": {},
   "outputs": [
    {
     "data": {
      "text/html": [
       "<style>\n",
       ".list-inline {list-style: none; margin:0; padding: 0}\n",
       ".list-inline>li {display: inline-block}\n",
       ".list-inline>li:not(:last-child)::after {content: \"\\00b7\"; padding: 0 .5ex}\n",
       "</style>\n",
       "<ol class=list-inline><li>'50'</li><li>'100'</li><li>'500'</li><li>'1000'</li><li>'5000'</li><li>'8861'</li></ol>\n"
      ],
      "text/latex": [
       "\\begin{enumerate*}\n",
       "\\item '50'\n",
       "\\item '100'\n",
       "\\item '500'\n",
       "\\item '1000'\n",
       "\\item '5000'\n",
       "\\item '8861'\n",
       "\\end{enumerate*}\n"
      ],
      "text/markdown": [
       "1. '50'\n",
       "2. '100'\n",
       "3. '500'\n",
       "4. '1000'\n",
       "5. '5000'\n",
       "6. '8861'\n",
       "\n",
       "\n"
      ],
      "text/plain": [
       "[1] \"50\"   \"100\"  \"500\"  \"1000\" \"5000\" \"8861\""
      ]
     },
     "metadata": {},
     "output_type": "display_data"
    },
    {
     "data": {
      "text/html": [
       "<style>\n",
       ".list-inline {list-style: none; margin:0; padding: 0}\n",
       ".list-inline>li {display: inline-block}\n",
       ".list-inline>li:not(:last-child)::after {content: \"\\00b7\"; padding: 0 .5ex}\n",
       "</style>\n",
       "<ol class=list-inline><li>'bcells'</li><li>'tcells'</li><li>'monocytes'</li><li>'nk'</li><li>'random'</li></ol>\n"
      ],
      "text/latex": [
       "\\begin{enumerate*}\n",
       "\\item 'bcells'\n",
       "\\item 'tcells'\n",
       "\\item 'monocytes'\n",
       "\\item 'nk'\n",
       "\\item 'random'\n",
       "\\end{enumerate*}\n"
      ],
      "text/markdown": [
       "1. 'bcells'\n",
       "2. 'tcells'\n",
       "3. 'monocytes'\n",
       "4. 'nk'\n",
       "5. 'random'\n",
       "\n",
       "\n"
      ],
      "text/plain": [
       "[1] \"bcells\"    \"tcells\"    \"monocytes\" \"nk\"        \"random\"   "
      ]
     },
     "metadata": {},
     "output_type": "display_data"
    },
    {
     "data": {
      "text/html": [
       "<style>\n",
       ".list-inline {list-style: none; margin:0; padding: 0}\n",
       ".list-inline>li {display: inline-block}\n",
       ".list-inline>li:not(:last-child)::after {content: \"\\00b7\"; padding: 0 .5ex}\n",
       "</style>\n",
       "<ol class=list-inline><li>'nonorm'</li><li>'libsize'</li><li>'deseq'</li><li>'tmm'</li><li>'sct'</li></ol>\n"
      ],
      "text/latex": [
       "\\begin{enumerate*}\n",
       "\\item 'nonorm'\n",
       "\\item 'libsize'\n",
       "\\item 'deseq'\n",
       "\\item 'tmm'\n",
       "\\item 'sct'\n",
       "\\end{enumerate*}\n"
      ],
      "text/markdown": [
       "1. 'nonorm'\n",
       "2. 'libsize'\n",
       "3. 'deseq'\n",
       "4. 'tmm'\n",
       "5. 'sct'\n",
       "\n",
       "\n"
      ],
      "text/plain": [
       "[1] \"nonorm\"  \"libsize\" \"deseq\"   \"tmm\"     \"sct\"    "
      ]
     },
     "metadata": {},
     "output_type": "display_data"
    }
   ],
   "source": [
    "# names(genesets)\n",
    "# names(genesets[[1]])\n",
    "# norms"
   ]
  },
  {
   "cell_type": "code",
   "execution_count": 49,
   "id": "f0762a54",
   "metadata": {},
   "outputs": [],
   "source": [
    "# ## de genes for skewed genesets \n",
    "# p.thresh <- 0.05\n",
    "# lfc.thresh <- 0.25\n",
    "\n",
    "# skewed.de.genes <- lapply(names(genesets), function(curr.size) {\n",
    "#     curr.size.de.genes <- lapply(names(genesets[[1]]), function(curr.gs) {\n",
    "#         curr.gs.de.genes <- lapply(norms, function(curr.norm) {\n",
    "#             curr.pvals <- skewed.pvals.adj[[curr.size]][[curr.gs]][[curr.norm]]\n",
    "#             curr.lfcs <- skewed.lfcs[[curr.size]][[curr.gs]][[curr.norm]]\n",
    "            \n",
    "#             curr.groups <- colnames(curr.pvals)\n",
    "#             curr.de.genes <- lapply(curr.groups, function(curr.group) {\n",
    "#                 curr.group.pvals <- curr.pvals[,curr.group]\n",
    "#                 curr.group.lfcs <- curr.lfcs[names(curr.group.pvals), curr.group]\n",
    "                \n",
    "#                 curr.group.de.genes <- names(curr.group.pvals)[curr.group.pvals<p.thresh & abs(curr.group.lfcs)>lfc.thresh]\n",
    "#                 curr.group.de.genes.stats <- cbind(curr.group.pvals[curr.group.de.genes],\n",
    "#                                                    curr.group.lfcs[curr.group.de.genes])\n",
    "#                 colnames(curr.group.de.genes.stats) <- c('p.adj','logFC')\n",
    "#                 curr.group.de.genes.stats\n",
    "#             })\n",
    "#             names(curr.de.genes) <- curr.groups\n",
    "#             curr.de.genes\n",
    "#         })\n",
    "#         names(curr.gs.de.genes) <- norms\n",
    "#         curr.gs.de.genes\n",
    "#     })\n",
    "#     names(curr.size.de.genes) <- names(genesets[[1]])\n",
    "#     curr.size.de.genes\n",
    "# })\n",
    "# names(skewed.de.genes) <- names(genesets)"
   ]
  },
  {
   "cell_type": "code",
   "execution_count": 51,
   "id": "dd407ea1",
   "metadata": {},
   "outputs": [],
   "source": [
    "# ## number of de genes\n",
    "# skewed.n.DEs <- lapply(skewed.de.genes, function(curr.size.de.genes) {\n",
    "#     curr.gs.n.DEs <- lapply(curr.size.de.genes, function(curr.de.genes) {\n",
    "#         curr.n.DEs <- sapply(curr.de.genes, function(x) {\n",
    "#             sapply(x, nrow)\n",
    "#         })\n",
    "#         curr.n.DEs\n",
    "#     })\n",
    "#     curr.gs.n.DEs\n",
    "# })\n"
   ]
  },
  {
   "cell_type": "code",
   "execution_count": 80,
   "id": "5c748fbe",
   "metadata": {},
   "outputs": [],
   "source": [
    "# skewed.props <- lapply(names(skewed.n.DEs), function(curr.size.n) {\n",
    "#     curr.size <- skewed.n.DEs[[curr.size.n]]\n",
    "#     curr.size.n <- as.numeric(curr.size.n)\n",
    "    \n",
    "#     lapply(curr.size, function(curr.gs) {\n",
    "#         curr.gs[,'nonorm']/curr.size.n\n",
    "#     })\n",
    "# })\n",
    "# names(skewed.props) <- names(skewed.n.DEs)"
   ]
  },
  {
   "cell_type": "code",
   "execution_count": 87,
   "id": "fe8bc470",
   "metadata": {},
   "outputs": [],
   "source": [
    "# skewed.div <- lapply(skewed.props, function(curr.size) {\n",
    "#     sapply(curr.size, function(x) {\n",
    "#         x <- x[x>0]\n",
    "#         -1*sum(x*log(x))\n",
    "#     })\n",
    "# })"
   ]
  },
  {
   "cell_type": "markdown",
   "id": "66e997b9",
   "metadata": {},
   "source": [
    "## COMPARE P VALUES: SKEWED vs OG"
   ]
  },
  {
   "cell_type": "code",
   "execution_count": 45,
   "id": "aa12ce5b",
   "metadata": {},
   "outputs": [
    {
     "data": {
      "text/html": [
       "'./figs/figs_feb_26_2/'"
      ],
      "text/latex": [
       "'./figs/figs\\_feb\\_26\\_2/'"
      ],
      "text/markdown": [
       "'./figs/figs_feb_26_2/'"
      ],
      "text/plain": [
       "[1] \"./figs/figs_feb_26_2/\""
      ]
     },
     "metadata": {},
     "output_type": "display_data"
    }
   ],
   "source": [
    "save.dir\n",
    "for (i in names(genesets[[1]])){\n",
    "    dir.create(paste0(save.dir,i,'/pval_comparison/'))\n",
    "}"
   ]
  },
  {
   "cell_type": "code",
   "execution_count": 46,
   "id": "582b717d",
   "metadata": {},
   "outputs": [],
   "source": [
    "options(repr.plot.width=5, repr.plot.height=18)\n",
    "fs <- 4\n",
    "\n",
    "norms.to.include <- c('libsize', 'sct', 'deseq', 'tmm', 'nonorm')\n",
    "norms.names <- c('Library Size', 'scTransform', 'DESeq2', 'TMM', 'No Normalization')\n",
    "names(norms.names) <- norms.to.include\n",
    "set.seed(0)\n",
    "\n",
    "for (n in norms.to.include){\n",
    "\n",
    "    for (gs in names(genesets[[1]])){\n",
    "    #     png(paste0(save.dir,'/pval_comparison_', gs, '_skewed_vs_all_genes_log.png'), width = 450, height = 2500)\n",
    "        pdf(paste0(save.dir,gs,'/pval_comparison/',n,'.pdf'), \n",
    "            width = 6, height = 30)\n",
    "        par(mfrow = c(6,1), mar = c(10.1, 10.1, 6.1, 2.1))\n",
    "\n",
    "        for (s in names(genesets)){\n",
    "            \n",
    "            curr.skewed.pvalsAdj <- -1*log10(skewed.pvals.adj[[s]][[gs]][[n]])\n",
    "#             curr.skewed.pvalsAdj <- (skewed.pvals.adj[[s]][[gs]][[n]])\n",
    "\n",
    "            curr.geneset <- rownames(curr.skewed.pvalsAdj)\n",
    "\n",
    "            curr.og.pvalsAdj <- -1*log10(p.vals.all.adj[[n]][curr.geneset,])\n",
    "#             curr.og.pvalsAdj <- (p.vals.all.adj[[n]][curr.geneset,])\n",
    "\n",
    "\n",
    "            #change color to highlight roi for region skewed geneset\n",
    "            curr.cols <- colnames(curr.skewed.pvalsAdj)\n",
    "            curr.cols <- leg.col.celltype[curr.cols]\n",
    "            curr.cols[names(curr.cols) != gs] <- 'grey'\n",
    "    #         print(curr.cols)\n",
    "\n",
    "            #use all colors for random geneset\n",
    "            if (gs == 'random'){\n",
    "                curr.cols <- colnames(curr.skewed.pvalsAdj)\n",
    "                curr.cols <- leg.col.celltype[curr.cols]\n",
    "            }\n",
    "\n",
    "            curr.cols <- unlist(lapply(curr.cols, function(x) {rep(x, nrow(curr.skewed.pvalsAdj))}))\n",
    "\n",
    "            plot(as.vector(curr.og.pvalsAdj), as.vector(curr.skewed.pvalsAdj), \n",
    "                 pch = 16, cex = 2, col = scales::alpha(curr.cols, 0.75),\n",
    "#                  xlim = c(0,10), ylim = c(0,10),\n",
    "                 cex.lab = fs, cex.axis = fs, cex.main = fs, xaxt=\"n\", yaxt=\"n\",\n",
    "                 xlab = '', ylab = '', bty = 'n', xaxs = 'i', yaxs = 'i',\n",
    "#                  xlab = paste(n, '-log10(p) - all genes'), \n",
    "#                  ylab = paste(n, '-log10(p) - skewed genes'), \n",
    "                 main = paste0(s, '-gene gene panel'))\n",
    "            title(xlab=paste('Full gene panel'), line=8, cex.lab=fs)\n",
    "            title(ylab=paste('Skewed gene panel'), line=5, cex.lab=fs)\n",
    "            axis(side = 1, line = 0, cex.axis = fs, lty = 1, labels = FALSE)\n",
    "            axis(side = 2, line = 0, cex.axis = fs, lty = 1, labels = FALSE)\n",
    "            axis(side = 1, line = 1.5, cex.axis = fs, lty = 0)\n",
    "            axis(side = 2, line = 0.5, cex.axis = fs, lty = 0)            \n",
    "            abline(a=0,b=1,col='red')\n",
    "#             abline(v=-1*log10(0.05), h=-1*log10(0.05), col = 'red')\n",
    "#             abline(v=0.05, h=0.05, col = 'red')\n",
    "\n",
    "\n",
    "\n",
    "        }\n",
    "\n",
    "        dev.off()\n",
    "\n",
    "    }    \n",
    "    \n",
    "}\n",
    "\n",
    "\n"
   ]
  },
  {
   "cell_type": "markdown",
   "id": "18e2d5a7",
   "metadata": {},
   "source": [
    "## PVAL FP FN"
   ]
  },
  {
   "cell_type": "code",
   "execution_count": 47,
   "id": "ef63921a",
   "metadata": {},
   "outputs": [],
   "source": [
    "dir.create(paste0(save.dir,'FP_FN'))"
   ]
  },
  {
   "cell_type": "code",
   "execution_count": null,
   "id": "8de008df",
   "metadata": {},
   "outputs": [],
   "source": [
    "fpfn.pvals <- lapply(names(skewed.pvals.adj), function(curr.size) {\n",
    "    curr.size.pvals.adj <- skewed.pvals.adj[[curr.size]]\n",
    "    curr.size.fpfn.pvals <- lapply(names(curr.size.pvals.adj), function(reg) {\n",
    "        gs <- curr.size.pvals.adj[[reg]]\n",
    "        curr.gs.fpfn <- lapply(names(gs), function(n) {\n",
    "            curr.skewed.pvals <- gs[[n]]\n",
    "            curr.full.pvals <- p.vals.all.adj[[n]]\n",
    "            \n",
    "            curr.genes <- intersect(rownames(curr.skewed.pvals), rownames(curr.full.pvals))\n",
    "            curr.skewed.pvals <- curr.skewed.pvals[curr.genes,]\n",
    "            curr.full.pvals <- curr.full.pvals[curr.genes,]\n",
    "            \n",
    "            get.pval.fp.fn(curr.skewed.pvals, curr.full.pvals, 0.05)\n",
    "        })\n",
    "        names(curr.gs.fpfn) <- names(gs)\n",
    "        curr.gs.fpfn\n",
    "    })\n",
    "    names(curr.size.fpfn.pvals) <- names(curr.size.pvals.adj)\n",
    "    curr.size.fpfn.pvals\n",
    "})\n",
    "names(fpfn.pvals) <- names(skewed.pvals.adj)\n",
    "\n",
    "fpfn.rate.pvals <- lapply(fpfn.pvals, function(curr.size.fpfn.pvals) {\n",
    "    curr.size.fpfn.rate.pvals <- lapply(curr.size.fpfn.pvals, function(gs) {\n",
    "        curr.gs.fpfn.rate.pvals <- sapply(gs, function(n) {\n",
    "            \n",
    "            curr.fp <- n[['false.positive']]\n",
    "            curr.fp.rate <- sum(curr.fp)/n.panel\n",
    "            \n",
    "            curr.fn <- n[['false.positive']]\n",
    "            curr.fn.rate <- sum(curr.fn)/n.panel\n",
    "            \n",
    "            list(fp = curr.fp.rate, fn = curr.fn.rate)\n",
    "        })\n",
    "        curr.gs.fpfn.rate.pvals\n",
    "    })\n",
    "    curr.size.fpfn.rate.pvals\n",
    "})\n",
    "\n",
    "# error.rate.pvals <- lapply(fpfn.rate.pvals, function(curr.size.fpfn.rate) {\n",
    "#     curr.size.error.rate <- lapply(curr.size.fpfn.rate, function(curr.celltype.fpfn.rate) {\n",
    "#         curr.celltype.fpfn.rate <- matrix(unlist(curr.celltype.fpfn.rate), nrow = 2)\n",
    "#         colnames(curr.celltype.fpfn.rate) <- norms\n",
    "#         colMeans(curr.celltype.fpfn.rate)\n",
    "#     })\n",
    "# })\n",
    "\n",
    "# err.pvals.by.celltype <- lapply(celltypes, function(ct) {\n",
    "#     sapply(error.rate.pvals, function(curr.size) {\n",
    "#         curr.size[[ct]]\n",
    "#     })\n",
    "# })\n",
    "# names(err.pvals.by.celltype) <- celltypes"
   ]
  },
  {
   "cell_type": "code",
   "execution_count": 48,
   "id": "43213000",
   "metadata": {},
   "outputs": [],
   "source": [
    "fpfn.pvals <- lapply(names(skewed.pvals.adj), function(curr.size) {\n",
    "    curr.size.pvals.adj <- skewed.pvals.adj[[curr.size]]\n",
    "    curr.size.fpfn.pvals <- lapply(names(curr.size.pvals.adj), function(reg) {\n",
    "        gs <- curr.size.pvals.adj[[reg]]\n",
    "        curr.gs.fpfn <- lapply(names(gs), function(n) {\n",
    "            curr.skewed.pvals <- gs[[n]]\n",
    "            curr.full.pvals <- p.vals.all.adj[[n]]\n",
    "            \n",
    "            curr.genes <- intersect(rownames(curr.skewed.pvals), rownames(curr.full.pvals))\n",
    "            curr.skewed.pvals <- curr.skewed.pvals[curr.genes,]\n",
    "            curr.full.pvals <- curr.full.pvals[curr.genes,]\n",
    "            \n",
    "            get.pval.fp.fn(curr.skewed.pvals, curr.full.pvals, 0.05)\n",
    "        })\n",
    "        names(curr.gs.fpfn) <- names(gs)\n",
    "        curr.gs.fpfn\n",
    "    })\n",
    "    names(curr.size.fpfn.pvals) <- names(curr.size.pvals.adj)\n",
    "    curr.size.fpfn.pvals\n",
    "})\n",
    "names(fpfn.pvals) <- names(skewed.pvals.adj)"
   ]
  },
  {
   "cell_type": "code",
   "execution_count": 114,
   "id": "1959abff",
   "metadata": {},
   "outputs": [
    {
     "data": {
      "text/html": [
       "<style>\n",
       ".list-inline {list-style: none; margin:0; padding: 0}\n",
       ".list-inline>li {display: inline-block}\n",
       ".list-inline>li:not(:last-child)::after {content: \"\\00b7\"; padding: 0 .5ex}\n",
       "</style>\n",
       "<ol class=list-inline><li>'50'</li><li>'100'</li><li>'500'</li><li>'1000'</li><li>'5000'</li><li>'8861'</li></ol>\n"
      ],
      "text/latex": [
       "\\begin{enumerate*}\n",
       "\\item '50'\n",
       "\\item '100'\n",
       "\\item '500'\n",
       "\\item '1000'\n",
       "\\item '5000'\n",
       "\\item '8861'\n",
       "\\end{enumerate*}\n"
      ],
      "text/markdown": [
       "1. '50'\n",
       "2. '100'\n",
       "3. '500'\n",
       "4. '1000'\n",
       "5. '5000'\n",
       "6. '8861'\n",
       "\n",
       "\n"
      ],
      "text/plain": [
       "[1] \"50\"   \"100\"  \"500\"  \"1000\" \"5000\" \"8861\""
      ]
     },
     "metadata": {},
     "output_type": "display_data"
    },
    {
     "data": {
      "text/html": [
       "<style>\n",
       ".list-inline {list-style: none; margin:0; padding: 0}\n",
       ".list-inline>li {display: inline-block}\n",
       ".list-inline>li:not(:last-child)::after {content: \"\\00b7\"; padding: 0 .5ex}\n",
       "</style>\n",
       "<ol class=list-inline><li>'bcells'</li><li>'tcells'</li><li>'monocytes'</li><li>'nk'</li><li>'random'</li></ol>\n"
      ],
      "text/latex": [
       "\\begin{enumerate*}\n",
       "\\item 'bcells'\n",
       "\\item 'tcells'\n",
       "\\item 'monocytes'\n",
       "\\item 'nk'\n",
       "\\item 'random'\n",
       "\\end{enumerate*}\n"
      ],
      "text/markdown": [
       "1. 'bcells'\n",
       "2. 'tcells'\n",
       "3. 'monocytes'\n",
       "4. 'nk'\n",
       "5. 'random'\n",
       "\n",
       "\n"
      ],
      "text/plain": [
       "[1] \"bcells\"    \"tcells\"    \"monocytes\" \"nk\"        \"random\"   "
      ]
     },
     "metadata": {},
     "output_type": "display_data"
    },
    {
     "data": {
      "text/html": [
       "<style>\n",
       ".list-inline {list-style: none; margin:0; padding: 0}\n",
       ".list-inline>li {display: inline-block}\n",
       ".list-inline>li:not(:last-child)::after {content: \"\\00b7\"; padding: 0 .5ex}\n",
       "</style>\n",
       "<ol class=list-inline><li>'nonorm'</li><li>'libsize'</li><li>'deseq'</li><li>'tmm'</li><li>'sct'</li></ol>\n"
      ],
      "text/latex": [
       "\\begin{enumerate*}\n",
       "\\item 'nonorm'\n",
       "\\item 'libsize'\n",
       "\\item 'deseq'\n",
       "\\item 'tmm'\n",
       "\\item 'sct'\n",
       "\\end{enumerate*}\n"
      ],
      "text/markdown": [
       "1. 'nonorm'\n",
       "2. 'libsize'\n",
       "3. 'deseq'\n",
       "4. 'tmm'\n",
       "5. 'sct'\n",
       "\n",
       "\n"
      ],
      "text/plain": [
       "[1] \"nonorm\"  \"libsize\" \"deseq\"   \"tmm\"     \"sct\"    "
      ]
     },
     "metadata": {},
     "output_type": "display_data"
    },
    {
     "data": {
      "text/html": [
       "<style>\n",
       ".list-inline {list-style: none; margin:0; padding: 0}\n",
       ".list-inline>li {display: inline-block}\n",
       ".list-inline>li:not(:last-child)::after {content: \"\\00b7\"; padding: 0 .5ex}\n",
       "</style>\n",
       "<ol class=list-inline><li>'false.positive'</li><li>'false.negative'</li></ol>\n"
      ],
      "text/latex": [
       "\\begin{enumerate*}\n",
       "\\item 'false.positive'\n",
       "\\item 'false.negative'\n",
       "\\end{enumerate*}\n"
      ],
      "text/markdown": [
       "1. 'false.positive'\n",
       "2. 'false.negative'\n",
       "\n",
       "\n"
      ],
      "text/plain": [
       "[1] \"false.positive\" \"false.negative\""
      ]
     },
     "metadata": {},
     "output_type": "display_data"
    },
    {
     "data": {
      "text/html": [
       "0"
      ],
      "text/latex": [
       "0"
      ],
      "text/markdown": [
       "0"
      ],
      "text/plain": [
       "[1] 0"
      ]
     },
     "metadata": {},
     "output_type": "display_data"
    }
   ],
   "source": [
    "names(fpfn.pvals)\n",
    "names(fpfn.pvals[[1]])\n",
    "names(fpfn.pvals[[1]][[1]])\n",
    "names(fpfn.pvals[[1]][[1]][[1]])\n",
    "sum(fpfn.pvals[[1]][[1]][[1]][[2]])"
   ]
  },
  {
   "cell_type": "code",
   "execution_count": null,
   "id": "23b3899d",
   "metadata": {},
   "outputs": [],
   "source": [
    "fpfn.pvals <- lapply(names(skewed.pvals.adj), function(reg) {\n",
    "    gs <- skewed.pvals.adj[[reg]]\n",
    "    \n",
    "    curr.gs.fpfn <- lapply(names(gs), function(n) {\n",
    "        curr.skewed.pvals <- gs[[n]]\n",
    "        curr.full.pvals <- p.vals.all.adj[[n]]\n",
    "        \n",
    "        curr.genes <- intersect(rownames(curr.skewed.pvals), rownames(curr.full.pvals))\n",
    "        \n",
    "        curr.skewed.pvals <- curr.skewed.pvals[curr.genes,]\n",
    "        curr.full.pvals <- curr.full.pvals[curr.genes,]\n",
    "        \n",
    "        get.pval.fp.fn(curr.skewed.pvals, curr.full.pvals, 0.05)\n",
    "        \n",
    "    })\n",
    "    \n",
    "    names(curr.gs.fpfn) <- names(gs)\n",
    "    curr.gs.fpfn\n",
    "})\n",
    "names(fpfn.pvals) <- names(skewed.pvals.adj)\n",
    "\n",
    "fpfn.rate.pvals.all <- lapply(names(fpfn.pvals), function(reg) {\n",
    "    gs <- fpfn.pvals[[reg]]\n",
    "    \n",
    "    curr.gs.fpfn.rates <- sapply(gs, function(n) {\n",
    "        curr.fp <- n[['false.positive']]\n",
    "        curr.fp.rate <- sum(curr.fp)/length(curr.fp)\n",
    "        \n",
    "        curr.fn <- n[['false.negative']]\n",
    "        curr.fn.rate <- sum(curr.fn)/length(curr.fn)\n",
    "        \n",
    "        list(fp = curr.fp.rate, fn = curr.fn.rate)\n",
    "    })\n",
    "    \n",
    "    curr.gs.fpfn.rates\n",
    "})\n",
    "names(fpfn.rate.pvals.all) <- names(fpfn.pvals)\n",
    "\n",
    "fpfn.rate.pvals.reg.other <- lapply(names(fpfn.pvals), function(reg) {\n",
    "    gs <- fpfn.pvals[[reg]]\n",
    "    \n",
    "    curr.gs.fpfn.rates <- sapply(gs, function(n) {\n",
    "        \n",
    "        if (reg != 'random'){\n",
    "            curr.reg.fp <- n[['false.positive']][,reg]\n",
    "            curr.reg.fp.rate <- sum(curr.reg.fp)/length(curr.reg.fp)\n",
    "            \n",
    "            curr.reg.fn <- n[['false.negative']][,reg]\n",
    "            curr.reg.fn.rate <- sum(curr.reg.fn)/length(curr.reg.fn)\n",
    "            \n",
    "            curr.other.regs <- colnames(n[['false.positive']]) != reg\n",
    "            \n",
    "            curr.other.fp <- n[['false.positive']][,curr.other.regs]\n",
    "            curr.other.fp.rate <- sum(curr.other.fp)/length(curr.other.fp)\n",
    "            \n",
    "            curr.other.fn <- n[['false.negative']][,curr.other.regs]\n",
    "            curr.other.fn.rate <- sum(curr.other.fn)/length(curr.other.fn)\n",
    "            \n",
    "        } else {\n",
    "            curr.reg.fp.rate <- NA\n",
    "            curr.reg.fn.rate <- NA\n",
    "            curr.other.fp.rate <- NA\n",
    "            curr.other.fn.rate <- NA            \n",
    "        }\n",
    "        \n",
    "        list(fp.reg = curr.reg.fp.rate, fn.reg = curr.reg.fn.rate,\n",
    "            fp.other = curr.other.fp.rate, fn.other = curr.other.fn.rate)\n",
    "        \n",
    "    })\n",
    "    \n",
    "    curr.gs.fpfn.rates\n",
    "    \n",
    "})\n",
    "names(fpfn.rate.pvals.reg.other) <- names(fpfn.pvals)\n",
    "\n",
    "fp.pvals.all <- as.data.frame(sapply(fpfn.rate.pvals.all, function(x) {\n",
    "    unlist(x['fp',])\n",
    "}))\n",
    "fn.pvals.all <- as.data.frame(sapply(fpfn.rate.pvals.all, function(x) {\n",
    "    unlist(x['fn',])\n",
    "}))\n",
    "\n",
    "fp.pvals.reg <- as.data.frame(sapply(fpfn.rate.pvals.reg.other, function(x) {\n",
    "    unlist(x['fp.reg',])\n",
    "}))\n",
    "fn.pvals.reg <- as.data.frame(sapply(fpfn.rate.pvals.reg.other, function(x) {\n",
    "    unlist(x['fn.reg',])\n",
    "}))\n",
    "\n",
    "fp.pvals.other <- as.data.frame(sapply(fpfn.rate.pvals.reg.other, function(x) {\n",
    "    unlist(x['fp.other',])\n",
    "}))\n",
    "fn.pvals.other <- as.data.frame(sapply(fpfn.rate.pvals.reg.other, function(x) {\n",
    "    unlist(x['fn.other',])\n",
    "}))\n"
   ]
  },
  {
   "cell_type": "code",
   "execution_count": null,
   "id": "6a12e790",
   "metadata": {},
   "outputs": [],
   "source": []
  },
  {
   "cell_type": "code",
   "execution_count": null,
   "id": "d081b9fc",
   "metadata": {},
   "outputs": [],
   "source": []
  },
  {
   "cell_type": "code",
   "execution_count": null,
   "id": "22653497",
   "metadata": {},
   "outputs": [],
   "source": []
  },
  {
   "cell_type": "code",
   "execution_count": null,
   "id": "25dd0641",
   "metadata": {},
   "outputs": [],
   "source": []
  },
  {
   "cell_type": "markdown",
   "id": "a06921d7",
   "metadata": {},
   "source": [
    "## COMPARE LOG FCS: SKEWED vs OG"
   ]
  },
  {
   "cell_type": "code",
   "execution_count": 91,
   "id": "6352234f",
   "metadata": {},
   "outputs": [
    {
     "data": {
      "text/html": [
       "'./figs/figs_jan_31_entropy/'"
      ],
      "text/latex": [
       "'./figs/figs\\_jan\\_31\\_entropy/'"
      ],
      "text/markdown": [
       "'./figs/figs_jan_31_entropy/'"
      ],
      "text/plain": [
       "[1] \"./figs/figs_jan_31_entropy/\""
      ]
     },
     "metadata": {},
     "output_type": "display_data"
    }
   ],
   "source": [
    "save.dir\n",
    "for (i in names(genesets[[1]])){\n",
    "    dir.create(paste0(save.dir,i,'/logFC_comparison/'))\n",
    "}"
   ]
  },
  {
   "cell_type": "code",
   "execution_count": 92,
   "id": "a56e065c",
   "metadata": {},
   "outputs": [],
   "source": [
    "options(repr.plot.width=5, repr.plot.height=18)\n",
    "\n",
    "norms.to.include <- c('libsize', 'sct', 'deseq', 'tmm', 'nonorm')\n",
    "norms.names <- c('Library Size', 'scTransform', 'DESeq2', 'TMM', 'No Normalization')\n",
    "names(norms.names) <- norms.to.include\n",
    "set.seed(0)\n",
    "\n",
    "for (n in norms.to.include){\n",
    "    for (gs in names(genesets[[1]])){\n",
    "        pdf(paste0(save.dir,gs,'/logFC_comparison/',n,'.pdf'),  \n",
    "            width = 6, height = 30)\n",
    "        par(mfrow = c(6,1), mar = c(10.1, 10.1, 6.1, 2.1))\n",
    "\n",
    "        for (s in names(genesets)){\n",
    "\n",
    "            curr.skewed.lfcs <- skewed.lfcs[[s]][[gs]][[n]]\n",
    "            curr.geneset <- rownames(curr.skewed.lfcs)\n",
    "            curr.og.lfcs <- lfcs.all[[n]][curr.geneset,]\n",
    "\n",
    "            #change color to highlight roi for region skewed geneset\n",
    "            curr.cols <- colnames(curr.skewed.lfcs)\n",
    "            curr.cols <- leg.col.celltype[curr.cols]\n",
    "            curr.cols[names(curr.cols) != gs] <- 'grey'\n",
    "    #         print(curr.cols)\n",
    "\n",
    "            #use all colors for random geneset\n",
    "            if (gs == 'random'){\n",
    "                curr.cols <- colnames(curr.skewed.lfcs)\n",
    "                curr.cols <- leg.col.celltype[curr.cols]\n",
    "            }\n",
    "\n",
    "            curr.cols <- unlist(lapply(curr.cols, function(x) {rep(x, nrow(curr.skewed.lfcs))}))\n",
    "\n",
    "            curr.x.lim <- range(curr.og.lfcs, finite = TRUE)\n",
    "            curr.y.lim <- range(curr.skewed.lfcs, finite = TRUE)\n",
    "\n",
    "            plot(as.vector(curr.og.lfcs), as.vector(curr.skewed.lfcs), \n",
    "                 pch = 16, cex = 2, col = scales::alpha(curr.cols, 0.75),\n",
    "                 cex.lab = fs, cex.axis = fs, cex.main = fs, xaxt=\"n\", yaxt=\"n\",\n",
    "                 xlab = '', ylab = '', bty = 'n', xaxs = 'i', yaxs = 'i',\n",
    "    #                  xlab = paste(n, 'log10(FC) - all genes'), \n",
    "    #                  ylab = paste(n, 'log10(FC) - skewed genes'), \n",
    "                 main = paste0(s, '-gene gene panel'))\n",
    "            title(xlab=paste('Full gene panel'), line=8, cex.lab=fs)\n",
    "            title(ylab=paste('Skewed gene panel'), line=5, cex.lab=fs)\n",
    "            axis(side = 1, at = curr.x.lim, line = 0, cex.axis = fs, lty = 1, labels = FALSE)\n",
    "            axis(side = 2, at = curr.y.lim, line = 0, cex.axis = fs, lty = 1, labels = FALSE)\n",
    "            axis(side = 1, line = 0, cex.axis = fs, lty = 1, labels = FALSE)\n",
    "            axis(side = 2, line = 0, cex.axis = fs, lty = 1, labels = FALSE)\n",
    "            axis(side = 1, line = 1.5, cex.axis = fs, lty = 0)\n",
    "            axis(side = 2, line = 0.5, cex.axis = fs, lty = 0)\n",
    "            abline(a=0,b=1,col='red')\n",
    "            abline(v=0, col='black')\n",
    "            abline(h=0, col='black')\n",
    "            abline(v=c(-0.25,0.25), col=scales::alpha('grey',0.5))\n",
    "            abline(h=c(-0.25,0.25), col=scales::alpha('grey',0.5))  \n",
    "\n",
    "        }\n",
    "\n",
    "        dev.off()\n",
    "\n",
    "    }    \n",
    "}\n",
    "\n",
    "\n"
   ]
  },
  {
   "cell_type": "code",
   "execution_count": null,
   "id": "aa5c94cf",
   "metadata": {},
   "outputs": [],
   "source": []
  }
 ],
 "metadata": {
  "kernelspec": {
   "display_name": "R",
   "language": "R",
   "name": "ir"
  },
  "language_info": {
   "codemirror_mode": "r",
   "file_extension": ".r",
   "mimetype": "text/x-r-source",
   "name": "R",
   "pygments_lexer": "r",
   "version": "4.2.0"
  }
 },
 "nbformat": 4,
 "nbformat_minor": 5
}
