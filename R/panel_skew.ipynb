{
 "cells": [
  {
   "cell_type": "code",
   "execution_count": 1,
   "id": "88490f79",
   "metadata": {},
   "outputs": [],
   "source": [
    "save.dir <- './figs/figs_feb_26/'\n",
    "fs <-  4 \n",
    "fs.small <- 3"
   ]
  },
  {
   "cell_type": "markdown",
   "id": "7e65bab2",
   "metadata": {},
   "source": [
    "#### computing diversity based on KL divergence of observed counts from expected counts based on cell subgroup proportions"
   ]
  },
  {
   "cell_type": "code",
   "execution_count": 2,
   "id": "13083ec7",
   "metadata": {},
   "outputs": [],
   "source": [
    "find.div <- function(counts, meta) {\n",
    "    sum.counts <- sum(counts)\n",
    "    \n",
    "    ## expected counts for each subgroup based on proportion of cells in that subgroup\n",
    "    expected.props <- table(meta)/length(meta)\n",
    "    \n",
    "    ## observed counts for each subgroup\n",
    "    observed.props <- sapply(names(expected.props), function(curr.group) {\n",
    "        curr.cells <- intersect(colnames(counts), names(meta[meta==curr.group]))\n",
    "        sum(counts[,curr.cells])/sum.counts\n",
    "    })\n",
    "    \n",
    "    kl <- sum(observed.props * log(observed.props/expected.props))\n",
    "    \n",
    "    return(kl)\n",
    "    \n",
    "}"
   ]
  },
  {
   "cell_type": "markdown",
   "id": "28128a67",
   "metadata": {},
   "source": [
    "## DATA"
   ]
  },
  {
   "cell_type": "markdown",
   "id": "3ee81943",
   "metadata": {},
   "source": [
    "### merfish"
   ]
  },
  {
   "cell_type": "code",
   "execution_count": 3,
   "id": "1aa3491d",
   "metadata": {},
   "outputs": [],
   "source": [
    "merfish.panels <- readRDS('./merfish_mousebrain/merfish_norm_data.rds')\n",
    "merfish.full.counts <- merfish.panels$all.norms$nonorm\n",
    "merfish.skewed.norms <- lapply(merfish.panels$skewed.norms, function(x) { x[['nonorm']]})\n",
    "merfish.counts <- merfish.skewed.norms\n",
    "merfish.counts[['full']] <- merfish.full.counts\n",
    "\n",
    "merfish.meta <- merfish.panels$meta[colnames(merfish.full.counts),'reg.coarse']\n",
    "names(merfish.meta) <- colnames(merfish.full.counts)"
   ]
  },
  {
   "cell_type": "markdown",
   "id": "f30699e1",
   "metadata": {},
   "source": [
    "### starmap"
   ]
  },
  {
   "cell_type": "code",
   "execution_count": 4,
   "id": "d2b99ded",
   "metadata": {},
   "outputs": [],
   "source": [
    "starmap.panels <- readRDS('./STARmap/starmap_norm_data.rds')\n",
    "starmap.full.counts <- starmap.panels$all.norms$nonorm\n",
    "starmap.skewed.norms <- lapply(starmap.panels$skewed.norms, function(x) { x[['nonorm']]})\n",
    "starmap.counts <- starmap.skewed.norms\n",
    "starmap.counts[['full']] <- starmap.full.counts\n",
    "\n",
    "starmap.meta <- starmap.panels$meta[colnames(starmap.full.counts),'region']\n",
    "names(starmap.meta) <- colnames(starmap.full.counts)"
   ]
  },
  {
   "cell_type": "markdown",
   "id": "d5a0e5a8",
   "metadata": {},
   "source": [
    "### seqFISH"
   ]
  },
  {
   "cell_type": "code",
   "execution_count": 5,
   "id": "436dc92f",
   "metadata": {},
   "outputs": [],
   "source": [
    "seqfish.panels <- readRDS('./seqFISH_kidney/seqfish_norm_data.rds')\n",
    "seqfish.full.counts <- seqfish.panels$all.norms$nonorm\n",
    "seqfish.skewed.norms <- lapply(seqfish.panels$skewed.norms, function(x) { x[['nonorm']]})\n",
    "seqfish.counts <- seqfish.skewed.norms\n",
    "seqfish.counts[['full']] <- seqfish.full.counts\n",
    "\n",
    "seqfish.meta <- seqfish.panels$meta[colnames(seqfish.full.counts),'region']\n",
    "names(seqfish.meta) <- colnames(seqfish.full.counts)"
   ]
  },
  {
   "cell_type": "markdown",
   "id": "a59f75c5",
   "metadata": {},
   "source": [
    "### cosmx"
   ]
  },
  {
   "cell_type": "code",
   "execution_count": 6,
   "id": "d248adbc",
   "metadata": {},
   "outputs": [],
   "source": [
    "cosmx.panels <- readRDS('./CosMx_liver/cosmx_norm_data.rds')\n",
    "cosmx.full.counts <- cosmx.panels$all.norms$nonorm\n",
    "cosmx.skewed.norms <- lapply(cosmx.panels$skewed.norms, function(x) { x[['nonorm']]})\n",
    "cosmx.counts <- cosmx.skewed.norms\n",
    "cosmx.counts[['full']] <- cosmx.full.counts\n",
    "\n",
    "cosmx.meta <- cosmx.panels$meta[colnames(cosmx.full.counts),'region']\n",
    "names(cosmx.meta) <- colnames(cosmx.full.counts)"
   ]
  },
  {
   "cell_type": "markdown",
   "id": "bdfaa4d3",
   "metadata": {},
   "source": [
    "### xenium"
   ]
  },
  {
   "cell_type": "code",
   "execution_count": 7,
   "id": "16786b82",
   "metadata": {},
   "outputs": [],
   "source": [
    "xenium.panels <- readRDS('./xenium/xenium_norm_data.rds')\n",
    "xenium.full.counts <- xenium.panels$all.norms$nonorm\n",
    "xenium.skewed.norms <- lapply(xenium.panels$skewed.norms, function(x) { x[['nonorm']]})\n",
    "xenium.counts <- xenium.skewed.norms\n",
    "xenium.counts[['full']] <- xenium.full.counts\n",
    "\n",
    "xenium.meta <- xenium.panels$meta[colnames(xenium.full.counts),'region']\n",
    "names(xenium.meta) <- colnames(xenium.full.counts)"
   ]
  },
  {
   "cell_type": "code",
   "execution_count": 8,
   "id": "35aa10f0",
   "metadata": {},
   "outputs": [],
   "source": [
    "datasets <- list(merfish = list(counts = merfish.counts, meta = merfish.meta), \n",
    "                 starmap = list(counts = starmap.counts, meta = starmap.meta),\n",
    "                 seqfish = list(counts = seqfish.counts, meta = seqfish.meta),\n",
    "                 cosmx = list(counts = cosmx.counts, meta = cosmx.meta),\n",
    "                 xenium = list(counts = xenium.counts, meta = xenium.meta))"
   ]
  },
  {
   "cell_type": "code",
   "execution_count": 26,
   "id": "71c20409",
   "metadata": {},
   "outputs": [
    {
     "data": {
      "text/html": [
       "<style>\n",
       ".list-inline {list-style: none; margin:0; padding: 0}\n",
       ".list-inline>li {display: inline-block}\n",
       ".list-inline>li:not(:last-child)::after {content: \"\\00b7\"; padding: 0 .5ex}\n",
       "</style>\n",
       "<ol class=list-inline><li>'merfish'</li><li>'starmap'</li><li>'seqfish'</li><li>'cosmx'</li><li>'xenium'</li></ol>\n"
      ],
      "text/latex": [
       "\\begin{enumerate*}\n",
       "\\item 'merfish'\n",
       "\\item 'starmap'\n",
       "\\item 'seqfish'\n",
       "\\item 'cosmx'\n",
       "\\item 'xenium'\n",
       "\\end{enumerate*}\n"
      ],
      "text/markdown": [
       "1. 'merfish'\n",
       "2. 'starmap'\n",
       "3. 'seqfish'\n",
       "4. 'cosmx'\n",
       "5. 'xenium'\n",
       "\n",
       "\n"
      ],
      "text/plain": [
       "[1] \"merfish\" \"starmap\" \"seqfish\" \"cosmx\"   \"xenium\" "
      ]
     },
     "metadata": {},
     "output_type": "display_data"
    },
    {
     "data": {
      "text/html": [
       "<dl>\n",
       "\t<dt>$merfish</dt>\n",
       "\t\t<dd><style>\n",
       ".list-inline {list-style: none; margin:0; padding: 0}\n",
       ".list-inline>li {display: inline-block}\n",
       ".list-inline>li:not(:last-child)::after {content: \"\\00b7\"; padding: 0 .5ex}\n",
       "</style>\n",
       "<ol class=list-inline><li>100</li><li>10753</li></ol>\n",
       "</dd>\n",
       "\t<dt>$starmap</dt>\n",
       "\t\t<dd><style>\n",
       ".list-inline {list-style: none; margin:0; padding: 0}\n",
       ".list-inline>li {display: inline-block}\n",
       ".list-inline>li:not(:last-child)::after {content: \"\\00b7\"; padding: 0 .5ex}\n",
       "</style>\n",
       "<ol class=list-inline><li>100</li><li>5558</li></ol>\n",
       "</dd>\n",
       "\t<dt>$seqfish</dt>\n",
       "\t\t<dd><style>\n",
       ".list-inline {list-style: none; margin:0; padding: 0}\n",
       ".list-inline>li {display: inline-block}\n",
       ".list-inline>li:not(:last-child)::after {content: \"\\00b7\"; padding: 0 .5ex}\n",
       "</style>\n",
       "<ol class=list-inline><li>60</li><li>250771</li></ol>\n",
       "</dd>\n",
       "\t<dt>$cosmx</dt>\n",
       "\t\t<dd><style>\n",
       ".list-inline {list-style: none; margin:0; padding: 0}\n",
       ".list-inline>li {display: inline-block}\n",
       ".list-inline>li:not(:last-child)::after {content: \"\\00b7\"; padding: 0 .5ex}\n",
       "</style>\n",
       "<ol class=list-inline><li>200</li><li>93503</li></ol>\n",
       "</dd>\n",
       "\t<dt>$xenium</dt>\n",
       "\t\t<dd><style>\n",
       ".list-inline {list-style: none; margin:0; padding: 0}\n",
       ".list-inline>li {display: inline-block}\n",
       ".list-inline>li:not(:last-child)::after {content: \"\\00b7\"; padding: 0 .5ex}\n",
       "</style>\n",
       "<ol class=list-inline><li>80</li><li>63127</li></ol>\n",
       "</dd>\n",
       "</dl>\n"
      ],
      "text/latex": [
       "\\begin{description}\n",
       "\\item[\\$merfish] \\begin{enumerate*}\n",
       "\\item 100\n",
       "\\item 10753\n",
       "\\end{enumerate*}\n",
       "\n",
       "\\item[\\$starmap] \\begin{enumerate*}\n",
       "\\item 100\n",
       "\\item 5558\n",
       "\\end{enumerate*}\n",
       "\n",
       "\\item[\\$seqfish] \\begin{enumerate*}\n",
       "\\item 60\n",
       "\\item 250771\n",
       "\\end{enumerate*}\n",
       "\n",
       "\\item[\\$cosmx] \\begin{enumerate*}\n",
       "\\item 200\n",
       "\\item 93503\n",
       "\\end{enumerate*}\n",
       "\n",
       "\\item[\\$xenium] \\begin{enumerate*}\n",
       "\\item 80\n",
       "\\item 63127\n",
       "\\end{enumerate*}\n",
       "\n",
       "\\end{description}\n"
      ],
      "text/markdown": [
       "$merfish\n",
       ":   1. 100\n",
       "2. 10753\n",
       "\n",
       "\n",
       "\n",
       "$starmap\n",
       ":   1. 100\n",
       "2. 5558\n",
       "\n",
       "\n",
       "\n",
       "$seqfish\n",
       ":   1. 60\n",
       "2. 250771\n",
       "\n",
       "\n",
       "\n",
       "$cosmx\n",
       ":   1. 200\n",
       "2. 93503\n",
       "\n",
       "\n",
       "\n",
       "$xenium\n",
       ":   1. 80\n",
       "2. 63127\n",
       "\n",
       "\n",
       "\n",
       "\n",
       "\n"
      ],
      "text/plain": [
       "$merfish\n",
       "[1]   100 10753\n",
       "\n",
       "$starmap\n",
       "[1]  100 5558\n",
       "\n",
       "$seqfish\n",
       "[1]     60 250771\n",
       "\n",
       "$cosmx\n",
       "[1]   200 93503\n",
       "\n",
       "$xenium\n",
       "[1]    80 63127\n"
      ]
     },
     "metadata": {},
     "output_type": "display_data"
    },
    {
     "data": {
      "text/html": [
       "<style>\n",
       ".list-inline {list-style: none; margin:0; padding: 0}\n",
       ".list-inline>li {display: inline-block}\n",
       ".list-inline>li:not(:last-child)::after {content: \"\\00b7\"; padding: 0 .5ex}\n",
       "</style>\n",
       "<ol class=list-inline><li>100</li><li>10753</li></ol>\n"
      ],
      "text/latex": [
       "\\begin{enumerate*}\n",
       "\\item 100\n",
       "\\item 10753\n",
       "\\end{enumerate*}\n"
      ],
      "text/markdown": [
       "1. 100\n",
       "2. 10753\n",
       "\n",
       "\n"
      ],
      "text/plain": [
       "[1]   100 10753"
      ]
     },
     "metadata": {},
     "output_type": "display_data"
    }
   ],
   "source": [
    "names(datasets)\n",
    "lapply(datasets, function(x) { dim(x[[1]][[1]]) })"
   ]
  },
  {
   "cell_type": "markdown",
   "id": "305f5487",
   "metadata": {},
   "source": [
    "## SKEW"
   ]
  },
  {
   "cell_type": "code",
   "execution_count": 9,
   "id": "5b979755",
   "metadata": {},
   "outputs": [],
   "source": [
    "divs <- lapply(datasets, function(curr.data) {\n",
    "    lapply(curr.data$counts, function(curr.counts) {\n",
    "        curr.meta <- curr.data$meta[colnames(curr.counts)]\n",
    "        find.div(curr.counts, curr.meta)\n",
    "    })\n",
    "})"
   ]
  },
  {
   "cell_type": "code",
   "execution_count": 11,
   "id": "3495cbd9",
   "metadata": {},
   "outputs": [],
   "source": [
    "# saveRDS(divs, file = 'panel_divs.RDS')"
   ]
  },
  {
   "cell_type": "markdown",
   "id": "f8a08b33",
   "metadata": {},
   "source": [
    "## single cell sim div"
   ]
  },
  {
   "cell_type": "code",
   "execution_count": 23,
   "id": "e09c58db",
   "metadata": {},
   "outputs": [],
   "source": [
    "sc.sim.deprop <- readRDS('./sc_pbmc/scpbmc_DEprop_countssubsets.RDS')\n",
    "sc.meta <- readRDS('./sc_pbmc/scpbmc_celltypes.RDS')\n",
    "sc.sim.panelsize <- readRDS('./sc_pbmc/scpbmc_sizeSim_countssubsets.RDS')"
   ]
  },
  {
   "cell_type": "code",
   "execution_count": 24,
   "id": "3f962fa3",
   "metadata": {},
   "outputs": [],
   "source": [
    "sc.deprop.divs <- lapply(sc.sim.deprop, function(curr.gs.prop) {\n",
    "    lapply(curr.gs.prop, function(curr.counts) {\n",
    "        curr.meta <- sc.meta[colnames(curr.counts)]\n",
    "        find.div(curr.counts, curr.meta)\n",
    "    })\n",
    "})\n",
    "sc.gssize.divs <- lapply(sc.sim.panelsize, function(curr.gs.size) {\n",
    "    lapply(curr.gs.size, function(curr.counts) {\n",
    "        curr.meta <- sc.meta[colnames(curr.counts)]\n",
    "        find.div(curr.counts, curr.meta)\n",
    "    })\n",
    "})"
   ]
  },
  {
   "cell_type": "markdown",
   "id": "5219007b",
   "metadata": {},
   "source": [
    "## imSRT panel skew"
   ]
  },
  {
   "cell_type": "code",
   "execution_count": 41,
   "id": "a81665e4",
   "metadata": {},
   "outputs": [],
   "source": [
    "dir.create(paste0(save.dir,'panel_div'))"
   ]
  },
  {
   "cell_type": "code",
   "execution_count": 56,
   "id": "3e0ee4db",
   "metadata": {},
   "outputs": [
    {
     "data": {
      "text/html": [
       "<strong>png:</strong> 2"
      ],
      "text/latex": [
       "\\textbf{png:} 2"
      ],
      "text/markdown": [
       "**png:** 2"
      ],
      "text/plain": [
       "png \n",
       "  2 "
      ]
     },
     "metadata": {},
     "output_type": "display_data"
    }
   ],
   "source": [
    "gs.names <- c('Fiber tracts', 'Ventricles', 'Habenula', 'Dentate gyrus', NA)\n",
    "panel.div <- unlist(divs$merfish)\n",
    "panel.div.names <- c(gs.names[1:4], 'Random', 'Original')\n",
    "options(repr.plot.width=6, repr.plot.height=7)\n",
    "pdf(paste0(save.dir, 'panel_div/merfish.pdf'),  \n",
    "    width = 8, height = 9)\n",
    "par(mfrow = c(1,1), mar = c(17.1, 10, 3.1, 2.1))\n",
    "xtcks <- c(0:length(panel.div)+1)\n",
    "x <- seq(length(panel.div))\n",
    "y <- panel.div\n",
    "xl <- c(0,max(x)+1)\n",
    "yl <- c(0,0.08)\n",
    "sp <- c(1.5, rep(1,length(panel.div)-1))\n",
    "\n",
    "barplot(y, xlim = xl, ylim = yl, width = 0.5, space = sp,\n",
    "    xaxt = \"n\", yaxt = \"n\", xaxs = 'i', yaxs = 'i',\n",
    "    ylab = '', xlab = '')\n",
    "axis(1, at = c(0,xtcks), cex.axis=2, labels = FALSE)\n",
    "axis(2, at = seq(from = 0, to = ceiling(max(yl)), by = 0.02), cex.axis=3, las = 2)\n",
    "text(x = xtcks[1:length(panel.div.names)]+0.15, y = min(yl)-0.01, \n",
    "     labels = panel.div.names, xpd = NA, srt = 45, cex = 2, pos = 2)\n",
    "title(xlab='Gene panel', line=14, cex.lab=fs)\n",
    "title(ylab='Gene panel skew', line=6, cex.lab=fs)\n",
    "dev.off()"
   ]
  },
  {
   "cell_type": "markdown",
   "id": "d705fb13",
   "metadata": {},
   "source": [
    "### starmap"
   ]
  },
  {
   "cell_type": "code",
   "execution_count": 14,
   "id": "d124c264",
   "metadata": {},
   "outputs": [
    {
     "data": {
      "text/html": [
       "<strong>png:</strong> 2"
      ],
      "text/latex": [
       "\\textbf{png:} 2"
      ],
      "text/markdown": [
       "**png:** 2"
      ],
      "text/plain": [
       "png \n",
       "  2 "
      ]
     },
     "metadata": {},
     "output_type": "display_data"
    }
   ],
   "source": [
    "gs.names <- c('Fiber tracts', 'Ventricles', 'Dentate gyrus')\n",
    "panel.div <- unlist(divs$starmap)[c(1:3,5)]\n",
    "# panel.div.names <- c(gs.names[1:3], 'Random', 'Original')\n",
    "panel.div.names <- c(gs.names, 'Original')\n",
    "options(repr.plot.width=6, repr.plot.height=7)\n",
    "pdf(paste0(save.dir, 'panel_div/starmap.pdf'),  \n",
    "    width = 8, height = 9)\n",
    "par(mfrow = c(1,1), mar = c(17.1, 10, 3.1, 2.1))\n",
    "xtcks <- c(0:length(panel.div)+1)\n",
    "x <- seq(length(panel.div))\n",
    "y <- panel.div\n",
    "xl <- c(0,max(x)+1)\n",
    "yl <- c(0,0.14)\n",
    "sp <- c(1.5, rep(1,length(panel.div)-1))\n",
    "\n",
    "barplot(y, xlim = xl, ylim = yl, width = 0.5, space = sp,\n",
    "    xaxt = \"n\", yaxt = \"n\", xaxs = 'i', yaxs = 'i',\n",
    "    ylab = '', xlab = '')\n",
    "axis(1, at = c(0,xtcks), cex.axis=2, labels = FALSE)\n",
    "axis(2, at = seq(from = 0, to = ceiling(max(yl)), by = 0.02), cex.axis=3, las = 2)\n",
    "text(x = xtcks[1:length(panel.div.names)]+0.15, y = min(yl)-0.01, \n",
    "     labels = panel.div.names, xpd = NA, srt = 45, cex = 2, pos = 2)\n",
    "title(xlab='Gene panel', line=14, cex.lab=fs)\n",
    "title(ylab='Gene panel skew', line=6, cex.lab=fs)\n",
    "dev.off()"
   ]
  },
  {
   "cell_type": "markdown",
   "id": "2e5ce820",
   "metadata": {},
   "source": [
    "### seqfish"
   ]
  },
  {
   "cell_type": "code",
   "execution_count": 21,
   "id": "84e51d38",
   "metadata": {},
   "outputs": [
    {
     "data": {
      "text/html": [
       "<strong>png:</strong> 2"
      ],
      "text/latex": [
       "\\textbf{png:} 2"
      ],
      "text/markdown": [
       "**png:** 2"
      ],
      "text/plain": [
       "png \n",
       "  2 "
      ]
     },
     "metadata": {},
     "output_type": "display_data"
    }
   ],
   "source": [
    "gs.names <- c('Cortex', 'Medulla', 'Pelvis')\n",
    "panel.div <- unlist(divs$seqfish)[c(1:3,5)]\n",
    "# panel.div.names <- c(gs.names[1:3], 'Random', 'Original')\n",
    "panel.div.names <- c(gs.names, 'Original')\n",
    "options(repr.plot.width=6, repr.plot.height=7)\n",
    "pdf(paste0(save.dir, 'panel_div/seqfish.pdf'),  \n",
    "    width = 8, height = 9)\n",
    "par(mfrow = c(1,1), mar = c(17.1, 10, 3.1, 2.1))\n",
    "xtcks <- c(0:length(panel.div)+1)\n",
    "x <- seq(length(panel.div))\n",
    "y <- panel.div\n",
    "xl <- c(0,max(x)+1)\n",
    "yl <- c(0,0.2)\n",
    "sp <- c(1.5, rep(1,length(panel.div)-1))\n",
    "\n",
    "barplot(y, xlim = xl, ylim = yl, width = 0.5, space = sp,\n",
    "    xaxt = \"n\", yaxt = \"n\", xaxs = 'i', yaxs = 'i',\n",
    "    ylab = '', xlab = '')\n",
    "axis(1, at = c(0,xtcks), cex.axis=2, labels = FALSE)\n",
    "axis(2, at = seq(from = 0, to = ceiling(max(yl)), by = 0.04), cex.axis=3, las = 2)\n",
    "text(x = xtcks[1:length(panel.div.names)]+0.15, y = min(yl)-0.02, \n",
    "     labels = panel.div.names, xpd = NA, srt = 45, cex = 2, pos = 2)\n",
    "title(xlab='Gene panel', line=14, cex.lab=fs)\n",
    "title(ylab='Gene panel skew', line=6, cex.lab=fs)\n",
    "dev.off()"
   ]
  },
  {
   "cell_type": "markdown",
   "id": "175fcba2",
   "metadata": {},
   "source": [
    "### cosmx"
   ]
  },
  {
   "cell_type": "code",
   "execution_count": 16,
   "id": "df5880c1",
   "metadata": {},
   "outputs": [
    {
     "data": {
      "text/html": [
       "<dl>\n",
       "\t<dt>$`Zone 3`</dt>\n",
       "\t\t<dd>0.0163663475505609</dd>\n",
       "\t<dt>$`Zone 1`</dt>\n",
       "\t\t<dd>0.0237893736647584</dd>\n",
       "\t<dt>$random</dt>\n",
       "\t\t<dd>0.002756373979905</dd>\n",
       "\t<dt>$full</dt>\n",
       "\t\t<dd>0.00132335033075754</dd>\n",
       "</dl>\n"
      ],
      "text/latex": [
       "\\begin{description}\n",
       "\\item[\\$`Zone 3`] 0.0163663475505609\n",
       "\\item[\\$`Zone 1`] 0.0237893736647584\n",
       "\\item[\\$random] 0.002756373979905\n",
       "\\item[\\$full] 0.00132335033075754\n",
       "\\end{description}\n"
      ],
      "text/markdown": [
       "$`Zone 3`\n",
       ":   0.0163663475505609\n",
       "$`Zone 1`\n",
       ":   0.0237893736647584\n",
       "$random\n",
       ":   0.002756373979905\n",
       "$full\n",
       ":   0.00132335033075754\n",
       "\n",
       "\n"
      ],
      "text/plain": [
       "$`Zone 3`\n",
       "[1] 0.01636635\n",
       "\n",
       "$`Zone 1`\n",
       "[1] 0.02378937\n",
       "\n",
       "$random\n",
       "[1] 0.002756374\n",
       "\n",
       "$full\n",
       "[1] 0.00132335\n"
      ]
     },
     "metadata": {},
     "output_type": "display_data"
    }
   ],
   "source": [
    "divs$cosmx"
   ]
  },
  {
   "cell_type": "code",
   "execution_count": 18,
   "id": "363cee32",
   "metadata": {},
   "outputs": [
    {
     "data": {
      "text/html": [
       "<strong>png:</strong> 2"
      ],
      "text/latex": [
       "\\textbf{png:} 2"
      ],
      "text/markdown": [
       "**png:** 2"
      ],
      "text/plain": [
       "png \n",
       "  2 "
      ]
     },
     "metadata": {},
     "output_type": "display_data"
    }
   ],
   "source": [
    "gs.names <- c('Zone 3', 'Zone 1')\n",
    "panel.div <- unlist(divs$cosmx)[c(1,2,4)]\n",
    "# panel.div.names <- c(gs.names[1:2], 'Random', 'Original')\n",
    "panel.div.names <- c(gs.names, 'Original')\n",
    "options(repr.plot.width=6, repr.plot.height=7)\n",
    "pdf(paste0(save.dir, 'panel_div/cosmx.pdf'),  \n",
    "    width = 8, height = 9)\n",
    "par(mfrow = c(1,1), mar = c(17.1, 10, 3.1, 2.1))\n",
    "xtcks <- c(0:length(panel.div)+1)\n",
    "x <- seq(length(panel.div))\n",
    "y <- panel.div\n",
    "xl <- c(0,max(x)+1)\n",
    "yl <- c(0,0.03)\n",
    "sp <- c(1.5, rep(1,length(panel.div)-1))\n",
    "\n",
    "barplot(y, xlim = xl, ylim = yl, width = 0.5, space = sp,\n",
    "    xaxt = \"n\", yaxt = \"n\", xaxs = 'i', yaxs = 'i',\n",
    "    ylab = '', xlab = '')\n",
    "axis(1, at = c(0,xtcks), cex.axis=2, labels = FALSE)\n",
    "axis(2, at = seq(from = 0, to = ceiling(max(yl)), by = 0.01), cex.axis=3, las = 2)\n",
    "text(x = xtcks[1:length(panel.div.names)]+0.15, y = min(yl)-0.005, \n",
    "     labels = panel.div.names, xpd = NA, srt = 45, cex = 2, pos = 2)\n",
    "title(xlab='Gene panel', line=14, cex.lab=fs)\n",
    "title(ylab='Gene panel skew', line=6, cex.lab=fs)\n",
    "dev.off()"
   ]
  },
  {
   "cell_type": "markdown",
   "id": "b8c0a80a",
   "metadata": {},
   "source": [
    "### xenium"
   ]
  },
  {
   "cell_type": "code",
   "execution_count": 20,
   "id": "34e54845",
   "metadata": {},
   "outputs": [
    {
     "data": {
      "text/html": [
       "<strong>png:</strong> 2"
      ],
      "text/latex": [
       "\\textbf{png:} 2"
      ],
      "text/markdown": [
       "**png:** 2"
      ],
      "text/plain": [
       "png \n",
       "  2 "
      ]
     },
     "metadata": {},
     "output_type": "display_data"
    }
   ],
   "source": [
    "gs.names <- c('Invasive', 'DCIS')\n",
    "panel.div <- unlist(divs$xenium)[c(1,2,4)]\n",
    "# panel.div.names <- c(gs.names[1:2], 'Random', 'Original')\n",
    "panel.div.names <- c(gs.names, 'Original')\n",
    "options(repr.plot.width=6, repr.plot.height=7)\n",
    "pdf(paste0(save.dir, 'panel_div/xenium.pdf'),  \n",
    "    width = 8, height = 9)\n",
    "par(mfrow = c(1,1), mar = c(17.1, 10, 3.1, 2.1))\n",
    "xtcks <- c(0:length(panel.div)+1)\n",
    "x <- seq(length(panel.div))\n",
    "y <- panel.div\n",
    "xl <- c(0,max(x)+1)\n",
    "yl <- c(0,0.05)\n",
    "sp <- c(1.5, rep(1,length(panel.div)-1))\n",
    "\n",
    "barplot(y, xlim = xl, ylim = yl, width = 0.5, space = sp,\n",
    "    xaxt = \"n\", yaxt = \"n\", xaxs = 'i', yaxs = 'i',\n",
    "    ylab = '', xlab = '')\n",
    "axis(1, at = c(0,xtcks), cex.axis=2, labels = FALSE)\n",
    "axis(2, at = seq(from = 0, to = ceiling(max(yl)), by = 0.01), cex.axis=3, las = 2)\n",
    "text(x = xtcks[1:length(panel.div.names)]+0.15, y = min(yl)-0.005, \n",
    "     labels = panel.div.names, xpd = NA, srt = 45, cex = 2, pos = 2)\n",
    "title(xlab='Gene panel', line=14, cex.lab=fs)\n",
    "title(ylab='Gene panel skew', line=6, cex.lab=fs)\n",
    "dev.off()"
   ]
  },
  {
   "cell_type": "markdown",
   "id": "697db5b2",
   "metadata": {},
   "source": [
    "## sc size skew"
   ]
  },
  {
   "cell_type": "code",
   "execution_count": 88,
   "id": "abed381c",
   "metadata": {},
   "outputs": [
    {
     "data": {
      "text/html": [
       "1.12644477703589"
      ],
      "text/latex": [
       "1.12644477703589"
      ],
      "text/markdown": [
       "1.12644477703589"
      ],
      "text/plain": [
       "[1] 1.126445"
      ]
     },
     "metadata": {},
     "output_type": "display_data"
    }
   ],
   "source": [
    "sc.gssize.monocyte.divs <- lapply(sc.gssize.divs, function(x) {x[['monocytes']]})\n",
    "max(unlist(sc.gssize.monocyte.divs))"
   ]
  },
  {
   "cell_type": "code",
   "execution_count": 94,
   "id": "f5ce91b1",
   "metadata": {},
   "outputs": [
    {
     "data": {
      "text/html": [
       "<strong>png:</strong> 2"
      ],
      "text/latex": [
       "\\textbf{png:} 2"
      ],
      "text/markdown": [
       "**png:** 2"
      ],
      "text/plain": [
       "png \n",
       "  2 "
      ]
     },
     "metadata": {},
     "output_type": "display_data"
    }
   ],
   "source": [
    "gs.names <- names(sc.gssize.monocyte.divs)\n",
    "panel.div <- unlist(sc.gssize.monocyte.divs)\n",
    "panel.div.names <- gs.names\n",
    "options(repr.plot.width=6, repr.plot.height=7)\n",
    "pdf(paste0(save.dir, 'panel_div/sc_size_monocytes.pdf'),  \n",
    "    width = 8, height = 9)\n",
    "par(mfrow = c(1,1), mar = c(17.1, 10, 3.1, 2.1))\n",
    "xtcks <- c(0:length(panel.div)+1)\n",
    "x <- seq(length(panel.div))\n",
    "y <- panel.div\n",
    "xl <- c(0,max(x)+1)\n",
    "yl <- c(0,1.2)\n",
    "sp <- c(1.5, rep(1,length(panel.div)-1))\n",
    "\n",
    "barplot(y, xlim = xl, ylim = yl, width = 0.5, space = sp,\n",
    "    xaxt = \"n\", yaxt = \"n\", xaxs = 'i', yaxs = 'i',\n",
    "    ylab = '', xlab = '')\n",
    "axis(1, at = c(0,xtcks), cex.axis=2, labels = FALSE)\n",
    "axis(2, at = seq(from = 0, to = ceiling(max(yl)), by = 0.5), cex.axis=3, las = 2)\n",
    "text(x = xtcks[1:length(panel.div.names)]+0.15, y = min(yl)-0.1, \n",
    "     labels = panel.div.names, xpd = NA, srt = 45, cex = 2, pos = 2)\n",
    "title(xlab='Gene panel', line=14, cex.lab=fs)\n",
    "title(ylab='Gene panel skew', line=6, cex.lab=fs)\n",
    "dev.off()"
   ]
  },
  {
   "cell_type": "code",
   "execution_count": null,
   "id": "24daa188",
   "metadata": {},
   "outputs": [],
   "source": []
  }
 ],
 "metadata": {
  "kernelspec": {
   "display_name": "R",
   "language": "R",
   "name": "ir"
  },
  "language_info": {
   "codemirror_mode": "r",
   "file_extension": ".r",
   "mimetype": "text/x-r-source",
   "name": "R",
   "pygments_lexer": "r",
   "version": "4.2.0"
  }
 },
 "nbformat": 4,
 "nbformat_minor": 5
}
