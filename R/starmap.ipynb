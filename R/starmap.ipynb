{
 "cells": [
  {
   "cell_type": "markdown",
   "id": "de759a8b",
   "metadata": {},
   "source": [
    "## SETUP"
   ]
  },
  {
   "cell_type": "code",
   "execution_count": 1,
   "id": "675ad514",
   "metadata": {},
   "outputs": [],
   "source": [
    "## docker: docker_slim\n",
    "source('./../../../../my_utils/funcs_R/my_rutils.R')\n",
    "source(\"./../../helper_funs.r\")\n",
    "suppressMessages(suppressWarnings(library(DESeq2)))\n",
    "suppressMessages(suppressWarnings(library(edgeR)))\n",
    "suppressMessages(suppressWarnings(library(sctransform)))\n",
    "suppressMessages(suppressWarnings(library(RColorBrewer)))\n",
    "suppressMessages(suppressWarnings(library(gplots)))\n",
    "\n",
    "save.dir <- './figs/figs_feb_27_fpfn/'\n",
    "\n",
    "# font size for figures\n",
    "fs <-  4 \n",
    "fs.small <- 3"
   ]
  },
  {
   "cell_type": "markdown",
   "id": "6fb10114",
   "metadata": {},
   "source": [
    "## GET DATA"
   ]
  },
  {
   "cell_type": "code",
   "execution_count": 2,
   "id": "7e0eea0a",
   "metadata": {
    "scrolled": true
   },
   "outputs": [
    {
     "data": {
      "text/html": [
       "5595"
      ],
      "text/latex": [
       "5595"
      ],
      "text/markdown": [
       "5595"
      ],
      "text/plain": [
       "[1] 5595"
      ]
     },
     "metadata": {},
     "output_type": "display_data"
    },
    {
     "data": {
      "text/html": [
       "<style>\n",
       ".list-inline {list-style: none; margin:0; padding: 0}\n",
       ".list-inline>li {display: inline-block}\n",
       ".list-inline>li:not(:last-child)::after {content: \"\\00b7\"; padding: 0 .5ex}\n",
       "</style>\n",
       "<ol class=list-inline><li>1022</li><li>5595</li></ol>\n"
      ],
      "text/latex": [
       "\\begin{enumerate*}\n",
       "\\item 1022\n",
       "\\item 5595\n",
       "\\end{enumerate*}\n"
      ],
      "text/markdown": [
       "1. 1022\n",
       "2. 5595\n",
       "\n",
       "\n"
      ],
      "text/plain": [
       "[1] 1022 5595"
      ]
     },
     "metadata": {},
     "output_type": "display_data"
    },
    {
     "data": {
      "text/html": [
       "<style>\n",
       ".list-inline {list-style: none; margin:0; padding: 0}\n",
       ".list-inline>li {display: inline-block}\n",
       ".list-inline>li:not(:last-child)::after {content: \"\\00b7\"; padding: 0 .5ex}\n",
       "</style>\n",
       "<ol class=list-inline><li>5595</li><li>8</li></ol>\n"
      ],
      "text/latex": [
       "\\begin{enumerate*}\n",
       "\\item 5595\n",
       "\\item 8\n",
       "\\end{enumerate*}\n"
      ],
      "text/markdown": [
       "1. 5595\n",
       "2. 8\n",
       "\n",
       "\n"
      ],
      "text/plain": [
       "[1] 5595    8"
      ]
     },
     "metadata": {},
     "output_type": "display_data"
    }
   ],
   "source": [
    "data.dir <- './../../../data/starmap/'\n",
    "fname <- paste0(data.dir,'starmap_mouse_wregions.rds')\n",
    "starmap <- readRDS(file = fname)\n",
    "counts <- as.matrix(starmap$gexp)\n",
    "meta <- starmap$meta\n",
    "\n",
    "## change fiber tract color to blue\n",
    "meta[meta$region == 'fiber_tracts', 'col.region'] <- 'blue'\n",
    "\n",
    "## remove cells in 'other' region\n",
    "cells <- rownames(meta[meta$region != 'other',])\n",
    "length(cells)\n",
    "\n",
    "counts <- counts[,cells]\n",
    "meta <- meta[cells,]\n",
    "dim(counts)\n",
    "dim(meta)\n",
    "\n",
    "pos <- meta[, c('X', 'Y')]\n",
    "region <- meta[,'region']\n",
    "names(region) <- rownames(meta)"
   ]
  },
  {
   "cell_type": "markdown",
   "id": "02679f3e",
   "metadata": {},
   "source": [
    "#### make region colors"
   ]
  },
  {
   "cell_type": "code",
   "execution_count": 3,
   "id": "5df7c4c7",
   "metadata": {},
   "outputs": [
    {
     "data": {
      "text/plain": [
       "region\n",
       "dentate_gyrus  fiber_tracts    ventricles \n",
       "         1705          3054           836 "
      ]
     },
     "metadata": {},
     "output_type": "display_data"
    },
    {
     "data": {
      "text/plain": [
       "col.region\n",
       "#CC00FF #FF0000    blue \n",
       "    836    1705    3054 "
      ]
     },
     "metadata": {},
     "output_type": "display_data"
    }
   ],
   "source": [
    "## coloring all regions \n",
    "col.region <- meta$col.region\n",
    "names(col.region) <- rownames(meta)\n",
    "table(region)\n",
    "table(col.region)\n",
    "leg.col.region.og <- unique(col.region)\n",
    "names(leg.col.region.og) <- unique(meta$region)\n"
   ]
  },
  {
   "cell_type": "code",
   "execution_count": 4,
   "id": "2e6142a0",
   "metadata": {},
   "outputs": [
    {
     "data": {
      "text/plain": [
       "\n",
       "dentate_gyrus  fiber_tracts    ventricles \n",
       "         1705          3054           836 "
      ]
     },
     "metadata": {},
     "output_type": "display_data"
    },
    {
     "data": {
      "text/plain": [
       "col.region\n",
       "#CC00FF #FF0000    blue \n",
       "    836    1705    3054 "
      ]
     },
     "metadata": {},
     "output_type": "display_data"
    },
    {
     "data": {
      "text/html": [
       "<style>\n",
       ".dl-inline {width: auto; margin:0; padding: 0}\n",
       ".dl-inline>dt, .dl-inline>dd {float: none; width: auto; display: inline-block}\n",
       ".dl-inline>dt::after {content: \":\\0020\"; padding-right: .5ex}\n",
       ".dl-inline>dt:not(:first-of-type) {padding-left: .5ex}\n",
       "</style><dl class=dl-inline><dt>fiber_tracts</dt><dd>'blue'</dd><dt>ventricles</dt><dd>'#CC00FF'</dd><dt>dentate_gyrus</dt><dd>'#FF0000'</dd></dl>\n"
      ],
      "text/latex": [
       "\\begin{description*}\n",
       "\\item[fiber\\textbackslash{}\\_tracts] 'blue'\n",
       "\\item[ventricles] '\\#CC00FF'\n",
       "\\item[dentate\\textbackslash{}\\_gyrus] '\\#FF0000'\n",
       "\\end{description*}\n"
      ],
      "text/markdown": [
       "fiber_tracts\n",
       ":   'blue'ventricles\n",
       ":   '#CC00FF'dentate_gyrus\n",
       ":   '#FF0000'\n",
       "\n"
      ],
      "text/plain": [
       " fiber_tracts    ventricles dentate_gyrus \n",
       "       \"blue\"     \"#CC00FF\"     \"#FF0000\" "
      ]
     },
     "metadata": {},
     "output_type": "display_data"
    }
   ],
   "source": [
    "## make legend \n",
    "\n",
    "#all regions colored\n",
    "leg.col.region <- unique(col.region)\n",
    "names(leg.col.region) <- unique(region)\n",
    "table(meta$region)\n",
    "table(col.region)\n",
    "leg.col.region\n",
    "\n",
    "\n",
    "# #region highlight\n",
    "# roi.names <- c(NA, NA)\n",
    "# roi.names[leg.col.region=='grey'] <- 'other'\n",
    "# roi.names[leg.col.region!='grey'] <- roi\n",
    "# names(leg.col.region) <- roi.names\n",
    "# leg.col.region"
   ]
  },
  {
   "cell_type": "code",
   "execution_count": 5,
   "id": "4824f555",
   "metadata": {
    "scrolled": true
   },
   "outputs": [
    {
     "data": {
      "image/png": "[encoded data removed]",
      "text/plain": [
       "plot without title"
      ]
     },
     "metadata": {
      "image/png": {
       "height": 360,
       "width": 1080
      }
     },
     "output_type": "display_data"
    }
   ],
   "source": [
    "options(repr.plot.width=18, repr.plot.height=6)\n",
    "par(mfrow = c(1,3))\n",
    "plot(pos, pch = '.', cex = 0.5)\n",
    "plot(pos, pch = '.', cex = 0.5, col = col.region)\n",
    "plot(c(0,0))\n",
    "legend(x = 1, y = 1, legend = names(leg.col.region), col = leg.col.region, \n",
    "       pch=16, cex = 2, ncol=1, pt.cex = 5)"
   ]
  },
  {
   "cell_type": "markdown",
   "id": "110a513f",
   "metadata": {},
   "source": [
    "## NORMALIZE FULL DATA"
   ]
  },
  {
   "cell_type": "code",
   "execution_count": 6,
   "id": "fd894ff4",
   "metadata": {},
   "outputs": [
    {
     "data": {
      "text/html": [
       "<style>\n",
       ".list-inline {list-style: none; margin:0; padding: 0}\n",
       ".list-inline>li {display: inline-block}\n",
       ".list-inline>li:not(:last-child)::after {content: \"\\00b7\"; padding: 0 .5ex}\n",
       "</style>\n",
       "<ol class=list-inline><li>1022</li><li>5595</li></ol>\n"
      ],
      "text/latex": [
       "\\begin{enumerate*}\n",
       "\\item 1022\n",
       "\\item 5595\n",
       "\\end{enumerate*}\n"
      ],
      "text/markdown": [
       "1. 1022\n",
       "2. 5595\n",
       "\n",
       "\n"
      ],
      "text/plain": [
       "[1] 1022 5595"
      ]
     },
     "metadata": {},
     "output_type": "display_data"
    },
    {
     "data": {
      "text/html": [
       "<table class=\"dataframe\">\n",
       "<caption>A matrix: 3 × 3 of type int</caption>\n",
       "<thead>\n",
       "\t<tr><th></th><th scope=col>well11_7744</th><th scope=col>well11_7816</th><th scope=col>well11_7871</th></tr>\n",
       "</thead>\n",
       "<tbody>\n",
       "\t<tr><th scope=row>A2M</th><td>0</td><td>0</td><td>0</td></tr>\n",
       "\t<tr><th scope=row>ABCC9</th><td>0</td><td>0</td><td>0</td></tr>\n",
       "\t<tr><th scope=row>ABI3BP</th><td>0</td><td>0</td><td>0</td></tr>\n",
       "</tbody>\n",
       "</table>\n"
      ],
      "text/latex": [
       "A matrix: 3 × 3 of type int\n",
       "\\begin{tabular}{r|lll}\n",
       "  & well11\\_7744 & well11\\_7816 & well11\\_7871\\\\\n",
       "\\hline\n",
       "\tA2M & 0 & 0 & 0\\\\\n",
       "\tABCC9 & 0 & 0 & 0\\\\\n",
       "\tABI3BP & 0 & 0 & 0\\\\\n",
       "\\end{tabular}\n"
      ],
      "text/markdown": [
       "\n",
       "A matrix: 3 × 3 of type int\n",
       "\n",
       "| <!--/--> | well11_7744 | well11_7816 | well11_7871 |\n",
       "|---|---|---|---|\n",
       "| A2M | 0 | 0 | 0 |\n",
       "| ABCC9 | 0 | 0 | 0 |\n",
       "| ABI3BP | 0 | 0 | 0 |\n",
       "\n"
      ],
      "text/plain": [
       "       well11_7744 well11_7816 well11_7871\n",
       "A2M    0           0           0          \n",
       "ABCC9  0           0           0          \n",
       "ABI3BP 0           0           0          "
      ]
     },
     "metadata": {},
     "output_type": "display_data"
    },
    {
     "data": {
      "text/html": [
       "<style>\n",
       ".list-inline {list-style: none; margin:0; padding: 0}\n",
       ".list-inline>li {display: inline-block}\n",
       ".list-inline>li:not(:last-child)::after {content: \"\\00b7\"; padding: 0 .5ex}\n",
       "</style>\n",
       "<ol class=list-inline><li>'matrix'</li><li>'array'</li></ol>\n"
      ],
      "text/latex": [
       "\\begin{enumerate*}\n",
       "\\item 'matrix'\n",
       "\\item 'array'\n",
       "\\end{enumerate*}\n"
      ],
      "text/markdown": [
       "1. 'matrix'\n",
       "2. 'array'\n",
       "\n",
       "\n"
      ],
      "text/plain": [
       "[1] \"matrix\" \"array\" "
      ]
     },
     "metadata": {},
     "output_type": "display_data"
    }
   ],
   "source": [
    "dim(counts) #genes as rows, cells as columns \n",
    "counts[1:3,1:3]\n",
    "class(counts)"
   ]
  },
  {
   "cell_type": "code",
   "execution_count": 7,
   "id": "d9a39fa3",
   "metadata": {},
   "outputs": [
    {
     "name": "stdout",
     "output_type": "stream",
     "text": [
      "  |======================================================================| 100%\n",
      "  |======================================================================| 100%\n"
     ]
    }
   ],
   "source": [
    "## sctranform normalization \n",
    "suppressMessages(norm.sct.obj <- sctransform::vst(counts, n_genes = NULL)) #genes as rows, cells as cols \n",
    "norm.sct <- norm.sct.obj$y\n",
    "## set negative counts in norm.sct to 0 \n",
    "norm.sct[norm.sct<0] <- 0"
   ]
  },
  {
   "cell_type": "markdown",
   "id": "d493f395",
   "metadata": {},
   "source": [
    "### scaling factors"
   ]
  },
  {
   "cell_type": "code",
   "execution_count": 8,
   "id": "c7c22902",
   "metadata": {},
   "outputs": [],
   "source": [
    "sf.libsize <- colSums(counts) / median(colSums(counts), na.rm = T)\n",
    "sf.DESeq <- DESeq2::estimateSizeFactorsForMatrix(as.matrix(counts), type = 'poscounts')\n",
    "sf.TMMwsp <- edgeR::calcNormFactors(counts, method = 'TMMwsp')  ## multiplied not divided"
   ]
  },
  {
   "cell_type": "code",
   "execution_count": 9,
   "id": "93e83079",
   "metadata": {},
   "outputs": [
    {
     "data": {
      "image/png": "[encoded data removed]",
      "text/plain": [
       "Plot with title “1/Scaling factor - TMMwsp”"
      ]
     },
     "metadata": {
      "image/png": {
       "height": 240,
       "width": 780
      }
     },
     "output_type": "display_data"
    },
    {
     "data": {
      "image/png": "[encoded data removed]",
      "text/plain": [
       "plot without title"
      ]
     },
     "metadata": {
      "image/png": {
       "height": 240,
       "width": 780
      }
     },
     "output_type": "display_data"
    }
   ],
   "source": [
    "options(repr.plot.width=13, repr.plot.height=4)\n",
    "\n",
    "par(mfrow = c(1,3))\n",
    "hist(sf.libsize, main = 'Library Size')\n",
    "hist(sf.DESeq, main = 'Scaling factor - DESeq')\n",
    "hist(1/sf.TMMwsp, main = '1/Scaling factor - TMMwsp')\n",
    "\n",
    "par(mfrow = c(1,3))\n",
    "s <- 1\n",
    "plot(sf.libsize, sf.DESeq, pch = 16, cex = s, col = scales::alpha(col.region[names(sf.libsize)], 0.5), \n",
    "     xlab = 'library size', ylab = 'scaling factor - DESeq')\n",
    "plot(sf.libsize, 1/sf.TMMwsp, pch = 16, cex = s, col = scales::alpha(col.region[names(sf.libsize)], 0.5), \n",
    "     xlab = 'library size', ylab = '1/scaling factor - TMMwsp')\n",
    "plot(sf.DESeq, 1/sf.TMMwsp, pch = 16, cex = s, col = scales::alpha(col.region[names(sf.libsize)], 0.5), \n",
    "     xlab = 'scaling factor - DESeq', ylab = '1/scaling factor - TMMwsp')"
   ]
  },
  {
   "cell_type": "code",
   "execution_count": 10,
   "id": "d7657155",
   "metadata": {
    "scrolled": true
   },
   "outputs": [
    {
     "data": {
      "image/png": "[encoded data removed]",
      "text/plain": [
       "Plot with title “dentate_gyrus”"
      ]
     },
     "metadata": {
      "image/png": {
       "height": 240,
       "width": 1080
      }
     },
     "output_type": "display_data"
    }
   ],
   "source": [
    "options(repr.plot.width=18, repr.plot.height=4)\n",
    "\n",
    "par(mfrow = c(1,3))\n",
    "\n",
    "regions.unq <- unique(meta$region)\n",
    "for (r in regions.unq){\n",
    "    curr.r.cells <- rownames(meta[meta$region == r ,])\n",
    "    hist(colSums(counts[,curr.r.cells]), breaks = 50, main = r)\n",
    "}\n"
   ]
  },
  {
   "cell_type": "markdown",
   "id": "8c6071cb",
   "metadata": {},
   "source": [
    "eh not a huge difference"
   ]
  },
  {
   "cell_type": "markdown",
   "id": "169f7ec9",
   "metadata": {},
   "source": [
    "### normalization"
   ]
  },
  {
   "cell_type": "code",
   "execution_count": 11,
   "id": "6bcba0a2",
   "metadata": {},
   "outputs": [],
   "source": [
    "norm.none <- counts\n",
    "norm.deseq <- t(t(counts)/sf.DESeq)\n",
    "norm.tmm <- t(t(counts)*sf.TMMwsp)\n",
    "norm.libsize <- t(t(counts)/sf.libsize)\n",
    "all.norms <- list(nonorm = norm.none,\n",
    "                 libsize = norm.libsize,\n",
    "                 deseq = norm.deseq,\n",
    "                 tmm = norm.tmm,\n",
    "                 sct = norm.sct)\n"
   ]
  },
  {
   "cell_type": "code",
   "execution_count": 12,
   "id": "2d2a6fd4",
   "metadata": {},
   "outputs": [
    {
     "data": {
      "text/html": [
       "<style>\n",
       ".list-inline {list-style: none; margin:0; padding: 0}\n",
       ".list-inline>li {display: inline-block}\n",
       ".list-inline>li:not(:last-child)::after {content: \"\\00b7\"; padding: 0 .5ex}\n",
       "</style>\n",
       "<ol class=list-inline><li>'nonorm'</li><li>'libsize'</li><li>'deseq'</li><li>'tmm'</li><li>'sct'</li></ol>\n"
      ],
      "text/latex": [
       "\\begin{enumerate*}\n",
       "\\item 'nonorm'\n",
       "\\item 'libsize'\n",
       "\\item 'deseq'\n",
       "\\item 'tmm'\n",
       "\\item 'sct'\n",
       "\\end{enumerate*}\n"
      ],
      "text/markdown": [
       "1. 'nonorm'\n",
       "2. 'libsize'\n",
       "3. 'deseq'\n",
       "4. 'tmm'\n",
       "5. 'sct'\n",
       "\n",
       "\n"
      ],
      "text/plain": [
       "[1] \"nonorm\"  \"libsize\" \"deseq\"   \"tmm\"     \"sct\"    "
      ]
     },
     "metadata": {},
     "output_type": "display_data"
    }
   ],
   "source": [
    "norms <- names(all.norms)\n",
    "norms"
   ]
  },
  {
   "cell_type": "markdown",
   "id": "04cdecdd",
   "metadata": {},
   "source": [
    "## DE FULL DATA"
   ]
  },
  {
   "cell_type": "code",
   "execution_count": 13,
   "id": "6bf1c09e",
   "metadata": {},
   "outputs": [
    {
     "data": {
      "text/plain": [
       "cluster\n",
       "dentate_gyrus  fiber_tracts    ventricles \n",
       "         1705          3054           836 "
      ]
     },
     "metadata": {},
     "output_type": "display_data"
    }
   ],
   "source": [
    "cluster <- meta$region\n",
    "names(cluster) <- rownames(meta)\n",
    "table(cluster)"
   ]
  },
  {
   "cell_type": "code",
   "execution_count": 14,
   "id": "888d9913",
   "metadata": {},
   "outputs": [],
   "source": [
    "## get log fold changes and z-scores \n",
    "lfcs.all <- lapply(all.norms, function(counts.norm) {\n",
    "    curr.cluster <- cluster[colnames(counts.norm)]\n",
    "    names(curr.cluster) <- colnames(counts.norm)\n",
    "    curr.lfcs <- find.log.fold.change(counts.norm, curr.cluster, log2)\n",
    "    \n",
    "    curr.lfcs\n",
    "})\n",
    "\n",
    "\n",
    "\n",
    "p.vals.all <- lapply(all.norms, function(counts.norm) {\n",
    "    curr.cluster <- cluster[colnames(counts.norm)]\n",
    "    names(curr.cluster) <- colnames(counts.norm)\n",
    "    curr.pvals <- find.cluster.de.genes(counts.norm, cell.com = curr.cluster, test.alt = 'greater')\n",
    "    curr.pvals\n",
    "})"
   ]
  },
  {
   "cell_type": "code",
   "execution_count": 15,
   "id": "eac82022",
   "metadata": {},
   "outputs": [],
   "source": [
    "## pick DE genes based on pval threshold \n",
    "p.vals.all.adj <- lapply(p.vals.all, function(curr.pvals) {\n",
    "    curr.pvals.adj <- matrix(p.adjust(curr.pvals, method = 'BH'), \n",
    "                             nrow = nrow (curr.pvals), ncol = ncol(curr.pvals))\n",
    "    colnames(curr.pvals.adj) <- colnames(curr.pvals)\n",
    "    rownames(curr.pvals.adj) <- rownames(curr.pvals)\n",
    "    curr.pvals.adj\n",
    "})\n",
    "\n",
    "\n",
    "p.thresh <- 0.05\n",
    "lfc.thresh <- 0.25\n",
    "de.genes <- lapply(norms, function(curr.norm) {\n",
    "    curr.pvals <- p.vals.all.adj[[curr.norm]]\n",
    "    curr.lfcs <- lfcs.all[[curr.norm]]\n",
    "    \n",
    "    curr.groups <- colnames(curr.pvals)\n",
    "    \n",
    "    curr.de.genes <- lapply(curr.groups, function(curr.group) {\n",
    "        curr.group.pvals <- curr.pvals[,curr.group]\n",
    "        curr.group.lfcs <- curr.lfcs[names(curr.group.pvals),curr.group]\n",
    "        curr.group.de.genes <- names(curr.group.pvals)[curr.group.pvals<p.thresh & abs(curr.group.lfcs)>lfc.thresh]\n",
    "        curr.group.de.genes.stats <- cbind(curr.group.pvals[curr.group.de.genes], curr.group.lfcs[curr.group.de.genes])\n",
    "        colnames(curr.group.de.genes.stats) <- c('p.adj','logFC')\n",
    "        curr.group.de.genes.stats\n",
    "    })\n",
    "    names(curr.de.genes) <- curr.groups\n",
    "    curr.de.genes\n",
    "})\n",
    "names(de.genes) <- norms"
   ]
  },
  {
   "cell_type": "code",
   "execution_count": 16,
   "id": "17e01ebb",
   "metadata": {},
   "outputs": [
    {
     "data": {
      "image/png": "[encoded data removed]",
      "text/plain": [
       "plot without title"
      ]
     },
     "metadata": {
      "image/png": {
       "height": 180,
       "width": 540
      }
     },
     "output_type": "display_data"
    }
   ],
   "source": [
    "options(repr.plot.width=9, repr.plot.height=3)\n",
    "par(mfrow = c(1,3))\n",
    "plot(lfcs.all$sct[,'fiber_tracts'], -1*log10(p.vals.all.adj$sct[,'fiber_tracts']), \n",
    "     pch = 16, cex = 0.7, xlab = 'lfc', ylab = '-log10(p)')\n",
    "\n",
    "foo <- rownames(de.genes$nonorm$ventricles)\n",
    "plot(lfcs.all$nonorm[foo,'ventricles'], -1*log10(p.vals.all.adj$nonorm[foo,'ventricles']), \n",
    "     pch = 16, cex = 0.7, xlab = 'lfc', ylab = '-log10(p)')\n",
    "\n",
    "plot(de.genes$nonorm$dentate_gyrus[,'logFC'],-1*log10(de.genes$nonorm$dentate_gyrus[,'p.adj']), \n",
    "     pch = 16, cex = 0.7, xlab = 'lfc', ylab = '-log10(p)')\n",
    "\n"
   ]
  },
  {
   "cell_type": "code",
   "execution_count": 17,
   "id": "6856123e",
   "metadata": {},
   "outputs": [
    {
     "data": {
      "text/html": [
       "15"
      ],
      "text/latex": [
       "15"
      ],
      "text/markdown": [
       "15"
      ],
      "text/plain": [
       "[1] 15"
      ]
     },
     "metadata": {},
     "output_type": "display_data"
    },
    {
     "data": {
      "image/png": "[encoded data removed]",
      "text/plain": [
       "plot without title"
      ]
     },
     "metadata": {
      "image/png": {
       "height": 300,
       "width": 720
      }
     },
     "output_type": "display_data"
    }
   ],
   "source": [
    "## n DE genes for each cell type per normalization methods\n",
    "options(repr.plot.width=12, repr.plot.height=5)\n",
    "\n",
    "n.DEs <- sapply(de.genes, function(x) {\n",
    "    n.de <- sapply(x, nrow)\n",
    "    n.de\n",
    "})\n",
    "\n",
    "length(n.DEs)\n",
    "# n.DEs\n",
    "par(mfrow = c(1,2))\n",
    "boxplot(n.DEs)"
   ]
  },
  {
   "cell_type": "markdown",
   "id": "a6efa178",
   "metadata": {},
   "source": [
    "## GENE SUBSETS"
   ]
  },
  {
   "cell_type": "code",
   "execution_count": 18,
   "id": "e5841a20",
   "metadata": {},
   "outputs": [],
   "source": [
    "regions <- regions.unq ## making compatible with og merfish code \n",
    "genes <- rownames(counts)"
   ]
  },
  {
   "cell_type": "code",
   "execution_count": 19,
   "id": "416c99f7",
   "metadata": {
    "scrolled": true
   },
   "outputs": [
    {
     "name": "stdout",
     "output_type": "stream",
     "text": [
      "[1] 272\n",
      "[1] 131\n",
      "[1] 357\n"
     ]
    },
    {
     "data": {
      "text/html": [
       "<style>\n",
       ".dl-inline {width: auto; margin:0; padding: 0}\n",
       ".dl-inline>dt, .dl-inline>dd {float: none; width: auto; display: inline-block}\n",
       ".dl-inline>dt::after {content: \":\\0020\"; padding-right: .5ex}\n",
       ".dl-inline>dt:not(:first-of-type) {padding-left: .5ex}\n",
       "</style><dl class=dl-inline><dt>fiber_tracts</dt><dd>272</dd><dt>ventricles</dt><dd>131</dd><dt>dentate_gyrus</dt><dd>357</dd></dl>\n"
      ],
      "text/latex": [
       "\\begin{description*}\n",
       "\\item[fiber\\textbackslash{}\\_tracts] 272\n",
       "\\item[ventricles] 131\n",
       "\\item[dentate\\textbackslash{}\\_gyrus] 357\n",
       "\\end{description*}\n"
      ],
      "text/markdown": [
       "fiber_tracts\n",
       ":   272ventricles\n",
       ":   131dentate_gyrus\n",
       ":   357\n",
       "\n"
      ],
      "text/plain": [
       " fiber_tracts    ventricles dentate_gyrus \n",
       "          272           131           357 "
      ]
     },
     "metadata": {},
     "output_type": "display_data"
    }
   ],
   "source": [
    "genesets <- lapply(regions, function(r) {\n",
    "    Reduce(union, lapply(de.genes, function(curr.norm) {\n",
    "        rownames(curr.norm[[r]][order(curr.norm[[r]][,'p.adj']),])\n",
    "    }))\n",
    "    \n",
    "})\n",
    "names(genesets) <- regions\n",
    "\n",
    "sapply(genesets, function(x) {print(length(x))})\n",
    "\n",
    "\n",
    "set.seed(0)\n",
    "n <- 100 ## size of skewed gene panel\n",
    "genesets <- lapply(genesets, function(x) sample(x,n))\n",
    "             \n",
    "geneset.x <- sample(genes, n)   \n",
    "genesets[['random']] <- geneset.x\n",
    "                   \n",
    "# for (i in seq(5)){\n",
    "#     for (j in seq(5)){\n",
    "#         print(paste(names(genesets)[i], names(genesets)[j]))\n",
    "#         print(length(intersect(genesets[[i]], genesets[[j]])))\n",
    "#     }\n",
    "# }\n",
    "      "
   ]
  },
  {
   "cell_type": "markdown",
   "id": "9b365053",
   "metadata": {},
   "source": [
    "### heatmap"
   ]
  },
  {
   "cell_type": "code",
   "execution_count": 20,
   "id": "9a56a6c3",
   "metadata": {},
   "outputs": [],
   "source": [
    "dir.create(paste0(save.dir,'heatmaps'))"
   ]
  },
  {
   "cell_type": "code",
   "execution_count": 21,
   "id": "2ebfbb70",
   "metadata": {},
   "outputs": [
    {
     "data": {
      "text/html": [
       "10"
      ],
      "text/latex": [
       "10"
      ],
      "text/markdown": [
       "10"
      ],
      "text/plain": [
       "[1] 10"
      ]
     },
     "metadata": {},
     "output_type": "display_data"
    },
    {
     "data": {
      "text/html": [
       "280"
      ],
      "text/latex": [
       "280"
      ],
      "text/markdown": [
       "280"
      ],
      "text/plain": [
       "[1] 280"
      ]
     },
     "metadata": {},
     "output_type": "display_data"
    },
    {
     "data": {
      "text/html": [
       "290"
      ],
      "text/latex": [
       "290"
      ],
      "text/markdown": [
       "290"
      ],
      "text/plain": [
       "[1] 290"
      ]
     },
     "metadata": {},
     "output_type": "display_data"
    },
    {
     "data": {
      "text/html": [
       "1022"
      ],
      "text/latex": [
       "1022"
      ],
      "text/markdown": [
       "1022"
      ],
      "text/plain": [
       "[1] 1022"
      ]
     },
     "metadata": {},
     "output_type": "display_data"
    }
   ],
   "source": [
    "# get skewed geneset genes (minus random geneset)\n",
    "hm.genes <- unlist(genesets[1:3])\n",
    "\n",
    "# find which genes are duplicated \n",
    "hm.genes.dups <- unique(hm.genes[duplicated(hm.genes)])\n",
    "length(hm.genes.dups)\n",
    "\n",
    "# remove duplicated genes (all instances)\n",
    "hm.genes <- hm.genes[! hm.genes %in% hm.genes.dups]\n",
    "length(hm.genes)\n",
    "\n",
    "# add one instance of duplicate genes back lol - but now they're at the front\n",
    "hm.genes <- c(hm.genes.dups, hm.genes)\n",
    "length(hm.genes)\n",
    "\n",
    "# add non DE genes to the front \n",
    "hm.genes.nongs <- rownames(counts)[! rownames(counts) %in% hm.genes]\n",
    "hm.genes <- c(hm.genes, hm.genes.nongs)\n",
    "length(hm.genes)\n",
    "\n",
    "### order should be: [non DE genes][DE genes for more than one region][specific DE genes]\n",
    "htmp.col <- rev(colorRampPalette(brewer.pal(11, \"RdBu\"))(100))"
   ]
  },
  {
   "cell_type": "code",
   "execution_count": 22,
   "id": "900bb2ca",
   "metadata": {},
   "outputs": [
    {
     "name": "stdout",
     "output_type": "stream",
     "text": [
      "[1] \"fiber_tracts\"\n",
      "[1] 3054\n",
      "[1] \"ventricles\"\n",
      "[1] 836\n",
      "[1] \"dentate_gyrus\"\n",
      "[1] 1705\n"
     ]
    }
   ],
   "source": [
    "# average within tissue region\n",
    "hoo.gexp <- matrix(0, ncol = length(names(genesets))-1, nrow = nrow(counts))\n",
    "colnames(hoo.gexp) <- names(genesets)[1:3]\n",
    "rownames(hoo.gexp) <- rownames(counts)\n",
    "\n",
    "for (gs in colnames(hoo.gexp)){\n",
    "    print(gs)\n",
    "    curr.cells <- rownames(meta[meta$region == gs ,])\n",
    "    print(length(curr.cells))\n",
    "    curr.gs.avg.gexp <- rowMeans(log10(counts[,curr.cells]+1))\n",
    "#     curr.gs.avg.gexp <- rowMeans((counts[,curr.cells]))\n",
    "    hoo.gexp[,gs] <- curr.gs.avg.gexp\n",
    "}"
   ]
  },
  {
   "cell_type": "code",
   "execution_count": 23,
   "id": "bd55c05d",
   "metadata": {},
   "outputs": [
    {
     "data": {
      "text/html": [
       "<style>\n",
       ".dl-inline {width: auto; margin:0; padding: 0}\n",
       ".dl-inline>dt, .dl-inline>dd {float: none; width: auto; display: inline-block}\n",
       ".dl-inline>dt::after {content: \":\\0020\"; padding-right: .5ex}\n",
       ".dl-inline>dt:not(:first-of-type) {padding-left: .5ex}\n",
       "</style><dl class=dl-inline><dt>ventricles</dt><dd>'Ventricles'</dd><dt>fiber_tracts</dt><dd>'Fiber tracts'</dd><dt>dentate_gyrus</dt><dd>'Dentate gyrus'</dd></dl>\n"
      ],
      "text/latex": [
       "\\begin{description*}\n",
       "\\item[ventricles] 'Ventricles'\n",
       "\\item[fiber\\textbackslash{}\\_tracts] 'Fiber tracts'\n",
       "\\item[dentate\\textbackslash{}\\_gyrus] 'Dentate gyrus'\n",
       "\\end{description*}\n"
      ],
      "text/markdown": [
       "ventricles\n",
       ":   'Ventricles'fiber_tracts\n",
       ":   'Fiber tracts'dentate_gyrus\n",
       ":   'Dentate gyrus'\n",
       "\n"
      ],
      "text/plain": [
       "     ventricles    fiber_tracts   dentate_gyrus \n",
       "   \"Ventricles\"  \"Fiber tracts\" \"Dentate gyrus\" "
      ]
     },
     "metadata": {},
     "output_type": "display_data"
    }
   ],
   "source": [
    "gs.names <- c('Fiber tracts', 'Ventricles', 'Dentate gyrus', NA)\n",
    "names(gs.names) <- names(genesets)\n",
    "gs.order <- c(2,1,3)\n",
    "gs.names[gs.order]"
   ]
  },
  {
   "cell_type": "code",
   "execution_count": 24,
   "id": "113cd868",
   "metadata": {},
   "outputs": [
    {
     "data": {
      "image/png": "[encoded data removed]",
      "text/plain": [
       "plot without title"
      ]
     },
     "metadata": {
      "image/png": {
       "height": 300,
       "width": 420
      }
     },
     "output_type": "display_data"
    }
   ],
   "source": [
    "## mean exp full panel heatmap\n",
    "options(repr.plot.width=7, repr.plot.height=5)\n",
    "# pdf(paste0(save.dir,'heatmaps/heatmap_full.pdf'), width = 7, height = 5)\n",
    "heatmap(hoo.gexp[hm.genes,gs.order], scale = 'row', col = htmp.col, \n",
    "        Colv = NA, Rowv = NA, \n",
    "        ColSideColors = leg.col.region.og[colnames(hoo.gexp[,gs.order])],\n",
    "       labRow = FALSE, labCol = FALSE,\n",
    "        margins = c(3.8,2.1)\n",
    "       )\n",
    "title(ylab=paste('Genes\\nFull gene panel'), line=0.5, cex.lab=1)\n",
    "title(xlab=paste('Cells'), line=4, cex.lab=1)\n",
    "# dev.off()"
   ]
  },
  {
   "cell_type": "code",
   "execution_count": 25,
   "id": "197afa39",
   "metadata": {},
   "outputs": [
    {
     "name": "stderr",
     "output_type": "stream",
     "text": [
      "Warning message in gplots::heatmap.2(hoo.gexp[hm.genes, gs.order], scale = \"row\", :\n",
      "“Discrepancy: Rowv is FALSE, while dendrogram is `both'. Omitting row dendogram.”\n",
      "Warning message in gplots::heatmap.2(hoo.gexp[hm.genes, gs.order], scale = \"row\", :\n",
      "“Discrepancy: Colv is FALSE, while dendrogram is `column'. Omitting column dendogram.”\n"
     ]
    },
    {
     "data": {
      "text/html": [
       "<strong>png:</strong> 2"
      ],
      "text/latex": [
       "\\textbf{png:} 2"
      ],
      "text/markdown": [
       "**png:** 2"
      ],
      "text/plain": [
       "png \n",
       "  2 "
      ]
     },
     "metadata": {},
     "output_type": "display_data"
    }
   ],
   "source": [
    "options(repr.plot.width=7, repr.plot.height=5)\n",
    "pdf(paste0(save.dir,'heatmaps/heatmap_full_colorbar_div.pdf'), width = 7, height = 5)\n",
    "gplots::heatmap.2(hoo.gexp[hm.genes,gs.order], scale = 'row', col = htmp.col, \n",
    "        Colv = NA, Rowv = NA, \n",
    "        ColSideColors = leg.col.region.og[colnames(hoo.gexp[,gs.order])],\n",
    "       labRow = FALSE, labCol = FALSE,\n",
    "        margins = c(3.8,2.1),\n",
    "          trace = 'none',\n",
    "          keysize = 5, density.info = 'none',\n",
    "          key.title = NA, key.xlab = 'Gene Z-score'\n",
    "          \n",
    "       )\n",
    "title(ylab=paste('Genes\\nFull gene panel'), line=0.5, cex.lab=1)\n",
    "title(xlab=paste('Cells'), line=4, cex.lab=1)\n",
    "dev.off()"
   ]
  },
  {
   "cell_type": "code",
   "execution_count": 26,
   "id": "ae007718",
   "metadata": {},
   "outputs": [],
   "source": [
    "## mean exp skewed gene panel heat map\n",
    "s <- 'row'\n",
    "\n",
    "for (gs in names(genesets)){\n",
    "    foo.genes <- genesets[[gs]]\n",
    "    hm.genes.gs <- hm.genes[hm.genes %in% foo.genes]\n",
    "    \n",
    "    pdf(paste0(save.dir,'heatmaps/heatmap_',gs,'.pdf'), width = 7, height = 5)\n",
    "    par(mfrow = c(1,1), mar = c(5.1, 4.1, 4.1, 2.1))\n",
    "\n",
    "    heatmap(hoo.gexp[hm.genes.gs,gs.order], scale = 'row', col = htmp.col, \n",
    "            Colv = NA, Rowv = NA, \n",
    "            ColSideColors = leg.col.region.og[colnames(hoo.gexp[,gs.order])],\n",
    "           labRow = FALSE, labCol = FALSE,\n",
    "#               trace = 'none',\n",
    "            margins = c(3.8,2.1)\n",
    "           )\n",
    "    if (gs == 'random'){\n",
    "        title(ylab=paste('Genes\\nNon-skewed gene panel'), line=0.5, cex.lab=2)\n",
    "    } else {\n",
    "        title(ylab=paste0('Genes\\n', gs.names[gs], '-skewed gene panel'), line=0.5, cex.lab=2)\n",
    "    }\n",
    "    title(xlab=paste('Cells'), line=4, cex.lab=2)\n",
    "    dev.off()\n",
    "}\n"
   ]
  },
  {
   "cell_type": "markdown",
   "id": "3ccabae2",
   "metadata": {},
   "source": [
    "## COUNT SUBSETS"
   ]
  },
  {
   "cell_type": "code",
   "execution_count": 27,
   "id": "8bcfe9a2",
   "metadata": {},
   "outputs": [
    {
     "data": {
      "text/html": [
       "<style>\n",
       ".list-inline {list-style: none; margin:0; padding: 0}\n",
       ".list-inline>li {display: inline-block}\n",
       ".list-inline>li:not(:last-child)::after {content: \"\\00b7\"; padding: 0 .5ex}\n",
       "</style>\n",
       "<ol class=list-inline><li>'fiber_tracts'</li><li>'ventricles'</li><li>'dentate_gyrus'</li><li>'random'</li></ol>\n"
      ],
      "text/latex": [
       "\\begin{enumerate*}\n",
       "\\item 'fiber\\_tracts'\n",
       "\\item 'ventricles'\n",
       "\\item 'dentate\\_gyrus'\n",
       "\\item 'random'\n",
       "\\end{enumerate*}\n"
      ],
      "text/markdown": [
       "1. 'fiber_tracts'\n",
       "2. 'ventricles'\n",
       "3. 'dentate_gyrus'\n",
       "4. 'random'\n",
       "\n",
       "\n"
      ],
      "text/plain": [
       "[1] \"fiber_tracts\"  \"ventricles\"    \"dentate_gyrus\" \"random\"       "
      ]
     },
     "metadata": {},
     "output_type": "display_data"
    },
    {
     "data": {
      "text/html": [
       "<table class=\"dataframe\">\n",
       "<caption>A matrix: 2 × 4 of type int</caption>\n",
       "<thead>\n",
       "\t<tr><th scope=col>fiber_tracts</th><th scope=col>ventricles</th><th scope=col>dentate_gyrus</th><th scope=col>random</th></tr>\n",
       "</thead>\n",
       "<tbody>\n",
       "\t<tr><td> 100</td><td> 100</td><td> 100</td><td> 100</td></tr>\n",
       "\t<tr><td>5558</td><td>5533</td><td>5539</td><td>5592</td></tr>\n",
       "</tbody>\n",
       "</table>\n"
      ],
      "text/latex": [
       "A matrix: 2 × 4 of type int\n",
       "\\begin{tabular}{llll}\n",
       " fiber\\_tracts & ventricles & dentate\\_gyrus & random\\\\\n",
       "\\hline\n",
       "\t  100 &  100 &  100 &  100\\\\\n",
       "\t 5558 & 5533 & 5539 & 5592\\\\\n",
       "\\end{tabular}\n"
      ],
      "text/markdown": [
       "\n",
       "A matrix: 2 × 4 of type int\n",
       "\n",
       "| fiber_tracts | ventricles | dentate_gyrus | random |\n",
       "|---|---|---|---|\n",
       "|  100 |  100 |  100 |  100 |\n",
       "| 5558 | 5533 | 5539 | 5592 |\n",
       "\n"
      ],
      "text/plain": [
       "     fiber_tracts ventricles dentate_gyrus random\n",
       "[1,]  100          100        100           100  \n",
       "[2,] 5558         5533       5539          5592  "
      ]
     },
     "metadata": {},
     "output_type": "display_data"
    }
   ],
   "source": [
    "counts.subsets <- lapply(genesets, function(gs) {\n",
    "    curr.subset.counts <- counts[gs,]\n",
    "    curr.empty.cells <- colSums(curr.subset.counts)==0\n",
    "    curr.subset.counts <- curr.subset.counts[,!curr.empty.cells]\n",
    "    curr.subset.counts\n",
    "})\n",
    "names(counts.subsets)\n",
    "sapply(counts.subsets, dim)"
   ]
  },
  {
   "cell_type": "code",
   "execution_count": 28,
   "id": "237edda9",
   "metadata": {
    "scrolled": true
   },
   "outputs": [
    {
     "data": {
      "image/png": "[encoded data removed]",
      "text/plain": [
       "Plot with title “random skewed subset”"
      ]
     },
     "metadata": {
      "image/png": {
       "height": 240,
       "width": 900
      }
     },
     "output_type": "display_data"
    }
   ],
   "source": [
    "options(repr.plot.width=15, repr.plot.height=4)\n",
    "par(mfcol = c(1,5))\n",
    "hist(log10(colSums(counts)+1), breaks = 50, main = 'full geneset')\n",
    "\n",
    "for (g in names(counts.subsets)){\n",
    "    x <- counts.subsets[[g]]\n",
    "    \n",
    "    hist(log10(colSums(x)+1), breaks = 50, \n",
    "         main = paste(g, 'skewed subset'), xlab = 'log10(library size)')\n",
    "    \n",
    "}"
   ]
  },
  {
   "cell_type": "markdown",
   "id": "02e18916",
   "metadata": {},
   "source": [
    "### scaling factors skewed genesets"
   ]
  },
  {
   "cell_type": "code",
   "execution_count": 29,
   "id": "6a06231c",
   "metadata": {},
   "outputs": [],
   "source": [
    "skewed.sfs <- lapply(counts.subsets, function(x) {\n",
    "    curr.libsize <- colSums(x) / median(colSums(x), na.rm = T)\n",
    "    curr.sf.DESeq <- DESeq2::estimateSizeFactorsForMatrix(as.matrix(x), type = 'poscounts')\n",
    "    curr.sf.TMMwsp <- edgeR::calcNormFactors(x, method = 'TMMwsp')  ## multiplied not divided\n",
    "    \n",
    "    list(libsize = curr.libsize,\n",
    "        deseq = curr.sf.DESeq,\n",
    "        tmm = curr.sf.TMMwsp)\n",
    "})"
   ]
  },
  {
   "cell_type": "code",
   "execution_count": 30,
   "id": "3a0f44a7",
   "metadata": {},
   "outputs": [],
   "source": [
    "sf.all <- list(libsize = sf.libsize,\n",
    "               deseq = sf.DESeq,\n",
    "               tmm = sf.TMMwsp)"
   ]
  },
  {
   "cell_type": "markdown",
   "id": "9f696467",
   "metadata": {},
   "source": [
    "## COMPARE SCALING FACTORS: SKEWED vs OG"
   ]
  },
  {
   "cell_type": "code",
   "execution_count": 31,
   "id": "9cd46fc5",
   "metadata": {},
   "outputs": [],
   "source": [
    "dir.create(paste0(save.dir,'scaling_factor_comparison'))"
   ]
  },
  {
   "cell_type": "code",
   "execution_count": 32,
   "id": "56cd898d",
   "metadata": {},
   "outputs": [],
   "source": [
    "options(repr.plot.width=20, repr.plot.height=8)\n",
    "set.seed(0)\n",
    "\n",
    "norms.to.include <- c('libsize', 'deseq', 'tmm')\n",
    "norms.names <- c('Library Size', 'DESeq2', 'TMM')\n",
    "names(norms.names) <- norms.to.include\n",
    "\n",
    "for (g in names(genesets)){\n",
    "    pdf(paste0(save.dir,'scaling_factor_comparison/',g,'_skewed_vs_all_genes_grouped.pdf'), \n",
    "        width = 15, height = 5) #, antialias = 'none')\n",
    "    par(mfrow = c(1,3), mar = c(10.1, 10.1, 6.1, 2.1)) #mar = c(5.1, 4.1, 4.1, 2.1)\n",
    "    \n",
    "    curr.sfs.skewed <- skewed.sfs[[g]][norms.to.include]\n",
    "    curr.common.cells <- Reduce(intersect, lapply(curr.sfs.skewed, names))\n",
    "    \n",
    "    for (n in norms.to.include){\n",
    "        \n",
    "        curr.sf.skewed <- curr.sfs.skewed[[n]]\n",
    "        curr.sf.all <- sf.all[[n]]\n",
    "        \n",
    "        curr.x <- log10(curr.sf.all[curr.common.cells]+1)\n",
    "        curr.x.lim <- range(curr.x)\n",
    "        \n",
    "        curr.y <- log10(curr.sf.skewed[curr.common.cells]+1)\n",
    "        curr.y.lim <- range(curr.y)\n",
    "        \n",
    "        #change color to highlight roi for region skewed geneset\n",
    "        curr.cols <- col.region\n",
    "        curr.cols[region != g] <- 'grey'\n",
    "        \n",
    "        #use all colors for random geneset\n",
    "        if (g == 'random'){\n",
    "            curr.cols <- col.region\n",
    "        }\n",
    "        \n",
    "        \n",
    "        #reorder when all together\n",
    "        o <- sample(length(curr.x))\n",
    "        o <- sample(o)\n",
    "        \n",
    "        plot(curr.x[o], curr.y[o], #axes = FALSE,\n",
    "             pch = 16, cex = 1.5, ##point sizes\n",
    "             col = scales::alpha(curr.cols[curr.common.cells[o]], 0.25), ##point colors\n",
    "             cex.axis = fs, cex.main = fs, ##font sizes\n",
    "             xaxt=\"n\", yaxt=\"n\", bty = 'n', xaxs = 'i', yaxs = 'i', ##axis settings\n",
    "             xlim = curr.x.lim, ylim = curr.y.lim, xlab = '', ylab = '',  ##axis ranges and labels\n",
    "             main = paste(norms.names[n])) ##title \n",
    "        \n",
    "        ## axis labels\n",
    "        title(xlab=paste('Full gene panel'), line=8, cex.lab=4)\n",
    "        title(ylab=paste('Skewed gene panel'), line=5, cex.lab=4)       \n",
    "        \n",
    "        ## axis tick mark formats\n",
    "        axis(side = 1, at = curr.x.lim, line = 0, cex.axis = fs, lty = 1, labels = FALSE)\n",
    "        axis(side = 2, at = curr.y.lim, line = 0, cex.axis = fs, lty = 1, labels = FALSE)\n",
    "        axis(side = 1, line = 0, cex.axis = fs.small, lty = 1, labels = FALSE)\n",
    "        axis(side = 2, line = 0, cex.axis = fs.small, lty = 1, labels = FALSE)\n",
    "        axis(side = 1, line = 2.5, cex.axis = fs.small, lty = 0)\n",
    "        axis(side = 2, line = 0.5, cex.axis = fs.small, lty = 0)\n",
    "        abline(a=0,b=1,col='red')\n",
    "\n",
    "    }\n",
    "    dev.off()\n",
    "\n",
    "}\n"
   ]
  },
  {
   "cell_type": "markdown",
   "id": "98728ae7",
   "metadata": {},
   "source": [
    "### RMSE scaling factors"
   ]
  },
  {
   "cell_type": "code",
   "execution_count": 33,
   "id": "35cc67e2",
   "metadata": {},
   "outputs": [],
   "source": [
    "rmse.sf <- lapply(names(skewed.sfs), function(reg) {\n",
    "    gs <- skewed.sfs[[reg]]\n",
    "    \n",
    "    curr.gs.rmse <- sapply(names(gs), function(n) {\n",
    "        curr.skewed.sf <- gs[[n]]\n",
    "        curr.full.sf <- sf.all[[n]]\n",
    "        \n",
    "        curr.cells <- intersect(names(curr.skewed.sf), names(curr.full.sf))\n",
    "        \n",
    "        curr.skewed.sf <- curr.skewed.sf[curr.cells]\n",
    "        curr.full.sf <- curr.full.sf[curr.cells]\n",
    "        \n",
    "        all <- rmse(curr.skewed.sf, curr.full.sf)\n",
    "        if (reg != 'random'){\n",
    "            curr.reg.cells <- intersect(names(curr.skewed.sf), names(cluster[cluster==reg]))\n",
    "            curr.reg <- rmse(curr.skewed.sf[curr.reg.cells], curr.full.sf[curr.reg.cells])\n",
    "            \n",
    "            curr.other.regs <- names(skewed.sfs)[names(skewed.sfs) != reg]\n",
    "            \n",
    "            curr.other.cells <- intersect(names(curr.skewed.sf), names(cluster[cluster %in% curr.other.regs]))\n",
    "            curr.other <- rmse(curr.skewed.sf[curr.other.cells], curr.full.sf[curr.other.cells])   \n",
    "        } else {\n",
    "            curr.reg = NA\n",
    "            curr.other = NA\n",
    "        }\n",
    "        \n",
    "        list(all = all,\n",
    "            reg = curr.reg,\n",
    "            other = curr.other)        \n",
    "        \n",
    "    })\n",
    "    names(curr.gs.rmse) <- names(gs)\n",
    "    curr.gs.rmse\n",
    "})\n",
    "\n",
    "names(rmse.sf) <- names(skewed.sfs)\n",
    "\n",
    "rmse.sfs.all <- (sapply(rmse.sf, function(gs) {\n",
    "    unlist(gs['all',])\n",
    "}))\n",
    "\n",
    "rmse.sfs.reg <- (sapply(rmse.sf, function(gs) {\n",
    "    unlist(gs['reg',])\n",
    "}))\n",
    "\n",
    "rmse.sfs.other <- (sapply(rmse.sf, function(gs) {\n",
    "    unlist(gs['other',])\n",
    "}))"
   ]
  },
  {
   "cell_type": "code",
   "execution_count": 34,
   "id": "ac24123d",
   "metadata": {},
   "outputs": [
    {
     "data": {
      "text/html": [
       "<table class=\"dataframe\">\n",
       "<caption>A matrix: 3 × 4 of type dbl</caption>\n",
       "<thead>\n",
       "\t<tr><th></th><th scope=col>fiber_tracts</th><th scope=col>ventricles</th><th scope=col>dentate_gyrus</th><th scope=col>random</th></tr>\n",
       "</thead>\n",
       "<tbody>\n",
       "\t<tr><th scope=row>libsize</th><td>0.7945824</td><td>1.6675589</td><td>1.0534499</td><td>0.5370488</td></tr>\n",
       "\t<tr><th scope=row>deseq</th><td>0.3547641</td><td>0.4282023</td><td>0.3322656</td><td>0.4330124</td></tr>\n",
       "\t<tr><th scope=row>tmm</th><td>2.7339112</td><td>6.2337312</td><td>4.2876310</td><td>2.0233787</td></tr>\n",
       "</tbody>\n",
       "</table>\n"
      ],
      "text/latex": [
       "A matrix: 3 × 4 of type dbl\n",
       "\\begin{tabular}{r|llll}\n",
       "  & fiber\\_tracts & ventricles & dentate\\_gyrus & random\\\\\n",
       "\\hline\n",
       "\tlibsize & 0.7945824 & 1.6675589 & 1.0534499 & 0.5370488\\\\\n",
       "\tdeseq & 0.3547641 & 0.4282023 & 0.3322656 & 0.4330124\\\\\n",
       "\ttmm & 2.7339112 & 6.2337312 & 4.2876310 & 2.0233787\\\\\n",
       "\\end{tabular}\n"
      ],
      "text/markdown": [
       "\n",
       "A matrix: 3 × 4 of type dbl\n",
       "\n",
       "| <!--/--> | fiber_tracts | ventricles | dentate_gyrus | random |\n",
       "|---|---|---|---|---|\n",
       "| libsize | 0.7945824 | 1.6675589 | 1.0534499 | 0.5370488 |\n",
       "| deseq | 0.3547641 | 0.4282023 | 0.3322656 | 0.4330124 |\n",
       "| tmm | 2.7339112 | 6.2337312 | 4.2876310 | 2.0233787 |\n",
       "\n"
      ],
      "text/plain": [
       "        fiber_tracts ventricles dentate_gyrus random   \n",
       "libsize 0.7945824    1.6675589  1.0534499     0.5370488\n",
       "deseq   0.3547641    0.4282023  0.3322656     0.4330124\n",
       "tmm     2.7339112    6.2337312  4.2876310     2.0233787"
      ]
     },
     "metadata": {},
     "output_type": "display_data"
    }
   ],
   "source": [
    "rmse.sfs.all"
   ]
  },
  {
   "cell_type": "code",
   "execution_count": 35,
   "id": "b1df5bd1",
   "metadata": {},
   "outputs": [],
   "source": [
    "dir.create(paste0(save.dir,'sf_rmse'))"
   ]
  },
  {
   "cell_type": "code",
   "execution_count": 36,
   "id": "589f3b51",
   "metadata": {},
   "outputs": [
    {
     "data": {
      "text/html": [
       "<style>\n",
       ".dl-inline {width: auto; margin:0; padding: 0}\n",
       ".dl-inline>dt, .dl-inline>dd {float: none; width: auto; display: inline-block}\n",
       ".dl-inline>dt::after {content: \":\\0020\"; padding-right: .5ex}\n",
       ".dl-inline>dt:not(:first-of-type) {padding-left: .5ex}\n",
       "</style><dl class=dl-inline><dt>fiber_tracts</dt><dd>'blue'</dd><dt>ventricles</dt><dd>'#CC00FF'</dd><dt>dentate_gyrus</dt><dd>'#FF0000'</dd></dl>\n"
      ],
      "text/latex": [
       "\\begin{description*}\n",
       "\\item[fiber\\textbackslash{}\\_tracts] 'blue'\n",
       "\\item[ventricles] '\\#CC00FF'\n",
       "\\item[dentate\\textbackslash{}\\_gyrus] '\\#FF0000'\n",
       "\\end{description*}\n"
      ],
      "text/markdown": [
       "fiber_tracts\n",
       ":   'blue'ventricles\n",
       ":   '#CC00FF'dentate_gyrus\n",
       ":   '#FF0000'\n",
       "\n"
      ],
      "text/plain": [
       " fiber_tracts    ventricles dentate_gyrus \n",
       "       \"blue\"     \"#CC00FF\"     \"#FF0000\" "
      ]
     },
     "metadata": {},
     "output_type": "display_data"
    }
   ],
   "source": [
    "leg.col.region"
   ]
  },
  {
   "cell_type": "code",
   "execution_count": 37,
   "id": "623d3a13",
   "metadata": {},
   "outputs": [],
   "source": [
    "col.geneset <- leg.col.region\n",
    "names(col.geneset)[names(col.geneset)=='other'] <- 'random'\n",
    "col.geneset['random'] <- 'grey'\n",
    "geneset.names <- gs.names\n",
    "geneset.names['random'] <- 'Random'"
   ]
  },
  {
   "cell_type": "code",
   "execution_count": 38,
   "id": "e3bd2a4a",
   "metadata": {
    "scrolled": true
   },
   "outputs": [
    {
     "data": {
      "text/html": [
       "<style>\n",
       ".list-inline {list-style: none; margin:0; padding: 0}\n",
       ".list-inline>li {display: inline-block}\n",
       ".list-inline>li:not(:last-child)::after {content: \"\\00b7\"; padding: 0 .5ex}\n",
       "</style>\n",
       "<ol class=list-inline><li>'libsize'</li><li>'deseq'</li><li>'tmm'</li></ol>\n"
      ],
      "text/latex": [
       "\\begin{enumerate*}\n",
       "\\item 'libsize'\n",
       "\\item 'deseq'\n",
       "\\item 'tmm'\n",
       "\\end{enumerate*}\n"
      ],
      "text/markdown": [
       "1. 'libsize'\n",
       "2. 'deseq'\n",
       "3. 'tmm'\n",
       "\n",
       "\n"
      ],
      "text/plain": [
       "[1] \"libsize\" \"deseq\"   \"tmm\"    "
      ]
     },
     "metadata": {},
     "output_type": "display_data"
    },
    {
     "data": {
      "text/html": [
       "<strong>png:</strong> 2"
      ],
      "text/latex": [
       "\\textbf{png:} 2"
      ],
      "text/markdown": [
       "**png:** 2"
      ],
      "text/plain": [
       "png \n",
       "  2 "
      ]
     },
     "metadata": {},
     "output_type": "display_data"
    },
    {
     "data": {
      "text/html": [
       "<strong>png:</strong> 2"
      ],
      "text/latex": [
       "\\textbf{png:} 2"
      ],
      "text/markdown": [
       "**png:** 2"
      ],
      "text/plain": [
       "png \n",
       "  2 "
      ]
     },
     "metadata": {},
     "output_type": "display_data"
    },
    {
     "data": {
      "text/html": [
       "<strong>png:</strong> 2"
      ],
      "text/latex": [
       "\\textbf{png:} 2"
      ],
      "text/markdown": [
       "**png:** 2"
      ],
      "text/plain": [
       "png \n",
       "  2 "
      ]
     },
     "metadata": {},
     "output_type": "display_data"
    }
   ],
   "source": [
    "options(repr.plot.width=6, repr.plot.height=7)\n",
    "pdf(paste0(save.dir, 'sf_rmse/scaling_factor_RMSE_all_genesets.pdf'),  \n",
    "    width = 7, height = 8)\n",
    "par(mfrow = c(1,1), mar = c(17.1, 10, 3.1, 2.1))\n",
    "## all \n",
    "norms.to.include\n",
    "xtcks <- c(0:length(norms.to.include)+1)\n",
    "\n",
    "x <- rep(seq(length(norms.to.include)), each = length(genesets)) # no sctransform sf or no norm sfs\n",
    "y <- as.vector(t(rmse.sfs.all))\n",
    "xl <- c(0,max(x)+1)\n",
    "yl <- c(0,max(y)+1)\n",
    "\n",
    "curr.col <- rep(col.geneset[colnames(rmse.sfs.all)], length(norms.to.include))\n",
    "curr.pch <- rep(c(15:18), length(norms.to.include))\n",
    "\n",
    "plot(x,y, pch = curr.pch, cex = 4, col = scales::alpha(curr.col, 0.7), xlim = xl, ylim = yl, \n",
    "     bg = scales::alpha(col.geneset['random'], 0.7),\n",
    "    xaxt = \"n\", yaxt = \"n\", frame.plot=FALSE, xaxs = 'i', yaxs = 'i',\n",
    "    ylab = '', xlab = '')\n",
    "axis(1, at = c(0,xtcks), cex.axis=2, labels = FALSE)\n",
    "axis(2, at = c(0,seq(ceiling(max(y)))), cex.axis=3, las = 2)\n",
    "text(x = xtcks[1:length(norms.to.include)]+0.15, y = min(yl)-1, \n",
    "     labels = norms.names, xpd = NA, srt = 45, cex = 2, pos = 2)\n",
    "title(xlab='Normalization', line=14, cex.lab=fs)\n",
    "title(ylab='RMSE', line=6, cex.lab=fs)\n",
    "dev.off()\n",
    "\n",
    "pdf(paste0(save.dir, 'geneset_legend.pdf'),  \n",
    "    width = 7, height = 8)\n",
    "plot(0,0, col = 'white')\n",
    "legend('topleft', legend = geneset.names, col = scales::alpha(col.geneset[names(geneset.names)],0.7), \n",
    "       pch = curr.pch, pt.bg = scales::alpha(col.geneset['random'], 0.7), cex = 2, pt.cex = 4, bty = 'n')\n",
    "dev.off()\n",
    "\n",
    "pdf(paste0(save.dir, 'sf_rmse/scaling_factor_RMSE_no_random.pdf'),  \n",
    "    width = 7, height = 8)\n",
    "par(mfrow = c(1,1), mar = c(17.1, 10, 3.1, 2.1))\n",
    "## all minus random \n",
    "x = rep(seq(length(norms)-2), each = length(genesets)-1) # no sctransform sf or no norm sfs\n",
    "y = as.vector(t(rmse.sfs.all[,1:3]))\n",
    "xl <- c(0,max(x)+1)\n",
    "yl <- c(0,max(y)+1)\n",
    "\n",
    "curr.col <- rep(col.geneset[colnames(rmse.sfs.all)[1:3]], length(norms.to.include)-1)\n",
    "curr.pch <- rep(c(15:17), length(norms.to.include))\n",
    "\n",
    "plot(x,y, pch = curr.pch, cex = 4, col = scales::alpha(curr.col, 0.7), xlim = xl, ylim = yl,\n",
    "    xaxt = \"n\", yaxt = \"n\", frame.plot=FALSE, xaxs = 'i', yaxs = 'i',\n",
    "    ylab = '', xlab = '')\n",
    "axis(1, at = c(0,xtcks), cex.axis=2, labels = FALSE)\n",
    "axis(2, at = c(0,seq(ceiling(max(y)))), cex.axis=3, las = 2)\n",
    "text(x = xtcks[1:length(norms.to.include)]+0.15, y = min(yl)-1, \n",
    "     labels = norms.names, xpd = NA, srt = 45, cex = 2, pos = 2)\n",
    "title(xlab='Normalization', line=14, cex.lab=fs)\n",
    "title(ylab='RMSE', line=6, cex.lab=fs)\n",
    "dev.off()"
   ]
  },
  {
   "cell_type": "markdown",
   "id": "73e8d1ad",
   "metadata": {},
   "source": [
    "## NORMALIZE SKEWED GENESETS"
   ]
  },
  {
   "cell_type": "code",
   "execution_count": 39,
   "id": "06c4c68d",
   "metadata": {},
   "outputs": [
    {
     "name": "stdout",
     "output_type": "stream",
     "text": [
      "[1] \"GPX3\"    \"DPY19L1\" \"COL15A1\" \"CST3\"    \"CCND1\"   \"ITPR2\"  \n",
      "  |======================================================================| 100%\n",
      "  |======================================================================| 100%\n",
      "[1] \"CFAP126\" \"SLC26A3\" \"CSRP2\"   \"NPY\"     \"MGST1\"   \"PLTP\"   \n",
      "  |======================================================================| 100%\n",
      "  |======================================================================| 100%\n",
      "[1] \"ST18\"    \"NOTUM\"   \"IRS4\"    \"NPFFR1\"  \"HSPA1A\"  \"CREB3L1\"\n",
      "  |======================================================================| 100%\n",
      "  |======================================================================| 100%\n",
      "[1] \"MFAP4\"  \"B3GAT2\" \"NPPA\"   \"DRD5\"   \"CYTH3\"  \"S100A4\"\n",
      "  |======================================================================| 100%\n",
      "  |======================================================================| 100%\n"
     ]
    }
   ],
   "source": [
    "skewed.norms <- lapply(names(counts.subsets), function(gs) {\n",
    "    curr.counts <- counts.subsets[[gs]]\n",
    "    print(head(rownames(curr.counts)))\n",
    "    curr.sfs <- skewed.sfs[[gs]]\n",
    "    \n",
    "    curr.norm.none <- curr.counts\n",
    "    curr.norm.libsize <- t(t(curr.counts)/curr.sfs[['libsize']]) \n",
    "    curr.norm.deseq <- t(t(curr.counts)/curr.sfs[['deseq']])\n",
    "    curr.norm.tmm <- t(t(curr.counts)*curr.sfs[['tmm']])\n",
    "    \n",
    "    suppressMessages(curr.sct <- sctransform::vst(curr.counts, n_genes = NULL))\n",
    "    curr.norm.sct <- curr.sct$y\n",
    "    curr.norm.sct[curr.norm.sct<0] <- 0\n",
    "    \n",
    "    curr.norms <- list(nonorm = curr.norm.none,\n",
    "                       libsize = curr.norm.libsize,\n",
    "                       deseq = curr.norm.deseq,\n",
    "                       tmm = curr.norm.tmm,\n",
    "                       sct = curr.norm.sct)\n",
    "    \n",
    "    curr.norms\n",
    "})\n",
    "names(skewed.norms) <- names(counts.subsets)\n"
   ]
  },
  {
   "cell_type": "markdown",
   "id": "b9e8f4ce",
   "metadata": {},
   "source": [
    "## COUNT CORRELATIONS"
   ]
  },
  {
   "cell_type": "code",
   "execution_count": 40,
   "id": "f25a7ab1",
   "metadata": {},
   "outputs": [],
   "source": [
    "gene.count.corrs <- lapply(names(genesets), function(gs) {\n",
    "    curr.geneset.corrs <- sapply(norms, function(n) {\n",
    "        curr.skewed.norm <- skewed.norms[[gs]][[n]]\n",
    "        curr.all.norm <- all.norms[[n]]\n",
    "        \n",
    "        curr.cells <- intersect(colnames(curr.skewed.norm), colnames(curr.all.norm))\n",
    "        curr.genes <- intersect(rownames(curr.skewed.norm), rownames(curr.all.norm))\n",
    "        \n",
    "        curr.skewed.norm <- curr.skewed.norm[curr.genes, curr.cells]\n",
    "        curr.all.norm <- curr.all.norm[curr.genes, curr.cells]\n",
    "        \n",
    "        curr.corrs <- sapply(curr.genes, function(g) {\n",
    "            cor(curr.skewed.norm[g,], curr.all.norm[g,], method = 'pearson')\n",
    "        })\n",
    "    })\n",
    "#     names(curr.geneset.corrs) <- norms\n",
    "    curr.geneset.corrs\n",
    "})\n",
    "names(gene.count.corrs) <- names(genesets)\n",
    "\n"
   ]
  },
  {
   "cell_type": "code",
   "execution_count": 41,
   "id": "5e10b389",
   "metadata": {},
   "outputs": [],
   "source": [
    "options(repr.plot.width=18, repr.plot.height=5)\n",
    "\n",
    "norms.to.include <- c('libsize', 'sct', 'deseq', 'tmm', 'nonorm')\n",
    "norms.names <- c('Library Size', 'scTransform', 'DESeq2', 'TMM', 'No Normalization')\n",
    "names(norms.names) <- norms.to.include\n",
    "xtcks <- c(0:length(norms.to.include)+1)\n",
    "\n",
    "yl <- c(min(sapply(gene.count.corrs, function(x) {min(x, na.rm = T)})), 1)\n",
    "ylr <- c(0.5, 1) #c(min(gene.count.corrs[['random']]), 1)\n",
    "# yl <- c(0,1)\n",
    "\n",
    "for (gs in names(genesets)){\n",
    "    pdf(paste0(save.dir, 'single_cell_single_gene_count_correlation_',gs,'.pdf'),  \n",
    "        width = 10, height = 12)\n",
    "#     par(mfrow = c(1,1), mar = c(20.1, 9, 3.1, 2.1)) #not ventricles\n",
    "    par(mfrow = c(1,1), mar = c(17.1, 10, 3.1, 2.1))\n",
    "    \n",
    "    curr.corrs <- gene.count.corrs[[gs]]\n",
    "    \n",
    "    boxplot(curr.corrs[,norms.to.include], ylim = yl, #ylim = ylr, #ylim = yl,\n",
    "            cex.lab = fs.small, cex.axis = fs.small, cex.main = fs, xaxs = 'i', yaxs = 'i',\n",
    "            xaxt = \"n\", yaxt = \"n\", frame.plot=FALSE,\n",
    "            ylab = '',# xlab = 'Normalization',\n",
    "#             main = paste('Normalized gene count correlation:\\n',gs, 'skewed vs full geneset')\n",
    "           )\n",
    "    axis(1, at = c(0,xtcks), cex.axis=2, labels = FALSE) #x axis ticks\n",
    "    text(x = xtcks[1:length(norms.to.include)]+0.15, y = min(yl)-0.02, labels = norms.names, xpd = NA, srt = 45, cex = 2, pos = 2) ##ventricles/random\n",
    "#     text(x = c(1:5)+0.15, y = 0.47, labels = norms.names, xpd = NA, srt = 45, cex = 3, pos = 2) ##ventricles\n",
    "#     text(x = c(1:5)+0.15, y = 0, labels = norms.names, xpd = NA, srt = 45, cex = 3, pos = 2) #not ventricles\n",
    "#     axis(2, at = c(0.4,0.6,0.8,1), cex.axis=2, las = 2) ##ventricles/random\n",
    "    axis(2, at = c(0,0.2,0.4,0.6,0.8,1), cex.axis=3, las = 2)\n",
    "#     title(xlab='Normalization', line=19, cex.lab=fs) #not ventricles\n",
    "    title(xlab='Normalization', line=14, cex.lab=fs)\n",
    "#     title(ylab='Pearson Correlation', line=5, cex.lab=fs) #not ventricles\n",
    "    title(ylab='Pearson Correlation', line=6, cex.lab=fs)\n",
    "#     title(ylab=paste('Skewed gene panel\\n log_10(scaling factor)'), line=4, cex.lab=3)\n",
    "    \n",
    "    dev.off()\n",
    "}\n",
    "\n",
    "\n"
   ]
  },
  {
   "cell_type": "markdown",
   "id": "70067168",
   "metadata": {},
   "source": [
    "## DE GENES SKEWED GENESETS"
   ]
  },
  {
   "cell_type": "code",
   "execution_count": 42,
   "id": "7a10d1db",
   "metadata": {},
   "outputs": [],
   "source": [
    "skewed.lfcs <- lapply(skewed.norms, function(curr.skewed.norms) {\n",
    "    \n",
    "    curr.skewed.lfcs <- lapply(curr.skewed.norms, function(curr.counts.norm) {\n",
    "        curr.clusters <- cluster[colnames(curr.counts.norm)]\n",
    "        names(curr.clusters) <- colnames(curr.counts.norm)\n",
    "        curr.lfcs <- find.log.fold.change(curr.counts.norm, curr.clusters, log2)\n",
    "        \n",
    "        curr.lfcs\n",
    "    })\n",
    "    \n",
    "    curr.skewed.lfcs\n",
    "    \n",
    "})\n",
    "\n",
    "skewed.pvals <- lapply(skewed.norms, function(curr.skewed.norms) {\n",
    "    \n",
    "    curr.skewed.pvals <- lapply(curr.skewed.norms, function(curr.counts.norm) {\n",
    "        curr.clusters <- cluster[colnames(curr.counts.norm)]\n",
    "        names(curr.clusters) <- colnames(curr.counts.norm)\n",
    "        curr.pvals <- find.cluster.de.genes(curr.counts.norm, cell.com = curr.clusters, test.alt = 'greater')\n",
    "        \n",
    "        curr.pvals\n",
    "    })\n",
    "    \n",
    "    curr.skewed.pvals\n",
    "    \n",
    "})\n",
    "\n",
    "skewed.pvals.adj <- lapply(skewed.pvals, function(curr.geneset.pvals) {\n",
    "    \n",
    "    curr.geneset.pvals.adj <- lapply(curr.geneset.pvals, function(curr.pvals) {\n",
    "        curr.pvals.adj <- matrix(p.adjust(curr.pvals, method = 'BH'), \n",
    "                                 nrow = nrow (curr.pvals), ncol = ncol(curr.pvals))\n",
    "        colnames(curr.pvals.adj) <- colnames(curr.pvals)\n",
    "        rownames(curr.pvals.adj) <- rownames(curr.pvals)\n",
    "        \n",
    "        curr.pvals.adj\n",
    "    })\n",
    "    \n",
    "    \n",
    "    \n",
    "})\n"
   ]
  },
  {
   "cell_type": "code",
   "execution_count": 43,
   "id": "f9efcae6",
   "metadata": {},
   "outputs": [
    {
     "data": {
      "image/png": "[encoded data removed]",
      "text/plain": [
       "plot without title"
      ]
     },
     "metadata": {
      "image/png": {
       "height": 180,
       "width": 540
      }
     },
     "output_type": "display_data"
    }
   ],
   "source": [
    "options(repr.plot.width=9, repr.plot.height=3)\n",
    "par(mfrow = c(1,3))\n",
    "plot(skewed.lfcs$fiber_tracts$nonorm[,'fiber_tracts'],\n",
    "    -1*log10(skewed.pvals.adj$fiber_tracts$nonorm[,'fiber_tracts']),\n",
    "    pch = 16)\n",
    "plot(skewed.lfcs$ventricles$deseq[,'fiber_tracts'],\n",
    "    -1*log10(skewed.pvals.adj$ventricles$deseq[,'fiber_tracts']),\n",
    "    pch = 16)\n",
    "plot(skewed.lfcs$random$sct[,'fiber_tracts'],\n",
    "    -1*log10(skewed.pvals.adj$random$sct[,'fiber_tracts']),\n",
    "    pch = 16)"
   ]
  },
  {
   "cell_type": "markdown",
   "id": "0f5df3a6",
   "metadata": {},
   "source": [
    "## quantify skew using shannon entropy "
   ]
  },
  {
   "cell_type": "markdown",
   "id": "3a49c356",
   "metadata": {},
   "source": [
    "### full gene panel"
   ]
  },
  {
   "cell_type": "code",
   "execution_count": 44,
   "id": "e17154eb",
   "metadata": {},
   "outputs": [
    {
     "data": {
      "text/html": [
       "1.0975759982764"
      ],
      "text/latex": [
       "1.0975759982764"
      ],
      "text/markdown": [
       "1.0975759982764"
      ],
      "text/plain": [
       "[1] 1.097576"
      ]
     },
     "metadata": {},
     "output_type": "display_data"
    },
    {
     "data": {
      "text/html": [
       "1"
      ],
      "text/latex": [
       "1"
      ],
      "text/markdown": [
       "1"
      ],
      "text/plain": [
       "[1] 1"
      ]
     },
     "metadata": {},
     "output_type": "display_data"
    },
    {
     "data": {
      "text/html": [
       "0.00306305710709215"
      ],
      "text/latex": [
       "0.00306305710709215"
      ],
      "text/markdown": [
       "0.00306305710709215"
      ],
      "text/plain": [
       "[1] 0.003063057"
      ]
     },
     "metadata": {},
     "output_type": "display_data"
    },
    {
     "data": {
      "text/html": [
       "<style>\n",
       ".dl-inline {width: auto; margin:0; padding: 0}\n",
       ".dl-inline>dt, .dl-inline>dd {float: none; width: auto; display: inline-block}\n",
       ".dl-inline>dt::after {content: \":\\0020\"; padding-right: .5ex}\n",
       ".dl-inline>dt:not(:first-of-type) {padding-left: .5ex}\n",
       "</style><dl class=dl-inline><dt>fiber_tracts</dt><dd>0.252446183953033</dd><dt>ventricles</dt><dd>0.12133072407045</dd><dt>dentate_gyrus</dt><dd>0.343444227005871</dd></dl>\n"
      ],
      "text/latex": [
       "\\begin{description*}\n",
       "\\item[fiber\\textbackslash{}\\_tracts] 0.252446183953033\n",
       "\\item[ventricles] 0.12133072407045\n",
       "\\item[dentate\\textbackslash{}\\_gyrus] 0.343444227005871\n",
       "\\end{description*}\n"
      ],
      "text/markdown": [
       "fiber_tracts\n",
       ":   0.252446183953033ventricles\n",
       ":   0.12133072407045dentate_gyrus\n",
       ":   0.343444227005871\n",
       "\n"
      ],
      "text/plain": [
       " fiber_tracts    ventricles dentate_gyrus \n",
       "    0.2524462     0.1213307     0.3434442 "
      ]
     },
     "metadata": {},
     "output_type": "display_data"
    },
    {
     "data": {
      "text/html": [
       "0.970470979929975"
      ],
      "text/latex": [
       "0.970470979929975"
      ],
      "text/markdown": [
       "0.970470979929975"
      ],
      "text/plain": [
       "[1] 0.970471"
      ]
     },
     "metadata": {},
     "output_type": "display_data"
    }
   ],
   "source": [
    "## max evenness\n",
    "props <- rep(0.33,3)\n",
    "-1*sum(props*log(props))\n",
    "\n",
    "## max skew\n",
    "props <- c(0.9997,0.0001,0.0001,0.0001)\n",
    "sum(props)\n",
    "-1*sum(props*log(props))\n",
    "\n",
    "## og gene panel - use non normalized counts for now\n",
    "props <- n.DEs[,'nonorm']/nrow(all.norms$nonorm)\n",
    "props\n",
    "full.div <- -1*sum(props*log(props))\n",
    "full.div"
   ]
  },
  {
   "cell_type": "markdown",
   "id": "8018b7f6",
   "metadata": {},
   "source": [
    "### skewed gene panels"
   ]
  },
  {
   "cell_type": "code",
   "execution_count": 45,
   "id": "5b5cf6ab",
   "metadata": {},
   "outputs": [],
   "source": [
    "## de genes for skewed genesets \n",
    "p.thresh <- 0.05\n",
    "lfc.thresh <- 0.25\n",
    "\n",
    "skewed.de.genes <- lapply(names(genesets), function(gs) {\n",
    "    curr.gs.de.genes <- lapply(norms, function(curr.norm) {\n",
    "        curr.pvals <- skewed.pvals[[gs]][[curr.norm]]\n",
    "        curr.lfcs <- skewed.lfcs[[gs]][[curr.norm]]\n",
    "        \n",
    "        curr.groups <- colnames(curr.pvals)\n",
    "        \n",
    "        curr.de.genes <- lapply(curr.groups, function(curr.group) {\n",
    "            curr.group.pvals <- curr.pvals[,curr.group]\n",
    "            curr.group.lfcs <- curr.lfcs[names(curr.group.pvals),curr.group]\n",
    "            \n",
    "            curr.group.de.genes <- names(curr.group.pvals)[curr.group.pvals<p.thresh & abs(curr.group.lfcs)>lfc.thresh]\n",
    "            curr.group.de.genes.stats <- cbind(curr.group.pvals[curr.group.de.genes],\n",
    "                                               curr.group.lfcs[curr.group.de.genes])\n",
    "            colnames(curr.group.de.genes.stats) <- c('p.adj','logFC')\n",
    "            curr.group.de.genes.stats\n",
    "            \n",
    "        })\n",
    "        names(curr.de.genes) <- curr.groups\n",
    "        curr.de.genes\n",
    "    })\n",
    "    names(curr.gs.de.genes) <- norms\n",
    "    curr.gs.de.genes\n",
    "})\n",
    "names(skewed.de.genes) <- names(genesets)"
   ]
  },
  {
   "cell_type": "code",
   "execution_count": 46,
   "id": "4e309882",
   "metadata": {},
   "outputs": [],
   "source": [
    "## number of de genes\n",
    "skewed.n.DEs <- lapply(skewed.de.genes, function(curr.de.genes) {\n",
    "    curr.n.DEs <- sapply(curr.de.genes, function(x) {\n",
    "        sapply(x, nrow)\n",
    "    })\n",
    "    curr.n.DEs\n",
    "})\n"
   ]
  },
  {
   "cell_type": "code",
   "execution_count": 47,
   "id": "b35e36eb",
   "metadata": {},
   "outputs": [
    {
     "data": {
      "text/html": [
       "<style>\n",
       ".list-inline {list-style: none; margin:0; padding: 0}\n",
       ".list-inline>li {display: inline-block}\n",
       ".list-inline>li:not(:last-child)::after {content: \"\\00b7\"; padding: 0 .5ex}\n",
       "</style>\n",
       "<ol class=list-inline><li>'fiber_tracts'</li><li>'ventricles'</li><li>'dentate_gyrus'</li><li>'random'</li></ol>\n"
      ],
      "text/latex": [
       "\\begin{enumerate*}\n",
       "\\item 'fiber\\_tracts'\n",
       "\\item 'ventricles'\n",
       "\\item 'dentate\\_gyrus'\n",
       "\\item 'random'\n",
       "\\end{enumerate*}\n"
      ],
      "text/markdown": [
       "1. 'fiber_tracts'\n",
       "2. 'ventricles'\n",
       "3. 'dentate_gyrus'\n",
       "4. 'random'\n",
       "\n",
       "\n"
      ],
      "text/plain": [
       "[1] \"fiber_tracts\"  \"ventricles\"    \"dentate_gyrus\" \"random\"       "
      ]
     },
     "metadata": {},
     "output_type": "display_data"
    }
   ],
   "source": [
    "names(skewed.n.DEs)"
   ]
  },
  {
   "cell_type": "code",
   "execution_count": 48,
   "id": "7806fdd5",
   "metadata": {},
   "outputs": [],
   "source": [
    "skewed.props <- lapply(skewed.n.DEs, function(x) {\n",
    "    x[,'nonorm']/100\n",
    "})\n",
    "skewed.div <- sapply(skewed.props, function(x) {\n",
    "    -1*sum(x[x>0]*log(x[x>0]))\n",
    "})"
   ]
  },
  {
   "cell_type": "code",
   "execution_count": 52,
   "id": "4ac9d56a",
   "metadata": {
    "scrolled": true
   },
   "outputs": [
    {
     "data": {
      "text/html": [
       "<dl>\n",
       "\t<dt>$fiber_tracts</dt>\n",
       "\t\t<dd><style>\n",
       ".dl-inline {width: auto; margin:0; padding: 0}\n",
       ".dl-inline>dt, .dl-inline>dd {float: none; width: auto; display: inline-block}\n",
       ".dl-inline>dt::after {content: \":\\0020\"; padding-right: .5ex}\n",
       ".dl-inline>dt:not(:first-of-type) {padding-left: .5ex}\n",
       "</style><dl class=dl-inline><dt>fiber_tracts</dt><dd>0.97</dd><dt>ventricles</dt><dd>0.07</dd><dt>dentate_gyrus</dt><dd>0</dd></dl>\n",
       "</dd>\n",
       "\t<dt>$ventricles</dt>\n",
       "\t\t<dd><style>\n",
       ".dl-inline {width: auto; margin:0; padding: 0}\n",
       ".dl-inline>dt, .dl-inline>dd {float: none; width: auto; display: inline-block}\n",
       ".dl-inline>dt::after {content: \":\\0020\"; padding-right: .5ex}\n",
       ".dl-inline>dt:not(:first-of-type) {padding-left: .5ex}\n",
       "</style><dl class=dl-inline><dt>fiber_tracts</dt><dd>0.14</dd><dt>ventricles</dt><dd>0.97</dd><dt>dentate_gyrus</dt><dd>0.14</dd></dl>\n",
       "</dd>\n",
       "\t<dt>$dentate_gyrus</dt>\n",
       "\t\t<dd><style>\n",
       ".dl-inline {width: auto; margin:0; padding: 0}\n",
       ".dl-inline>dt, .dl-inline>dd {float: none; width: auto; display: inline-block}\n",
       ".dl-inline>dt::after {content: \":\\0020\"; padding-right: .5ex}\n",
       ".dl-inline>dt:not(:first-of-type) {padding-left: .5ex}\n",
       "</style><dl class=dl-inline><dt>fiber_tracts</dt><dd>0</dd><dt>ventricles</dt><dd>0.08</dd><dt>dentate_gyrus</dt><dd>0.98</dd></dl>\n",
       "</dd>\n",
       "\t<dt>$random</dt>\n",
       "\t\t<dd><style>\n",
       ".dl-inline {width: auto; margin:0; padding: 0}\n",
       ".dl-inline>dt, .dl-inline>dd {float: none; width: auto; display: inline-block}\n",
       ".dl-inline>dt::after {content: \":\\0020\"; padding-right: .5ex}\n",
       ".dl-inline>dt:not(:first-of-type) {padding-left: .5ex}\n",
       "</style><dl class=dl-inline><dt>fiber_tracts</dt><dd>0.24</dd><dt>ventricles</dt><dd>0.19</dd><dt>dentate_gyrus</dt><dd>0.3</dd></dl>\n",
       "</dd>\n",
       "</dl>\n"
      ],
      "text/latex": [
       "\\begin{description}\n",
       "\\item[\\$fiber\\_tracts] \\begin{description*}\n",
       "\\item[fiber\\textbackslash{}\\_tracts] 0.97\n",
       "\\item[ventricles] 0.07\n",
       "\\item[dentate\\textbackslash{}\\_gyrus] 0\n",
       "\\end{description*}\n",
       "\n",
       "\\item[\\$ventricles] \\begin{description*}\n",
       "\\item[fiber\\textbackslash{}\\_tracts] 0.14\n",
       "\\item[ventricles] 0.97\n",
       "\\item[dentate\\textbackslash{}\\_gyrus] 0.14\n",
       "\\end{description*}\n",
       "\n",
       "\\item[\\$dentate\\_gyrus] \\begin{description*}\n",
       "\\item[fiber\\textbackslash{}\\_tracts] 0\n",
       "\\item[ventricles] 0.08\n",
       "\\item[dentate\\textbackslash{}\\_gyrus] 0.98\n",
       "\\end{description*}\n",
       "\n",
       "\\item[\\$random] \\begin{description*}\n",
       "\\item[fiber\\textbackslash{}\\_tracts] 0.24\n",
       "\\item[ventricles] 0.19\n",
       "\\item[dentate\\textbackslash{}\\_gyrus] 0.3\n",
       "\\end{description*}\n",
       "\n",
       "\\end{description}\n"
      ],
      "text/markdown": [
       "$fiber_tracts\n",
       ":   fiber_tracts\n",
       ":   0.97ventricles\n",
       ":   0.07dentate_gyrus\n",
       ":   0\n",
       "\n",
       "\n",
       "$ventricles\n",
       ":   fiber_tracts\n",
       ":   0.14ventricles\n",
       ":   0.97dentate_gyrus\n",
       ":   0.14\n",
       "\n",
       "\n",
       "$dentate_gyrus\n",
       ":   fiber_tracts\n",
       ":   0ventricles\n",
       ":   0.08dentate_gyrus\n",
       ":   0.98\n",
       "\n",
       "\n",
       "$random\n",
       ":   fiber_tracts\n",
       ":   0.24ventricles\n",
       ":   0.19dentate_gyrus\n",
       ":   0.3\n",
       "\n",
       "\n",
       "\n",
       "\n"
      ],
      "text/plain": [
       "$fiber_tracts\n",
       " fiber_tracts    ventricles dentate_gyrus \n",
       "         0.97          0.07          0.00 \n",
       "\n",
       "$ventricles\n",
       " fiber_tracts    ventricles dentate_gyrus \n",
       "         0.14          0.97          0.14 \n",
       "\n",
       "$dentate_gyrus\n",
       " fiber_tracts    ventricles dentate_gyrus \n",
       "         0.00          0.08          0.98 \n",
       "\n",
       "$random\n",
       " fiber_tracts    ventricles dentate_gyrus \n",
       "         0.24          0.19          0.30 \n"
      ]
     },
     "metadata": {},
     "output_type": "display_data"
    },
    {
     "data": {
      "text/html": [
       "<style>\n",
       ".dl-inline {width: auto; margin:0; padding: 0}\n",
       ".dl-inline>dt, .dl-inline>dd {float: none; width: auto; display: inline-block}\n",
       ".dl-inline>dt::after {content: \":\\0020\"; padding-right: .5ex}\n",
       ".dl-inline>dt:not(:first-of-type) {padding-left: .5ex}\n",
       "</style><dl class=dl-inline><dt>fiber_tracts</dt><dd>0.215693633845462</dd><dt>ventricles</dt><dd>0.580057031044561</dd><dt>dentate_gyrus</dt><dd>0.22185694471583</dd><dt>random</dt><dd>1.01923869594753</dd></dl>\n"
      ],
      "text/latex": [
       "\\begin{description*}\n",
       "\\item[fiber\\textbackslash{}\\_tracts] 0.215693633845462\n",
       "\\item[ventricles] 0.580057031044561\n",
       "\\item[dentate\\textbackslash{}\\_gyrus] 0.22185694471583\n",
       "\\item[random] 1.01923869594753\n",
       "\\end{description*}\n"
      ],
      "text/markdown": [
       "fiber_tracts\n",
       ":   0.215693633845462ventricles\n",
       ":   0.580057031044561dentate_gyrus\n",
       ":   0.22185694471583random\n",
       ":   1.01923869594753\n",
       "\n"
      ],
      "text/plain": [
       " fiber_tracts    ventricles dentate_gyrus        random \n",
       "    0.2156936     0.5800570     0.2218569     1.0192387 "
      ]
     },
     "metadata": {},
     "output_type": "display_data"
    }
   ],
   "source": [
    "skewed.props\n",
    "skewed.div\n"
   ]
  },
  {
   "cell_type": "code",
   "execution_count": 50,
   "id": "7cf009b1",
   "metadata": {},
   "outputs": [],
   "source": [
    "# dir.create(paste0(save.dir,'panel_div'))"
   ]
  },
  {
   "cell_type": "code",
   "execution_count": 51,
   "id": "3355ad61",
   "metadata": {},
   "outputs": [
    {
     "ename": "ERROR",
     "evalue": "Error in eval(expr, envir, enclos): object 'panel.div.names' not found\n",
     "output_type": "error",
     "traceback": [
      "Error in eval(expr, envir, enclos): object 'panel.div.names' not found\nTraceback:\n"
     ]
    }
   ],
   "source": [
    "# panel.div.names\n",
    "# gs.names"
   ]
  },
  {
   "cell_type": "code",
   "execution_count": null,
   "id": "0c8115c5",
   "metadata": {},
   "outputs": [],
   "source": [
    "# panel.div <- c(skewed.div, full.div)\n",
    "# names(panel.div) <- c(names(skewed.div), 'full')\n",
    "# panel.div.names <- c(gs.names[1:(length(gs.names)-1)], 'Random', 'Original')\n",
    "# options(repr.plot.width=6, repr.plot.height=7)\n",
    "# pdf(paste0(save.dir, 'panel_div/panel_diversity_all_genesets.pdf'),  \n",
    "#     width = 8, height = 9)\n",
    "# par(mfrow = c(1,1), mar = c(17.1, 10, 3.1, 2.1))\n",
    "# xtcks <- c(0:length(panel.div)+1)\n",
    "# x <- seq(length(panel.div))\n",
    "# y <- panel.div\n",
    "# xl <- c(0,max(x)+1)\n",
    "# yl <- c(0,max(y))\n",
    "# sp <- c(1.5, rep(1,length(panel.div)-1))\n",
    "\n",
    "# barplot(y, xlim = xl, ylim = yl, width = 0.5, space = sp,\n",
    "#     xaxt = \"n\", yaxt = \"n\", xaxs = 'i', yaxs = 'i',\n",
    "#     ylab = '', xlab = '')\n",
    "# axis(1, at = c(0,xtcks), cex.axis=2, labels = FALSE)\n",
    "# axis(2, at = seq(from = 0, to = ceiling(max(y)), by = 0.25), cex.axis=3, las = 2)\n",
    "# text(x = xtcks[1:length(panel.div.names)]+0.15, y = min(yl)-0.15, \n",
    "#      labels = panel.div.names, xpd = NA, srt = 45, cex = 2, pos = 2)\n",
    "# title(xlab='Gene panel', line=14, cex.lab=fs)\n",
    "# title(ylab='Gene panel diversity', line=6, cex.lab=fs)\n",
    "# dev.off()"
   ]
  },
  {
   "cell_type": "markdown",
   "id": "74795494",
   "metadata": {},
   "source": [
    "## COMPARE P VALUES: SKEWED vs OG"
   ]
  },
  {
   "cell_type": "code",
   "execution_count": 53,
   "id": "4fe1d724",
   "metadata": {},
   "outputs": [],
   "source": [
    "dir.create(paste0(save.dir,'pval_comparison'))"
   ]
  },
  {
   "cell_type": "code",
   "execution_count": 54,
   "id": "503d7e28",
   "metadata": {},
   "outputs": [],
   "source": [
    "options(repr.plot.width=20, repr.plot.height=8)\n",
    "\n",
    "norms.to.include <- c('libsize', 'sct', 'deseq', 'tmm', 'nonorm')\n",
    "norms.names <- c('Library Size', 'scTransform', 'DESeq2', 'TMM', 'No Normalization')\n",
    "names(norms.names) <- norms.to.include\n",
    "\n",
    "for (gs in names(genesets)){\n",
    "    pdf(paste0(save.dir, 'pval_comparison/', gs, '_skewed_vs_all_genes_log.pdf'),  \n",
    "        width = 25, height = 5)\n",
    "    par(mfrow = c(1,5), mar = c(10.1, 10.1, 6.1, 2.1))\n",
    "    \n",
    "    curr.x.lim <- range(-1*log10(unlist(p.vals.all.adj)), finite = TRUE)\n",
    "    curr.y.lim <- range(-1*log10(unlist(skewed.pvals.adj[[gs]])), finite = TRUE)    \n",
    "\n",
    "    \n",
    "    for (n in norms.to.include){\n",
    "#         print(gs)\n",
    "#         print(n)\n",
    "        curr.skewed.pvalsAdj <- -1*log10(skewed.pvals.adj[[gs]][[n]])\n",
    "#         curr.skewed.pvalsAdj <- (skewed.pvals.adj[[gs]][[n]])\n",
    "        \n",
    "        curr.geneset <- rownames(curr.skewed.pvalsAdj)\n",
    "        \n",
    "        curr.og.pvalsAdj <- -1*log10(p.vals.all.adj[[n]][curr.geneset,])\n",
    "#         curr.og.pvalsAdj <- (p.vals.all.adj[[n]][curr.geneset,])\n",
    "        \n",
    "        #change color to highlight roi for region skewed geneset\n",
    "        curr.cols <- colnames(curr.skewed.pvalsAdj)\n",
    "        curr.cols <- leg.col.region[curr.cols]\n",
    "        curr.cols[names(curr.cols) != gs] <- 'grey'\n",
    "#         print(curr.cols)\n",
    "        \n",
    "        #use all colors for random geneset\n",
    "        if (gs == 'random'){\n",
    "            curr.cols <- colnames(curr.skewed.pvalsAdj)\n",
    "            curr.cols <- leg.col.region[curr.cols]\n",
    "            \n",
    "        }\n",
    "        \n",
    "        curr.cols <- unlist(lapply(curr.cols, function(x) {rep(x, nrow(curr.skewed.pvalsAdj))}))\n",
    "        \n",
    "        plot(as.vector(curr.og.pvalsAdj), as.vector(curr.skewed.pvalsAdj), \n",
    "             pch = 16, cex = 1.5, col = scales::alpha(curr.cols, 0.75),\n",
    "             xlim = curr.x.lim, ylim = curr.y.lim,\n",
    "             cex.lab = fs.small, cex.axis = fs.small, cex.main = fs, xaxt=\"n\", yaxt=\"n\",\n",
    "             xlab = '', ylab = '', bty = 'n', xaxs = 'i', yaxs = 'i',\n",
    "#              xlab = paste('Full gene panel\\n -log_10(p-value)'), \n",
    "#              ylab = paste('Skewed gene panel\\n -log_10(p-value)'), \n",
    "             main = paste(norms.names[n]))\n",
    "#         abline(a=0,b=1,col=scales::alpha('grey', 0.5))\n",
    "        title(xlab=expression(paste('Full gene panel')), line=8, cex.lab=fs)\n",
    "        title(ylab=paste('Skewed gene panel'), line=5, cex.lab=fs)\n",
    "        axis(side = 1, at = curr.x.lim, line = 0, cex.axis = fs, lty = 1, labels = FALSE)\n",
    "        axis(side = 2, at = curr.y.lim, line = 0, cex.axis = fs, lty = 1, labels = FALSE)        \n",
    "        axis(side = 1, line = 0, cex.axis = fs.small, lty = 1, labels = FALSE)\n",
    "        axis(side = 2, line = 0, cex.axis = fs.small, lty = 1, labels = FALSE)\n",
    "        axis(side = 1, line = 2.5, cex.axis = fs.small, lty = 0)\n",
    "        axis(side = 2, line = 0.5, cex.axis = fs.small, lty = 0)\n",
    "#         abline(v=0.05, h=0.05,col='grey')\n",
    "        abline(a=0,b=1,col='red')\n",
    "        \n",
    "        ##highlight examples with ventricle skewed geneset on libsize plot\n",
    "#         if (gs=='ventricles'){\n",
    "#             eg.points.x <- sapply(seq_along(test.genes), function(i) {\n",
    "#                 curr.og.pvalsAdj[test.genes[i], test.regions[i]]})\n",
    "#             eg.points.y <- sapply(seq_along(test.genes), function(i) {\n",
    "#                 curr.skewed.pvalsAdj[test.genes[i], test.regions[i]]})\n",
    "\n",
    "#             test.labels <- sapply(seq_along(test.genes), function(i){\n",
    "#                 paste(test.genes[i], test.regions[i])\n",
    "#             })            \n",
    "            \n",
    "#             points(eg.points.x, eg.points.y, \n",
    "#                   pch = 16, cex = 3, col = 'black')\n",
    "# #             text(eg.points.x+65, eg.points.y+10, labels = test.labels, cex = fs)\n",
    "#         }\n",
    "        \n",
    "        \n",
    "    }\n",
    "    dev.off()\n",
    "    \n",
    "    pdf(paste0(save.dir, 'pval_comparison/', gs, '_skewed_vs_all_genes.pdf'),  \n",
    "        width = 25, height = 5)\n",
    "    par(mfrow = c(1,5), mar = c(10.1, 10.1, 6.1, 2.1))\n",
    "    \n",
    "\n",
    "    \n",
    "    for (n in norms.to.include){\n",
    "#         print(gs)\n",
    "#         print(n)\n",
    "#         curr.skewed.pvalsAdj <- -1*log10(skewed.pvals.adj[[gs]][[n]])\n",
    "        curr.skewed.pvalsAdj <- (skewed.pvals.adj[[gs]][[n]])\n",
    "        \n",
    "        curr.geneset <- rownames(curr.skewed.pvalsAdj)\n",
    "        \n",
    "#         curr.og.pvalsAdj <- -1*log10(p.vals.all.adj[[n]][curr.geneset,])\n",
    "        curr.og.pvalsAdj <- (p.vals.all.adj[[n]][curr.geneset,])\n",
    "        \n",
    "        #change color to highlight roi for region skewed geneset\n",
    "        curr.cols <- colnames(curr.skewed.pvalsAdj)\n",
    "        curr.cols <- leg.col.region[curr.cols]\n",
    "        curr.cols[names(curr.cols) != gs] <- 'grey'\n",
    "#         print(curr.cols)\n",
    "        \n",
    "        #use all colors for random geneset\n",
    "        if (gs == 'random'){\n",
    "            curr.cols <- colnames(curr.skewed.pvalsAdj)\n",
    "            curr.cols <- leg.col.region[curr.cols]\n",
    "            \n",
    "        }\n",
    "        \n",
    "        curr.cols <- unlist(lapply(curr.cols, function(x) {rep(x, nrow(curr.skewed.pvalsAdj))}))\n",
    "        \n",
    "        plot(as.vector(curr.og.pvalsAdj), as.vector(curr.skewed.pvalsAdj), \n",
    "             pch = 16, cex = 1.5, col = scales::alpha(curr.cols, 0.75),\n",
    "             cex.lab = fs.small, cex.axis = fs.small, cex.main = fs, xaxt=\"n\", yaxt=\"n\",\n",
    "             xlab = '', ylab = '', bty = 'n', xaxs = 'i', yaxs = 'i',\n",
    "#              xlab = paste('Full gene panel\\n -log_10(p-value)'), \n",
    "#              ylab = paste('Skewed gene panel\\n -log_10(p-value)'), \n",
    "             main = paste(norms.names[n]))\n",
    "#         abline(a=0,b=1,col=scales::alpha('grey', 0.5))\n",
    "        title(xlab=paste('Full gene panel\\n p-value'), line=8, cex.lab=fs)\n",
    "        title(ylab=paste('Skewed gene panel\\n p-value'), line=5, cex.lab=fs)\n",
    "        axis(side = 1, line = 0, cex.axis = fs.small, lty = 1, labels = FALSE)\n",
    "        axis(side = 2, line = 0, cex.axis = fs.small, lty = 1, labels = FALSE)\n",
    "        axis(side = 1, line = 2.5, cex.axis = fs.small, lty = 0)\n",
    "        axis(side = 2, line = 0.5, cex.axis = fs.small, lty = 0)\n",
    "        abline(v=0.05, h=0.05,col='grey')\n",
    "        abline(a=0,b=1,col='red')\n",
    "        \n",
    "        ##highlight examples with ventricle skewed geneset on libsize plot\n",
    "#         if (gs == 'ventricles'){\n",
    "#             eg.points.x <- sapply(seq_along(test.genes), function(i) {\n",
    "#                 curr.og.pvalsAdj[test.genes[i], test.regions[i]]})\n",
    "#             eg.points.y <- sapply(seq_along(test.genes), function(i) {\n",
    "#                 curr.skewed.pvalsAdj[test.genes[i], test.regions[i]]})\n",
    "            \n",
    "#             test.labels <- sapply(seq_along(test.genes), function(i){\n",
    "#                 paste(test.genes[i], test.regions[i])\n",
    "#             })\n",
    "            \n",
    "            \n",
    "            \n",
    "#             points(eg.points.x, eg.points.y, \n",
    "#                   pch = 16, cex = 3, col = 'black')\n",
    "# #             text(eg.points.x+0.25, eg.points.y+0.075, labels = test.labels, cex = fs)\n",
    "#         }\n",
    "        \n",
    "        \n",
    "    }\n",
    "        \n",
    "    \n",
    "    dev.off()\n",
    "}\n",
    "\n"
   ]
  },
  {
   "cell_type": "markdown",
   "id": "fb26da14",
   "metadata": {},
   "source": [
    "## PVAL FP FN"
   ]
  },
  {
   "cell_type": "code",
   "execution_count": 55,
   "id": "d3077569",
   "metadata": {},
   "outputs": [],
   "source": [
    "dir.create(paste0(save.dir,'pval_FPFN'))"
   ]
  },
  {
   "cell_type": "code",
   "execution_count": 56,
   "id": "4b3b7ff5",
   "metadata": {},
   "outputs": [],
   "source": [
    "fpfn.pvals <- lapply(names(skewed.pvals.adj), function(reg) {\n",
    "    gs <- skewed.pvals.adj[[reg]]\n",
    "    \n",
    "    curr.gs.fpfn <- lapply(names(gs), function(n) {\n",
    "        curr.skewed.pvals <- gs[[n]]\n",
    "        curr.full.pvals <- p.vals.all.adj[[n]]\n",
    "        \n",
    "        curr.genes <- intersect(rownames(curr.skewed.pvals), rownames(curr.full.pvals))\n",
    "        \n",
    "        curr.skewed.pvals <- curr.skewed.pvals[curr.genes,]\n",
    "        curr.full.pvals <- curr.full.pvals[curr.genes,]\n",
    "        \n",
    "        get.pval.fp.fn(curr.skewed.pvals, curr.full.pvals, 0.05)\n",
    "        \n",
    "    })\n",
    "    \n",
    "    names(curr.gs.fpfn) <- names(gs)\n",
    "    curr.gs.fpfn\n",
    "})\n",
    "names(fpfn.pvals) <- names(skewed.pvals.adj)\n",
    "\n",
    "fpfn.rate.pvals.all <- lapply(names(fpfn.pvals), function(reg) {\n",
    "    gs <- fpfn.pvals[[reg]]\n",
    "    \n",
    "    curr.gs.fpfn.rates <- sapply(gs, function(n) {\n",
    "        curr.fp <- n[['false.positive']]\n",
    "        curr.tn <- n[['true.negative']]\n",
    "#         curr.fp.rate <- sum(curr.fp)/length(curr.fp)\n",
    "        curr.fp.rate <- sum(curr.fp)/(sum(curr.fp)+sum(curr.tn))\n",
    "        \n",
    "        curr.fn <- n[['false.negative']]\n",
    "        curr.tp <- n[['true.positive']]\n",
    "#         curr.fn.rate <- sum(curr.fn)/length(curr.fn)\n",
    "        curr.fn.rate <- sum(curr.fn)/(sum(curr.fn)+sum(curr.tp))\n",
    "        \n",
    "        list(fp = curr.fp.rate, fn = curr.fn.rate)\n",
    "    })\n",
    "    \n",
    "    curr.gs.fpfn.rates\n",
    "})\n",
    "names(fpfn.rate.pvals.all) <- names(fpfn.pvals)\n",
    "\n",
    "fpfn.rate.pvals.reg.other <- lapply(names(fpfn.pvals), function(reg) {\n",
    "    gs <- fpfn.pvals[[reg]]\n",
    "    \n",
    "    curr.gs.fpfn.rates <- sapply(gs, function(n) {\n",
    "        \n",
    "        if (reg != 'random'){\n",
    "            curr.reg.fp <- n[['false.positive']][,reg]\n",
    "            curr.reg.fp.rate <- sum(curr.reg.fp)/length(curr.reg.fp)\n",
    "            \n",
    "            curr.reg.fn <- n[['false.negative']][,reg]\n",
    "            curr.reg.fn.rate <- sum(curr.reg.fn)/length(curr.reg.fn)\n",
    "            \n",
    "            curr.other.regs <- colnames(n[['false.positive']]) != reg\n",
    "            \n",
    "            curr.other.fp <- n[['false.positive']][,curr.other.regs]\n",
    "            curr.other.fp.rate <- sum(curr.other.fp)/length(curr.other.fp)\n",
    "            \n",
    "            curr.other.fn <- n[['false.negative']][,curr.other.regs]\n",
    "            curr.other.fn.rate <- sum(curr.other.fn)/length(curr.other.fn)\n",
    "            \n",
    "        } else {\n",
    "            curr.reg.fp.rate <- NA\n",
    "            curr.reg.fn.rate <- NA\n",
    "            curr.other.fp.rate <- NA\n",
    "            curr.other.fn.rate <- NA            \n",
    "        }\n",
    "        \n",
    "        list(fp.reg = curr.reg.fp.rate, fn.reg = curr.reg.fn.rate,\n",
    "            fp.other = curr.other.fp.rate, fn.other = curr.other.fn.rate)\n",
    "        \n",
    "    })\n",
    "    \n",
    "    curr.gs.fpfn.rates\n",
    "    \n",
    "})\n",
    "names(fpfn.rate.pvals.reg.other) <- names(fpfn.pvals)\n",
    "\n",
    "fp.pvals.all <- as.data.frame(sapply(fpfn.rate.pvals.all, function(x) {\n",
    "    unlist(x['fp',])\n",
    "}))\n",
    "fn.pvals.all <- as.data.frame(sapply(fpfn.rate.pvals.all, function(x) {\n",
    "    unlist(x['fn',])\n",
    "}))\n",
    "\n",
    "fp.pvals.reg <- as.data.frame(sapply(fpfn.rate.pvals.reg.other, function(x) {\n",
    "    unlist(x['fp.reg',])\n",
    "}))\n",
    "fn.pvals.reg <- as.data.frame(sapply(fpfn.rate.pvals.reg.other, function(x) {\n",
    "    unlist(x['fn.reg',])\n",
    "}))\n",
    "\n",
    "fp.pvals.other <- as.data.frame(sapply(fpfn.rate.pvals.reg.other, function(x) {\n",
    "    unlist(x['fp.other',])\n",
    "}))\n",
    "fn.pvals.other <- as.data.frame(sapply(fpfn.rate.pvals.reg.other, function(x) {\n",
    "    unlist(x['fn.other',])\n",
    "}))\n"
   ]
  },
  {
   "cell_type": "code",
   "execution_count": 57,
   "id": "fcd4ebd0",
   "metadata": {},
   "outputs": [
    {
     "data": {
      "text/html": [
       "<table class=\"dataframe\">\n",
       "<caption>A data.frame: 5 × 4</caption>\n",
       "<thead>\n",
       "\t<tr><th></th><th scope=col>fiber_tracts</th><th scope=col>ventricles</th><th scope=col>dentate_gyrus</th><th scope=col>random</th></tr>\n",
       "\t<tr><th></th><th scope=col>&lt;dbl&gt;</th><th scope=col>&lt;dbl&gt;</th><th scope=col>&lt;dbl&gt;</th><th scope=col>&lt;dbl&gt;</th></tr>\n",
       "</thead>\n",
       "<tbody>\n",
       "\t<tr><th scope=row>nonorm</th><td>0.00000000</td><td>0.00000000</td><td>0.00000000</td><td>0.00000000</td></tr>\n",
       "\t<tr><th scope=row>libsize</th><td>0.12380952</td><td>0.04687500</td><td>0.04901961</td><td>0.01470588</td></tr>\n",
       "\t<tr><th scope=row>deseq</th><td>0.03703704</td><td>0.02343750</td><td>0.00990099</td><td>0.02941176</td></tr>\n",
       "\t<tr><th scope=row>tmm</th><td>0.04854369</td><td>0.03149606</td><td>0.04807692</td><td>0.01492537</td></tr>\n",
       "\t<tr><th scope=row>sct</th><td>0.10476190</td><td>0.10317460</td><td>0.04950495</td><td>0.01492537</td></tr>\n",
       "</tbody>\n",
       "</table>\n"
      ],
      "text/latex": [
       "A data.frame: 5 × 4\n",
       "\\begin{tabular}{r|llll}\n",
       "  & fiber\\_tracts & ventricles & dentate\\_gyrus & random\\\\\n",
       "  & <dbl> & <dbl> & <dbl> & <dbl>\\\\\n",
       "\\hline\n",
       "\tnonorm & 0.00000000 & 0.00000000 & 0.00000000 & 0.00000000\\\\\n",
       "\tlibsize & 0.12380952 & 0.04687500 & 0.04901961 & 0.01470588\\\\\n",
       "\tdeseq & 0.03703704 & 0.02343750 & 0.00990099 & 0.02941176\\\\\n",
       "\ttmm & 0.04854369 & 0.03149606 & 0.04807692 & 0.01492537\\\\\n",
       "\tsct & 0.10476190 & 0.10317460 & 0.04950495 & 0.01492537\\\\\n",
       "\\end{tabular}\n"
      ],
      "text/markdown": [
       "\n",
       "A data.frame: 5 × 4\n",
       "\n",
       "| <!--/--> | fiber_tracts &lt;dbl&gt; | ventricles &lt;dbl&gt; | dentate_gyrus &lt;dbl&gt; | random &lt;dbl&gt; |\n",
       "|---|---|---|---|---|\n",
       "| nonorm | 0.00000000 | 0.00000000 | 0.00000000 | 0.00000000 |\n",
       "| libsize | 0.12380952 | 0.04687500 | 0.04901961 | 0.01470588 |\n",
       "| deseq | 0.03703704 | 0.02343750 | 0.00990099 | 0.02941176 |\n",
       "| tmm | 0.04854369 | 0.03149606 | 0.04807692 | 0.01492537 |\n",
       "| sct | 0.10476190 | 0.10317460 | 0.04950495 | 0.01492537 |\n",
       "\n"
      ],
      "text/plain": [
       "        fiber_tracts ventricles dentate_gyrus random    \n",
       "nonorm  0.00000000   0.00000000 0.00000000    0.00000000\n",
       "libsize 0.12380952   0.04687500 0.04901961    0.01470588\n",
       "deseq   0.03703704   0.02343750 0.00990099    0.02941176\n",
       "tmm     0.04854369   0.03149606 0.04807692    0.01492537\n",
       "sct     0.10476190   0.10317460 0.04950495    0.01492537"
      ]
     },
     "metadata": {},
     "output_type": "display_data"
    },
    {
     "data": {
      "text/html": [
       "0.123809523809524"
      ],
      "text/latex": [
       "0.123809523809524"
      ],
      "text/markdown": [
       "0.123809523809524"
      ],
      "text/plain": [
       "[1] 0.1238095"
      ]
     },
     "metadata": {},
     "output_type": "display_data"
    }
   ],
   "source": [
    "fn.pvals.all\n",
    "max(fn.pvals.all)"
   ]
  },
  {
   "cell_type": "code",
   "execution_count": 59,
   "id": "575c299e",
   "metadata": {},
   "outputs": [
    {
     "data": {
      "text/html": [
       "<strong>png:</strong> 2"
      ],
      "text/latex": [
       "\\textbf{png:} 2"
      ],
      "text/markdown": [
       "**png:** 2"
      ],
      "text/plain": [
       "png \n",
       "  2 "
      ]
     },
     "metadata": {},
     "output_type": "display_data"
    },
    {
     "data": {
      "text/html": [
       "<strong>png:</strong> 2"
      ],
      "text/latex": [
       "\\textbf{png:} 2"
      ],
      "text/markdown": [
       "**png:** 2"
      ],
      "text/plain": [
       "png \n",
       "  2 "
      ]
     },
     "metadata": {},
     "output_type": "display_data"
    }
   ],
   "source": [
    "options(repr.plot.width=6, repr.plot.height=7)\n",
    "pdf(paste0(save.dir, 'pval_FPFN/pval_false_negative_rates_all_genesets.pdf'),  \n",
    "    width = 7, height = 8)\n",
    "par(mfrow = c(1,1), mar = c(17.1, 10, 3.1, 2.1))\n",
    "\n",
    "xtcks <- c(0:length(norms.to.include)+1)\n",
    "\n",
    "x <- rep(seq(length(norms.to.include)), each = length(genesets)) # no sctransform sf or no norm sfs\n",
    "y <- as.vector(t(fn.pvals.all[norms.to.include,]))\n",
    "xl <- c(0,max(x)+1)\n",
    "yl <- c(0,0.14)\n",
    "yt <- seq(from = 0, to = 0.14, by = 0.02)\n",
    "\n",
    "curr.col <- rep(col.geneset[colnames(fn.pvals.all)], length(norms.to.include))\n",
    "curr.pch <- rep(c(15:18), length(norms.to.include))\n",
    "\n",
    "plot(x,y, pch = curr.pch, cex = 4, col = scales::alpha(curr.col, 0.7), xlim = xl, ylim = yl, \n",
    "     bg = scales::alpha(col.geneset['random'], 0.7),\n",
    "    xaxt = \"n\", yaxt = \"n\", frame.plot=FALSE, xaxs = 'i', yaxs = 'i',\n",
    "    ylab = '', xlab = '')\n",
    "axis(1, at = c(0,xtcks), cex.axis=2, labels = FALSE)\n",
    "axis(2, at = yt, cex.axis=3, las = 2)\n",
    "text(x = xtcks[1:length(norms.to.include)]+0.15, y = min(yl)-0.005, \n",
    "     labels = norms.names, xpd = NA, srt = 45, cex = 2, pos = 2)\n",
    "title(xlab='Normalization', line=14, cex.lab=fs)\n",
    "title(ylab='False negative rate', line=6, cex.lab=fs)\n",
    "dev.off()\n",
    "\n",
    "pdf(paste0(save.dir, 'pval_FPFN/pval_false_negative_rates_no_random.pdf'),  \n",
    "    width = 7, height = 8)\n",
    "par(mfrow = c(1,1), mar = c(17.1, 10, 3.1, 2.1))\n",
    "\n",
    "gs.to.include <- names(genesets)[1:(length(genesets)-1)]\n",
    "\n",
    "x = rep(seq(length(norms)), each = length(genesets)-1) # no sctransform sf or no norm sfs\n",
    "y = as.vector(t(fn.pvals.all[norms.to.include,1:3]))\n",
    "xl <- c(0,max(x)+1)\n",
    "# yl <- c(0,0.05)\n",
    "# yt <- seq(from = 0, to = 0.05, by = 0.01)\n",
    "\n",
    "curr.col <- rep(col.geneset[gs.to.include], length(norms.to.include)-1)\n",
    "curr.pch <- rep(c(15:17), length(norms.to.include))\n",
    "\n",
    "plot(x,y, pch = curr.pch, cex = 4, col = scales::alpha(curr.col, 0.7), xlim = xl, ylim = yl,\n",
    "    xaxt = \"n\", yaxt = \"n\", frame.plot=FALSE, xaxs = 'i', yaxs = 'i',\n",
    "    ylab = '', xlab = '')\n",
    "axis(1, at = c(0,xtcks), cex.axis=2, labels = FALSE)\n",
    "axis(2, at = yt, cex.axis=3, las = 2)\n",
    "text(x = xtcks[1:length(norms.to.include)]+0.15, y = min(yl)-0.005, \n",
    "     labels = norms.names, xpd = NA, srt = 45, cex = 2, pos = 2)\n",
    "title(xlab='Normalization', line=14, cex.lab=fs)\n",
    "title(ylab='False negative rate', line=6, cex.lab=fs)\n",
    "dev.off()"
   ]
  },
  {
   "cell_type": "code",
   "execution_count": 60,
   "id": "56307e12",
   "metadata": {},
   "outputs": [
    {
     "data": {
      "text/html": [
       "<table class=\"dataframe\">\n",
       "<caption>A data.frame: 5 × 4</caption>\n",
       "<thead>\n",
       "\t<tr><th></th><th scope=col>fiber_tracts</th><th scope=col>ventricles</th><th scope=col>dentate_gyrus</th><th scope=col>random</th></tr>\n",
       "\t<tr><th></th><th scope=col>&lt;dbl&gt;</th><th scope=col>&lt;dbl&gt;</th><th scope=col>&lt;dbl&gt;</th><th scope=col>&lt;dbl&gt;</th></tr>\n",
       "</thead>\n",
       "<tbody>\n",
       "\t<tr><th scope=row>nonorm</th><td>0.01530612</td><td>0.02285714</td><td>0.005076142</td><td>0.000000000</td></tr>\n",
       "\t<tr><th scope=row>libsize</th><td>0.00000000</td><td>0.01162791</td><td>0.010101010</td><td>0.004310345</td></tr>\n",
       "\t<tr><th scope=row>deseq</th><td>0.00000000</td><td>0.01162791</td><td>0.005025126</td><td>0.008620690</td></tr>\n",
       "\t<tr><th scope=row>tmm</th><td>0.00000000</td><td>0.01156069</td><td>0.000000000</td><td>0.004291845</td></tr>\n",
       "\t<tr><th scope=row>sct</th><td>0.00000000</td><td>0.02873563</td><td>0.015075377</td><td>0.008583691</td></tr>\n",
       "</tbody>\n",
       "</table>\n"
      ],
      "text/latex": [
       "A data.frame: 5 × 4\n",
       "\\begin{tabular}{r|llll}\n",
       "  & fiber\\_tracts & ventricles & dentate\\_gyrus & random\\\\\n",
       "  & <dbl> & <dbl> & <dbl> & <dbl>\\\\\n",
       "\\hline\n",
       "\tnonorm & 0.01530612 & 0.02285714 & 0.005076142 & 0.000000000\\\\\n",
       "\tlibsize & 0.00000000 & 0.01162791 & 0.010101010 & 0.004310345\\\\\n",
       "\tdeseq & 0.00000000 & 0.01162791 & 0.005025126 & 0.008620690\\\\\n",
       "\ttmm & 0.00000000 & 0.01156069 & 0.000000000 & 0.004291845\\\\\n",
       "\tsct & 0.00000000 & 0.02873563 & 0.015075377 & 0.008583691\\\\\n",
       "\\end{tabular}\n"
      ],
      "text/markdown": [
       "\n",
       "A data.frame: 5 × 4\n",
       "\n",
       "| <!--/--> | fiber_tracts &lt;dbl&gt; | ventricles &lt;dbl&gt; | dentate_gyrus &lt;dbl&gt; | random &lt;dbl&gt; |\n",
       "|---|---|---|---|---|\n",
       "| nonorm | 0.01530612 | 0.02285714 | 0.005076142 | 0.000000000 |\n",
       "| libsize | 0.00000000 | 0.01162791 | 0.010101010 | 0.004310345 |\n",
       "| deseq | 0.00000000 | 0.01162791 | 0.005025126 | 0.008620690 |\n",
       "| tmm | 0.00000000 | 0.01156069 | 0.000000000 | 0.004291845 |\n",
       "| sct | 0.00000000 | 0.02873563 | 0.015075377 | 0.008583691 |\n",
       "\n"
      ],
      "text/plain": [
       "        fiber_tracts ventricles dentate_gyrus random     \n",
       "nonorm  0.01530612   0.02285714 0.005076142   0.000000000\n",
       "libsize 0.00000000   0.01162791 0.010101010   0.004310345\n",
       "deseq   0.00000000   0.01162791 0.005025126   0.008620690\n",
       "tmm     0.00000000   0.01156069 0.000000000   0.004291845\n",
       "sct     0.00000000   0.02873563 0.015075377   0.008583691"
      ]
     },
     "metadata": {},
     "output_type": "display_data"
    },
    {
     "data": {
      "text/html": [
       "0.028735632183908"
      ],
      "text/latex": [
       "0.028735632183908"
      ],
      "text/markdown": [
       "0.028735632183908"
      ],
      "text/plain": [
       "[1] 0.02873563"
      ]
     },
     "metadata": {},
     "output_type": "display_data"
    }
   ],
   "source": [
    "fp.pvals.all\n",
    "max(fp.pvals.all)"
   ]
  },
  {
   "cell_type": "code",
   "execution_count": 61,
   "id": "1677cf14",
   "metadata": {
    "scrolled": true
   },
   "outputs": [
    {
     "data": {
      "text/html": [
       "<strong>png:</strong> 2"
      ],
      "text/latex": [
       "\\textbf{png:} 2"
      ],
      "text/markdown": [
       "**png:** 2"
      ],
      "text/plain": [
       "png \n",
       "  2 "
      ]
     },
     "metadata": {},
     "output_type": "display_data"
    },
    {
     "data": {
      "text/html": [
       "<strong>png:</strong> 2"
      ],
      "text/latex": [
       "\\textbf{png:} 2"
      ],
      "text/markdown": [
       "**png:** 2"
      ],
      "text/plain": [
       "png \n",
       "  2 "
      ]
     },
     "metadata": {},
     "output_type": "display_data"
    }
   ],
   "source": [
    "options(repr.plot.width=6, repr.plot.height=7)\n",
    "pdf(paste0(save.dir, 'pval_FPFN/pval_false_positive_rates_all_genesets.pdf'),  \n",
    "    width = 7, height = 8)\n",
    "par(mfrow = c(1,1), mar = c(17.1, 10, 3.1, 2.1))\n",
    "\n",
    "xtcks <- c(0:length(norms.to.include)+1)\n",
    "\n",
    "x <- rep(seq(length(norms.to.include)), each = length(genesets)) # no sctransform sf or no norm sfs\n",
    "y <- as.vector(t(fp.pvals.all[norms.to.include,]))\n",
    "xl <- c(0,max(x)+1)\n",
    "yl <- c(0,0.03)\n",
    "yt <- seq(from = 0, to = 0.03, by = 0.01)\n",
    "\n",
    "curr.col <- rep(col.geneset[colnames(fp.pvals.all)], length(norms.to.include))\n",
    "curr.pch <- rep(c(15:18), length(norms.to.include))\n",
    "\n",
    "plot(x,y, pch = curr.pch, cex = 4, col = scales::alpha(curr.col, 0.7), xlim = xl, ylim = yl, \n",
    "     bg = scales::alpha(col.geneset['random'], 0.7),\n",
    "    xaxt = \"n\", yaxt = \"n\", frame.plot=FALSE, xaxs = 'i', yaxs = 'i',\n",
    "    ylab = '', xlab = '')\n",
    "axis(1, at = c(0,xtcks), cex.axis=2, labels = FALSE)\n",
    "axis(2, at = yt, cex.axis=3, las = 2)\n",
    "text(x = xtcks[1:length(norms.to.include)]+0.15, y = min(yl)-0.005, \n",
    "     labels = norms.names, xpd = NA, srt = 45, cex = 2, pos = 2)\n",
    "title(xlab='Normalization', line=14, cex.lab=fs)\n",
    "title(ylab='False positive rate', line=6, cex.lab=fs)\n",
    "dev.off()\n",
    "\n",
    "pdf(paste0(save.dir, 'pval_FPFN/pval_false_positive_rates_no_random.pdf'),  \n",
    "    width = 7, height = 8)\n",
    "par(mfrow = c(1,1), mar = c(17.1, 10, 3.1, 2.1))\n",
    "\n",
    "x = rep(seq(length(norms)), each = length(genesets)-1) # no sctransform sf or no norm sfs\n",
    "y = as.vector(t(fp.pvals.all[norms.to.include,1:3]))\n",
    "xl <- c(0,max(x)+1)\n",
    "# yl <- c(0,0.02)\n",
    "# yt <- seq(from = 0, to = 0.02, by = 0.01)\n",
    "\n",
    "curr.col <- rep(col.geneset[colnames(fp.pvals.all)[1:3]], length(norms.to.include)-1)\n",
    "curr.pch <- rep(c(15:17), length(norms.to.include))\n",
    "\n",
    "plot(x,y, pch = curr.pch, cex = 4, col = scales::alpha(curr.col, 0.7), xlim = xl, ylim = yl,\n",
    "    xaxt = \"n\", yaxt = \"n\", frame.plot=FALSE, xaxs = 'i', yaxs = 'i',\n",
    "    ylab = '', xlab = '')\n",
    "axis(1, at = c(0,xtcks), cex.axis=2, labels = FALSE)\n",
    "axis(2, at = yt, cex.axis=3, las = 2)\n",
    "text(x = xtcks[1:length(norms.to.include)]+0.15, y = min(yl)-0.005, \n",
    "     labels = norms.names, xpd = NA, srt = 45, cex = 2, pos = 2)\n",
    "title(xlab='Normalization', line=14, cex.lab=fs)\n",
    "title(ylab='False positive rate', line=6, cex.lab=fs)\n",
    "dev.off()"
   ]
  },
  {
   "cell_type": "markdown",
   "id": "c12c4960",
   "metadata": {},
   "source": [
    "## COMPARE LOG FCS: SKEWED vs OG"
   ]
  },
  {
   "cell_type": "code",
   "execution_count": 62,
   "id": "62834665",
   "metadata": {},
   "outputs": [],
   "source": [
    "dir.create(paste0(save.dir,'logFC_comparison'))"
   ]
  },
  {
   "cell_type": "code",
   "execution_count": 63,
   "id": "aa4df1ce",
   "metadata": {},
   "outputs": [],
   "source": [
    "options(repr.plot.width=15, repr.plot.height=18)\n",
    "set.seed(0)\n",
    "   \n",
    "\n",
    "for (gs in names(genesets)){\n",
    "    pdf(paste0(save.dir, 'logFC_comparison/', gs, '_skewed_vs_all_genes.pdf'),  \n",
    "        width = 25, height = 5)\n",
    "    par(mfrow = c(1,5), mar = c(10.1, 10.1, 6.1, 2.1))\n",
    "\n",
    "    \n",
    "    for (n in norms.to.include){\n",
    "        curr.skewed.lfcs <- skewed.lfcs[[gs]][[n]]\n",
    "        curr.geneset <- rownames(curr.skewed.lfcs)\n",
    "        curr.og.lfcs <- lfcs.all[[n]][curr.geneset,]\n",
    "        \n",
    "        ##reorder for overplotting \n",
    "        o <- sample(length(as.vector(curr.og.lfcs)))\n",
    "        \n",
    "        #change color to highlight roi for region skewed geneset\n",
    "        curr.cols <- colnames(curr.skewed.lfcs)\n",
    "        curr.cols <- leg.col.region[curr.cols]\n",
    "        curr.cols[names(curr.cols) != gs] <- 'grey'\n",
    "#         print(curr.cols)\n",
    "        \n",
    "        #use all colors for random geneset\n",
    "        if (gs == 'random'){\n",
    "            curr.cols <- colnames(curr.skewed.lfcs)\n",
    "            curr.cols <- leg.col.region[curr.cols]\n",
    "            \n",
    "        }\n",
    "        \n",
    "        \n",
    "        curr.cols <- unlist(lapply(curr.cols, function(x) {rep(x, nrow(curr.skewed.lfcs))}))\n",
    "        \n",
    "        curr.x.lim <- range(curr.og.lfcs, na.rm = T)\n",
    "        curr.y.lim <- range(curr.skewed.lfcs, na.rm = T)\n",
    "        \n",
    "        \n",
    "        plot(curr.og.lfcs[o], curr.skewed.lfcs[o], \n",
    "             pch = 16, cex = 1.5, col = scales::alpha(curr.cols[o], 0.5),\n",
    "             cex.lab = 3, cex.axis = 3, cex.main = 3, xaxt=\"n\", yaxt=\"n\",\n",
    "             xlab = '', ylab = '', bty = 'n', xaxs = 'i', yaxs = 'i',\n",
    "#              xlab = paste(n, 'log10(FC) - all genes'), \n",
    "#              ylab = paste(n, 'log10(FC) - skewed genes'), \n",
    "             main = paste(norms.names[n]))        \n",
    "        \n",
    "        ## region highlight colors\n",
    "#         plot(as.vector(curr.og.lfcs), as.vector(curr.skewed.lfcs), \n",
    "#              pch = 16, cex = 1.5, col = scales::alpha(curr.cols, 0.75),\n",
    "#              cex.lab = fs.small, cex.axis = fs.small, cex.main = fs, xaxt=\"n\", yaxt=\"n\",\n",
    "#              xlab = '', ylab = '', bty = 'n', xaxs = 'i', yaxs = 'i',\n",
    "# #              xlab = paste(n, 'log10(FC) - all genes'), \n",
    "# #              ylab = paste(n, 'log10(FC) - skewed genes'), \n",
    "#              main = paste(norms.names[n]))\n",
    "        abline(a=0,b=1,col=scales::alpha('grey', 0.5))\n",
    "        abline(v=0, col=scales::alpha('red', 0.5))\n",
    "        abline(h=0, col=scales::alpha('red', 0.5))\n",
    "        title(xlab=paste('Full gene panel'), line=8, cex.lab=fs)\n",
    "        title(ylab=paste('Skewed gene panel'), line=5, cex.lab=fs)\n",
    "        axis(side = 1, at = curr.x.lim, line = 0, cex.axis = fs, lty = 1, labels = FALSE)\n",
    "        axis(side = 2, at = curr.y.lim, line = 0, cex.axis = fs, lty = 1, labels = FALSE)\n",
    "        axis(side = 1, line = 0, cex.axis = fs.small, lty = 1, labels = FALSE)\n",
    "        axis(side = 2, line = 0, cex.axis = fs.small, lty = 1, labels = FALSE)\n",
    "        axis(side = 1, line = 2.5, cex.axis = fs.small, lty = 0)\n",
    "        axis(side = 2, line = 0.5, cex.axis = fs.small, lty = 0)\n",
    "        abline(a=0,b=1,col='red')\n",
    "        abline(v=0, col='black')\n",
    "        abline(h=0, col='black')\n",
    "        abline(v=c(-0.25,0.25), col=scales::alpha('grey',0.5))\n",
    "        abline(h=c(-0.25,0.25), col=scales::alpha('grey',0.5))\n",
    "        \n",
    "#         ##highlight examples with ventricle skewed geneset on libsize plot\n",
    "#         if (gs=='ventricles'){\n",
    "#             eg.points.x <- sapply(seq_along(test.genes), function(i) {\n",
    "#                 curr.og.lfcs[test.genes[i], test.regions[i]]})\n",
    "#             eg.points.y <- sapply(seq_along(test.genes), function(i) {\n",
    "#                 curr.skewed.lfcs[test.genes[i], test.regions[i]]})\n",
    "            \n",
    "#             points(eg.points.x, eg.points.y, \n",
    "#                   pch = 16, cex = 3, col = 'black')\n",
    "#             if (n=='deseq'){\n",
    "#                 eg.points.y[1] <- -1*eg.points.y[1]-1\n",
    "#             }\n",
    "# #             text(eg.points.x+1.5, eg.points.y+0.5, labels = test.labels, cex = 3)\n",
    "#         }\n",
    "\n",
    "        \n",
    "    }\n",
    "    dev.off()\n",
    "    \n",
    "}\n",
    "\n"
   ]
  },
  {
   "cell_type": "markdown",
   "id": "9f74b2bf",
   "metadata": {},
   "source": [
    "## LFC Switch Rates"
   ]
  },
  {
   "cell_type": "code",
   "execution_count": 64,
   "id": "9ff56b67",
   "metadata": {},
   "outputs": [],
   "source": [
    "dir.create(paste0(save.dir,'lfc_switch_rates/'))"
   ]
  },
  {
   "cell_type": "code",
   "execution_count": 67,
   "id": "6638f17b",
   "metadata": {},
   "outputs": [],
   "source": [
    "fpfn.lfcs <- lapply(names(skewed.lfcs), function(reg) {\n",
    "    gs <- skewed.lfcs[[reg]]\n",
    "    \n",
    "    curr.gs.fpfn <- lapply(names(gs), function(n) {\n",
    "        curr.skewed.lfcs <- gs[[n]]\n",
    "        curr.full.lfcs <- lfcs.all[[n]]\n",
    "        \n",
    "        curr.genes <- intersect(rownames(curr.skewed.lfcs), rownames(curr.full.lfcs))\n",
    "        \n",
    "        curr.skewed.lfcs <- curr.skewed.lfcs[curr.genes,]\n",
    "        curr.full.lfcs <- curr.full.lfcs[curr.genes,]\n",
    "        \n",
    "        all.fpnfn <- get.lfcs.fp.fn(curr.skewed.lfcs, curr.full.lfcs)\n",
    "        \n",
    "    })\n",
    "    \n",
    "    names(curr.gs.fpfn) <- names(gs)\n",
    "    curr.gs.fpfn\n",
    "    \n",
    "})\n",
    "names(fpfn.lfcs) <- names(skewed.lfcs)\n",
    "\n",
    "fpfn.rate.lfcs.all <- lapply(names(fpfn.lfcs), function(reg) {\n",
    "    gs <- fpfn.lfcs[[reg]]\n",
    "    \n",
    "    curr.gs.fpfn.rates <- sapply(gs, function(n) {\n",
    "        curr.fp <- n[['false.positive']]\n",
    "        curr.tn <- n[['true.negative']]\n",
    "#         curr.fp.rate <- sum(curr.fp)/(length(curr.fp))\n",
    "        curr.fp.rate <- sum(curr.fp)/(sum(curr.fp)+sum(curr.tn))\n",
    "        \n",
    "        curr.fn <- n[['false.negative']]\n",
    "        curr.tp <- n[['true.positive']]\n",
    "#         curr.fn.rate <- sum(curr.fn)/(length(curr.fn))\n",
    "        curr.fn.rate <- sum(curr.fn)/(sum(curr.fn)+sum(curr.tp))\n",
    "        \n",
    "        list(fp = curr.fp.rate, fn = curr.fn.rate)\n",
    "        \n",
    "    })\n",
    "    \n",
    "    curr.gs.fpfn.rates\n",
    "})\n",
    "names(fpfn.rate.lfcs.all) <- names(fpfn.lfcs)\n",
    "\n",
    "fpfn.rate.lfcs.reg.other <- lapply(names(fpfn.lfcs), function(reg) {\n",
    "    gs <- fpfn.lfcs[[reg]]\n",
    "    \n",
    "    curr.gs.fpfn.rates <- sapply(gs, function(n) {\n",
    "        \n",
    "        if (reg != 'random'){\n",
    "            curr.reg.fp <- n[['false.positive']][,reg]\n",
    "            curr.reg.fp.rate <- sum(curr.reg.fp)/length(curr.reg.fp)\n",
    "            \n",
    "            curr.reg.fn <- n[['false.negative']][,reg]\n",
    "            curr.reg.fn.rate <- sum(curr.reg.fn)/length(curr.reg.fn)   \n",
    "            \n",
    "            curr.other.regs <- colnames(n[['false.positive']]) != reg\n",
    "            \n",
    "            curr.other.fp <- n[['false.positive']][,curr.other.regs]\n",
    "            curr.other.fp.rate <- sum(curr.other.fp)/length(curr.other.fp)\n",
    "            \n",
    "            curr.other.fn <- n[['false.negative']][,curr.other.regs]\n",
    "            curr.other.fn.rate <- sum(curr.other.fn)/length(curr.other.fn) \n",
    "            \n",
    "        } else {\n",
    "            curr.reg.fp.rate <- NA\n",
    "            curr.reg.fn.rate <- NA\n",
    "            curr.other.fp.rate <- NA\n",
    "            curr.other.fn.rate <- NA\n",
    "        }\n",
    "        \n",
    "        list(fp.reg = curr.reg.fp.rate, fn.reg = curr.reg.fn.rate,\n",
    "            fp.other = curr.other.fp.rate, fn.other = curr.other.fn.rate)\n",
    "        \n",
    "    })\n",
    "    \n",
    "    curr.gs.fpfn.rates\n",
    "})\n",
    "names(fpfn.rate.lfcs.reg.other) <- names(fpfn.lfcs)\n",
    "\n",
    "fp.lfcs.all <- as.data.frame(sapply(fpfn.rate.lfcs.all, function(x) {\n",
    "    unlist(x['fp',])\n",
    "}))\n",
    "fn.lfcs.all <- as.data.frame(sapply(fpfn.rate.lfcs.all, function(x) {\n",
    "    unlist(x['fn',])\n",
    "}))\n",
    "\n",
    "fp.lfcs.reg <- as.data.frame(sapply(fpfn.rate.lfcs.reg.other, function(x) {\n",
    "    unlist(x['fp.reg',])\n",
    "}))\n",
    "fn.lfcs.reg <- as.data.frame(sapply(fpfn.rate.lfcs.reg.other, function(x) {\n",
    "    unlist(x['fn.reg',])\n",
    "}))\n",
    "\n",
    "fp.lfcs.other <- as.data.frame(sapply(fpfn.rate.lfcs.reg.other, function(x) {\n",
    "    unlist(x['fp.other',])\n",
    "}))\n",
    "fn.lfcs.other <- as.data.frame(sapply(fpfn.rate.lfcs.reg.other, function(x) {\n",
    "    unlist(x['fn.other',])\n",
    "}))"
   ]
  },
  {
   "cell_type": "code",
   "execution_count": 66,
   "id": "87e1dd8d",
   "metadata": {},
   "outputs": [
    {
     "data": {
      "text/html": [
       "<table class=\"dataframe\">\n",
       "<caption>A data.frame: 5 × 4</caption>\n",
       "<thead>\n",
       "\t<tr><th></th><th scope=col>fiber_tracts</th><th scope=col>ventricles</th><th scope=col>dentate_gyrus</th><th scope=col>random</th></tr>\n",
       "\t<tr><th></th><th scope=col>&lt;dbl&gt;</th><th scope=col>&lt;dbl&gt;</th><th scope=col>&lt;dbl&gt;</th><th scope=col>&lt;dbl&gt;</th></tr>\n",
       "</thead>\n",
       "<tbody>\n",
       "\t<tr><th scope=row>nonorm</th><td>0.00000000</td><td>0.02013423</td><td>0.008264463</td><td>0.00000000</td></tr>\n",
       "\t<tr><th scope=row>libsize</th><td>0.57894737</td><td>0.46099291</td><td>0.381679389</td><td>0.16406250</td></tr>\n",
       "\t<tr><th scope=row>deseq</th><td>0.02419355</td><td>0.01351351</td><td>0.008403361</td><td>0.02941176</td></tr>\n",
       "\t<tr><th scope=row>tmm</th><td>0.36641221</td><td>0.24647887</td><td>0.118644068</td><td>0.08333333</td></tr>\n",
       "\t<tr><th scope=row>sct</th><td>0.37984496</td><td>0.23239437</td><td>0.187500000</td><td>0.11278195</td></tr>\n",
       "</tbody>\n",
       "</table>\n"
      ],
      "text/latex": [
       "A data.frame: 5 × 4\n",
       "\\begin{tabular}{r|llll}\n",
       "  & fiber\\_tracts & ventricles & dentate\\_gyrus & random\\\\\n",
       "  & <dbl> & <dbl> & <dbl> & <dbl>\\\\\n",
       "\\hline\n",
       "\tnonorm & 0.00000000 & 0.02013423 & 0.008264463 & 0.00000000\\\\\n",
       "\tlibsize & 0.57894737 & 0.46099291 & 0.381679389 & 0.16406250\\\\\n",
       "\tdeseq & 0.02419355 & 0.01351351 & 0.008403361 & 0.02941176\\\\\n",
       "\ttmm & 0.36641221 & 0.24647887 & 0.118644068 & 0.08333333\\\\\n",
       "\tsct & 0.37984496 & 0.23239437 & 0.187500000 & 0.11278195\\\\\n",
       "\\end{tabular}\n"
      ],
      "text/markdown": [
       "\n",
       "A data.frame: 5 × 4\n",
       "\n",
       "| <!--/--> | fiber_tracts &lt;dbl&gt; | ventricles &lt;dbl&gt; | dentate_gyrus &lt;dbl&gt; | random &lt;dbl&gt; |\n",
       "|---|---|---|---|---|\n",
       "| nonorm | 0.00000000 | 0.02013423 | 0.008264463 | 0.00000000 |\n",
       "| libsize | 0.57894737 | 0.46099291 | 0.381679389 | 0.16406250 |\n",
       "| deseq | 0.02419355 | 0.01351351 | 0.008403361 | 0.02941176 |\n",
       "| tmm | 0.36641221 | 0.24647887 | 0.118644068 | 0.08333333 |\n",
       "| sct | 0.37984496 | 0.23239437 | 0.187500000 | 0.11278195 |\n",
       "\n"
      ],
      "text/plain": [
       "        fiber_tracts ventricles dentate_gyrus random    \n",
       "nonorm  0.00000000   0.02013423 0.008264463   0.00000000\n",
       "libsize 0.57894737   0.46099291 0.381679389   0.16406250\n",
       "deseq   0.02419355   0.01351351 0.008403361   0.02941176\n",
       "tmm     0.36641221   0.24647887 0.118644068   0.08333333\n",
       "sct     0.37984496   0.23239437 0.187500000   0.11278195"
      ]
     },
     "metadata": {},
     "output_type": "display_data"
    },
    {
     "data": {
      "text/html": [
       "0.578947368421053"
      ],
      "text/latex": [
       "0.578947368421053"
      ],
      "text/markdown": [
       "0.578947368421053"
      ],
      "text/plain": [
       "[1] 0.5789474"
      ]
     },
     "metadata": {},
     "output_type": "display_data"
    }
   ],
   "source": [
    "fn.lfcs.all\n",
    "max(fn.lfcs.all)"
   ]
  },
  {
   "cell_type": "code",
   "execution_count": 70,
   "id": "23cf60b8",
   "metadata": {},
   "outputs": [
    {
     "data": {
      "text/html": [
       "<strong>png:</strong> 2"
      ],
      "text/latex": [
       "\\textbf{png:} 2"
      ],
      "text/markdown": [
       "**png:** 2"
      ],
      "text/plain": [
       "png \n",
       "  2 "
      ]
     },
     "metadata": {},
     "output_type": "display_data"
    },
    {
     "data": {
      "text/html": [
       "<strong>png:</strong> 2"
      ],
      "text/latex": [
       "\\textbf{png:} 2"
      ],
      "text/markdown": [
       "**png:** 2"
      ],
      "text/plain": [
       "png \n",
       "  2 "
      ]
     },
     "metadata": {},
     "output_type": "display_data"
    }
   ],
   "source": [
    "options(repr.plot.width=6, repr.plot.height=7)\n",
    "pdf(paste0(save.dir, 'lfc_switch_rates/lfc_switched_negative_rates_all_genesets.pdf'),  \n",
    "    width = 7, height = 8)\n",
    "par(mfrow = c(1,1), mar = c(17.1, 10, 3.1, 2.1))\n",
    "\n",
    "xtcks <- c(0:length(norms.to.include)+1)\n",
    "\n",
    "x <- rep(seq(length(norms.to.include)), each = length(genesets)) # no sctransform sf or no norm sfs\n",
    "y <- as.vector(t(fn.lfcs.all[norms.to.include,]))\n",
    "xl <- c(0,max(x)+1)\n",
    "yl <- c(0,0.6)\n",
    "yt <- seq(from = 0, to = 0.6, by = 0.1)\n",
    "\n",
    "curr.col <- rep(col.geneset[colnames(fn.lfcs.all)], length(norms.to.include))\n",
    "curr.pch <- rep(c(15:18), length(norms.to.include))\n",
    "\n",
    "plot(x,y, pch = curr.pch, cex = 4, col = scales::alpha(curr.col, 0.7), xlim = xl, ylim = yl, \n",
    "     bg = scales::alpha(col.geneset['random'], 0.7),\n",
    "    xaxt = \"n\", yaxt = \"n\", frame.plot=FALSE, xaxs = 'i', yaxs = 'i',\n",
    "    ylab = '', xlab = '')\n",
    "axis(1, at = c(0,xtcks), cex.axis=2, labels = FALSE)\n",
    "axis(2, at = yt, cex.axis=3, las = 2)\n",
    "text(x = xtcks[1:length(norms.to.include)]+0.15, y = min(yl)-0.02, \n",
    "     labels = norms.names, xpd = NA, srt = 45, cex = 2, pos = 2)\n",
    "title(xlab='Normalization', line=14, cex.lab=fs)\n",
    "title(ylab='Swtiched negative rate', line=6, cex.lab=fs)\n",
    "dev.off()\n",
    "\n",
    "pdf(paste0(save.dir, 'lfc_switch_rates/lfc_switched_negative_rates_no_random.pdf'),  \n",
    "    width = 7, height = 8)\n",
    "par(mfrow = c(1,1), mar = c(17.1, 10, 3.1, 2.1))\n",
    "\n",
    "x = rep(seq(length(norms)), each = length(genesets)-1) # no sctransform sf or no norm sfs\n",
    "y = as.vector(t(fn.lfcs.all[norms.to.include,1:3]))\n",
    "xl <- c(0,max(x)+1)\n",
    "# yl <- c(0,0.28)\n",
    "# yt <- seq(from = 0, to = 0.28, by = 0.04)\n",
    "\n",
    "curr.col <- rep(col.geneset[colnames(fn.lfcs.all)[1:3]], length(norms.to.include)-1)\n",
    "curr.pch <- rep(c(15:17), length(norms.to.include))\n",
    "\n",
    "plot(x,y, pch = curr.pch, cex = 4, col = scales::alpha(curr.col, 0.7), xlim = xl, ylim = yl,\n",
    "    xaxt = \"n\", yaxt = \"n\", frame.plot=FALSE, xaxs = 'i', yaxs = 'i',\n",
    "    ylab = '', xlab = '')\n",
    "axis(1, at = c(0,xtcks), cex.axis=2, labels = FALSE)\n",
    "axis(2, at = yt, cex.axis=3, las = 2)\n",
    "text(x = xtcks[1:length(norms.to.include)]+0.15, y = min(yl)-0.02, \n",
    "     labels = norms.names, xpd = NA, srt = 45, cex = 2, pos = 2)\n",
    "title(xlab='Normalization', line=14, cex.lab=fs)\n",
    "title(ylab='Switched negative rate', line=6, cex.lab=fs)\n",
    "dev.off()"
   ]
  },
  {
   "cell_type": "code",
   "execution_count": 71,
   "id": "f9339d39",
   "metadata": {},
   "outputs": [
    {
     "data": {
      "text/html": [
       "<table class=\"dataframe\">\n",
       "<caption>A data.frame: 5 × 4</caption>\n",
       "<thead>\n",
       "\t<tr><th></th><th scope=col>fiber_tracts</th><th scope=col>ventricles</th><th scope=col>dentate_gyrus</th><th scope=col>random</th></tr>\n",
       "\t<tr><th></th><th scope=col>&lt;dbl&gt;</th><th scope=col>&lt;dbl&gt;</th><th scope=col>&lt;dbl&gt;</th><th scope=col>&lt;dbl&gt;</th></tr>\n",
       "</thead>\n",
       "<tbody>\n",
       "\t<tr><th scope=row>nonorm</th><td>0.000000000</td><td>0.00000000</td><td>0.00000000</td><td>0.00000000</td></tr>\n",
       "\t<tr><th scope=row>libsize</th><td>0.473053892</td><td>0.38993711</td><td>0.34319527</td><td>0.13372093</td></tr>\n",
       "\t<tr><th scope=row>deseq</th><td>0.005681818</td><td>0.05263158</td><td>0.01104972</td><td>0.02439024</td></tr>\n",
       "\t<tr><th scope=row>tmm</th><td>0.325443787</td><td>0.27215190</td><td>0.15934066</td><td>0.06547619</td></tr>\n",
       "\t<tr><th scope=row>sct</th><td>0.321637427</td><td>0.25949367</td><td>0.19186047</td><td>0.08383234</td></tr>\n",
       "</tbody>\n",
       "</table>\n"
      ],
      "text/latex": [
       "A data.frame: 5 × 4\n",
       "\\begin{tabular}{r|llll}\n",
       "  & fiber\\_tracts & ventricles & dentate\\_gyrus & random\\\\\n",
       "  & <dbl> & <dbl> & <dbl> & <dbl>\\\\\n",
       "\\hline\n",
       "\tnonorm & 0.000000000 & 0.00000000 & 0.00000000 & 0.00000000\\\\\n",
       "\tlibsize & 0.473053892 & 0.38993711 & 0.34319527 & 0.13372093\\\\\n",
       "\tdeseq & 0.005681818 & 0.05263158 & 0.01104972 & 0.02439024\\\\\n",
       "\ttmm & 0.325443787 & 0.27215190 & 0.15934066 & 0.06547619\\\\\n",
       "\tsct & 0.321637427 & 0.25949367 & 0.19186047 & 0.08383234\\\\\n",
       "\\end{tabular}\n"
      ],
      "text/markdown": [
       "\n",
       "A data.frame: 5 × 4\n",
       "\n",
       "| <!--/--> | fiber_tracts &lt;dbl&gt; | ventricles &lt;dbl&gt; | dentate_gyrus &lt;dbl&gt; | random &lt;dbl&gt; |\n",
       "|---|---|---|---|---|\n",
       "| nonorm | 0.000000000 | 0.00000000 | 0.00000000 | 0.00000000 |\n",
       "| libsize | 0.473053892 | 0.38993711 | 0.34319527 | 0.13372093 |\n",
       "| deseq | 0.005681818 | 0.05263158 | 0.01104972 | 0.02439024 |\n",
       "| tmm | 0.325443787 | 0.27215190 | 0.15934066 | 0.06547619 |\n",
       "| sct | 0.321637427 | 0.25949367 | 0.19186047 | 0.08383234 |\n",
       "\n"
      ],
      "text/plain": [
       "        fiber_tracts ventricles dentate_gyrus random    \n",
       "nonorm  0.000000000  0.00000000 0.00000000    0.00000000\n",
       "libsize 0.473053892  0.38993711 0.34319527    0.13372093\n",
       "deseq   0.005681818  0.05263158 0.01104972    0.02439024\n",
       "tmm     0.325443787  0.27215190 0.15934066    0.06547619\n",
       "sct     0.321637427  0.25949367 0.19186047    0.08383234"
      ]
     },
     "metadata": {},
     "output_type": "display_data"
    },
    {
     "data": {
      "text/html": [
       "0.473053892215569"
      ],
      "text/latex": [
       "0.473053892215569"
      ],
      "text/markdown": [
       "0.473053892215569"
      ],
      "text/plain": [
       "[1] 0.4730539"
      ]
     },
     "metadata": {},
     "output_type": "display_data"
    }
   ],
   "source": [
    "fp.lfcs.all\n",
    "max(fp.lfcs.all)"
   ]
  },
  {
   "cell_type": "code",
   "execution_count": 73,
   "id": "471dc48c",
   "metadata": {
    "scrolled": true
   },
   "outputs": [
    {
     "data": {
      "text/html": [
       "<strong>png:</strong> 2"
      ],
      "text/latex": [
       "\\textbf{png:} 2"
      ],
      "text/markdown": [
       "**png:** 2"
      ],
      "text/plain": [
       "png \n",
       "  2 "
      ]
     },
     "metadata": {},
     "output_type": "display_data"
    },
    {
     "data": {
      "text/html": [
       "<strong>png:</strong> 2"
      ],
      "text/latex": [
       "\\textbf{png:} 2"
      ],
      "text/markdown": [
       "**png:** 2"
      ],
      "text/plain": [
       "png \n",
       "  2 "
      ]
     },
     "metadata": {},
     "output_type": "display_data"
    }
   ],
   "source": [
    "options(repr.plot.width=6, repr.plot.height=7)\n",
    "pdf(paste0(save.dir, 'lfc_switch_rates/lfc_switched_positive_rates_all_genesets.pdf'),  \n",
    "    width = 7, height = 8)\n",
    "par(mfrow = c(1,1), mar = c(17.1, 10, 3.1, 2.1))\n",
    "\n",
    "xtcks <- c(0:length(norms.to.include)+1)\n",
    "\n",
    "x <- rep(seq(length(norms.to.include)), each = length(genesets)) # no sctransform sf or no norm sfs\n",
    "y <- as.vector(t(fp.lfcs.all[norms.to.include,]))\n",
    "xl <- c(0,max(x)+1)\n",
    "yl <- c(0,0.5)\n",
    "yt <- seq(from = 0, to = 0.5, by = 0.1)\n",
    "\n",
    "curr.col <- rep(col.geneset[colnames(fp.lfcs.all)], length(norms.to.include))\n",
    "curr.pch <- rep(c(15:18), length(norms.to.include))\n",
    "\n",
    "plot(x,y, pch = curr.pch, cex = 4, col = scales::alpha(curr.col, 0.7), xlim = xl, ylim = yl, \n",
    "     bg = scales::alpha(col.geneset['random'], 0.7),\n",
    "    xaxt = \"n\", yaxt = \"n\", frame.plot=FALSE, xaxs = 'i', yaxs = 'i',\n",
    "    ylab = '', xlab = '')\n",
    "axis(1, at = c(0,xtcks), cex.axis=2, labels = FALSE)\n",
    "axis(2, at = yt, cex.axis=3, las = 2)\n",
    "text(x = xtcks[1:length(norms.to.include)]+0.15, y = min(yl)-0.02, \n",
    "     labels = norms.names, xpd = NA, srt = 45, cex = 2, pos = 2)\n",
    "title(xlab='Normalization', line=14, cex.lab=fs)\n",
    "title(ylab='Switched positive rate', line=6, cex.lab=fs)\n",
    "dev.off()\n",
    "\n",
    "pdf(paste0(save.dir, 'lfc_switch_rates/lfc_switched_postive_rates_no_random.pdf'),  \n",
    "    width = 7, height = 8)\n",
    "par(mfrow = c(1,1), mar = c(17.1, 10, 3.1, 2.1))\n",
    "\n",
    "x = rep(seq(length(norms)), each = length(genesets)-1) # no sctransform sf or no norm sfs\n",
    "y = as.vector(t(fp.lfcs.all[norms.to.include,1:3]))\n",
    "xl <- c(0,max(x)+1)\n",
    "# yl <- c(0,0.28)\n",
    "# yt <- seq(from = 0, to = 0.28, by = 0.04)\n",
    "\n",
    "curr.col <- rep(col.geneset[colnames(fp.lfcs.all)[1:3]], length(norms.to.include)-1)\n",
    "curr.pch <- rep(c(15:17), length(norms.to.include))\n",
    "\n",
    "plot(x,y, pch = curr.pch, cex = 4, col = scales::alpha(curr.col, 0.7), xlim = xl, ylim = yl,\n",
    "    xaxt = \"n\", yaxt = \"n\", frame.plot=FALSE, xaxs = 'i', yaxs = 'i',\n",
    "    ylab = '', xlab = '')\n",
    "axis(1, at = c(0,xtcks), cex.axis=2, labels = FALSE)\n",
    "axis(2, at = yt, cex.axis=3, las = 2)\n",
    "text(x = xtcks[1:length(norms.to.include)]+0.15, y = min(yl)-0.02, \n",
    "     labels = norms.names, xpd = NA, srt = 45, cex = 2, pos = 2)\n",
    "title(xlab='Normalization', line=14, cex.lab=fs)\n",
    "title(ylab='Switched positive rate', line=6, cex.lab=fs)\n",
    "dev.off()"
   ]
  },
  {
   "cell_type": "code",
   "execution_count": 54,
   "id": "8d07fde3",
   "metadata": {},
   "outputs": [],
   "source": [
    "starmap.norm.data <- list(all.norms = all.norms,\n",
    "                          skewed.norms = skewed.norms,\n",
    "                          meta = meta[colnames(all.norms$nonorm),])"
   ]
  },
  {
   "cell_type": "code",
   "execution_count": 55,
   "id": "5875e66e",
   "metadata": {},
   "outputs": [],
   "source": [
    "# saveRDS(object = starmap.norm.data, file = 'starmap_norm_data.rds')"
   ]
  },
  {
   "cell_type": "code",
   "execution_count": 74,
   "id": "6247779a",
   "metadata": {},
   "outputs": [],
   "source": [
    "starmap.errs <- list(pval.fps = fp.pvals.all,\n",
    "             pval.fns = fn.pvals.all,\n",
    "             lfcs.fps = fp.lfcs.all,\n",
    "             lfcs.fns = fn.lfcs.all)"
   ]
  },
  {
   "cell_type": "code",
   "execution_count": 76,
   "id": "34d5bc30",
   "metadata": {},
   "outputs": [],
   "source": [
    "# saveRDS(starmap.errs, file = 'starmap_errs_updated.RDS')"
   ]
  },
  {
   "cell_type": "code",
   "execution_count": null,
   "id": "898043eb",
   "metadata": {},
   "outputs": [],
   "source": []
  }
 ],
 "metadata": {
  "kernelspec": {
   "display_name": "R",
   "language": "R",
   "name": "ir"
  },
  "language_info": {
   "codemirror_mode": "r",
   "file_extension": ".r",
   "mimetype": "text/x-r-source",
   "name": "R",
   "pygments_lexer": "r",
   "version": "4.2.0"
  }
 },
 "nbformat": 4,
 "nbformat_minor": 5
}
