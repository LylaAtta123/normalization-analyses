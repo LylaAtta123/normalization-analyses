{
 "cells": [
  {
   "cell_type": "markdown",
   "id": "f929d647",
   "metadata": {},
   "source": [
    "## SETUP"
   ]
  },
  {
   "cell_type": "code",
   "execution_count": 1,
   "id": "7b90781e",
   "metadata": {},
   "outputs": [],
   "source": [
    "## docker: docker_slim\n",
    "source('./../../../my_utils/funcs_R/my_rutils.R')\n",
    "source(\"./../helper_funs.r\")\n",
    "suppressMessages(suppressWarnings(library(RColorBrewer)))\n",
    "suppressMessages(suppressWarnings(library(gplots)))\n",
    "suppressMessages(suppressWarnings(library(dplyr)))\n",
    "\n",
    "save.dir <- './figs/figs_feb_28/'\n",
    "\n",
    "# font size for figures\n",
    "fs <-  4 \n",
    "fs.small <- 3"
   ]
  },
  {
   "cell_type": "markdown",
   "id": "1539a03b",
   "metadata": {},
   "source": [
    "## GET DATA"
   ]
  },
  {
   "cell_type": "code",
   "execution_count": 2,
   "id": "a216ea54",
   "metadata": {},
   "outputs": [],
   "source": [
    "merfish.errors <- readRDS('./merfish_mousebrain/merfish_errs_updated.RDS')\n",
    "starmap.errors <- readRDS('./STARmap/starmap_errs_updated.RDS')\n",
    "seqfish.errors <- readRDS('./seqFISH_kidney/seqfish_errs_updated.RDS')\n",
    "cosmx.errors <- readRDS('./CosMx_liver/cosmx_errs_updated.RDS')\n",
    "xenium.errors <- readRDS('./xenium/xenium_errs_updated.RDS')\n",
    "all.errs <- list(merfish = merfish.errors,\n",
    "                 starmap = starmap.errors,\n",
    "                 seqfish = seqfish.errors,\n",
    "                 cosmx = cosmx.errors,\n",
    "                 xenium = xenium.errors)\n",
    "datasets <- names(all.errs)"
   ]
  },
  {
   "cell_type": "code",
   "execution_count": 3,
   "id": "362e9663",
   "metadata": {},
   "outputs": [
    {
     "data": {
      "text/html": [
       "<style>\n",
       ".list-inline {list-style: none; margin:0; padding: 0}\n",
       ".list-inline>li {display: inline-block}\n",
       ".list-inline>li:not(:last-child)::after {content: \"\\00b7\"; padding: 0 .5ex}\n",
       "</style>\n",
       "<ol class=list-inline><li>'merfish'</li><li>'starmap'</li><li>'seqfish'</li><li>'cosmx'</li><li>'xenium'</li></ol>\n"
      ],
      "text/latex": [
       "\\begin{enumerate*}\n",
       "\\item 'merfish'\n",
       "\\item 'starmap'\n",
       "\\item 'seqfish'\n",
       "\\item 'cosmx'\n",
       "\\item 'xenium'\n",
       "\\end{enumerate*}\n"
      ],
      "text/markdown": [
       "1. 'merfish'\n",
       "2. 'starmap'\n",
       "3. 'seqfish'\n",
       "4. 'cosmx'\n",
       "5. 'xenium'\n",
       "\n",
       "\n"
      ],
      "text/plain": [
       "[1] \"merfish\" \"starmap\" \"seqfish\" \"cosmx\"   \"xenium\" "
      ]
     },
     "metadata": {},
     "output_type": "display_data"
    },
    {
     "data": {
      "text/html": [
       "<style>\n",
       ".list-inline {list-style: none; margin:0; padding: 0}\n",
       ".list-inline>li {display: inline-block}\n",
       ".list-inline>li:not(:last-child)::after {content: \"\\00b7\"; padding: 0 .5ex}\n",
       "</style>\n",
       "<ol class=list-inline><li>'pval.fps'</li><li>'pval.fns'</li><li>'lfcs.fps'</li><li>'lfcs.fns'</li><li>'svg.fps'</li><li>'svg.fns'</li></ol>\n"
      ],
      "text/latex": [
       "\\begin{enumerate*}\n",
       "\\item 'pval.fps'\n",
       "\\item 'pval.fns'\n",
       "\\item 'lfcs.fps'\n",
       "\\item 'lfcs.fns'\n",
       "\\item 'svg.fps'\n",
       "\\item 'svg.fns'\n",
       "\\end{enumerate*}\n"
      ],
      "text/markdown": [
       "1. 'pval.fps'\n",
       "2. 'pval.fns'\n",
       "3. 'lfcs.fps'\n",
       "4. 'lfcs.fns'\n",
       "5. 'svg.fps'\n",
       "6. 'svg.fns'\n",
       "\n",
       "\n"
      ],
      "text/plain": [
       "[1] \"pval.fps\" \"pval.fns\" \"lfcs.fps\" \"lfcs.fns\" \"svg.fps\"  \"svg.fns\" "
      ]
     },
     "metadata": {},
     "output_type": "display_data"
    },
    {
     "data": {
      "text/html": [
       "<style>\n",
       ".list-inline {list-style: none; margin:0; padding: 0}\n",
       ".list-inline>li {display: inline-block}\n",
       ".list-inline>li:not(:last-child)::after {content: \"\\00b7\"; padding: 0 .5ex}\n",
       "</style>\n",
       "<ol class=list-inline><li>'fiber_tracts'</li><li>'ventricles'</li><li>'habenula'</li><li>'dentate_gyrus'</li><li>'random'</li></ol>\n"
      ],
      "text/latex": [
       "\\begin{enumerate*}\n",
       "\\item 'fiber\\_tracts'\n",
       "\\item 'ventricles'\n",
       "\\item 'habenula'\n",
       "\\item 'dentate\\_gyrus'\n",
       "\\item 'random'\n",
       "\\end{enumerate*}\n"
      ],
      "text/markdown": [
       "1. 'fiber_tracts'\n",
       "2. 'ventricles'\n",
       "3. 'habenula'\n",
       "4. 'dentate_gyrus'\n",
       "5. 'random'\n",
       "\n",
       "\n"
      ],
      "text/plain": [
       "[1] \"fiber_tracts\"  \"ventricles\"    \"habenula\"      \"dentate_gyrus\"\n",
       "[5] \"random\"       "
      ]
     },
     "metadata": {},
     "output_type": "display_data"
    },
    {
     "data": {
      "text/html": [
       "<table class=\"dataframe\">\n",
       "<caption>A data.frame: 6 × 5</caption>\n",
       "<thead>\n",
       "\t<tr><th></th><th scope=col>fiber_tracts</th><th scope=col>ventricles</th><th scope=col>habenula</th><th scope=col>dentate_gyrus</th><th scope=col>random</th></tr>\n",
       "\t<tr><th></th><th scope=col>&lt;dbl&gt;</th><th scope=col>&lt;dbl&gt;</th><th scope=col>&lt;dbl&gt;</th><th scope=col>&lt;dbl&gt;</th><th scope=col>&lt;dbl&gt;</th></tr>\n",
       "</thead>\n",
       "<tbody>\n",
       "\t<tr><th scope=row>nonorm</th><td>0.00000000</td><td>0.008368201</td><td>0.016260163</td><td>0.017316017</td><td>0.003448276</td></tr>\n",
       "\t<tr><th scope=row>libsize</th><td>0.04270463</td><td>0.033333333</td><td>0.028112450</td><td>0.042735043</td><td>0.010273973</td></tr>\n",
       "\t<tr><th scope=row>deseq</th><td>0.02846975</td><td>0.025000000</td><td>0.020325203</td><td>0.034482759</td><td>0.003436426</td></tr>\n",
       "\t<tr><th scope=row>tmm</th><td>0.03571429</td><td>0.032921811</td><td>0.008097166</td><td>0.038297872</td><td>0.017006803</td></tr>\n",
       "\t<tr><th scope=row>volume</th><td>0.00000000</td><td>0.016949153</td><td>0.016393443</td><td>0.004464286</td><td>0.000000000</td></tr>\n",
       "\t<tr><th scope=row>sct</th><td>0.06785714</td><td>0.057377049</td><td>0.024096386</td><td>0.059071730</td><td>0.013651877</td></tr>\n",
       "</tbody>\n",
       "</table>\n"
      ],
      "text/latex": [
       "A data.frame: 6 × 5\n",
       "\\begin{tabular}{r|lllll}\n",
       "  & fiber\\_tracts & ventricles & habenula & dentate\\_gyrus & random\\\\\n",
       "  & <dbl> & <dbl> & <dbl> & <dbl> & <dbl>\\\\\n",
       "\\hline\n",
       "\tnonorm & 0.00000000 & 0.008368201 & 0.016260163 & 0.017316017 & 0.003448276\\\\\n",
       "\tlibsize & 0.04270463 & 0.033333333 & 0.028112450 & 0.042735043 & 0.010273973\\\\\n",
       "\tdeseq & 0.02846975 & 0.025000000 & 0.020325203 & 0.034482759 & 0.003436426\\\\\n",
       "\ttmm & 0.03571429 & 0.032921811 & 0.008097166 & 0.038297872 & 0.017006803\\\\\n",
       "\tvolume & 0.00000000 & 0.016949153 & 0.016393443 & 0.004464286 & 0.000000000\\\\\n",
       "\tsct & 0.06785714 & 0.057377049 & 0.024096386 & 0.059071730 & 0.013651877\\\\\n",
       "\\end{tabular}\n"
      ],
      "text/markdown": [
       "\n",
       "A data.frame: 6 × 5\n",
       "\n",
       "| <!--/--> | fiber_tracts &lt;dbl&gt; | ventricles &lt;dbl&gt; | habenula &lt;dbl&gt; | dentate_gyrus &lt;dbl&gt; | random &lt;dbl&gt; |\n",
       "|---|---|---|---|---|---|\n",
       "| nonorm | 0.00000000 | 0.008368201 | 0.016260163 | 0.017316017 | 0.003448276 |\n",
       "| libsize | 0.04270463 | 0.033333333 | 0.028112450 | 0.042735043 | 0.010273973 |\n",
       "| deseq | 0.02846975 | 0.025000000 | 0.020325203 | 0.034482759 | 0.003436426 |\n",
       "| tmm | 0.03571429 | 0.032921811 | 0.008097166 | 0.038297872 | 0.017006803 |\n",
       "| volume | 0.00000000 | 0.016949153 | 0.016393443 | 0.004464286 | 0.000000000 |\n",
       "| sct | 0.06785714 | 0.057377049 | 0.024096386 | 0.059071730 | 0.013651877 |\n",
       "\n"
      ],
      "text/plain": [
       "        fiber_tracts ventricles  habenula    dentate_gyrus random     \n",
       "nonorm  0.00000000   0.008368201 0.016260163 0.017316017   0.003448276\n",
       "libsize 0.04270463   0.033333333 0.028112450 0.042735043   0.010273973\n",
       "deseq   0.02846975   0.025000000 0.020325203 0.034482759   0.003436426\n",
       "tmm     0.03571429   0.032921811 0.008097166 0.038297872   0.017006803\n",
       "volume  0.00000000   0.016949153 0.016393443 0.004464286   0.000000000\n",
       "sct     0.06785714   0.057377049 0.024096386 0.059071730   0.013651877"
      ]
     },
     "metadata": {},
     "output_type": "display_data"
    }
   ],
   "source": [
    "datasets\n",
    "names(all.errs$merfish)\n",
    "names(all.errs$merfish$pval.fps)\n",
    "(all.errs$merfish$pval.fps)"
   ]
  },
  {
   "cell_type": "code",
   "execution_count": 4,
   "id": "1636b646",
   "metadata": {},
   "outputs": [
    {
     "data": {
      "text/html": [
       "19"
      ],
      "text/latex": [
       "19"
      ],
      "text/markdown": [
       "19"
      ],
      "text/plain": [
       "[1] 19"
      ]
     },
     "metadata": {},
     "output_type": "display_data"
    },
    {
     "data": {
      "text/html": [
       "<style>\n",
       ".dl-inline {width: auto; margin:0; padding: 0}\n",
       ".dl-inline>dt, .dl-inline>dd {float: none; width: auto; display: inline-block}\n",
       ".dl-inline>dt::after {content: \":\\0020\"; padding-right: .5ex}\n",
       ".dl-inline>dt:not(:first-of-type) {padding-left: .5ex}\n",
       "</style><dl class=dl-inline><dt>merfish1</dt><dd>'merfish_fiber_tracts'</dd><dt>merfish2</dt><dd>'merfish_ventricles'</dd><dt>merfish3</dt><dd>'merfish_habenula'</dd><dt>merfish4</dt><dd>'merfish_dentate_gyrus'</dd><dt>merfish5</dt><dd>'merfish_random'</dd><dt>starmap1</dt><dd>'starmap_fiber_tracts'</dd><dt>starmap2</dt><dd>'starmap_ventricles'</dd><dt>starmap3</dt><dd>'starmap_dentate_gyrus'</dd><dt>starmap4</dt><dd>'starmap_random'</dd><dt>seqfish1</dt><dd>'seqfish_cortex'</dd><dt>seqfish2</dt><dd>'seqfish_medulla'</dd><dt>seqfish3</dt><dd>'seqfish_pelvis'</dd><dt>seqfish4</dt><dd>'seqfish_random'</dd><dt>cosmx1</dt><dd>'cosmx_Zone 3'</dd><dt>cosmx2</dt><dd>'cosmx_Zone 1'</dd><dt>cosmx3</dt><dd>'cosmx_random'</dd><dt>xenium1</dt><dd>'xenium_invasive'</dd><dt>xenium2</dt><dd>'xenium_dcis'</dd><dt>xenium3</dt><dd>'xenium_random'</dd></dl>\n"
      ],
      "text/latex": [
       "\\begin{description*}\n",
       "\\item[merfish1] 'merfish\\_fiber\\_tracts'\n",
       "\\item[merfish2] 'merfish\\_ventricles'\n",
       "\\item[merfish3] 'merfish\\_habenula'\n",
       "\\item[merfish4] 'merfish\\_dentate\\_gyrus'\n",
       "\\item[merfish5] 'merfish\\_random'\n",
       "\\item[starmap1] 'starmap\\_fiber\\_tracts'\n",
       "\\item[starmap2] 'starmap\\_ventricles'\n",
       "\\item[starmap3] 'starmap\\_dentate\\_gyrus'\n",
       "\\item[starmap4] 'starmap\\_random'\n",
       "\\item[seqfish1] 'seqfish\\_cortex'\n",
       "\\item[seqfish2] 'seqfish\\_medulla'\n",
       "\\item[seqfish3] 'seqfish\\_pelvis'\n",
       "\\item[seqfish4] 'seqfish\\_random'\n",
       "\\item[cosmx1] 'cosmx\\_Zone 3'\n",
       "\\item[cosmx2] 'cosmx\\_Zone 1'\n",
       "\\item[cosmx3] 'cosmx\\_random'\n",
       "\\item[xenium1] 'xenium\\_invasive'\n",
       "\\item[xenium2] 'xenium\\_dcis'\n",
       "\\item[xenium3] 'xenium\\_random'\n",
       "\\end{description*}\n"
      ],
      "text/markdown": [
       "merfish1\n",
       ":   'merfish_fiber_tracts'merfish2\n",
       ":   'merfish_ventricles'merfish3\n",
       ":   'merfish_habenula'merfish4\n",
       ":   'merfish_dentate_gyrus'merfish5\n",
       ":   'merfish_random'starmap1\n",
       ":   'starmap_fiber_tracts'starmap2\n",
       ":   'starmap_ventricles'starmap3\n",
       ":   'starmap_dentate_gyrus'starmap4\n",
       ":   'starmap_random'seqfish1\n",
       ":   'seqfish_cortex'seqfish2\n",
       ":   'seqfish_medulla'seqfish3\n",
       ":   'seqfish_pelvis'seqfish4\n",
       ":   'seqfish_random'cosmx1\n",
       ":   'cosmx_Zone 3'cosmx2\n",
       ":   'cosmx_Zone 1'cosmx3\n",
       ":   'cosmx_random'xenium1\n",
       ":   'xenium_invasive'xenium2\n",
       ":   'xenium_dcis'xenium3\n",
       ":   'xenium_random'\n",
       "\n"
      ],
      "text/plain": [
       "               merfish1                merfish2                merfish3 \n",
       " \"merfish_fiber_tracts\"    \"merfish_ventricles\"      \"merfish_habenula\" \n",
       "               merfish4                merfish5                starmap1 \n",
       "\"merfish_dentate_gyrus\"        \"merfish_random\"  \"starmap_fiber_tracts\" \n",
       "               starmap2                starmap3                starmap4 \n",
       "   \"starmap_ventricles\" \"starmap_dentate_gyrus\"        \"starmap_random\" \n",
       "               seqfish1                seqfish2                seqfish3 \n",
       "       \"seqfish_cortex\"       \"seqfish_medulla\"        \"seqfish_pelvis\" \n",
       "               seqfish4                  cosmx1                  cosmx2 \n",
       "       \"seqfish_random\"          \"cosmx_Zone 3\"          \"cosmx_Zone 1\" \n",
       "                 cosmx3                 xenium1                 xenium2 \n",
       "         \"cosmx_random\"       \"xenium_invasive\"           \"xenium_dcis\" \n",
       "                xenium3 \n",
       "        \"xenium_random\" "
      ]
     },
     "metadata": {},
     "output_type": "display_data"
    },
    {
     "data": {
      "text/html": [
       "19"
      ],
      "text/latex": [
       "19"
      ],
      "text/markdown": [
       "19"
      ],
      "text/plain": [
       "[1] 19"
      ]
     },
     "metadata": {},
     "output_type": "display_data"
    }
   ],
   "source": [
    "n.gs <- sapply(all.errs, function(x) {length(x[[1]])})\n",
    "sum(sapply(all.errs, function(x) {length(x[[1]])}))\n",
    "panel.names <- unlist(sapply(datasets, function(curr.d) {\n",
    "    curr.panels <- names(all.errs[[curr.d]][[1]])\n",
    "    curr.names <- paste0(rep(curr.d, length(curr.panels)), '_', curr.panels)\n",
    "    curr.names\n",
    "}))\n",
    "panel.names\n",
    "length(panel.names)"
   ]
  },
  {
   "cell_type": "code",
   "execution_count": 5,
   "id": "62c4b45a",
   "metadata": {},
   "outputs": [],
   "source": [
    "norms.order <- c('libsize', 'sct', 'deseq', 'tmm', 'volume', 'area', 'nonorm')\n",
    "names(norms.order) <- c('Library Size', 'scTransform', 'DESeq2', 'TMM', \n",
    "                        'Cell Volume', 'Cell Area', 'No Normalization')\n",
    "panels.order <- c('merfish_ventricles','merfish_habenula','merfish_fiber_tracts', 'merfish_dentate_gyrus',\n",
    "                  'starmap_ventricles', 'starmap_fiber_tracts', 'starmap_dentate_gyrus', \n",
    "                  'seqfish_cortex','seqfish_medulla','seqfish_pelvis',\n",
    "                  'cosmx_Zone 1','cosmx_Zone 3', \n",
    "                  'xenium_dcis','xenium_invasive',\n",
    "                  'merfish_random','starmap_random','seqfish_random','cosmx_random','xenium_random')\n",
    "names(panels.order) <- c('Ventricles', 'Habenula', 'Fiber tracts', 'Dentate gyrus',\n",
    "                         'Ventricles', 'Fiber tracts', 'Dentate gyrus', \n",
    "                         'Cortex', 'Medulla', 'Pelvis',\n",
    "                         'Zone 1', 'Zone 3',\n",
    "                         'DCIS', 'Invasive carcinoma', \n",
    "                         'MERFISH Random','STARmapPLUS Random','seqFISH Random','CosMx Random','10X Xenium Random')"
   ]
  },
  {
   "cell_type": "code",
   "execution_count": 6,
   "id": "d81b3762",
   "metadata": {},
   "outputs": [],
   "source": [
    "pval.fns <- lapply(datasets, function(curr.data) {\n",
    "    data.frame(t(all.errs[[curr.data]][['pval.fns']]))\n",
    "})\n",
    "names(pval.fns) <- datasets\n",
    "pval.fns <- bind_rows(pval.fns)\n",
    "rownames(pval.fns) <- panel.names\n",
    "pval.fns <- pval.fns[,norms.order]\n",
    "pval.fns <- pval.fns[panels.order,]\n",
    "colnames(pval.fns) <- names(norms.order)"
   ]
  },
  {
   "cell_type": "code",
   "execution_count": 7,
   "id": "777759de",
   "metadata": {},
   "outputs": [],
   "source": [
    "pval.fps <- lapply(datasets, function(curr.data) {\n",
    "    data.frame(t(all.errs[[curr.data]][['pval.fps']]))\n",
    "})\n",
    "names(pval.fps) <- datasets\n",
    "pval.fps <- bind_rows(pval.fps)\n",
    "rownames(pval.fps) <- panel.names\n",
    "pval.fps <- pval.fps[,norms.order]\n",
    "pval.fps <- pval.fps[panels.order,]\n",
    "colnames(pval.fps) <- names(norms.order)"
   ]
  },
  {
   "cell_type": "code",
   "execution_count": 8,
   "id": "d0db8130",
   "metadata": {},
   "outputs": [],
   "source": [
    "lfc.sns <- lapply(datasets, function(curr.data) {\n",
    "    data.frame(t(all.errs[[curr.data]][['lfcs.fns']]))\n",
    "})\n",
    "names(lfc.sns) <- datasets\n",
    "lfc.sns <- bind_rows(lfc.sns)\n",
    "rownames(lfc.sns) <- panel.names\n",
    "lfc.sns <- lfc.sns[,norms.order]\n",
    "lfc.sns <- lfc.sns[panels.order,]\n",
    "colnames(lfc.sns) <- names(norms.order)"
   ]
  },
  {
   "cell_type": "code",
   "execution_count": 9,
   "id": "ddb97e92",
   "metadata": {},
   "outputs": [],
   "source": [
    "lfc.sps <- lapply(datasets, function(curr.data) {\n",
    "    data.frame(t(all.errs[[curr.data]][['lfcs.fps']]))\n",
    "})\n",
    "names(lfc.sps) <- datasets\n",
    "lfc.sps <- bind_rows(lfc.sps)\n",
    "rownames(lfc.sps) <- panel.names\n",
    "lfc.sps <- lfc.sps[,norms.order]\n",
    "lfc.sps <- lfc.sps[panels.order,]\n",
    "colnames(lfc.sps) <- names(norms.order)"
   ]
  },
  {
   "cell_type": "code",
   "execution_count": 46,
   "id": "7a59ded2",
   "metadata": {},
   "outputs": [],
   "source": [
    "panel.div <- readRDS('panel_divs.RDS')\n",
    "panel.div <- unlist(lapply(panel.div, function(x) {\n",
    "    x[1:(length(x)-1)]\n",
    "}))\n",
    "# length(panel.div)\n",
    "names(panel.div) <- panel.names"
   ]
  },
  {
   "cell_type": "code",
   "execution_count": 17,
   "id": "1f8559d2",
   "metadata": {},
   "outputs": [
    {
     "data": {
      "text/html": [
       "0.188841201716738"
      ],
      "text/latex": [
       "0.188841201716738"
      ],
      "text/markdown": [
       "0.188841201716738"
      ],
      "text/plain": [
       "[1] 0.1888412"
      ]
     },
     "metadata": {},
     "output_type": "display_data"
    }
   ],
   "source": [
    "max(all.errs$merfish$lfcs.fps[,'ventricles'])"
   ]
  },
  {
   "cell_type": "code",
   "execution_count": 18,
   "id": "106b3f1f",
   "metadata": {},
   "outputs": [
    {
     "data": {
      "text/html": [
       "<table class=\"dataframe\">\n",
       "<caption>A data.frame: 6 × 3</caption>\n",
       "<thead>\n",
       "\t<tr><th></th><th scope=col>Zone 3</th><th scope=col>Zone 1</th><th scope=col>random</th></tr>\n",
       "\t<tr><th></th><th scope=col>&lt;dbl&gt;</th><th scope=col>&lt;dbl&gt;</th><th scope=col>&lt;dbl&gt;</th></tr>\n",
       "</thead>\n",
       "<tbody>\n",
       "\t<tr><th scope=row>nonorm</th><td>0.000000000</td><td>0.000000000</td><td>0.00000000</td></tr>\n",
       "\t<tr><th scope=row>libsize</th><td>0.000000000</td><td>0.042857143</td><td>0.01834862</td></tr>\n",
       "\t<tr><th scope=row>deseq</th><td>0.000000000</td><td>0.009302326</td><td>0.00000000</td></tr>\n",
       "\t<tr><th scope=row>tmm</th><td>0.000000000</td><td>0.037735849</td><td>0.02727273</td></tr>\n",
       "\t<tr><th scope=row>area</th><td>0.004784689</td><td>0.000000000</td><td>0.00000000</td></tr>\n",
       "\t<tr><th scope=row>sct</th><td>0.015000000</td><td>0.062200957</td><td>0.01834862</td></tr>\n",
       "</tbody>\n",
       "</table>\n"
      ],
      "text/latex": [
       "A data.frame: 6 × 3\n",
       "\\begin{tabular}{r|lll}\n",
       "  & Zone 3 & Zone 1 & random\\\\\n",
       "  & <dbl> & <dbl> & <dbl>\\\\\n",
       "\\hline\n",
       "\tnonorm & 0.000000000 & 0.000000000 & 0.00000000\\\\\n",
       "\tlibsize & 0.000000000 & 0.042857143 & 0.01834862\\\\\n",
       "\tdeseq & 0.000000000 & 0.009302326 & 0.00000000\\\\\n",
       "\ttmm & 0.000000000 & 0.037735849 & 0.02727273\\\\\n",
       "\tarea & 0.004784689 & 0.000000000 & 0.00000000\\\\\n",
       "\tsct & 0.015000000 & 0.062200957 & 0.01834862\\\\\n",
       "\\end{tabular}\n"
      ],
      "text/markdown": [
       "\n",
       "A data.frame: 6 × 3\n",
       "\n",
       "| <!--/--> | Zone 3 &lt;dbl&gt; | Zone 1 &lt;dbl&gt; | random &lt;dbl&gt; |\n",
       "|---|---|---|---|\n",
       "| nonorm | 0.000000000 | 0.000000000 | 0.00000000 |\n",
       "| libsize | 0.000000000 | 0.042857143 | 0.01834862 |\n",
       "| deseq | 0.000000000 | 0.009302326 | 0.00000000 |\n",
       "| tmm | 0.000000000 | 0.037735849 | 0.02727273 |\n",
       "| area | 0.004784689 | 0.000000000 | 0.00000000 |\n",
       "| sct | 0.015000000 | 0.062200957 | 0.01834862 |\n",
       "\n"
      ],
      "text/plain": [
       "        Zone 3      Zone 1      random    \n",
       "nonorm  0.000000000 0.000000000 0.00000000\n",
       "libsize 0.000000000 0.042857143 0.01834862\n",
       "deseq   0.000000000 0.009302326 0.00000000\n",
       "tmm     0.000000000 0.037735849 0.02727273\n",
       "area    0.004784689 0.000000000 0.00000000\n",
       "sct     0.015000000 0.062200957 0.01834862"
      ]
     },
     "metadata": {},
     "output_type": "display_data"
    }
   ],
   "source": [
    "all.errs$cosmx$pval.fps"
   ]
  },
  {
   "cell_type": "markdown",
   "id": "e4bd0003",
   "metadata": {},
   "source": [
    "## DIV VS ERR RATE"
   ]
  },
  {
   "cell_type": "code",
   "execution_count": 47,
   "id": "8ceff7fc",
   "metadata": {},
   "outputs": [
    {
     "data": {
      "text/html": [
       "<table class=\"dataframe\">\n",
       "<caption>A data.frame: 14 × 7</caption>\n",
       "<thead>\n",
       "\t<tr><th></th><th scope=col>Library Size</th><th scope=col>scTransform</th><th scope=col>DESeq2</th><th scope=col>TMM</th><th scope=col>Cell Volume</th><th scope=col>Cell Area</th><th scope=col>No Normalization</th></tr>\n",
       "\t<tr><th></th><th scope=col>&lt;dbl&gt;</th><th scope=col>&lt;dbl&gt;</th><th scope=col>&lt;dbl&gt;</th><th scope=col>&lt;dbl&gt;</th><th scope=col>&lt;dbl&gt;</th><th scope=col>&lt;dbl&gt;</th><th scope=col>&lt;dbl&gt;</th></tr>\n",
       "</thead>\n",
       "<tbody>\n",
       "\t<tr><th scope=row>starmap_fiber_tracts</th><td>0.12380952</td><td>0.10476190</td><td>0.03703704</td><td>0.04854369</td><td>NA</td><td>        NA</td><td>0</td></tr>\n",
       "\t<tr><th scope=row>starmap_dentate_gyrus</th><td>0.04901961</td><td>0.04950495</td><td>0.00990099</td><td>0.04807692</td><td>NA</td><td>        NA</td><td>0</td></tr>\n",
       "\t<tr><th scope=row>seqfish_cortex</th><td>0.07000000</td><td>0.11224490</td><td>0.03921569</td><td>0.07843137</td><td>NA</td><td>0.00000000</td><td>0</td></tr>\n",
       "\t<tr><th scope=row>seqfish_medulla</th><td>0.15533981</td><td>0.15151515</td><td>0.03883495</td><td>0.17307692</td><td>NA</td><td>0.00000000</td><td>0</td></tr>\n",
       "\t<tr><th scope=row>seqfish_pelvis</th><td>0.23750000</td><td>0.27631579</td><td>0.08139535</td><td>0.14606742</td><td>NA</td><td>0.01136364</td><td>0</td></tr>\n",
       "\t<tr><th scope=row>cosmx_Zone 1</th><td>0.16842105</td><td>0.17801047</td><td>0.07567568</td><td>0.14893617</td><td>NA</td><td>0.00000000</td><td>0</td></tr>\n",
       "\t<tr><th scope=row>cosmx_Zone 3</th><td>0.04000000</td><td>0.04500000</td><td>0.00000000</td><td>0.00500000</td><td>NA</td><td>0.00000000</td><td>0</td></tr>\n",
       "\t<tr><th scope=row>xenium_dcis</th><td>0.11688312</td><td>0.17721519</td><td>0.07594937</td><td>0.05063291</td><td>NA</td><td>0.00000000</td><td>0</td></tr>\n",
       "\t<tr><th scope=row>xenium_invasive</th><td>0.15189873</td><td>0.18987342</td><td>0.02531646</td><td>0.03750000</td><td>NA</td><td>0.00000000</td><td>0</td></tr>\n",
       "\t<tr><th scope=row>merfish_random</th><td>0.01851852</td><td>0.01869159</td><td>0.00000000</td><td>0.06603774</td><td> 0</td><td>        NA</td><td>0</td></tr>\n",
       "\t<tr><th scope=row>starmap_random</th><td>0.01470588</td><td>0.01492537</td><td>0.02941176</td><td>0.01492537</td><td>NA</td><td>        NA</td><td>0</td></tr>\n",
       "\t<tr><th scope=row>seqfish_random</th><td>0.06666667</td><td>0.03448276</td><td>0.02127660</td><td>0.09677419</td><td>NA</td><td>0.01063830</td><td>0</td></tr>\n",
       "\t<tr><th scope=row>cosmx_random</th><td>0.02747253</td><td>0.02747253</td><td>0.00000000</td><td>0.01666667</td><td>NA</td><td>0.00000000</td><td>0</td></tr>\n",
       "\t<tr><th scope=row>xenium_random</th><td>0.00000000</td><td>0.00000000</td><td>0.00000000</td><td>0.00000000</td><td>NA</td><td>0.00000000</td><td>0</td></tr>\n",
       "</tbody>\n",
       "</table>\n"
      ],
      "text/latex": [
       "A data.frame: 14 × 7\n",
       "\\begin{tabular}{r|lllllll}\n",
       "  & Library Size & scTransform & DESeq2 & TMM & Cell Volume & Cell Area & No Normalization\\\\\n",
       "  & <dbl> & <dbl> & <dbl> & <dbl> & <dbl> & <dbl> & <dbl>\\\\\n",
       "\\hline\n",
       "\tstarmap\\_fiber\\_tracts & 0.12380952 & 0.10476190 & 0.03703704 & 0.04854369 & NA &         NA & 0\\\\\n",
       "\tstarmap\\_dentate\\_gyrus & 0.04901961 & 0.04950495 & 0.00990099 & 0.04807692 & NA &         NA & 0\\\\\n",
       "\tseqfish\\_cortex & 0.07000000 & 0.11224490 & 0.03921569 & 0.07843137 & NA & 0.00000000 & 0\\\\\n",
       "\tseqfish\\_medulla & 0.15533981 & 0.15151515 & 0.03883495 & 0.17307692 & NA & 0.00000000 & 0\\\\\n",
       "\tseqfish\\_pelvis & 0.23750000 & 0.27631579 & 0.08139535 & 0.14606742 & NA & 0.01136364 & 0\\\\\n",
       "\tcosmx\\_Zone 1 & 0.16842105 & 0.17801047 & 0.07567568 & 0.14893617 & NA & 0.00000000 & 0\\\\\n",
       "\tcosmx\\_Zone 3 & 0.04000000 & 0.04500000 & 0.00000000 & 0.00500000 & NA & 0.00000000 & 0\\\\\n",
       "\txenium\\_dcis & 0.11688312 & 0.17721519 & 0.07594937 & 0.05063291 & NA & 0.00000000 & 0\\\\\n",
       "\txenium\\_invasive & 0.15189873 & 0.18987342 & 0.02531646 & 0.03750000 & NA & 0.00000000 & 0\\\\\n",
       "\tmerfish\\_random & 0.01851852 & 0.01869159 & 0.00000000 & 0.06603774 &  0 &         NA & 0\\\\\n",
       "\tstarmap\\_random & 0.01470588 & 0.01492537 & 0.02941176 & 0.01492537 & NA &         NA & 0\\\\\n",
       "\tseqfish\\_random & 0.06666667 & 0.03448276 & 0.02127660 & 0.09677419 & NA & 0.01063830 & 0\\\\\n",
       "\tcosmx\\_random & 0.02747253 & 0.02747253 & 0.00000000 & 0.01666667 & NA & 0.00000000 & 0\\\\\n",
       "\txenium\\_random & 0.00000000 & 0.00000000 & 0.00000000 & 0.00000000 & NA & 0.00000000 & 0\\\\\n",
       "\\end{tabular}\n"
      ],
      "text/markdown": [
       "\n",
       "A data.frame: 14 × 7\n",
       "\n",
       "| <!--/--> | Library Size &lt;dbl&gt; | scTransform &lt;dbl&gt; | DESeq2 &lt;dbl&gt; | TMM &lt;dbl&gt; | Cell Volume &lt;dbl&gt; | Cell Area &lt;dbl&gt; | No Normalization &lt;dbl&gt; |\n",
       "|---|---|---|---|---|---|---|---|\n",
       "| starmap_fiber_tracts | 0.12380952 | 0.10476190 | 0.03703704 | 0.04854369 | NA |         NA | 0 |\n",
       "| starmap_dentate_gyrus | 0.04901961 | 0.04950495 | 0.00990099 | 0.04807692 | NA |         NA | 0 |\n",
       "| seqfish_cortex | 0.07000000 | 0.11224490 | 0.03921569 | 0.07843137 | NA | 0.00000000 | 0 |\n",
       "| seqfish_medulla | 0.15533981 | 0.15151515 | 0.03883495 | 0.17307692 | NA | 0.00000000 | 0 |\n",
       "| seqfish_pelvis | 0.23750000 | 0.27631579 | 0.08139535 | 0.14606742 | NA | 0.01136364 | 0 |\n",
       "| cosmx_Zone 1 | 0.16842105 | 0.17801047 | 0.07567568 | 0.14893617 | NA | 0.00000000 | 0 |\n",
       "| cosmx_Zone 3 | 0.04000000 | 0.04500000 | 0.00000000 | 0.00500000 | NA | 0.00000000 | 0 |\n",
       "| xenium_dcis | 0.11688312 | 0.17721519 | 0.07594937 | 0.05063291 | NA | 0.00000000 | 0 |\n",
       "| xenium_invasive | 0.15189873 | 0.18987342 | 0.02531646 | 0.03750000 | NA | 0.00000000 | 0 |\n",
       "| merfish_random | 0.01851852 | 0.01869159 | 0.00000000 | 0.06603774 |  0 |         NA | 0 |\n",
       "| starmap_random | 0.01470588 | 0.01492537 | 0.02941176 | 0.01492537 | NA |         NA | 0 |\n",
       "| seqfish_random | 0.06666667 | 0.03448276 | 0.02127660 | 0.09677419 | NA | 0.01063830 | 0 |\n",
       "| cosmx_random | 0.02747253 | 0.02747253 | 0.00000000 | 0.01666667 | NA | 0.00000000 | 0 |\n",
       "| xenium_random | 0.00000000 | 0.00000000 | 0.00000000 | 0.00000000 | NA | 0.00000000 | 0 |\n",
       "\n"
      ],
      "text/plain": [
       "                      Library Size scTransform DESeq2     TMM       \n",
       "starmap_fiber_tracts  0.12380952   0.10476190  0.03703704 0.04854369\n",
       "starmap_dentate_gyrus 0.04901961   0.04950495  0.00990099 0.04807692\n",
       "seqfish_cortex        0.07000000   0.11224490  0.03921569 0.07843137\n",
       "seqfish_medulla       0.15533981   0.15151515  0.03883495 0.17307692\n",
       "seqfish_pelvis        0.23750000   0.27631579  0.08139535 0.14606742\n",
       "cosmx_Zone 1          0.16842105   0.17801047  0.07567568 0.14893617\n",
       "cosmx_Zone 3          0.04000000   0.04500000  0.00000000 0.00500000\n",
       "xenium_dcis           0.11688312   0.17721519  0.07594937 0.05063291\n",
       "xenium_invasive       0.15189873   0.18987342  0.02531646 0.03750000\n",
       "merfish_random        0.01851852   0.01869159  0.00000000 0.06603774\n",
       "starmap_random        0.01470588   0.01492537  0.02941176 0.01492537\n",
       "seqfish_random        0.06666667   0.03448276  0.02127660 0.09677419\n",
       "cosmx_random          0.02747253   0.02747253  0.00000000 0.01666667\n",
       "xenium_random         0.00000000   0.00000000  0.00000000 0.00000000\n",
       "                      Cell Volume Cell Area  No Normalization\n",
       "starmap_fiber_tracts  NA                  NA 0               \n",
       "starmap_dentate_gyrus NA                  NA 0               \n",
       "seqfish_cortex        NA          0.00000000 0               \n",
       "seqfish_medulla       NA          0.00000000 0               \n",
       "seqfish_pelvis        NA          0.01136364 0               \n",
       "cosmx_Zone 1          NA          0.00000000 0               \n",
       "cosmx_Zone 3          NA          0.00000000 0               \n",
       "xenium_dcis           NA          0.00000000 0               \n",
       "xenium_invasive       NA          0.00000000 0               \n",
       "merfish_random         0                  NA 0               \n",
       "starmap_random        NA                  NA 0               \n",
       "seqfish_random        NA          0.01063830 0               \n",
       "cosmx_random          NA          0.00000000 0               \n",
       "xenium_random         NA          0.00000000 0               "
      ]
     },
     "metadata": {},
     "output_type": "display_data"
    }
   ],
   "source": [
    "pval.fns[6:19,]"
   ]
  },
  {
   "cell_type": "code",
   "execution_count": 49,
   "id": "94f2c1c7",
   "metadata": {},
   "outputs": [
    {
     "data": {
      "image/png": "[encoded data removed]",
      "text/plain": [
       "Plot with title “fc switched negative”"
      ]
     },
     "metadata": {
      "image/png": {
       "height": 540,
       "width": 540
      }
     },
     "output_type": "display_data"
    }
   ],
   "source": [
    "options(repr.plot.width=9, repr.plot.height=9)\n",
    "par(mfrow = c(2,2))\n",
    "n <- 'scTransform'\n",
    "# n <- 'Library Size'\n",
    "\n",
    "## pval false negatives\n",
    "foo <- pval.fns[,n]\n",
    "plot(panel.div, foo, pch = 16, main = 'pval false negatives')\n",
    "foo <- pval.fps[,n]\n",
    "plot(panel.div, foo, pch = 16, main = 'pval false positives')\n",
    "\n",
    "foo <- lfc.sns[,n]\n",
    "plot(panel.div, foo, pch = 16, main = 'fc switched negative')\n",
    "foo <- lfc.sps[,n]\n",
    "plot(panel.div, foo, pch = 16, main = 'fc switched negative')"
   ]
  },
  {
   "cell_type": "code",
   "execution_count": 50,
   "id": "19fbee57",
   "metadata": {},
   "outputs": [
    {
     "data": {
      "image/png": "[encoded data removed]",
      "text/plain": [
       "Plot with title “FC switch rates”"
      ]
     },
     "metadata": {
      "image/png": {
       "height": 300,
       "width": 540
      }
     },
     "output_type": "display_data"
    }
   ],
   "source": [
    "options(repr.plot.width=9, repr.plot.height=5)\n",
    "par(mfrow = c(1,2))\n",
    "n <- 'Library Size'\n",
    "\n",
    "foon <- pval.fns[,n]\n",
    "foop <- pval.fps[,n]\n",
    "foo <- rowMeans(cbind(foon, foop))\n",
    "\n",
    "plot(panel.div, foo, pch = 16, main = 'DE error rates')\n",
    "\n",
    "foon <- lfc.sns[,n]\n",
    "foop <- lfc.sps[,n]\n",
    "foo <- rowMeans(cbind(foon, foop))\n",
    "\n",
    "plot(panel.div, foo, pch = 16, main = 'FC switch rates')"
   ]
  },
  {
   "cell_type": "code",
   "execution_count": 51,
   "id": "0134b739",
   "metadata": {},
   "outputs": [
    {
     "data": {
      "text/html": [
       "0.587064814992289"
      ],
      "text/latex": [
       "0.587064814992289"
      ],
      "text/markdown": [
       "0.587064814992289"
      ],
      "text/plain": [
       "[1] 0.5870648"
      ]
     },
     "metadata": {},
     "output_type": "display_data"
    },
    {
     "data": {
      "text/html": [
       "0.532949451830575"
      ],
      "text/latex": [
       "0.532949451830575"
      ],
      "text/markdown": [
       "0.532949451830575"
      ],
      "text/plain": [
       "[1] 0.5329495"
      ]
     },
     "metadata": {},
     "output_type": "display_data"
    }
   ],
   "source": [
    "cor(panel.div, rowMeans(cbind(pval.fns[,n], pval.fps[,n])))\n",
    "cor(panel.div, rowMeans(cbind(lfc.sns[,n], lfc.sps[,n])))"
   ]
  },
  {
   "cell_type": "markdown",
   "id": "de31400f",
   "metadata": {},
   "source": [
    "## HEATMAPS"
   ]
  },
  {
   "cell_type": "code",
   "execution_count": 53,
   "id": "54edda9f",
   "metadata": {},
   "outputs": [],
   "source": [
    "dir.create(paste0(save.dir,'err_heatmaps'))"
   ]
  },
  {
   "cell_type": "code",
   "execution_count": 54,
   "id": "a65203e0",
   "metadata": {},
   "outputs": [],
   "source": [
    "htmp.col <- colorRampPalette(brewer.pal(9, \"YlOrRd\"))(100)\n",
    "htmp.col <- colorRampPalette(brewer.pal(9, \"Blues\"))(100)\n",
    "htmp.col <- colorRampPalette(brewer.pal(9, \"Purples\"))(100)\n",
    "gs.cols <- brewer.pal(length(n.gs), 'Dark2')\n",
    "hm.gs.cols <- unlist(sapply(seq_along(gs.cols), function(i) {rep(gs.cols[i],n.gs[i]-1)}))\n",
    "hm.gs.cols <- c(hm.gs.cols, scales::alpha(gs.cols,0.25))"
   ]
  },
  {
   "cell_type": "code",
   "execution_count": 55,
   "id": "48e9068d",
   "metadata": {},
   "outputs": [
    {
     "data": {
      "text/html": [
       "<strong>png:</strong> 2"
      ],
      "text/latex": [
       "\\textbf{png:} 2"
      ],
      "text/markdown": [
       "**png:** 2"
      ],
      "text/plain": [
       "png \n",
       "  2 "
      ]
     },
     "metadata": {},
     "output_type": "display_data"
    }
   ],
   "source": [
    "options(repr.plot.width=9, repr.plot.height=10)\n",
    "# curr.lmat <- rbind(c(0,3),c(1,2),c(0,4))\n",
    "# curr.lmat\n",
    "pdf(paste0(save.dir,'err_heatmaps/pval_fn.pdf'), width = 9, height = 10)\n",
    "htmp.col <- colorRampPalette(brewer.pal(9, \"Purples\"))(100)\n",
    "heatmap.2(t(pval.fns), col = htmp.col, na.color = 'grey', scale = 'none',\n",
    "          Colv = NA, Rowv = NA, trace = 'none',density.info = 'none', dendrogram = 'none',\n",
    "          srtCol = 45,\n",
    "          ColSideColors = hm.gs.cols, labCol = names(panels.order),\n",
    "          key.title = 'DE false negative rate', key.xlab = '',\n",
    "         margins = c(10.8,16.1)) #, \n",
    "#           lmat = curr.lmat, lhei = c(1.5,4,1.5))\n",
    "dev.off()"
   ]
  },
  {
   "cell_type": "code",
   "execution_count": 56,
   "id": "7ec1589f",
   "metadata": {},
   "outputs": [
    {
     "data": {
      "text/html": [
       "<strong>png:</strong> 2"
      ],
      "text/latex": [
       "\\textbf{png:} 2"
      ],
      "text/markdown": [
       "**png:** 2"
      ],
      "text/plain": [
       "png \n",
       "  2 "
      ]
     },
     "metadata": {},
     "output_type": "display_data"
    }
   ],
   "source": [
    "options(repr.plot.width=9, repr.plot.height=10)\n",
    "# curr.lmat <- rbind(c(0,3),c(1,2),c(0,4))\n",
    "# curr.lmat\n",
    "pdf(paste0(save.dir,'err_heatmaps/pval_fp.pdf'), width = 9, height = 10)\n",
    "htmp.col <- colorRampPalette(brewer.pal(9, \"Reds\"))(100)\n",
    "heatmap.2(t(pval.fps), col = htmp.col, na.color = 'grey', scale = 'none',\n",
    "          Colv = NA, Rowv = NA, trace = 'none',density.info = 'none', dendrogram = 'none',\n",
    "          srtCol = 45,\n",
    "          ColSideColors = hm.gs.cols, labCol = names(panels.order),\n",
    "          key.title = 'DE false positive rate', key.xlab = '',\n",
    "         margins = c(10.8,16.1)) #, \n",
    "#           lmat = curr.lmat, lhei = c(1.5,4,1.5))\n",
    "dev.off()"
   ]
  },
  {
   "cell_type": "code",
   "execution_count": 57,
   "id": "eee58f10",
   "metadata": {},
   "outputs": [
    {
     "data": {
      "text/html": [
       "<strong>png:</strong> 2"
      ],
      "text/latex": [
       "\\textbf{png:} 2"
      ],
      "text/markdown": [
       "**png:** 2"
      ],
      "text/plain": [
       "png \n",
       "  2 "
      ]
     },
     "metadata": {},
     "output_type": "display_data"
    }
   ],
   "source": [
    "options(repr.plot.width=9, repr.plot.height=10)\n",
    "# curr.lmat <- rbind(c(0,3),c(1,2),c(0,4))\n",
    "# curr.lmat\n",
    "pdf(paste0(save.dir,'err_heatmaps/lfc_sn.pdf'), width = 9, height = 10)\n",
    "htmp.col <- colorRampPalette(brewer.pal(9, \"Purples\"))(100)\n",
    "heatmap.2(t(lfc.sns), col = htmp.col, na.color = 'grey', scale = 'none',\n",
    "          Colv = NA, Rowv = NA, trace = 'none',density.info = 'none', dendrogram = 'none',\n",
    "          srtCol = 45,\n",
    "          ColSideColors = hm.gs.cols, labCol = names(panels.order),\n",
    "          key.title = 'FC switched negative rate', key.xlab = '',\n",
    "         margins = c(10.8,16.1)) #, \n",
    "#           lmat = curr.lmat, lhei = c(1.5,4,1.5))\n",
    "dev.off()"
   ]
  },
  {
   "cell_type": "code",
   "execution_count": 58,
   "id": "7248dd22",
   "metadata": {},
   "outputs": [
    {
     "data": {
      "text/html": [
       "<strong>png:</strong> 2"
      ],
      "text/latex": [
       "\\textbf{png:} 2"
      ],
      "text/markdown": [
       "**png:** 2"
      ],
      "text/plain": [
       "png \n",
       "  2 "
      ]
     },
     "metadata": {},
     "output_type": "display_data"
    }
   ],
   "source": [
    "options(repr.plot.width=9, repr.plot.height=10)\n",
    "# curr.lmat <- rbind(c(0,3),c(1,2),c(0,4))\n",
    "# curr.lmat\n",
    "pdf(paste0(save.dir,'err_heatmaps/lfc_sp.pdf'), width = 9, height = 10)\n",
    "htmp.col <- colorRampPalette(brewer.pal(9, \"Reds\"))(100)\n",
    "heatmap.2(t(lfc.sps), col = htmp.col, na.color = 'grey', scale = 'none',\n",
    "          Colv = NA, Rowv = NA, trace = 'none',density.info = 'none', dendrogram = 'none',\n",
    "          srtCol = 45,\n",
    "          ColSideColors = hm.gs.cols, labCol = names(panels.order),\n",
    "          key.title = 'FC switched positive rate', key.xlab = '',\n",
    "         margins = c(10.8,16.1)) #, \n",
    "#           lmat = curr.lmat, lhei = c(1.5,4,1.5))\n",
    "dev.off()"
   ]
  },
  {
   "cell_type": "code",
   "execution_count": null,
   "id": "3f5b52ae",
   "metadata": {},
   "outputs": [],
   "source": []
  },
  {
   "cell_type": "code",
   "execution_count": null,
   "id": "63f38920",
   "metadata": {},
   "outputs": [],
   "source": []
  },
  {
   "cell_type": "markdown",
   "id": "802371f8",
   "metadata": {},
   "source": [
    "# SCRATCH"
   ]
  },
  {
   "cell_type": "code",
   "execution_count": 1,
   "id": "74e54280",
   "metadata": {
    "scrolled": false
   },
   "outputs": [
    {
     "ename": "ERROR",
     "evalue": "Error in heatmap.2(as.matrix(pval.fns), na.color = \"grey\", dendrogram = \"none\", : could not find function \"heatmap.2\"\n",
     "output_type": "error",
     "traceback": [
      "Error in heatmap.2(as.matrix(pval.fns), na.color = \"grey\", dendrogram = \"none\", : could not find function \"heatmap.2\"\nTraceback:\n"
     ]
    }
   ],
   "source": [
    "options(repr.plot.width=9, repr.plot.height=10)\n",
    "# pdf(paste0(save.dir,'err_heatmaps/pval_fn.pdf'), width = 9, height = 10)\n",
    "heatmap.2(as.matrix(pval.fns), na.color = 'grey',\n",
    "          dendrogram = 'none',keysize = 1, density.info = 'none',\n",
    "          labRow = names(panels.order), #ColSideColors = hm.gs.cols,\n",
    "          key.title = NA, key.xlab = 'DE false negative rate',\n",
    "        Colv = NA, Rowv = NA, col = htmp.col, scale = \"none\", trace = 'none',\n",
    "       margins = c(10.8,16.1), lmat=rbind( c(0, 3), c(2,1), c(0,4) ), lhei=c(1, 9, 2))\n",
    "#           lmat = rbind(c(2,1),c(2,1)), lwid = c(1,1), lhei = c(1,1))\n",
    "# dev.off()"
   ]
  },
  {
   "cell_type": "code",
   "execution_count": null,
   "id": "d6eabaac",
   "metadata": {},
   "outputs": [],
   "source": []
  },
  {
   "cell_type": "code",
   "execution_count": 38,
   "id": "a53383a9",
   "metadata": {},
   "outputs": [],
   "source": [
    "?heatmap.2"
   ]
  },
  {
   "cell_type": "code",
   "execution_count": null,
   "id": "3a25eac7",
   "metadata": {},
   "outputs": [],
   "source": [
    "## mean exp full panel heatmap\n",
    "options(repr.plot.width=7, repr.plot.height=5)\n",
    "pdf(paste0(save.dir,'heatmaps/heatmap_full.pdf'), width = 7, height = 5)\n",
    "heatmap(hoo.gexp[hm.genes,gs.order], scale = 'row', col = htmp.col, \n",
    "        Colv = NA, Rowv = NA, \n",
    "        ColSideColors = leg.col.region.og[colnames(hoo.gexp[,gs.order])],\n",
    "       labRow = FALSE, labCol = FALSE,\n",
    "        margins = c(3.8,2.1)\n",
    "       )\n",
    "title(ylab=paste('Genes\\nFull gene panel'), line=0.5, cex.lab=1)\n",
    "title(xlab=paste('Cells'), line=4, cex.lab=1)\n",
    "dev.off()"
   ]
  }
 ],
 "metadata": {
  "kernelspec": {
   "display_name": "R",
   "language": "R",
   "name": "ir"
  },
  "language_info": {
   "codemirror_mode": "r",
   "file_extension": ".r",
   "mimetype": "text/x-r-source",
   "name": "R",
   "pygments_lexer": "r",
   "version": "4.2.0"
  }
 },
 "nbformat": 4,
 "nbformat_minor": 5
}
