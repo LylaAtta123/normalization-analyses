{
 "cells": [
  {
   "cell_type": "code",
   "execution_count": 1,
   "id": "68b31c4b",
   "metadata": {},
   "outputs": [
    {
     "name": "stderr",
     "output_type": "stream",
     "text": [
      "Warning message in dir.create(save.dir):\n",
      "“'./../results/merfish' already exists”\n"
     ]
    }
   ],
   "source": [
    "# source('./../../my_utils/funcs_R/my_rutils.R')\n",
    "source('helper_funs.r')\n",
    "save.dir <- './../results/merfish/'\n",
    "dir.create(save.dir)\n",
    "\n",
    "fs <- 4\n",
    "fs.small <- 3\n",
    "\n",
    "# region to which skewed panel is skewed \n",
    "skew.region <- 'ventricles' #'fiber_tracts' 'habenula' 'dentate_gyrus'"
   ]
  },
  {
   "cell_type": "code",
   "execution_count": 4,
   "id": "8e8b0b9a",
   "metadata": {
    "collapsed": true
   },
   "outputs": [
    {
     "ename": "ERROR",
     "evalue": "Error in library(Matrix.utils): there is no package called ‘Matrix.utils’\n",
     "output_type": "error",
     "traceback": [
      "Error in library(Matrix.utils): there is no package called ‘Matrix.utils’\nTraceback:\n",
      "1. suppressMessages(suppressWarnings(library(Matrix.utils)))",
      "2. withCallingHandlers(expr, message = function(c) if (inherits(c, \n .     classes)) tryInvokeRestart(\"muffleMessage\"))",
      "3. suppressWarnings(library(Matrix.utils))",
      "4. withCallingHandlers(expr, warning = function(w) if (inherits(w, \n .     classes)) tryInvokeRestart(\"muffleWarning\"))",
      "5. library(Matrix.utils)"
     ]
    }
   ],
   "source": [
    "suppressMessages(suppressWarnings(library(DESeq2)))\n",
    "suppressMessages(suppressWarnings(library(edgeR)))\n",
    "suppressMessages(suppressWarnings(library(sctransform)))\n",
    "suppressMessages(suppressWarnings(library(RColorBrewer)))\n",
    "suppressMessages(suppressWarnings(library(Matrix.utils)))"
   ]
  },
  {
   "cell_type": "markdown",
   "id": "38710bf0",
   "metadata": {},
   "source": [
    "## DATA"
   ]
  },
  {
   "cell_type": "code",
   "execution_count": 194,
   "id": "8e72071b",
   "metadata": {},
   "outputs": [
    {
     "data": {
      "text/html": [
       "<style>\n",
       ".list-inline {list-style: none; margin:0; padding: 0}\n",
       ".list-inline>li {display: inline-block}\n",
       ".list-inline>li:not(:last-child)::after {content: \"\\00b7\"; padding: 0 .5ex}\n",
       "</style>\n",
       "<ol class=list-inline><li>483</li><li>10755</li></ol>\n"
      ],
      "text/latex": [
       "\\begin{enumerate*}\n",
       "\\item 483\n",
       "\\item 10755\n",
       "\\end{enumerate*}\n"
      ],
      "text/markdown": [
       "1. 483\n",
       "2. 10755\n",
       "\n",
       "\n"
      ],
      "text/plain": [
       "[1]   483 10755"
      ]
     },
     "metadata": {},
     "output_type": "display_data"
    },
    {
     "data": {
      "text/html": [
       "<style>\n",
       ".list-inline {list-style: none; margin:0; padding: 0}\n",
       ".list-inline>li {display: inline-block}\n",
       ".list-inline>li:not(:last-child)::after {content: \"\\00b7\"; padding: 0 .5ex}\n",
       "</style>\n",
       "<ol class=list-inline><li>10755</li><li>24</li></ol>\n"
      ],
      "text/latex": [
       "\\begin{enumerate*}\n",
       "\\item 10755\n",
       "\\item 24\n",
       "\\end{enumerate*}\n"
      ],
      "text/markdown": [
       "1. 10755\n",
       "2. 24\n",
       "\n",
       "\n"
      ],
      "text/plain": [
       "[1] 10755    24"
      ]
     },
     "metadata": {},
     "output_type": "display_data"
    },
    {
     "data": {
      "text/html": [
       "<style>\n",
       ".list-inline {list-style: none; margin:0; padding: 0}\n",
       ".list-inline>li {display: inline-block}\n",
       ".list-inline>li:not(:last-child)::after {content: \"\\00b7\"; padding: 0 .5ex}\n",
       "</style>\n",
       "<ol class=list-inline><li>'Oxgr1'</li><li>'Htr1a'</li><li>'Htr1b'</li><li>'Htr1d'</li><li>'Htr1f'</li><li>'Htr2a'</li></ol>\n"
      ],
      "text/latex": [
       "\\begin{enumerate*}\n",
       "\\item 'Oxgr1'\n",
       "\\item 'Htr1a'\n",
       "\\item 'Htr1b'\n",
       "\\item 'Htr1d'\n",
       "\\item 'Htr1f'\n",
       "\\item 'Htr2a'\n",
       "\\end{enumerate*}\n"
      ],
      "text/markdown": [
       "1. 'Oxgr1'\n",
       "2. 'Htr1a'\n",
       "3. 'Htr1b'\n",
       "4. 'Htr1d'\n",
       "5. 'Htr1f'\n",
       "6. 'Htr2a'\n",
       "\n",
       "\n"
      ],
      "text/plain": [
       "[1] \"Oxgr1\" \"Htr1a\" \"Htr1b\" \"Htr1d\" \"Htr1f\" \"Htr2a\""
      ]
     },
     "metadata": {},
     "output_type": "display_data"
    }
   ],
   "source": [
    "data.dir <- './../data/merfish/'\n",
    "fname <- paste0(data.dir,'merfish.rds')\n",
    "merfish <- readRDS(file = fname)\n",
    "\n",
    "gexp <- merfish$gexp\n",
    "genes <- rownames(gexp)\n",
    "meta <- merfish$meta\n",
    "dim(gexp)\n",
    "dim(meta)\n",
    "head(genes)"
   ]
  },
  {
   "cell_type": "code",
   "execution_count": 195,
   "id": "bf0f7515",
   "metadata": {},
   "outputs": [
    {
     "data": {
      "text/html": [
       "<style>\n",
       ".dl-inline {width: auto; margin:0; padding: 0}\n",
       ".dl-inline>dt, .dl-inline>dd {float: none; width: auto; display: inline-block}\n",
       ".dl-inline>dt::after {content: \":\\0020\"; padding-right: .5ex}\n",
       ".dl-inline>dt:not(:first-of-type) {padding-left: .5ex}\n",
       "</style><dl class=dl-inline><dt>ventricles</dt><dd>'#CC00FF'</dd><dt>habenula</dt><dd>'#00FF66'</dd><dt>dentate_gyrus</dt><dd>'#FF0000'</dd><dt>fiber_tracts</dt><dd>'blue'</dd></dl>\n"
      ],
      "text/latex": [
       "\\begin{description*}\n",
       "\\item[ventricles] '\\#CC00FF'\n",
       "\\item[habenula] '\\#00FF66'\n",
       "\\item[dentate\\textbackslash{}\\_gyrus] '\\#FF0000'\n",
       "\\item[fiber\\textbackslash{}\\_tracts] 'blue'\n",
       "\\end{description*}\n"
      ],
      "text/markdown": [
       "ventricles\n",
       ":   '#CC00FF'habenula\n",
       ":   '#00FF66'dentate_gyrus\n",
       ":   '#FF0000'fiber_tracts\n",
       ":   'blue'\n",
       "\n"
      ],
      "text/plain": [
       "   ventricles      habenula dentate_gyrus  fiber_tracts \n",
       "    \"#CC00FF\"     \"#00FF66\"     \"#FF0000\"        \"blue\" "
      ]
     },
     "metadata": {},
     "output_type": "display_data"
    },
    {
     "data": {
      "text/plain": [
       "col.region.coarse\n",
       "#00FF66 #CC00FF #FF0000    blue \n",
       "   1211     792    2051    6701 "
      ]
     },
     "metadata": {},
     "output_type": "display_data"
    },
    {
     "data": {
      "text/plain": [
       "\n",
       "dentate_gyrus  fiber_tracts      habenula    ventricles \n",
       "         2051          6701          1211           792 "
      ]
     },
     "metadata": {},
     "output_type": "display_data"
    }
   ],
   "source": [
    "## create color legends\n",
    "col.region.coarse <- meta$col.region.coarse\n",
    "names(col.region.coarse) <- rownames(meta)\n",
    "\n",
    "leg.col.region.coarse <- names(sort(table(meta$col.region.coarse)))\n",
    "names(leg.col.region.coarse) <- names(sort(table(meta$reg.coarse)))\n",
    "leg.col.region.coarse\n",
    "table(col.region.coarse)\n",
    "table(meta$reg.coarse)"
   ]
  },
  {
   "cell_type": "code",
   "execution_count": 196,
   "id": "cda59071",
   "metadata": {},
   "outputs": [
    {
     "data": {
      "image/png": "[encoded data removed]",
      "text/plain": [
       "Plot with title “S2R2”"
      ]
     },
     "metadata": {
      "image/png": {
       "height": 420,
       "width": 420
      }
     },
     "output_type": "display_data"
    }
   ],
   "source": [
    "## look \n",
    "options(repr.plot.width=7, repr.plot.height=7)\n",
    "plot(meta[,c('center_x','center_y')], \n",
    "     pch=16, cex=0.25, col=scales::alpha(col.region.coarse,0.3), \n",
    "     main = unique(meta$sample))\n",
    "\n",
    "legend(x = 1000, y = 3000, pch = 16, \n",
    "       legend = names(leg.col.region.coarse), col = leg.col.region.coarse)"
   ]
  },
  {
   "cell_type": "markdown",
   "id": "f3ae0a2f",
   "metadata": {},
   "source": [
    "## NORMALIZE"
   ]
  },
  {
   "cell_type": "markdown",
   "id": "6e9d2d91",
   "metadata": {},
   "source": [
    "#### scTransform"
   ]
  },
  {
   "cell_type": "code",
   "execution_count": 197,
   "id": "90e033fb",
   "metadata": {
    "scrolled": true
   },
   "outputs": [
    {
     "name": "stdout",
     "output_type": "stream",
     "text": [
      "  |======================================================================| 100%\n",
      "  |======================================================================| 100%\n"
     ]
    },
    {
     "data": {
      "text/html": [
       "<style>\n",
       ".list-inline {list-style: none; margin:0; padding: 0}\n",
       ".list-inline>li {display: inline-block}\n",
       ".list-inline>li:not(:last-child)::after {content: \"\\00b7\"; padding: 0 .5ex}\n",
       "</style>\n",
       "<ol class=list-inline><li>483</li><li>10755</li></ol>\n"
      ],
      "text/latex": [
       "\\begin{enumerate*}\n",
       "\\item 483\n",
       "\\item 10755\n",
       "\\end{enumerate*}\n"
      ],
      "text/markdown": [
       "1. 483\n",
       "2. 10755\n",
       "\n",
       "\n"
      ],
      "text/plain": [
       "[1]   483 10755"
      ]
     },
     "metadata": {},
     "output_type": "display_data"
    },
    {
     "data": {
      "text/html": [
       "<style>\n",
       ".list-inline {list-style: none; margin:0; padding: 0}\n",
       ".list-inline>li {display: inline-block}\n",
       ".list-inline>li:not(:last-child)::after {content: \"\\00b7\"; padding: 0 .5ex}\n",
       "</style>\n",
       "<ol class=list-inline><li>481</li><li>10755</li></ol>\n"
      ],
      "text/latex": [
       "\\begin{enumerate*}\n",
       "\\item 481\n",
       "\\item 10755\n",
       "\\end{enumerate*}\n"
      ],
      "text/markdown": [
       "1. 481\n",
       "2. 10755\n",
       "\n",
       "\n"
      ],
      "text/plain": [
       "[1]   481 10755"
      ]
     },
     "metadata": {},
     "output_type": "display_data"
    }
   ],
   "source": [
    "suppressMessages(norm.sct.obj <- sctransform::vst(gexp, n_genes = NULL))\n",
    "norm.sct <- norm.sct.obj$y\n",
    "norm.sct[norm.sct<0] <- 0\n",
    "dim(gexp)\n",
    "dim(norm.sct)"
   ]
  },
  {
   "cell_type": "code",
   "execution_count": 198,
   "id": "eea0b5e2",
   "metadata": {},
   "outputs": [],
   "source": [
    "## keep same genes as ones kept by sctransform\n",
    "genes <- rownames(norm.sct)\n",
    "gexp <- gexp[genes,]"
   ]
  },
  {
   "cell_type": "markdown",
   "id": "6da1a244",
   "metadata": {},
   "source": [
    "#### library size, DESeq2, TMM, and volume normalization "
   ]
  },
  {
   "cell_type": "code",
   "execution_count": 199,
   "id": "4f0299a3",
   "metadata": {},
   "outputs": [],
   "source": [
    "## scaling factors\n",
    "sf.libsize <- colSums(gexp) / median(colSums(gexp), na.rm = T)\n",
    "sf.DESeq <- DESeq2::estimateSizeFactorsForMatrix(as.matrix(gexp), type = 'poscounts')\n",
    "sf.TMMwsp <- edgeR::calcNormFactors(gexp, method = 'TMMwsp')  ## multiplied not divided\n",
    "sf.volume <- meta[colnames(gexp), 'volume'] / median(meta[colnames(gexp), 'volume'], na.rm = T)\n",
    "names(sf.volume) <- colnames(gexp)"
   ]
  },
  {
   "cell_type": "code",
   "execution_count": 200,
   "id": "134bc85f",
   "metadata": {},
   "outputs": [],
   "source": [
    "norm.none <- gexp\n",
    "norm.deseq <- t(t(gexp)/sf.DESeq)\n",
    "norm.tmm <- t(t(gexp)*sf.TMMwsp)\n",
    "norm.libsize <- t(t(gexp)/sf.libsize)\n",
    "norm.vol <- t(t(gexp)/sf.volume)\n",
    "all.norms <- list(nonorm = norm.none,\n",
    "                 libsize = norm.libsize,\n",
    "                 deseq = norm.deseq,\n",
    "                 tmm = norm.tmm,\n",
    "                 volume = norm.vol,\n",
    "                 sct = norm.sct)\n"
   ]
  },
  {
   "cell_type": "code",
   "execution_count": 201,
   "id": "b34e8406",
   "metadata": {},
   "outputs": [
    {
     "data": {
      "text/html": [
       "<style>\n",
       ".list-inline {list-style: none; margin:0; padding: 0}\n",
       ".list-inline>li {display: inline-block}\n",
       ".list-inline>li:not(:last-child)::after {content: \"\\00b7\"; padding: 0 .5ex}\n",
       "</style>\n",
       "<ol class=list-inline><li>'nonorm'</li><li>'libsize'</li><li>'deseq'</li><li>'tmm'</li><li>'volume'</li><li>'sct'</li></ol>\n"
      ],
      "text/latex": [
       "\\begin{enumerate*}\n",
       "\\item 'nonorm'\n",
       "\\item 'libsize'\n",
       "\\item 'deseq'\n",
       "\\item 'tmm'\n",
       "\\item 'volume'\n",
       "\\item 'sct'\n",
       "\\end{enumerate*}\n"
      ],
      "text/markdown": [
       "1. 'nonorm'\n",
       "2. 'libsize'\n",
       "3. 'deseq'\n",
       "4. 'tmm'\n",
       "5. 'volume'\n",
       "6. 'sct'\n",
       "\n",
       "\n"
      ],
      "text/plain": [
       "[1] \"nonorm\"  \"libsize\" \"deseq\"   \"tmm\"     \"volume\"  \"sct\"    "
      ]
     },
     "metadata": {},
     "output_type": "display_data"
    }
   ],
   "source": [
    "norms <- names(all.norms)\n",
    "norms"
   ]
  },
  {
   "cell_type": "markdown",
   "id": "648b994d",
   "metadata": {},
   "source": [
    "## DE GENES"
   ]
  },
  {
   "cell_type": "code",
   "execution_count": 202,
   "id": "de9effd1",
   "metadata": {},
   "outputs": [
    {
     "data": {
      "text/plain": [
       "cluster\n",
       "dentate_gyrus  fiber_tracts      habenula    ventricles \n",
       "         2051          6701          1211           792 "
      ]
     },
     "metadata": {},
     "output_type": "display_data"
    }
   ],
   "source": [
    "cluster <- meta[, 'reg.coarse']\n",
    "names(cluster) <- rownames(meta)\n",
    "table(cluster)"
   ]
  },
  {
   "cell_type": "code",
   "execution_count": 203,
   "id": "39ac5b5b",
   "metadata": {},
   "outputs": [],
   "source": [
    "## get log fold changes and adjusted p-values \n",
    "\n",
    "lfcs.all <- lapply(all.norms, function(counts.norm) {\n",
    "    curr.cluster <- cluster[colnames(counts.norm)]\n",
    "    names(curr.cluster) <- colnames(counts.norm)\n",
    "    curr.lfcs <- find.log.fold.change(counts.norm, curr.cluster, log2)\n",
    "    \n",
    "    curr.lfcs\n",
    "})\n",
    "\n",
    "\n",
    "\n",
    "p.vals.all <- lapply(all.norms, function(counts.norm) {\n",
    "    curr.cluster <- cluster[colnames(counts.norm)]\n",
    "    names(curr.cluster) <- colnames(counts.norm)\n",
    "    curr.pvals <- find.cluster.de.genes(counts.norm, cell.com = curr.cluster, \n",
    "                                        test.alt = 'greater')\n",
    "    curr.pvals\n",
    "})\n",
    "\n",
    "p.vals.all.adj <- lapply(p.vals.all, function(curr.pvals) {\n",
    "    curr.pvals.adj <- matrix(p.adjust(curr.pvals, method = 'BH'), \n",
    "                             nrow = nrow (curr.pvals), ncol = ncol(curr.pvals))\n",
    "    colnames(curr.pvals.adj) <- colnames(curr.pvals)\n",
    "    rownames(curr.pvals.adj) <- rownames(curr.pvals)\n",
    "    curr.pvals.adj\n",
    "})"
   ]
  },
  {
   "cell_type": "code",
   "execution_count": 204,
   "id": "64f6b7df",
   "metadata": {},
   "outputs": [],
   "source": [
    "## pick DE genes based on adjusted p-value threshold (0.05) and log fold change threshold (0.25)\n",
    "p.thresh <- 0.05\n",
    "lfc.thresh <- 0.25\n",
    "\n",
    "de.genes <- lapply(norms, function(curr.norm) {\n",
    "    curr.pvals <- p.vals.all.adj[[curr.norm]]\n",
    "    curr.lfcs <- lfcs.all[[curr.norm]]\n",
    "    \n",
    "    curr.groups <- colnames(curr.pvals)\n",
    "    \n",
    "    curr.de.genes <- lapply(curr.groups, function(curr.group) {\n",
    "        curr.group.pvals <- curr.pvals[,curr.group]\n",
    "        curr.group.lfcs <- curr.lfcs[names(curr.group.pvals),curr.group]\n",
    "        curr.group.de.genes <- names(curr.group.pvals)[curr.group.pvals<p.thresh & abs(curr.group.lfcs)>lfc.thresh]\n",
    "        curr.group.de.genes.stats <- cbind(curr.group.pvals[curr.group.de.genes], curr.group.lfcs[curr.group.de.genes])\n",
    "        colnames(curr.group.de.genes.stats) <- c('p.adj','logFC')\n",
    "        curr.group.de.genes.stats\n",
    "    })\n",
    "    names(curr.de.genes) <- curr.groups\n",
    "    curr.de.genes\n",
    "})\n",
    "names(de.genes) <- norms"
   ]
  },
  {
   "cell_type": "markdown",
   "id": "104341e8",
   "metadata": {},
   "source": [
    "## SKEWED GENE PANELS"
   ]
  },
  {
   "cell_type": "code",
   "execution_count": 205,
   "id": "6400c72b",
   "metadata": {},
   "outputs": [
    {
     "data": {
      "text/html": [
       "<style>\n",
       ".list-inline {list-style: none; margin:0; padding: 0}\n",
       ".list-inline>li {display: inline-block}\n",
       ".list-inline>li:not(:last-child)::after {content: \"\\00b7\"; padding: 0 .5ex}\n",
       "</style>\n",
       "<ol class=list-inline><li>'fiber_tracts'</li><li>'ventricles'</li><li>'habenula'</li><li>'dentate_gyrus'</li></ol>\n"
      ],
      "text/latex": [
       "\\begin{enumerate*}\n",
       "\\item 'fiber\\_tracts'\n",
       "\\item 'ventricles'\n",
       "\\item 'habenula'\n",
       "\\item 'dentate\\_gyrus'\n",
       "\\end{enumerate*}\n"
      ],
      "text/markdown": [
       "1. 'fiber_tracts'\n",
       "2. 'ventricles'\n",
       "3. 'habenula'\n",
       "4. 'dentate_gyrus'\n",
       "\n",
       "\n"
      ],
      "text/plain": [
       "[1] \"fiber_tracts\"  \"ventricles\"    \"habenula\"      \"dentate_gyrus\""
      ]
     },
     "metadata": {},
     "output_type": "display_data"
    }
   ],
   "source": [
    "regions <- unique(cluster)\n",
    "regions"
   ]
  },
  {
   "cell_type": "code",
   "execution_count": 206,
   "id": "43fb7df1",
   "metadata": {},
   "outputs": [
    {
     "name": "stdout",
     "output_type": "stream",
     "text": [
      "[1] 109\n",
      "[1] 144\n",
      "[1] 155\n",
      "[1] 102\n"
     ]
    },
    {
     "data": {
      "text/html": [
       "<style>\n",
       ".dl-inline {width: auto; margin:0; padding: 0}\n",
       ".dl-inline>dt, .dl-inline>dd {float: none; width: auto; display: inline-block}\n",
       ".dl-inline>dt::after {content: \":\\0020\"; padding-right: .5ex}\n",
       ".dl-inline>dt:not(:first-of-type) {padding-left: .5ex}\n",
       "</style><dl class=dl-inline><dt>fiber_tracts</dt><dd>109</dd><dt>ventricles</dt><dd>144</dd><dt>habenula</dt><dd>155</dd><dt>dentate_gyrus</dt><dd>102</dd></dl>\n"
      ],
      "text/latex": [
       "\\begin{description*}\n",
       "\\item[fiber\\textbackslash{}\\_tracts] 109\n",
       "\\item[ventricles] 144\n",
       "\\item[habenula] 155\n",
       "\\item[dentate\\textbackslash{}\\_gyrus] 102\n",
       "\\end{description*}\n"
      ],
      "text/markdown": [
       "fiber_tracts\n",
       ":   109ventricles\n",
       ":   144habenula\n",
       ":   155dentate_gyrus\n",
       ":   102\n",
       "\n"
      ],
      "text/plain": [
       " fiber_tracts    ventricles      habenula dentate_gyrus \n",
       "          109           144           155           102 "
      ]
     },
     "metadata": {},
     "output_type": "display_data"
    }
   ],
   "source": [
    "## find skewed genes: genes that are DE with any norm\n",
    "genesets <- lapply(regions, function(r) {\n",
    "    Reduce(union, lapply(de.genes, function(curr.norm) {\n",
    "        rownames(curr.norm[[r]][order(curr.norm[[r]][,'p.adj']),])\n",
    "    }))\n",
    "    \n",
    "})\n",
    "names(genesets) <- regions\n",
    "\n",
    "## number of skewed genes for each tissue anatomical region\n",
    "sapply(genesets, function(x) {print(length(x))})\n",
    "\n",
    "## create skewed gene panels of 100 genes for each region\n",
    "set.seed(0)\n",
    "n <- 100\n",
    "genesets <- lapply(genesets, function(x) {sample(x,n)})\n",
    "\n",
    "## create a non-skewed gene panel by randomly sampling 100 genes      \n",
    "geneset.x <- sample(genes, n)   \n",
    "genesets[['random']] <- geneset.x"
   ]
  },
  {
   "cell_type": "markdown",
   "id": "f6a568aa",
   "metadata": {},
   "source": [
    "#### gene panel heatmaps"
   ]
  },
  {
   "cell_type": "code",
   "execution_count": 207,
   "id": "8ce5cbf5",
   "metadata": {},
   "outputs": [
    {
     "name": "stderr",
     "output_type": "stream",
     "text": [
      "Warning message in dir.create(paste0(save.dir, \"heatmaps\")):\n",
      "“'results/merfish/heatmaps' already exists”\n"
     ]
    }
   ],
   "source": [
    "dir.create(paste0(save.dir,'heatmaps'))"
   ]
  },
  {
   "cell_type": "code",
   "execution_count": 208,
   "id": "aafc2e9f",
   "metadata": {},
   "outputs": [],
   "source": [
    "## average region gene expression\n",
    "gexp.agg <- as.matrix(aggregate.Matrix(t(gexp[,names(cluster)]), groupings = cluster))\n",
    "gexp.mean <- t(gexp.agg[regions,]/as.vector(table(cluster)[regions]))"
   ]
  },
  {
   "cell_type": "code",
   "execution_count": 209,
   "id": "13d11f7e",
   "metadata": {},
   "outputs": [
    {
     "data": {
      "text/html": [
       "73"
      ],
      "text/latex": [
       "73"
      ],
      "text/markdown": [
       "73"
      ],
      "text/plain": [
       "[1] 73"
      ]
     },
     "metadata": {},
     "output_type": "display_data"
    },
    {
     "data": {
      "text/html": [
       "248"
      ],
      "text/latex": [
       "248"
      ],
      "text/markdown": [
       "248"
      ],
      "text/plain": [
       "[1] 248"
      ]
     },
     "metadata": {},
     "output_type": "display_data"
    },
    {
     "data": {
      "text/html": [
       "321"
      ],
      "text/latex": [
       "321"
      ],
      "text/markdown": [
       "321"
      ],
      "text/plain": [
       "[1] 321"
      ]
     },
     "metadata": {},
     "output_type": "display_data"
    },
    {
     "data": {
      "text/html": [
       "481"
      ],
      "text/latex": [
       "481"
      ],
      "text/markdown": [
       "481"
      ],
      "text/plain": [
       "[1] 481"
      ]
     },
     "metadata": {},
     "output_type": "display_data"
    }
   ],
   "source": [
    "## full gene panel: heatmap gene order \n",
    "### order should be: [non DE genes][DE genes for more than one region][specific DE genes]\n",
    "\n",
    "# get skewed geneset genes (minus random geneset)\n",
    "hm.genes <- unlist(genesets[1:4])\n",
    "\n",
    "# find which genes are in multiple genesets \n",
    "hm.genes.dups <- unique(hm.genes[duplicated(hm.genes)])\n",
    "length(hm.genes.dups)\n",
    "\n",
    "# remove duplicated genes (all instances)\n",
    "hm.genes <- hm.genes[! hm.genes %in% hm.genes.dups]\n",
    "length(hm.genes)\n",
    "\n",
    "# add one instance of duplicate genes at the front\n",
    "hm.genes <- c(hm.genes.dups, hm.genes)\n",
    "length(hm.genes)\n",
    "\n",
    "# add non DE genes to the front (nongs=non-genesets)\n",
    "hm.genes.nongs <- rownames(gexp)[! rownames(gexp) %in% hm.genes]\n",
    "hm.genes <- c(hm.genes, hm.genes.nongs)\n",
    "length(hm.genes)\n",
    "\n",
    "# red-blue color map\n",
    "htmp.col <- rev(colorRampPalette(brewer.pal(11, \"RdBu\"))(100))"
   ]
  },
  {
   "cell_type": "code",
   "execution_count": 210,
   "id": "e32018e1",
   "metadata": {},
   "outputs": [
    {
     "data": {
      "text/html": [
       "<style>\n",
       ".dl-inline {width: auto; margin:0; padding: 0}\n",
       ".dl-inline>dt, .dl-inline>dd {float: none; width: auto; display: inline-block}\n",
       ".dl-inline>dt::after {content: \":\\0020\"; padding-right: .5ex}\n",
       ".dl-inline>dt:not(:first-of-type) {padding-left: .5ex}\n",
       "</style><dl class=dl-inline><dt>ventricles</dt><dd>'Ventricles'</dd><dt>habenula</dt><dd>'Habenula'</dd><dt>fiber_tracts</dt><dd>'Fiber tracts'</dd><dt>dentate_gyrus</dt><dd>'Dentate gyrus'</dd></dl>\n"
      ],
      "text/latex": [
       "\\begin{description*}\n",
       "\\item[ventricles] 'Ventricles'\n",
       "\\item[habenula] 'Habenula'\n",
       "\\item[fiber\\textbackslash{}\\_tracts] 'Fiber tracts'\n",
       "\\item[dentate\\textbackslash{}\\_gyrus] 'Dentate gyrus'\n",
       "\\end{description*}\n"
      ],
      "text/markdown": [
       "ventricles\n",
       ":   'Ventricles'habenula\n",
       ":   'Habenula'fiber_tracts\n",
       ":   'Fiber tracts'dentate_gyrus\n",
       ":   'Dentate gyrus'\n",
       "\n"
      ],
      "text/plain": [
       "     ventricles        habenula    fiber_tracts   dentate_gyrus \n",
       "   \"Ventricles\"      \"Habenula\"  \"Fiber tracts\" \"Dentate gyrus\" "
      ]
     },
     "metadata": {},
     "output_type": "display_data"
    }
   ],
   "source": [
    "## pretty names and re-order\n",
    "gs.names <- c('Fiber tracts', 'Ventricles', 'Habenula', 'Dentate gyrus', NA)\n",
    "names(gs.names) <- names(genesets)\n",
    "gs.order <- c(2,3,1,4)\n",
    "gs.names[gs.order]"
   ]
  },
  {
   "cell_type": "code",
   "execution_count": 211,
   "id": "af5f609c",
   "metadata": {},
   "outputs": [
    {
     "name": "stderr",
     "output_type": "stream",
     "text": [
      "Warning message in gplots::heatmap.2(gexp.mean[rev(hm.genes), gs.order], scale = \"row\", :\n",
      "“Discrepancy: Rowv is FALSE, while dendrogram is `both'. Omitting row dendogram.”\n",
      "Warning message in gplots::heatmap.2(gexp.mean[rev(hm.genes), gs.order], scale = \"row\", :\n",
      "“Discrepancy: Colv is FALSE, while dendrogram is `column'. Omitting column dendogram.”\n"
     ]
    },
    {
     "data": {
      "text/html": [
       "<strong>png:</strong> 2"
      ],
      "text/latex": [
       "\\textbf{png:} 2"
      ],
      "text/markdown": [
       "**png:** 2"
      ],
      "text/plain": [
       "png \n",
       "  2 "
      ]
     },
     "metadata": {},
     "output_type": "display_data"
    }
   ],
   "source": [
    "## heatmap mean gene exp full panel with color bar \n",
    "options(repr.plot.width=7, repr.plot.height=5)\n",
    "pdf(paste0(save.dir,'heatmaps/heatmap_full_colorbar_div.pdf'), width = 7, height = 5)\n",
    "gplots::heatmap.2(gexp.mean[rev(hm.genes),gs.order], scale = 'row', col = htmp.col, \n",
    "        Colv = NA, Rowv = NA, \n",
    "        ColSideColors = leg.col.region.coarse[colnames(gexp.mean[,gs.order])],\n",
    "       labRow = FALSE, labCol = FALSE,\n",
    "        margins = c(3.8,2.1),\n",
    "          trace = 'none',\n",
    "          keysize = 5, density.info = 'none',\n",
    "          key.title = NA, key.xlab = 'Gene Z-score'\n",
    "          \n",
    "       )\n",
    "title(ylab=paste('Genes\\nFull gene panel'), line=0.5, cex.lab=1)\n",
    "title(xlab=paste('Cells'), line=4, cex.lab=1)\n",
    "dev.off()"
   ]
  },
  {
   "cell_type": "code",
   "execution_count": 212,
   "id": "cbc33423",
   "metadata": {},
   "outputs": [],
   "source": [
    "## heatmap mean gene exp skewed panel\n",
    "s <- 'row'\n",
    "\n",
    "for (gs in skew.region){\n",
    "    foo.genes <- genesets[[gs]]\n",
    "    hm.genes.gs <- hm.genes[hm.genes %in% foo.genes]\n",
    "    \n",
    "    pdf(paste0(save.dir,'heatmaps/heatmap_',gs,'.pdf'), width = 7, height = 5)\n",
    "    par(mfrow = c(1,1), mar = c(5.1, 4.1, 4.1, 2.1))\n",
    "\n",
    "    heatmap(gexp.mean[hm.genes.gs,gs.order], scale = 'row', col = htmp.col, \n",
    "            Colv = NA, Rowv = NA, \n",
    "            ColSideColors = leg.col.region.coarse[colnames(gexp.mean[,gs.order])],\n",
    "           labRow = FALSE, labCol = FALSE,\n",
    "#               trace = 'none',\n",
    "            margins = c(3.8,2.1)\n",
    "           )\n",
    "    if (gs == 'random'){\n",
    "        title(ylab=paste('Genes\\nNon-skewed gene panel'), line=0.5, cex.lab=2)\n",
    "    } else {\n",
    "        title(ylab=paste0('Genes\\n', gs.names[gs], '-skewed gene panel'), line=0.5, cex.lab=2)\n",
    "    }\n",
    "    title(xlab=paste('Cells'), line=4, cex.lab=2)\n",
    "    dev.off()\n",
    "}\n"
   ]
  },
  {
   "cell_type": "markdown",
   "id": "89bec557",
   "metadata": {},
   "source": [
    "#### gene panel count subsets"
   ]
  },
  {
   "cell_type": "code",
   "execution_count": 213,
   "id": "7d5a08d2",
   "metadata": {},
   "outputs": [
    {
     "data": {
      "text/html": [
       "<style>\n",
       ".list-inline {list-style: none; margin:0; padding: 0}\n",
       ".list-inline>li {display: inline-block}\n",
       ".list-inline>li:not(:last-child)::after {content: \"\\00b7\"; padding: 0 .5ex}\n",
       "</style>\n",
       "<ol class=list-inline><li>'fiber_tracts'</li><li>'ventricles'</li><li>'habenula'</li><li>'dentate_gyrus'</li><li>'random'</li></ol>\n"
      ],
      "text/latex": [
       "\\begin{enumerate*}\n",
       "\\item 'fiber\\_tracts'\n",
       "\\item 'ventricles'\n",
       "\\item 'habenula'\n",
       "\\item 'dentate\\_gyrus'\n",
       "\\item 'random'\n",
       "\\end{enumerate*}\n"
      ],
      "text/markdown": [
       "1. 'fiber_tracts'\n",
       "2. 'ventricles'\n",
       "3. 'habenula'\n",
       "4. 'dentate_gyrus'\n",
       "5. 'random'\n",
       "\n",
       "\n"
      ],
      "text/plain": [
       "[1] \"fiber_tracts\"  \"ventricles\"    \"habenula\"      \"dentate_gyrus\"\n",
       "[5] \"random\"       "
      ]
     },
     "metadata": {},
     "output_type": "display_data"
    },
    {
     "data": {
      "text/html": [
       "<table class=\"dataframe\">\n",
       "<caption>A matrix: 2 × 5 of type int</caption>\n",
       "<thead>\n",
       "\t<tr><th scope=col>fiber_tracts</th><th scope=col>ventricles</th><th scope=col>habenula</th><th scope=col>dentate_gyrus</th><th scope=col>random</th></tr>\n",
       "</thead>\n",
       "<tbody>\n",
       "\t<tr><td>  100</td><td>  100</td><td>  100</td><td>  100</td><td>  100</td></tr>\n",
       "\t<tr><td>10753</td><td>10754</td><td>10742</td><td>10753</td><td>10752</td></tr>\n",
       "</tbody>\n",
       "</table>\n"
      ],
      "text/latex": [
       "A matrix: 2 × 5 of type int\n",
       "\\begin{tabular}{lllll}\n",
       " fiber\\_tracts & ventricles & habenula & dentate\\_gyrus & random\\\\\n",
       "\\hline\n",
       "\t   100 &   100 &   100 &   100 &   100\\\\\n",
       "\t 10753 & 10754 & 10742 & 10753 & 10752\\\\\n",
       "\\end{tabular}\n"
      ],
      "text/markdown": [
       "\n",
       "A matrix: 2 × 5 of type int\n",
       "\n",
       "| fiber_tracts | ventricles | habenula | dentate_gyrus | random |\n",
       "|---|---|---|---|---|\n",
       "|   100 |   100 |   100 |   100 |   100 |\n",
       "| 10753 | 10754 | 10742 | 10753 | 10752 |\n",
       "\n"
      ],
      "text/plain": [
       "     fiber_tracts ventricles habenula dentate_gyrus random\n",
       "[1,]   100          100        100      100           100 \n",
       "[2,] 10753        10754      10742    10753         10752 "
      ]
     },
     "metadata": {},
     "output_type": "display_data"
    }
   ],
   "source": [
    "counts.subsets <- lapply(genesets, function(gs) {\n",
    "    curr.subset.counts <- gexp[gs,]\n",
    "    curr.empty.cells <- colSums(curr.subset.counts)==0\n",
    "    curr.subset.counts <- curr.subset.counts[,!curr.empty.cells]\n",
    "    curr.subset.counts\n",
    "})\n",
    "names(counts.subsets)\n",
    "sapply(counts.subsets, dim)"
   ]
  },
  {
   "cell_type": "markdown",
   "id": "e1571c9e",
   "metadata": {},
   "source": [
    "## NORMALIZE SKEWED PANELS"
   ]
  },
  {
   "cell_type": "markdown",
   "id": "afdb3522",
   "metadata": {},
   "source": [
    "#### scaling factors"
   ]
  },
  {
   "cell_type": "code",
   "execution_count": 214,
   "id": "dd3d6cba",
   "metadata": {},
   "outputs": [],
   "source": [
    "skewed.sfs <- lapply(counts.subsets, function(x) {\n",
    "    curr.libsize <- colSums(x) / median(colSums(x), na.rm = T)\n",
    "    curr.sf.DESeq <- DESeq2::estimateSizeFactorsForMatrix(as.matrix(x), type = 'poscounts')\n",
    "    curr.sf.TMMwsp <- edgeR::calcNormFactors(x, method = 'TMMwsp')  ## multiplied not divided\n",
    "    curr.sf.volume <- meta[colnames(x), 'volume'] / median(meta[colnames(x), 'volume'], na.rm = T)\n",
    "    names(curr.sf.volume) <- colnames(x)\n",
    "    \n",
    "    list(libsize = curr.libsize,\n",
    "        deseq = curr.sf.DESeq,\n",
    "        tmm = curr.sf.TMMwsp,\n",
    "        vol = curr.sf.volume)\n",
    "})"
   ]
  },
  {
   "cell_type": "code",
   "execution_count": 215,
   "id": "09d5b941",
   "metadata": {},
   "outputs": [],
   "source": [
    "sf.all <- list(libsize = sf.libsize,\n",
    "               deseq = sf.DESeq,\n",
    "               tmm = sf.TMMwsp,\n",
    "               vol = sf.volume)"
   ]
  },
  {
   "cell_type": "markdown",
   "id": "ff9b2d64",
   "metadata": {},
   "source": [
    "#### normalize"
   ]
  },
  {
   "cell_type": "code",
   "execution_count": 216,
   "id": "671174f6",
   "metadata": {},
   "outputs": [
    {
     "name": "stdout",
     "output_type": "stream",
     "text": [
      "[1] \"Htr1a\"  \"Ddr1\"   \"Adra1b\" \"Ntsr1\"  \"Adra2b\" \"Hrh3\"  \n",
      "  |======================================================================| 100%\n",
      "  |======================================================================| 100%\n",
      "[1] \"Fzd1\"    \"Aplnr\"   \"Gpr20\"   \"Gpr50\"   \"Htr2c\"   \"Vmn1r49\"\n",
      "  |======================================================================| 100%\n",
      "  |======================================================================| 100%\n",
      "[1] \"Gpr132\"  \"Rxfp3\"   \"Galr1\"   \"Htr7\"    \"Rxfp2\"   \"Atp13a5\"\n",
      "  |======================================================================| 100%\n",
      "  |======================================================================| 100%\n",
      "[1] \"Adrb1\"     \"Gabbr1\"    \"Adcyap1r1\" \"Epha5\"     \"Drd5\"      \"Celsr3\"   \n",
      "  |======================================================================| 100%\n",
      "  |======================================================================| 100%\n",
      "[1] \"Ccr10\"   \"Lgr5\"    \"Vmn1r43\" \"S1pr1\"   \"Grm5\"    \"Gabbr2\" \n",
      "  |======================================================================| 100%\n",
      "  |======================================================================| 100%\n"
     ]
    }
   ],
   "source": [
    "skewed.norms <- lapply(names(counts.subsets), function(gs) {\n",
    "    curr.counts <- counts.subsets[[gs]]\n",
    "    print(head(rownames(curr.counts)))\n",
    "    curr.sfs <- skewed.sfs[[gs]]\n",
    "    \n",
    "    curr.norm.none <- curr.counts\n",
    "    curr.norm.libsize <- t(t(curr.counts)/curr.sfs[['libsize']]) \n",
    "    curr.norm.deseq <- t(t(curr.counts)/curr.sfs[['deseq']])\n",
    "    curr.norm.tmm <- t(t(curr.counts)*curr.sfs[['tmm']])\n",
    "    curr.norm.vol <- t(t(curr.counts)/curr.sfs[['vol']]) \n",
    "    suppressMessages(curr.sct <- sctransform::vst(curr.counts, n_genes = NULL))\n",
    "    curr.norm.sct <- curr.sct$y\n",
    "    curr.norm.sct[curr.norm.sct<0] <- 0\n",
    "    \n",
    "    curr.norms <- list(nonorm = curr.norm.none,\n",
    "                       libsize = curr.norm.libsize,\n",
    "                       deseq = curr.norm.deseq,\n",
    "                       tmm = curr.norm.tmm,\n",
    "                       volume = curr.norm.vol,\n",
    "                      sct = curr.norm.sct)\n",
    "    \n",
    "    curr.norms\n",
    "})\n",
    "names(skewed.norms) <- names(counts.subsets)\n"
   ]
  },
  {
   "cell_type": "markdown",
   "id": "3eeb302e",
   "metadata": {},
   "source": [
    "## SCALING FACTOR COMPARISON"
   ]
  },
  {
   "cell_type": "code",
   "execution_count": 217,
   "id": "96dfd824",
   "metadata": {},
   "outputs": [
    {
     "name": "stderr",
     "output_type": "stream",
     "text": [
      "Warning message in dir.create(paste0(save.dir, \"scaling_factor_comparison\")):\n",
      "“'results/merfish/scaling_factor_comparison' already exists”\n"
     ]
    }
   ],
   "source": [
    "dir.create(paste0(save.dir,'scaling_factor_comparison'))"
   ]
  },
  {
   "cell_type": "markdown",
   "id": "f40baad0",
   "metadata": {},
   "source": [
    "#### scaling factors with skewed panel vs with original panel"
   ]
  },
  {
   "cell_type": "code",
   "execution_count": 218,
   "id": "b20eac85",
   "metadata": {},
   "outputs": [],
   "source": [
    "options(repr.plot.width=20, repr.plot.height=8)\n",
    "set.seed(0)\n",
    "\n",
    "norms.to.include <- c('libsize', 'deseq', 'tmm', 'vol')\n",
    "norms.names <- c('Library Size', 'DESeq2', 'TMM', 'Cell Volume')\n",
    "names(norms.names) <- norms.to.include\n",
    "\n",
    "for (g in skew.region){\n",
    "    pdf(paste0(save.dir,'scaling_factor_comparison/',g,'_skewed_vs_all_genes_grouped.pdf'), \n",
    "        width = 20, height = 5) #, antialias = 'none')\n",
    "    par(mfrow = c(1,4), mar = c(10.1, 10.1, 6.1, 2.1)) #mar = c(5.1, 4.1, 4.1, 2.1)\n",
    "    \n",
    "    curr.sfs.skewed <- skewed.sfs[[g]][norms.to.include]\n",
    "    curr.common.cells <- Reduce(intersect, lapply(curr.sfs.skewed, names))\n",
    "    \n",
    "    for (n in norms.to.include){\n",
    "        \n",
    "        curr.sf.skewed <- curr.sfs.skewed[[n]]\n",
    "        curr.sf.all <- sf.all[[n]]\n",
    "        \n",
    "        curr.x <- log10(curr.sf.all[curr.common.cells]+1)\n",
    "        curr.x.lim <- range(curr.x, na.rm = T)\n",
    "        \n",
    "        curr.y <- log10(curr.sf.skewed[curr.common.cells]+1)\n",
    "        curr.y.lim <- range(curr.y, na.rm = T)\n",
    "        \n",
    "        #change color to highlight roi for region skewed geneset\n",
    "        curr.cols <- col.region.coarse\n",
    "        curr.cols[meta[names(col.region.coarse), 'reg.coarse'] != g] <- 'grey'\n",
    "        \n",
    "        #use all colors for random geneset\n",
    "        if (g == 'random'){\n",
    "            curr.cols <- col.region.coarse\n",
    "        }\n",
    "        \n",
    "        \n",
    "        #reorder when all together\n",
    "        o <- sample(length(curr.x))\n",
    "        o <- sample(o)\n",
    "        \n",
    "        plot(curr.x[o], curr.y[o], #axes = FALSE,\n",
    "             pch = 16, cex = 1.5, ##point sizes\n",
    "             col = scales::alpha(curr.cols[curr.common.cells[o]], 0.25), ##point colors\n",
    "             cex.axis = fs, cex.main = fs, ##font sizes\n",
    "             xaxt=\"n\", yaxt=\"n\", bty = 'n', xaxs = 'i', yaxs = 'i', ##axis settings\n",
    "             xlim = curr.x.lim, ylim = curr.y.lim, xlab = '', ylab = '',  ##axis ranges and labels\n",
    "             main = paste(norms.names[n])) ##title \n",
    "        \n",
    "        ## axis labels\n",
    "        title(xlab=paste('Full gene panel'), line=8, cex.lab=4)\n",
    "        title(ylab=paste('Skewed gene panel'), line=5, cex.lab=4)       \n",
    "        \n",
    "        ## axis tick mark formats\n",
    "        axis(side = 1, at = curr.x.lim, line = 0, cex.axis = fs, lty = 1, labels = FALSE)\n",
    "        axis(side = 2, at = curr.y.lim, line = 0, cex.axis = fs, lty = 1, labels = FALSE)\n",
    "        axis(side = 1, line = 0, cex.axis = fs.small, lty = 1, labels = FALSE)\n",
    "        axis(side = 2, line = 0, cex.axis = fs.small, lty = 1, labels = FALSE)\n",
    "        axis(side = 1, line = 2.5, cex.axis = fs.small, lty = 0)\n",
    "        axis(side = 2, line = 0.5, cex.axis = fs.small, lty = 0)\n",
    "        abline(a=0,b=1,col='red')\n",
    "\n",
    "    }\n",
    "    dev.off()\n",
    "\n",
    "}\n"
   ]
  },
  {
   "cell_type": "markdown",
   "id": "abf2b0f5",
   "metadata": {},
   "source": [
    "#### scaling factor RMSE bw skewed panel and original panel"
   ]
  },
  {
   "cell_type": "code",
   "execution_count": 219,
   "id": "bbfc8879",
   "metadata": {},
   "outputs": [],
   "source": [
    "rmse.sf <- lapply(skew.region, function(reg) {\n",
    "    gs <- skewed.sfs[[reg]]\n",
    "    \n",
    "    curr.gs.rmse <- sapply(names(gs), function(n) {\n",
    "        curr.skewed.sf <- gs[[n]]\n",
    "        curr.full.sf <- sf.all[[n]]\n",
    "        \n",
    "        curr.cells <- intersect(names(curr.skewed.sf), names(curr.full.sf))\n",
    "        \n",
    "        curr.skewed.sf <- curr.skewed.sf[curr.cells]\n",
    "        curr.full.sf <- curr.full.sf[curr.cells]\n",
    "        \n",
    "        all <- rmse(curr.skewed.sf, curr.full.sf)\n",
    "        if (reg != 'random'){\n",
    "            curr.reg.cells <- intersect(names(curr.skewed.sf), names(cluster[cluster==reg]))\n",
    "            curr.reg <- rmse(curr.skewed.sf[curr.reg.cells], curr.full.sf[curr.reg.cells])\n",
    "            \n",
    "            curr.other.regs <- names(skewed.sfs)[names(skewed.sfs) != reg]\n",
    "            \n",
    "            curr.other.cells <- intersect(names(curr.skewed.sf), names(cluster[cluster %in% curr.other.regs]))\n",
    "            curr.other <- rmse(curr.skewed.sf[curr.other.cells], curr.full.sf[curr.other.cells])   \n",
    "        } else {\n",
    "            curr.reg = NA\n",
    "            curr.other = NA\n",
    "        }\n",
    "        \n",
    "        list(all = all,\n",
    "            reg = curr.reg,\n",
    "            other = curr.other)        \n",
    "        \n",
    "    })\n",
    "    names(curr.gs.rmse) <- names(gs)\n",
    "    curr.gs.rmse\n",
    "})\n",
    "\n",
    "names(rmse.sf) <- skew.region\n",
    "\n",
    "rmse.sfs.all <- (sapply(rmse.sf, function(gs) {\n",
    "    unlist(gs['all',])\n",
    "}))"
   ]
  },
  {
   "cell_type": "code",
   "execution_count": 220,
   "id": "55f92b64",
   "metadata": {},
   "outputs": [
    {
     "data": {
      "text/html": [
       "<style>\n",
       ".list-inline {list-style: none; margin:0; padding: 0}\n",
       ".list-inline>li {display: inline-block}\n",
       ".list-inline>li:not(:last-child)::after {content: \"\\00b7\"; padding: 0 .5ex}\n",
       "</style>\n",
       "<ol class=list-inline><li>'libsize'</li><li>'deseq'</li><li>'tmm'</li><li>'vol'</li></ol>\n"
      ],
      "text/latex": [
       "\\begin{enumerate*}\n",
       "\\item 'libsize'\n",
       "\\item 'deseq'\n",
       "\\item 'tmm'\n",
       "\\item 'vol'\n",
       "\\end{enumerate*}\n"
      ],
      "text/markdown": [
       "1. 'libsize'\n",
       "2. 'deseq'\n",
       "3. 'tmm'\n",
       "4. 'vol'\n",
       "\n",
       "\n"
      ],
      "text/plain": [
       "[1] \"libsize\" \"deseq\"   \"tmm\"     \"vol\"    "
      ]
     },
     "metadata": {},
     "output_type": "display_data"
    },
    {
     "data": {
      "text/html": [
       "<style>\n",
       ".dl-inline {width: auto; margin:0; padding: 0}\n",
       ".dl-inline>dt, .dl-inline>dd {float: none; width: auto; display: inline-block}\n",
       ".dl-inline>dt::after {content: \":\\0020\"; padding-right: .5ex}\n",
       ".dl-inline>dt:not(:first-of-type) {padding-left: .5ex}\n",
       "</style><dl class=dl-inline><dt>libsize</dt><dd>'Library Size'</dd><dt>deseq</dt><dd>'DESeq2'</dd><dt>tmm</dt><dd>'TMM'</dd><dt>vol</dt><dd>'Cell Volume'</dd></dl>\n"
      ],
      "text/latex": [
       "\\begin{description*}\n",
       "\\item[libsize] 'Library Size'\n",
       "\\item[deseq] 'DESeq2'\n",
       "\\item[tmm] 'TMM'\n",
       "\\item[vol] 'Cell Volume'\n",
       "\\end{description*}\n"
      ],
      "text/markdown": [
       "libsize\n",
       ":   'Library Size'deseq\n",
       ":   'DESeq2'tmm\n",
       ":   'TMM'vol\n",
       ":   'Cell Volume'\n",
       "\n"
      ],
      "text/plain": [
       "       libsize          deseq            tmm            vol \n",
       "\"Library Size\"       \"DESeq2\"          \"TMM\"  \"Cell Volume\" "
      ]
     },
     "metadata": {},
     "output_type": "display_data"
    },
    {
     "data": {
      "text/html": [
       "<style>\n",
       ".list-inline {list-style: none; margin:0; padding: 0}\n",
       ".list-inline>li {display: inline-block}\n",
       ".list-inline>li:not(:last-child)::after {content: \"\\00b7\"; padding: 0 .5ex}\n",
       "</style>\n",
       "<ol class=list-inline><li>'libsize'</li><li>'deseq'</li><li>'tmm'</li><li>'vol'</li></ol>\n"
      ],
      "text/latex": [
       "\\begin{enumerate*}\n",
       "\\item 'libsize'\n",
       "\\item 'deseq'\n",
       "\\item 'tmm'\n",
       "\\item 'vol'\n",
       "\\end{enumerate*}\n"
      ],
      "text/markdown": [
       "1. 'libsize'\n",
       "2. 'deseq'\n",
       "3. 'tmm'\n",
       "4. 'vol'\n",
       "\n",
       "\n"
      ],
      "text/plain": [
       "[1] \"libsize\" \"deseq\"   \"tmm\"     \"vol\"    "
      ]
     },
     "metadata": {},
     "output_type": "display_data"
    },
    {
     "data": {
      "text/html": [
       "<strong>png:</strong> 2"
      ],
      "text/latex": [
       "\\textbf{png:} 2"
      ],
      "text/markdown": [
       "**png:** 2"
      ],
      "text/plain": [
       "png \n",
       "  2 "
      ]
     },
     "metadata": {},
     "output_type": "display_data"
    }
   ],
   "source": [
    "norms.to.include\n",
    "norms.names\n",
    "options(repr.plot.width=6, repr.plot.height=7)\n",
    "pdf(paste0(save.dir, 'scaling_factor_comparison/scaling_factor_RMSE.pdf'),  \n",
    "    width = 7, height = 8)\n",
    "par(mfrow = c(1,1), mar = c(17.1, 10, 3.1, 2.1))\n",
    "## all \n",
    "norms.to.include\n",
    "xtcks <- c(0:length(norms.to.include)+1)\n",
    "\n",
    "x <- seq(length(norms.to.include))\n",
    "y <- rmse.sfs.all[,skew.region]\n",
    "xl <- c(0,max(x)+1)\n",
    "yl <- range(y) \n",
    "\n",
    "barplot(y, xlim = xl, ylim = yl, width = 0.5, space = c(1.5,1,1,1),\n",
    "    xaxt = \"n\", yaxt = \"n\", xaxs = 'i', yaxs = 'i',\n",
    "    ylab = '', xlab = '')\n",
    "axis(1, at = c(0,xtcks), cex.axis=2, labels = FALSE)\n",
    "axis(2, at = seq(from = 0, to = ceiling(max(y)), by = 0.25), cex.axis=3, las = 2)\n",
    "text(x = xtcks[1:length(norms.to.include)]+0.15, y = min(yl)-0.15, \n",
    "     labels = norms.names, xpd = NA, srt = 45, cex = 2, pos = 2)\n",
    "title(xlab='Normalization', line=14, cex.lab=fs)\n",
    "title(ylab='RMSE', line=6, cex.lab=fs)\n",
    "dev.off()"
   ]
  },
  {
   "cell_type": "markdown",
   "id": "021f95df",
   "metadata": {},
   "source": [
    "## NORMALIZED COUNT CORRELATIONS"
   ]
  },
  {
   "cell_type": "code",
   "execution_count": 221,
   "id": "4f5c3e7e",
   "metadata": {},
   "outputs": [
    {
     "name": "stderr",
     "output_type": "stream",
     "text": [
      "Warning message in dir.create(paste0(save.dir, \"count_correlations\")):\n",
      "“'results/merfish/count_correlations' already exists”\n"
     ]
    }
   ],
   "source": [
    "dir.create(paste0(save.dir,'count_correlations'))"
   ]
  },
  {
   "cell_type": "code",
   "execution_count": 222,
   "id": "ea288f26",
   "metadata": {},
   "outputs": [],
   "source": [
    "gene.count.corrs <- lapply(skew.region, function(gs) {\n",
    "    curr.geneset.corrs <- sapply(norms, function(n) {\n",
    "        curr.skewed.norm <- skewed.norms[[gs]][[n]]\n",
    "        curr.all.norm <- all.norms[[n]]\n",
    "        \n",
    "        curr.cells <- intersect(colnames(curr.skewed.norm), colnames(curr.all.norm))\n",
    "        curr.genes <- intersect(rownames(curr.skewed.norm), rownames(curr.all.norm))\n",
    "        \n",
    "        curr.skewed.norm <- curr.skewed.norm[curr.genes, curr.cells]\n",
    "        curr.all.norm <- curr.all.norm[curr.genes, curr.cells]\n",
    "        \n",
    "        curr.corrs <- sapply(curr.genes, function(g) {\n",
    "            cor(curr.skewed.norm[g,], curr.all.norm[g,], method = 'pearson')\n",
    "        })\n",
    "    })\n",
    "#     names(curr.geneset.corrs) <- norms\n",
    "    curr.geneset.corrs\n",
    "})\n",
    "names(gene.count.corrs) <- skew.region"
   ]
  },
  {
   "cell_type": "code",
   "execution_count": 223,
   "id": "08bb3001",
   "metadata": {},
   "outputs": [],
   "source": [
    "options(repr.plot.width=18, repr.plot.height=5)\n",
    "\n",
    "norms.to.include <- c('libsize', 'sct', 'deseq', 'tmm', 'volume', 'nonorm')\n",
    "norms.names <- c('Library Size', 'scTransform', 'DESeq2', 'TMM', 'Cell Volume', 'No Normalization')\n",
    "names(norms.names) <- norms.to.include\n",
    "xtcks <- c(0:length(norms.to.include)+1)\n",
    "ylr <- c(0.5, 1) \n",
    "\n",
    "for (gs in skew.region){\n",
    "    pdf(paste0(save.dir, 'count_correlations/',gs,'.pdf'),  \n",
    "        width = 10, height = 12)\n",
    "    par(mfrow = c(1,1), mar = c(17.1, 10, 3.1, 2.1))\n",
    "    \n",
    "    curr.corrs <- gene.count.corrs[[gs]]\n",
    "    \n",
    "    boxplot(curr.corrs[,norms.to.include], ylim = ylr, \n",
    "            cex.lab = fs.small, cex.axis = fs.small, cex.main = fs, xaxs = 'i', yaxs = 'i',\n",
    "            xaxt = \"n\", yaxt = \"n\", frame.plot=FALSE,\n",
    "            ylab = '')\n",
    "    axis(1, at = c(0,xtcks), cex.axis=2, labels = FALSE) #x axis ticks\n",
    "    text(x = xtcks[1:length(norms.to.include)]+0.15, y = min(ylr)-0.02, labels = norms.names, xpd = NA, srt = 45, cex = 2, pos = 2) ##ventricles/random\n",
    "    axis(2, at = c(0,0.2,0.4,0.6,0.8,1), cex.axis=3, las = 2)\n",
    "    title(xlab='Normalization', line=14, cex.lab=fs)\n",
    "    title(ylab='Pearson Correlation', line=6, cex.lab=fs)\n",
    "    \n",
    "    dev.off()\n",
    "}"
   ]
  },
  {
   "cell_type": "markdown",
   "id": "cf9922f3",
   "metadata": {},
   "source": [
    "## SKEWED GENE PANEL DIFFERENTIAL EXPRESSION"
   ]
  },
  {
   "cell_type": "code",
   "execution_count": 224,
   "id": "afd0b8e1",
   "metadata": {},
   "outputs": [],
   "source": [
    "skewed.lfcs <- lapply(skewed.norms, function(curr.skewed.norms) {\n",
    "    \n",
    "    curr.skewed.lfcs <- lapply(curr.skewed.norms, function(curr.counts.norm) {\n",
    "        curr.clusters <- cluster[colnames(curr.counts.norm)]\n",
    "        names(curr.clusters) <- colnames(curr.counts.norm)\n",
    "        curr.lfcs <- find.log.fold.change(curr.counts.norm, curr.clusters, log2)\n",
    "        \n",
    "        curr.lfcs\n",
    "    })\n",
    "    \n",
    "    curr.skewed.lfcs\n",
    "    \n",
    "})\n",
    "\n",
    "skewed.pvals <- lapply(skewed.norms, function(curr.skewed.norms) {\n",
    "    \n",
    "    curr.skewed.pvals <- lapply(curr.skewed.norms, function(curr.counts.norm) {\n",
    "        curr.clusters <- cluster[colnames(curr.counts.norm)]\n",
    "        names(curr.clusters) <- colnames(curr.counts.norm)\n",
    "        curr.pvals <- find.cluster.de.genes(curr.counts.norm, cell.com = curr.clusters, test.alt = 'greater')\n",
    "        \n",
    "        curr.pvals\n",
    "    })\n",
    "    \n",
    "    curr.skewed.pvals\n",
    "    \n",
    "})\n",
    "\n",
    "\n",
    "skewed.pvals.adj <- lapply(skewed.pvals, function(curr.geneset.pvals) {\n",
    "    \n",
    "    curr.geneset.pvals.adj <- lapply(curr.geneset.pvals, function(curr.pvals) {\n",
    "        curr.pvals.adj <- matrix(p.adjust(curr.pvals, method = 'BH'), \n",
    "                                 nrow = nrow (curr.pvals), ncol = ncol(curr.pvals))\n",
    "        colnames(curr.pvals.adj) <- colnames(curr.pvals)\n",
    "        rownames(curr.pvals.adj) <- rownames(curr.pvals)\n",
    "        \n",
    "        curr.pvals.adj\n",
    "    })\n",
    "    \n",
    "})\n"
   ]
  },
  {
   "cell_type": "markdown",
   "id": "a0c58e71",
   "metadata": {},
   "source": [
    "## DE P-VALUE COMPARISON"
   ]
  },
  {
   "cell_type": "code",
   "execution_count": 225,
   "id": "740e4183",
   "metadata": {},
   "outputs": [
    {
     "name": "stderr",
     "output_type": "stream",
     "text": [
      "Warning message in dir.create(paste0(save.dir, \"pval_comparison\")):\n",
      "“'results/merfish/pval_comparison' already exists”\n"
     ]
    }
   ],
   "source": [
    "dir.create(paste0(save.dir,'pval_comparison'))"
   ]
  },
  {
   "cell_type": "markdown",
   "id": "5142512c",
   "metadata": {},
   "source": [
    "#### compare DE p-values"
   ]
  },
  {
   "cell_type": "code",
   "execution_count": 226,
   "id": "6bd5a655",
   "metadata": {},
   "outputs": [],
   "source": [
    "#use this to highlight specific genes-region comparions on plot\n",
    "eg.genes <- c() #c('Htr2c', 'Ryk') \n",
    "eg.regions <- c() #c('habenula', 'ventricles')"
   ]
  },
  {
   "cell_type": "code",
   "execution_count": 227,
   "id": "5bf66b5e",
   "metadata": {},
   "outputs": [],
   "source": [
    "options(repr.plot.width=20, repr.plot.height=8)\n",
    "\n",
    "norms.to.include <- c('libsize', 'sct', 'deseq', 'tmm', 'volume', 'nonorm')\n",
    "norms.names <- c('Library Size', 'scTransform', 'DESeq2', 'TMM', 'Cell Volume', 'No Normalization')\n",
    "names(norms.names) <- norms.to.include\n",
    "\n",
    "for (gs in skew.region){\n",
    "    pdf(paste0(save.dir, 'pval_comparison/', gs, '.pdf'),  \n",
    "        width = 30, height = 5)\n",
    "    par(mfrow = c(1,6), mar = c(10.1, 10.1, 6.1, 2.1))\n",
    "    \n",
    "    curr.x.lim <- range(-1*log10(unlist(p.vals.all.adj)), finite = TRUE)\n",
    "    curr.y.lim <- range(-1*log10(unlist(skewed.pvals.adj[[gs]])), finite = TRUE)    \n",
    "\n",
    "    \n",
    "    for (n in norms.to.include){\n",
    "#         print(gs)\n",
    "#         print(n)\n",
    "        curr.skewed.pvalsAdj <- -1*log10(skewed.pvals.adj[[gs]][[n]])\n",
    "#         curr.skewed.pvalsAdj <- (skewed.pvals.adj[[gs]][[n]])\n",
    "        \n",
    "        curr.geneset <- rownames(curr.skewed.pvalsAdj)\n",
    "        \n",
    "        curr.og.pvalsAdj <- -1*log10(p.vals.all.adj[[n]][curr.geneset,])\n",
    "#         curr.og.pvalsAdj <- (p.vals.all.adj[[n]][curr.geneset,])\n",
    "        \n",
    "        #change color to highlight roi for region skewed geneset\n",
    "        curr.cols <- colnames(curr.skewed.pvalsAdj)\n",
    "        curr.cols <- leg.col.region.coarse[curr.cols]\n",
    "        curr.cols[names(curr.cols) != gs] <- 'grey'\n",
    "#         print(curr.cols)\n",
    "        \n",
    "        #use all colors for random geneset\n",
    "        if (gs == 'random'){\n",
    "            curr.cols <- colnames(curr.skewed.pvalsAdj)\n",
    "            curr.cols <- leg.col.region.coarse[curr.cols]\n",
    "            \n",
    "        }\n",
    "        \n",
    "        curr.cols <- unlist(lapply(curr.cols, function(x) {rep(x, nrow(curr.skewed.pvalsAdj))}))\n",
    "        \n",
    "        plot(as.vector(curr.og.pvalsAdj), as.vector(curr.skewed.pvalsAdj), \n",
    "             pch = 16, cex = 1.5, col = scales::alpha(curr.cols, 0.75),\n",
    "             xlim = curr.x.lim, ylim = curr.y.lim,\n",
    "             cex.lab = fs.small, cex.axis = fs.small, cex.main = fs, xaxt=\"n\", yaxt=\"n\",\n",
    "             xlab = '', ylab = '', bty = 'n', xaxs = 'i', yaxs = 'i',\n",
    "             main = paste(norms.names[n]))\n",
    "        title(xlab=expression(paste('Full gene panel')), line=8, cex.lab=fs)\n",
    "        title(ylab=paste('Skewed gene panel'), line=5, cex.lab=fs)\n",
    "        axis(side = 1, at = curr.x.lim, line = 0, cex.axis = fs, lty = 1, labels = FALSE)\n",
    "        axis(side = 2, at = curr.y.lim, line = 0, cex.axis = fs, lty = 1, labels = FALSE)        \n",
    "        axis(side = 1, line = 0, cex.axis = fs.small, lty = 1, labels = FALSE)\n",
    "        axis(side = 2, line = 0, cex.axis = fs.small, lty = 1, labels = FALSE)\n",
    "        axis(side = 1, line = 2.5, cex.axis = fs.small, lty = 0)\n",
    "        axis(side = 2, line = 0.5, cex.axis = fs.small, lty = 0)\n",
    "        abline(a=0,b=1,col='red')\n",
    "        \n",
    "        #highlight specific genes \n",
    "        if (length(eg.genes>0)) {\n",
    "            eg.points.x <- sapply(seq_along(eg.genes), function(i) {\n",
    "                curr.og.pvalsAdj[eg.genes[i], eg.regions[i]]})\n",
    "            eg.points.y <- sapply(seq_along(eg.genes), function(i) {\n",
    "                curr.skewed.pvalsAdj[eg.genes[i], eg.regions[i]]})\n",
    "\n",
    "            eg.labels <- sapply(seq_along(eg.genes), function(i){\n",
    "                paste(eg.genes[i], eg.regions[i])\n",
    "            })            \n",
    "\n",
    "            points(eg.points.x, eg.points.y, \n",
    "                  pch = 16, cex = 3, col = 'black')\n",
    "            text(eg.points.x+65, eg.points.y+10, labels = eg.labels, cex = fs)\n",
    "        }\n",
    "        \n",
    "    }\n",
    "    dev.off()\n",
    "    \n",
    "}\n",
    "\n"
   ]
  },
  {
   "cell_type": "markdown",
   "id": "e40ef0c3",
   "metadata": {},
   "source": [
    "#### false positive and negative rates"
   ]
  },
  {
   "cell_type": "code",
   "execution_count": 228,
   "id": "3f3f831e",
   "metadata": {},
   "outputs": [],
   "source": [
    "col.geneset <- leg.col.region.coarse\n",
    "names(col.geneset)[names(col.geneset)=='other'] <- 'random'\n",
    "col.geneset['random'] <- 'grey'\n",
    "geneset.names <- gs.names\n",
    "geneset.names['random'] <- 'Random'"
   ]
  },
  {
   "cell_type": "code",
   "execution_count": 229,
   "id": "efa6b1db",
   "metadata": {},
   "outputs": [],
   "source": [
    "fpfn.pvals <- lapply(names(genesets), function(reg) {\n",
    "    gs <- skewed.pvals.adj[[reg]]\n",
    "    \n",
    "    curr.gs.fpfn <- lapply(names(gs), function(n) {\n",
    "        curr.skewed.pvals <- gs[[n]]\n",
    "        curr.full.pvals <- p.vals.all.adj[[n]]\n",
    "        \n",
    "        curr.genes <- intersect(rownames(curr.skewed.pvals), rownames(curr.full.pvals))\n",
    "        \n",
    "        curr.skewed.pvals <- curr.skewed.pvals[curr.genes,]\n",
    "        curr.full.pvals <- curr.full.pvals[curr.genes,]\n",
    "        \n",
    "        get.pval.fp.fn(curr.skewed.pvals, curr.full.pvals, 0.05)\n",
    "        \n",
    "    })\n",
    "    \n",
    "    names(curr.gs.fpfn) <- names(gs)\n",
    "    curr.gs.fpfn\n",
    "})\n",
    "names(fpfn.pvals) <- names(genesets)\n",
    "\n",
    "fpfn.rate.pvals.all <- lapply(names(fpfn.pvals), function(reg) {\n",
    "    gs <- fpfn.pvals[[reg]]\n",
    "    \n",
    "    curr.gs.fpfn.rates <- sapply(gs, function(n) {\n",
    "        curr.fp <- n[['false.positive']]\n",
    "        curr.tn <- n[['true.negative']]\n",
    "#         curr.fp.rate <- sum(curr.fp)/length(curr.fp)\n",
    "        curr.fp.rate <- sum(curr.fp)/(sum(curr.fp)+sum(curr.tn))\n",
    "        \n",
    "        curr.fn <- n[['false.negative']]\n",
    "        curr.tp <- n[['true.positive']]\n",
    "#         curr.fn.rate <- sum(curr.fn)/length(curr.fn)\n",
    "        curr.fn.rate <- sum(curr.fn)/(sum(curr.fn)+sum(curr.tp))\n",
    "        \n",
    "        list(fp = curr.fp.rate, fn = curr.fn.rate)\n",
    "    })\n",
    "    \n",
    "    curr.gs.fpfn.rates\n",
    "})\n",
    "names(fpfn.rate.pvals.all) <- names(fpfn.pvals)\n",
    "\n",
    "fp.pvals.all <- as.data.frame(sapply(fpfn.rate.pvals.all, function(x) {\n",
    "    unlist(x['fp',])\n",
    "}))\n",
    "fn.pvals.all <- as.data.frame(sapply(fpfn.rate.pvals.all, function(x) {\n",
    "    unlist(x['fn',])\n",
    "}))"
   ]
  },
  {
   "cell_type": "code",
   "execution_count": 230,
   "id": "ca37a7ea",
   "metadata": {},
   "outputs": [
    {
     "data": {
      "text/html": [
       "<strong>png:</strong> 2"
      ],
      "text/latex": [
       "\\textbf{png:} 2"
      ],
      "text/markdown": [
       "**png:** 2"
      ],
      "text/plain": [
       "png \n",
       "  2 "
      ]
     },
     "metadata": {},
     "output_type": "display_data"
    }
   ],
   "source": [
    "options(repr.plot.width=6, repr.plot.height=7)\n",
    "pdf(paste0(save.dir, 'pval_comparison/pval_FNR.pdf'),  \n",
    "    width = 7, height = 8)\n",
    "par(mfrow = c(1,1), mar = c(17.1, 10, 3.1, 2.1))\n",
    "\n",
    "xtcks <- c(0:length(norms.to.include)+1)\n",
    "\n",
    "x <- rep(seq(length(norms.to.include)), each = length(genesets)) \n",
    "y <- as.vector(t(fn.pvals.all[norms.to.include,]))\n",
    "xl <- c(0,max(x)+1)\n",
    "yl <- c(0,0.14)\n",
    "yt <- seq(from = 0, to = 0.14, by = 0.02)\n",
    "\n",
    "curr.col <- rep(col.geneset[colnames(fn.pvals.all)], length(norms.to.include))\n",
    "curr.pch <- rep(c(15:18,25), length(norms.to.include))\n",
    "\n",
    "plot(x,y, pch = curr.pch, cex = 4, col = scales::alpha(curr.col, 0.7), xlim = xl, ylim = yl, \n",
    "     bg = scales::alpha(col.geneset['random'], 0.7),\n",
    "    xaxt = \"n\", yaxt = \"n\", frame.plot=FALSE, xaxs = 'i', yaxs = 'i',\n",
    "    ylab = '', xlab = '')\n",
    "axis(1, at = c(0,xtcks), cex.axis=2, labels = FALSE)\n",
    "axis(2, at = yt, cex.axis=3, las = 2)\n",
    "text(x = xtcks[1:length(norms.to.include)]+0.15, y = min(yl)-0.01, \n",
    "     labels = norms.names, xpd = NA, srt = 45, cex = 2, pos = 2)\n",
    "title(xlab='Normalization', line=14, cex.lab=fs)\n",
    "title(ylab='False negative rate', line=6, cex.lab=fs)\n",
    "dev.off()"
   ]
  },
  {
   "cell_type": "code",
   "execution_count": 231,
   "id": "dcb7bf0f",
   "metadata": {},
   "outputs": [
    {
     "data": {
      "text/html": [
       "<strong>png:</strong> 2"
      ],
      "text/latex": [
       "\\textbf{png:} 2"
      ],
      "text/markdown": [
       "**png:** 2"
      ],
      "text/plain": [
       "png \n",
       "  2 "
      ]
     },
     "metadata": {},
     "output_type": "display_data"
    }
   ],
   "source": [
    "options(repr.plot.width=6, repr.plot.height=7)\n",
    "pdf(paste0(save.dir, 'pval_comparison/pval_FNR_ventricles.pdf'),  \n",
    "    width = 7, height = 9)\n",
    "par(mfrow = c(1,1), mar = c(17.1, 10, 3.1, 2.1))\n",
    "xtcks <- c(0:length(norms.to.include))\n",
    "\n",
    "x <- seq(length(norms.to.include)+1)\n",
    "y <- fn.pvals.all[norms.to.include,skew.region]\n",
    "xl <- c(0,max(x)+1)\n",
    "yl <- c(0, max(y)) \n",
    "yl <- c(0, 0.14) \n",
    "\n",
    "barplot(y, xlim = xl, ylim = yl, width = 0.5, space = c(1.5,1,1,1,1,1),\n",
    "    xaxt = \"n\", yaxt = \"n\", xaxs = 'i', yaxs = 'i',\n",
    "    ylab = '', xlab = '')\n",
    "axis(1, at = c(0,xtcks), cex.axis=2, labels = FALSE)\n",
    "axis(2, at = seq(from = 0, to = ceiling(max(yl)), by = 0.02), cex.axis=3, las = 2)\n",
    "text(x = xtcks[1:length(norms.to.include)]+1.3, y = min(yl)-0.02, \n",
    "     labels = norms.names, xpd = NA, srt = 45, cex = 2, pos = 2)\n",
    "title(xlab='Normalization', line=14, cex.lab=fs)\n",
    "title(ylab='False negative rate', line=6, cex.lab=fs)\n",
    "dev.off()"
   ]
  },
  {
   "cell_type": "code",
   "execution_count": 232,
   "id": "2f8bc912",
   "metadata": {},
   "outputs": [
    {
     "data": {
      "text/html": [
       "<strong>png:</strong> 2"
      ],
      "text/latex": [
       "\\textbf{png:} 2"
      ],
      "text/markdown": [
       "**png:** 2"
      ],
      "text/plain": [
       "png \n",
       "  2 "
      ]
     },
     "metadata": {},
     "output_type": "display_data"
    }
   ],
   "source": [
    "options(repr.plot.width=6, repr.plot.height=7)\n",
    "pdf(paste0(save.dir, 'pval_comparison/pval_FPR.pdf'),  \n",
    "    width = 7, height = 8)\n",
    "par(mfrow = c(1,1), mar = c(17.1, 10, 3.1, 2.1))\n",
    "\n",
    "xtcks <- c(0:length(norms.to.include)+1)\n",
    "\n",
    "x <- rep(seq(length(norms.to.include)), each = length(genesets)) \n",
    "y <- as.vector(t(fp.pvals.all[norms.to.include,]))\n",
    "xl <- c(0,max(x)+1)\n",
    "yl <- c(0,0.08)\n",
    "yt <- seq(from = 0, to = 0.08, by = 0.01)\n",
    "\n",
    "curr.col <- rep(col.geneset[colnames(fp.pvals.all)], length(norms.to.include))\n",
    "curr.pch <- rep(c(15:18,25), length(norms.to.include))\n",
    "\n",
    "plot(x,y, pch = curr.pch, cex = 4, col = scales::alpha(curr.col, 0.7), xlim = xl, ylim = yl, \n",
    "     bg = scales::alpha(col.geneset['random'], 0.7),\n",
    "    xaxt = \"n\", yaxt = \"n\", frame.plot=FALSE, xaxs = 'i', yaxs = 'i',\n",
    "    ylab = '', xlab = '')\n",
    "axis(1, at = c(0,xtcks), cex.axis=2, labels = FALSE)\n",
    "axis(2, at = yt, cex.axis=3, las = 2)\n",
    "text(x = xtcks[1:length(norms.to.include)]+0.15, y = min(yl)-0.005, \n",
    "     labels = norms.names, xpd = NA, srt = 45, cex = 2, pos = 2)\n",
    "title(xlab='Normalization', line=14, cex.lab=fs)\n",
    "title(ylab='False positive rate', line=6, cex.lab=fs)\n",
    "dev.off()"
   ]
  },
  {
   "cell_type": "code",
   "execution_count": 233,
   "id": "cc290792",
   "metadata": {},
   "outputs": [
    {
     "data": {
      "text/html": [
       "<strong>png:</strong> 2"
      ],
      "text/latex": [
       "\\textbf{png:} 2"
      ],
      "text/markdown": [
       "**png:** 2"
      ],
      "text/plain": [
       "png \n",
       "  2 "
      ]
     },
     "metadata": {},
     "output_type": "display_data"
    }
   ],
   "source": [
    "options(repr.plot.width=6, repr.plot.height=7)\n",
    "pdf(paste0(save.dir, 'pval_comparison/pval_FPR_ventricles.pdf'),  \n",
    "    width = 7, height = 9)\n",
    "par(mfrow = c(1,1), mar = c(17.1, 10, 3.1, 2.1))\n",
    "xtcks <- c(0:length(norms.to.include))\n",
    "\n",
    "x <- seq(length(norms.to.include)+1)\n",
    "y <- fp.pvals.all[norms.to.include,skew.region]\n",
    "xl <- c(0,max(x)+1)\n",
    "yl <- c(0, max(y)) \n",
    "yl <- c(0, 0.06) \n",
    "\n",
    "barplot(y, xlim = xl, ylim = yl, width = 0.5, space = c(1.5,1,1,1,1,1),\n",
    "    xaxt = \"n\", yaxt = \"n\", xaxs = 'i', yaxs = 'i',\n",
    "    ylab = '', xlab = '')\n",
    "axis(1, at = c(0,xtcks), cex.axis=2, labels = FALSE)\n",
    "axis(2, at = seq(from = 0, to = ceiling(max(yl)), by = 0.01), cex.axis=3, las = 2)\n",
    "text(x = xtcks[1:length(norms.to.include)]+1.3, y = min(yl)-0.005, \n",
    "     labels = norms.names, xpd = NA, srt = 45, cex = 2, pos = 2)\n",
    "title(xlab='Normalization', line=14, cex.lab=fs)\n",
    "title(ylab='False positive rate', line=6, cex.lab=fs)\n",
    "dev.off()"
   ]
  },
  {
   "cell_type": "markdown",
   "id": "f126d31f",
   "metadata": {},
   "source": [
    "## FOLD CHANGE COMPARISON"
   ]
  },
  {
   "cell_type": "code",
   "execution_count": 234,
   "id": "1d5e2d12",
   "metadata": {},
   "outputs": [
    {
     "name": "stderr",
     "output_type": "stream",
     "text": [
      "Warning message in dir.create(paste0(save.dir, \"logFC_comparison\")):\n",
      "“'results/merfish/logFC_comparison' already exists”\n"
     ]
    }
   ],
   "source": [
    "dir.create(paste0(save.dir,'logFC_comparison'))"
   ]
  },
  {
   "cell_type": "markdown",
   "id": "e54a0b07",
   "metadata": {},
   "source": [
    "#### compare DE p-values"
   ]
  },
  {
   "cell_type": "code",
   "execution_count": 235,
   "id": "28de724c",
   "metadata": {},
   "outputs": [],
   "source": [
    "#use this to highlight specific genes-region comparions on plot\n",
    "eg.genes <- c() #c('Htr2c', 'Ryk') \n",
    "eg.regions <- c() #c('habenula', 'ventricles')"
   ]
  },
  {
   "cell_type": "code",
   "execution_count": 236,
   "id": "eb4bc71d",
   "metadata": {},
   "outputs": [],
   "source": [
    "options(repr.plot.width=15, repr.plot.height=18)\n",
    "set.seed(0)\n",
    "   \n",
    "\n",
    "for (gs in skew.region){\n",
    "    pdf(paste0(save.dir, 'logFC_comparison/', gs, '.pdf'),  \n",
    "        width = 30, height = 5)\n",
    "    par(mfrow = c(1,6), mar = c(10.1, 10.1, 6.1, 2.1))\n",
    "\n",
    "    \n",
    "    for (n in norms.to.include){\n",
    "        curr.skewed.lfcs <- skewed.lfcs[[gs]][[n]]\n",
    "        curr.geneset <- rownames(curr.skewed.lfcs)\n",
    "        curr.og.lfcs <- lfcs.all[[n]][curr.geneset,]\n",
    "        \n",
    "        ##reorder for overplotting \n",
    "        o <- sample(length(as.vector(curr.og.lfcs)))\n",
    "        \n",
    "        #change color to highlight roi for region skewed geneset\n",
    "        curr.cols <- colnames(curr.skewed.lfcs)\n",
    "        curr.cols <- leg.col.region.coarse[curr.cols]\n",
    "        curr.cols[names(curr.cols) != gs] <- 'grey'\n",
    "#         print(curr.cols)\n",
    "        \n",
    "        #use all colors for random geneset\n",
    "        if (gs == 'random'){\n",
    "            curr.cols <- colnames(curr.skewed.lfcs)\n",
    "            curr.cols <- leg.col.region.coarse[curr.cols]\n",
    "            \n",
    "        }\n",
    "        \n",
    "        curr.cols <- unlist(lapply(curr.cols, function(x) {rep(x, nrow(curr.skewed.lfcs))}))\n",
    "        \n",
    "        curr.x.lim <- range(curr.og.lfcs, na.rm = T)\n",
    "        curr.y.lim <- range(curr.skewed.lfcs, na.rm = T)\n",
    "        \n",
    "        \n",
    "        plot(curr.og.lfcs[o], curr.skewed.lfcs[o], \n",
    "             pch = 16, cex = 1.5, col = scales::alpha(curr.cols[o], 0.5),\n",
    "             cex.lab = 3, cex.axis = 3, cex.main = 3, xaxt=\"n\", yaxt=\"n\",\n",
    "             xlab = '', ylab = '', bty = 'n', xaxs = 'i', yaxs = 'i',\n",
    "             main = paste(norms.names[n]))        \n",
    "\n",
    "        abline(a=0,b=1,col=scales::alpha('grey', 0.5))\n",
    "        abline(v=0, col=scales::alpha('red', 0.5))\n",
    "        abline(h=0, col=scales::alpha('red', 0.5))\n",
    "        title(xlab=paste('Full gene panel'), line=8, cex.lab=fs)\n",
    "        title(ylab=paste('Skewed gene panel'), line=5, cex.lab=fs)\n",
    "        axis(side = 1, at = curr.x.lim, line = 0, cex.axis = fs, lty = 1, labels = FALSE)\n",
    "        axis(side = 2, at = curr.y.lim, line = 0, cex.axis = fs, lty = 1, labels = FALSE)\n",
    "        axis(side = 1, line = 0, cex.axis = fs.small, lty = 1, labels = FALSE)\n",
    "        axis(side = 2, line = 0, cex.axis = fs.small, lty = 1, labels = FALSE)\n",
    "        axis(side = 1, line = 2.5, cex.axis = fs.small, lty = 0)\n",
    "        axis(side = 2, line = 0.5, cex.axis = fs.small, lty = 0)\n",
    "        abline(a=0,b=1,col='red')\n",
    "        abline(v=0, col='black')\n",
    "        abline(h=0, col='black')\n",
    "        abline(v=c(-0.25,0.25), col=scales::alpha('grey',0.5))\n",
    "        abline(h=c(-0.25,0.25), col=scales::alpha('grey',0.5))\n",
    "        \n",
    "        #highlight specific genes \n",
    "        if (length(eg.genes>0)){\n",
    "            eg.points.x <- sapply(seq_along(eg.genes), function(i) {\n",
    "                curr.og.lfcs[eg.genes[i], eg.regions[i]]})\n",
    "            eg.points.y <- sapply(seq_along(eg.genes), function(i) {\n",
    "                curr.skewed.lfcs[eg.genes[i], eg.regions[i]]})\n",
    "            \n",
    "            eg.labels <- sapply(seq_along(eg.genes), function(i){\n",
    "                paste(eg.genes[i], eg.regions[i])\n",
    "            })              \n",
    "            \n",
    "            points(eg.points.x, eg.points.y, \n",
    "                  pch = 16, cex = 3, col = 'black')\n",
    "            if (n=='deseq'){\n",
    "                eg.points.y[1] <- -1*eg.points.y[1]-1\n",
    "            }\n",
    "            text(eg.points.x+1.5, eg.points.y+0.5, labels = eg.labels, cex = fs)\n",
    "        }\n",
    "\n",
    "        \n",
    "    }\n",
    "    dev.off()\n",
    "    \n",
    "}\n",
    "\n"
   ]
  },
  {
   "cell_type": "markdown",
   "id": "d29b6f7d",
   "metadata": {},
   "source": [
    "#### switched positive and switched rates"
   ]
  },
  {
   "cell_type": "code",
   "execution_count": 237,
   "id": "096ce184",
   "metadata": {},
   "outputs": [],
   "source": [
    "fpfn.lfcs <- lapply(names(skewed.lfcs), function(reg) {\n",
    "    gs <- skewed.lfcs[[reg]]\n",
    "    \n",
    "    curr.gs.fpfn <- lapply(names(gs), function(n) {\n",
    "        curr.skewed.lfcs <- gs[[n]]\n",
    "        curr.full.lfcs <- lfcs.all[[n]]\n",
    "        \n",
    "        curr.genes <- intersect(rownames(curr.skewed.lfcs), rownames(curr.full.lfcs))\n",
    "        \n",
    "        curr.skewed.lfcs <- curr.skewed.lfcs[curr.genes,]\n",
    "        curr.full.lfcs <- curr.full.lfcs[curr.genes,]\n",
    "        \n",
    "        all.fpnfn <- get.lfcs.fp.fn(curr.skewed.lfcs, curr.full.lfcs)\n",
    "        \n",
    "    })\n",
    "    \n",
    "    names(curr.gs.fpfn) <- names(gs)\n",
    "    curr.gs.fpfn\n",
    "    \n",
    "})\n",
    "names(fpfn.lfcs) <- names(skewed.lfcs)\n",
    "\n",
    "fpfn.rate.lfcs.all <- lapply(names(fpfn.lfcs), function(reg) {\n",
    "    gs <- fpfn.lfcs[[reg]]\n",
    "    \n",
    "    curr.gs.fpfn.rates <- sapply(gs, function(n) {\n",
    "        curr.fp <- n[['false.positive']]\n",
    "        curr.tn <- n[['true.negative']]\n",
    "#         curr.fp.rate <- sum(curr.fp)/(length(curr.fp))\n",
    "        curr.fp.rate <- sum(curr.fp)/(sum(curr.fp)+sum(curr.tn))\n",
    "        \n",
    "        curr.fn <- n[['false.negative']]\n",
    "        curr.tp <- n[['true.positive']]\n",
    "#         curr.fn.rate <- sum(curr.fn)/(length(curr.fn))\n",
    "        curr.fn.rate <- sum(curr.fn)/(sum(curr.fn)+sum(curr.tp))\n",
    "        \n",
    "        list(fp = curr.fp.rate, fn = curr.fn.rate)\n",
    "        \n",
    "    })\n",
    "    \n",
    "    curr.gs.fpfn.rates\n",
    "})\n",
    "names(fpfn.rate.lfcs.all) <- names(fpfn.lfcs)\n",
    "\n",
    "fp.lfcs.all <- as.data.frame(sapply(fpfn.rate.lfcs.all, function(x) {\n",
    "    unlist(x['fp',])\n",
    "}))\n",
    "fn.lfcs.all <- as.data.frame(sapply(fpfn.rate.lfcs.all, function(x) {\n",
    "    unlist(x['fn',])\n",
    "}))"
   ]
  },
  {
   "cell_type": "code",
   "execution_count": 238,
   "id": "c34a8bc6",
   "metadata": {},
   "outputs": [
    {
     "data": {
      "text/html": [
       "<strong>png:</strong> 2"
      ],
      "text/latex": [
       "\\textbf{png:} 2"
      ],
      "text/markdown": [
       "**png:** 2"
      ],
      "text/plain": [
       "png \n",
       "  2 "
      ]
     },
     "metadata": {},
     "output_type": "display_data"
    }
   ],
   "source": [
    "options(repr.plot.width=6, repr.plot.height=7)\n",
    "pdf(paste0(save.dir, 'logFC_comparison/lfc_SNR.pdf'),  \n",
    "    width = 7, height = 8)\n",
    "par(mfrow = c(1,1), mar = c(17.1, 10, 3.1, 2.1))\n",
    "\n",
    "xtcks <- c(0:length(norms.to.include)+1)\n",
    "\n",
    "x <- rep(seq(length(norms.to.include)), each = length(genesets)) \n",
    "y <- as.vector(t(fn.lfcs.all[norms.to.include,]))\n",
    "xl <- c(0,max(x)+1)\n",
    "yl <- c(0,0.35)\n",
    "yt <- seq(from = 0, to = 0.35, by = 0.05)\n",
    "\n",
    "curr.col <- rep(col.geneset[colnames(fn.lfcs.all)], length(norms.to.include))\n",
    "curr.pch <- rep(c(15:18,25), length(norms.to.include))\n",
    "\n",
    "plot(x,y, pch = curr.pch, cex = 4, col = scales::alpha(curr.col, 0.7), xlim = xl, ylim = yl, \n",
    "     bg = scales::alpha(col.geneset['random'], 0.7),\n",
    "    xaxt = \"n\", yaxt = \"n\", frame.plot=FALSE, xaxs = 'i', yaxs = 'i',\n",
    "    ylab = '', xlab = '')\n",
    "axis(1, at = c(0,xtcks), cex.axis=2, labels = FALSE)\n",
    "axis(2, at = yt, cex.axis=3, las = 2)\n",
    "text(x = xtcks[1:length(norms.to.include)]+0.15, y = min(yl)-0.02, \n",
    "     labels = norms.names, xpd = NA, srt = 45, cex = 2, pos = 2)\n",
    "title(xlab='Normalization', line=14, cex.lab=fs)\n",
    "title(ylab='Swtiched negative rate', line=6, cex.lab=fs)\n",
    "dev.off()"
   ]
  },
  {
   "cell_type": "code",
   "execution_count": 239,
   "id": "9ddcc808",
   "metadata": {},
   "outputs": [
    {
     "data": {
      "text/html": [
       "<strong>png:</strong> 2"
      ],
      "text/latex": [
       "\\textbf{png:} 2"
      ],
      "text/markdown": [
       "**png:** 2"
      ],
      "text/plain": [
       "png \n",
       "  2 "
      ]
     },
     "metadata": {},
     "output_type": "display_data"
    }
   ],
   "source": [
    "options(repr.plot.width=6, repr.plot.height=7)\n",
    "pdf(paste0(save.dir, 'logFC_comparison/lfc_SNR_ventricles.pdf'),  \n",
    "    width = 7, height = 9)\n",
    "par(mfrow = c(1,1), mar = c(17.1, 10, 3.1, 2.1))\n",
    "xtcks <- c(0:length(norms.to.include))\n",
    "\n",
    "x <- seq(length(norms.to.include)+1)\n",
    "y <- fn.lfcs.all[norms.to.include,'ventricles']\n",
    "xl <- c(0,max(x)+1)\n",
    "yl <- c(0, max(y))\n",
    "yl <- c(0, 0.2)\n",
    "\n",
    "barplot(y, xlim = xl, ylim = yl, width = 0.5, space = c(1.5,1,1,1,1,1),\n",
    "    xaxt = \"n\", yaxt = \"n\", xaxs = 'i', yaxs = 'i',\n",
    "    ylab = '', xlab = '')\n",
    "axis(1, at = c(0,xtcks), cex.axis=2, labels = FALSE)\n",
    "axis(2, at = seq(from = 0, to = ceiling(max(yl)), by = 0.02), cex.axis=3, las = 2)\n",
    "text(x = xtcks[1:length(norms.to.include)]+1.3, y = min(yl)-0.02, \n",
    "     labels = norms.names, xpd = NA, srt = 45, cex = 2, pos = 2)\n",
    "title(xlab='Normalization', line=14, cex.lab=fs)\n",
    "title(ylab='Switched negative rate', line=6, cex.lab=fs)\n",
    "dev.off()"
   ]
  },
  {
   "cell_type": "code",
   "execution_count": 240,
   "id": "8ca8c3b4",
   "metadata": {},
   "outputs": [
    {
     "data": {
      "text/html": [
       "<strong>png:</strong> 2"
      ],
      "text/latex": [
       "\\textbf{png:} 2"
      ],
      "text/markdown": [
       "**png:** 2"
      ],
      "text/plain": [
       "png \n",
       "  2 "
      ]
     },
     "metadata": {},
     "output_type": "display_data"
    }
   ],
   "source": [
    "options(repr.plot.width=6, repr.plot.height=7)\n",
    "pdf(paste0(save.dir, 'logFC_comparison/lfc_SPR.pdf'),  \n",
    "    width = 7, height = 8)\n",
    "par(mfrow = c(1,1), mar = c(17.1, 10, 3.1, 2.1))\n",
    "\n",
    "xtcks <- c(0:length(norms.to.include)+1)\n",
    "\n",
    "x <- rep(seq(length(norms.to.include)), each = length(genesets)) \n",
    "y <- as.vector(t(fp.lfcs.all[norms.to.include,]))\n",
    "xl <- c(0,max(x)+1)\n",
    "yl <- c(0,0.25)\n",
    "yt <- seq(from = 0, to = 0.25, by = 0.05)\n",
    "\n",
    "curr.col <- rep(col.geneset[colnames(fp.lfcs.all)], length(norms.to.include))\n",
    "curr.pch <- rep(c(15:18,25), length(norms.to.include))\n",
    "\n",
    "plot(x,y, pch = curr.pch, cex = 4, col = scales::alpha(curr.col, 0.7), xlim = xl, ylim = yl, \n",
    "     bg = scales::alpha(col.geneset['random'], 0.7),\n",
    "    xaxt = \"n\", yaxt = \"n\", frame.plot=FALSE, xaxs = 'i', yaxs = 'i',\n",
    "    ylab = '', xlab = '')\n",
    "axis(1, at = c(0,xtcks), cex.axis=2, labels = FALSE)\n",
    "axis(2, at = yt, cex.axis=3, las = 2)\n",
    "text(x = xtcks[1:length(norms.to.include)]+0.15, y = min(yl)-0.02, \n",
    "     labels = norms.names, xpd = NA, srt = 45, cex = 2, pos = 2)\n",
    "title(xlab='Normalization', line=14, cex.lab=fs)\n",
    "title(ylab='Switched positive rate', line=6, cex.lab=fs)\n",
    "dev.off()"
   ]
  },
  {
   "cell_type": "code",
   "execution_count": 241,
   "id": "2b2fbf5b",
   "metadata": {},
   "outputs": [
    {
     "data": {
      "text/html": [
       "<strong>png:</strong> 2"
      ],
      "text/latex": [
       "\\textbf{png:} 2"
      ],
      "text/markdown": [
       "**png:** 2"
      ],
      "text/plain": [
       "png \n",
       "  2 "
      ]
     },
     "metadata": {},
     "output_type": "display_data"
    }
   ],
   "source": [
    "options(repr.plot.width=6, repr.plot.height=7)\n",
    "pdf(paste0(save.dir, 'logFC_comparison/lfc_SPR_ventricles.pdf'),  \n",
    "    width = 7, height = 9)\n",
    "par(mfrow = c(1,1), mar = c(17.1, 10, 3.1, 2.1))\n",
    "xtcks <- c(0:length(norms.to.include))\n",
    "\n",
    "x <- seq(length(norms.to.include)+1)\n",
    "y <- fp.lfcs.all[norms.to.include,'ventricles']\n",
    "xl <- c(0,max(x)+1)\n",
    "yl <- c(0, max(y)) \n",
    "yl <- c(0, 0.2) \n",
    "\n",
    "barplot(y, xlim = xl, ylim = yl, width = 0.5, space = c(1.5,1,1,1,1,1),\n",
    "    xaxt = \"n\", yaxt = \"n\", xaxs = 'i', yaxs = 'i',\n",
    "    ylab = '', xlab = '')\n",
    "axis(1, at = c(0,xtcks), cex.axis=2, labels = FALSE)\n",
    "axis(2, at = seq(from = 0, to = ceiling(max(yl)), by = 0.02), cex.axis=3, las = 2)\n",
    "text(x = xtcks[1:length(norms.to.include)]+1.3, y = min(yl)-0.02, \n",
    "     labels = norms.names, xpd = NA, srt = 45, cex = 2, pos = 2)\n",
    "title(xlab='Normalization', line=14, cex.lab=fs)\n",
    "title(ylab='Switched positive rate', line=6, cex.lab=fs)\n",
    "dev.off()"
   ]
  },
  {
   "cell_type": "markdown",
   "id": "32b2dfcb",
   "metadata": {},
   "source": [
    "## SPATIALLY VARIABLE GENES"
   ]
  },
  {
   "cell_type": "code",
   "execution_count": 242,
   "id": "fcea2778",
   "metadata": {},
   "outputs": [],
   "source": [
    "## nnSVG results\n",
    "full.svgs <- readRDS(paste0(data.dir,'merfish_full_svgs.rds'))\n",
    "skewed.svgs <- readRDS(paste0(data.dir,'merfish_skewed_svgs.rds'))"
   ]
  },
  {
   "cell_type": "code",
   "execution_count": 243,
   "id": "f3258a0d",
   "metadata": {},
   "outputs": [
    {
     "name": "stderr",
     "output_type": "stream",
     "text": [
      "Warning message in dir.create(paste0(save.dir, \"svgs\")):\n",
      "“'results/merfish/svgs' already exists”\n"
     ]
    }
   ],
   "source": [
    "dir.create(paste0(save.dir,'svgs'))"
   ]
  },
  {
   "cell_type": "code",
   "execution_count": 244,
   "id": "974cc586",
   "metadata": {},
   "outputs": [],
   "source": [
    "full.all.pvals <- sapply(full.svgs, function(i) {i[,'padj']})"
   ]
  },
  {
   "cell_type": "markdown",
   "id": "2b3ecf7a",
   "metadata": {},
   "source": [
    "#### svg pvalue comparison bw skewed gene panel and original panel"
   ]
  },
  {
   "cell_type": "code",
   "execution_count": 245,
   "id": "b0538d9e",
   "metadata": {},
   "outputs": [],
   "source": [
    "options(repr.plot.width=20, repr.plot.height=8)\n",
    "\n",
    "norms.to.include <- c('libsize', 'sct', 'deseq', 'tmm', 'volume', 'nonorm')\n",
    "norms.names <- c('Library Size', 'scTransform', 'DESeq2', 'TMM', 'Cell Volume', 'No Normalization')\n",
    "names(norms.names) <- norms.to.include\n",
    "\n",
    "for (gs in skew.region){\n",
    "    pdf(paste0(save.dir, 'svgs/', gs, '_pval_comparison.pdf'),  \n",
    "        width = 30, height = 5)\n",
    "    par(mfrow = c(1,6), mar = c(10.1, 10.1, 6.1, 2.1))\n",
    "    \n",
    "    curr.x.lim <- range(-1*log10(full.all.pvals), finite = TRUE)\n",
    "    curr.skewed.all.pvals <- sapply(skewed.svgs[[gs]], function(i) {i[,'padj']})\n",
    "    curr.y.lim <- range(-1*log10(curr.skewed.all.pvals), finite = TRUE)    \n",
    "\n",
    "    \n",
    "    for (n in norms.to.include){\n",
    "        curr.skewed.pvalsAdj <- -1*log10(skewed.svgs[[gs]][[n]][,'padj'])\n",
    "        curr.geneset <- names(curr.skewed.pvalsAdj)\n",
    "        curr.og.pvalsAdj <- -1*log10(full.svgs[[n]][curr.geneset,'padj'])\n",
    "        \n",
    "        \n",
    "        plot(curr.og.pvalsAdj, curr.skewed.pvalsAdj, \n",
    "             pch = 16, cex = 1.5, col = 'black',\n",
    "             xlim = curr.x.lim, ylim = curr.y.lim,\n",
    "             cex.lab = fs.small, cex.axis = fs.small, cex.main = fs, xaxt=\"n\", yaxt=\"n\",\n",
    "             xlab = '', ylab = '', bty = 'n', xaxs = 'i', yaxs = 'i',\n",
    "             main = paste(norms.names[n]))\n",
    "        title(xlab=expression(paste('Full gene panel')), line=8, cex.lab=fs)\n",
    "        title(ylab=paste('Skewed gene panel'), line=5, cex.lab=fs)\n",
    "        axis(side = 1, at = curr.x.lim, line = 0, cex.axis = fs, lty = 1, labels = FALSE)\n",
    "        axis(side = 2, at = curr.y.lim, line = 0, cex.axis = fs, lty = 1, labels = FALSE)        \n",
    "        axis(side = 1, line = 0, cex.axis = fs.small, lty = 1, labels = FALSE)\n",
    "        axis(side = 2, line = 0, cex.axis = fs.small, lty = 1, labels = FALSE)\n",
    "        axis(side = 1, line = 2.5, cex.axis = fs.small, lty = 0)\n",
    "        axis(side = 2, line = 0.5, cex.axis = fs.small, lty = 0)\n",
    "        abline(a=0,b=1,col='red')\n",
    "   \n",
    "        \n",
    "    }\n",
    "    dev.off()   \n",
    "}"
   ]
  },
  {
   "cell_type": "markdown",
   "id": "b7351a19",
   "metadata": {},
   "source": [
    "#### svg false negative rates"
   ]
  },
  {
   "cell_type": "code",
   "execution_count": 246,
   "id": "267d931d",
   "metadata": {},
   "outputs": [],
   "source": [
    "fpfn.svgs <- lapply(names(skewed.svgs), function(reg) {\n",
    "    gs <- skewed.svgs[[reg]]\n",
    "    \n",
    "    curr.gs.fpfn <- lapply(names(gs), function(n) {\n",
    "        curr.skewed.pvals <- gs[[n]][,'padj']\n",
    "        curr.full.pvals <- full.svgs[[n]][,'padj']\n",
    "        \n",
    "        curr.genes <- intersect(names(curr.skewed.pvals), names(curr.full.pvals))\n",
    "        \n",
    "        curr.skewed.pvals <- curr.skewed.pvals[curr.genes]\n",
    "        curr.full.pvals <- curr.full.pvals[curr.genes]\n",
    "        \n",
    "        get.pval.fp.fn(curr.skewed.pvals, curr.full.pvals, 0.05)\n",
    "        \n",
    "    })\n",
    "    \n",
    "    names(curr.gs.fpfn) <- names(gs)\n",
    "    curr.gs.fpfn\n",
    "})\n",
    "names(fpfn.svgs) <- names(skewed.svgs)\n",
    "\n",
    "fpfn.rate.svgs.all <- lapply(names(fpfn.svgs), function(reg) {\n",
    "    gs <- fpfn.svgs[[reg]]\n",
    "    \n",
    "    curr.gs.fpfn.rates <- sapply(gs, function(n) {\n",
    "        curr.fp <- n[['false.positive']]\n",
    "        curr.tn <- n[['true.negative']]\n",
    "        curr.fp.rate <- sum(curr.fp)/(sum(curr.fp)+sum(curr.tn))\n",
    "        \n",
    "        curr.fn <- n[['false.negative']]\n",
    "        curr.tp <- n[['true.positive']]\n",
    "        curr.fn.rate <- sum(curr.fn)/(sum(curr.fn)+sum(curr.tp))\n",
    "        \n",
    "        list(fp = curr.fp.rate, fn = curr.fn.rate)\n",
    "    })\n",
    "    \n",
    "    curr.gs.fpfn.rates\n",
    "})\n",
    "names(fpfn.rate.svgs.all) <- names(fpfn.svgs)\n",
    "\n",
    "fp.svgs.all <- as.data.frame(sapply(fpfn.rate.svgs.all, function(x) {\n",
    "    unlist(x['fp',])\n",
    "}))\n",
    "fn.svgs.all <- as.data.frame(sapply(fpfn.rate.svgs.all, function(x) {\n",
    "    unlist(x['fn',])\n",
    "}))"
   ]
  },
  {
   "cell_type": "code",
   "execution_count": 247,
   "id": "48aba830",
   "metadata": {},
   "outputs": [
    {
     "data": {
      "text/html": [
       "<strong>png:</strong> 2"
      ],
      "text/latex": [
       "\\textbf{png:} 2"
      ],
      "text/markdown": [
       "**png:** 2"
      ],
      "text/plain": [
       "png \n",
       "  2 "
      ]
     },
     "metadata": {},
     "output_type": "display_data"
    }
   ],
   "source": [
    "options(repr.plot.width=6, repr.plot.height=7)\n",
    "pdf(paste0(save.dir, 'svgs/svg_pval_FNR.pdf'),  \n",
    "    width = 7, height = 8)\n",
    "par(mfrow = c(1,1), mar = c(17.1, 10, 3.1, 2.1))\n",
    "\n",
    "xtcks <- c(0:length(norms.to.include)+1)\n",
    "\n",
    "x <- rep(seq(length(norms.to.include)), each = length(genesets))\n",
    "y <- as.vector(t(fn.svgs.all[norms.to.include,]))\n",
    "xl <- c(0,max(x)+1)\n",
    "yl <- c(0,0.2)\n",
    "yt <- seq(from = 0, to = 0.12, by = 0.02)\n",
    "\n",
    "curr.col <- rep(col.geneset[colnames(fn.svgs.all)], length(norms.to.include))\n",
    "curr.pch <- rep(c(15:18,25), length(norms.to.include))\n",
    "\n",
    "plot(x,y, pch = curr.pch, cex = 4, col = scales::alpha(curr.col, 0.7), xlim = xl, ylim = yl, \n",
    "     bg = scales::alpha(col.geneset['random'], 0.7),\n",
    "    xaxt = \"n\", yaxt = \"n\", frame.plot=FALSE, xaxs = 'i', yaxs = 'i',\n",
    "    ylab = '', xlab = '')\n",
    "axis(1, at = c(0,xtcks), cex.axis=2, labels = FALSE)\n",
    "axis(2, at = yt, cex.axis=3, las = 2)\n",
    "text(x = xtcks[1:length(norms.to.include)]+0.15, y = min(yl)-0.01, \n",
    "     labels = norms.names, xpd = NA, srt = 45, cex = 2, pos = 2)\n",
    "title(xlab='Normalization', line=14, cex.lab=fs)\n",
    "title(ylab='False negative rate', line=6, cex.lab=fs)\n",
    "dev.off()"
   ]
  },
  {
   "cell_type": "code",
   "execution_count": 248,
   "id": "634c8d2b",
   "metadata": {},
   "outputs": [],
   "source": [
    "merfish.errs <- list(pval.fps = fp.pvals.all,\n",
    "             pval.fns = fn.pvals.all,\n",
    "             lfcs.fps = fp.lfcs.all,\n",
    "             lfcs.fns = fn.lfcs.all,\n",
    "             svg.fps = fp.svgs.all,\n",
    "             svg.fns = fn.svgs.all)"
   ]
  },
  {
   "cell_type": "code",
   "execution_count": 249,
   "id": "8e199511",
   "metadata": {},
   "outputs": [],
   "source": [
    "saveRDS(merfish.errs, file = paste0(save.dir, 'merfish_errs.RDS'))"
   ]
  }
 ],
 "metadata": {
  "kernelspec": {
   "display_name": "R",
   "language": "R",
   "name": "ir"
  },
  "language_info": {
   "codemirror_mode": "r",
   "file_extension": ".r",
   "mimetype": "text/x-r-source",
   "name": "R",
   "pygments_lexer": "r",
   "version": "4.2.3"
  }
 },
 "nbformat": 4,
 "nbformat_minor": 5
}
